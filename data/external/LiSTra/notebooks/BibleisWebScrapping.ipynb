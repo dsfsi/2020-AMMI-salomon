{
 "cells": [
  {
   "cell_type": "code",
   "execution_count": 2,
   "metadata": {},
   "outputs": [],
   "source": [
    "# Packages to install \n",
    "\n",
    "!pip install -q selenium \n",
    "!pip install -q BeautifulSoup4\n",
    "!pip install -q ipdb"
   ]
  },
  {
   "cell_type": "code",
   "execution_count": 1,
   "metadata": {},
   "outputs": [],
   "source": [
    "import requests as rq\n",
    "import bs4 as bs\n",
    "import json\n",
    "import traceback\n",
    "import re\n",
    "import numpy as np\n",
    "import json\n",
    "from selenium import webdriver\n",
    "from selenium.webdriver.support.ui import WebDriverWait\n",
    "from selenium.webdriver.common.by import By\n",
    "from selenium.webdriver.support import expected_conditions as EC\n",
    "import time\n",
    "import glob, os\n",
    "import ipdb\n",
    "from bs4 import BeautifulSoup"
   ]
  },
  {
   "cell_type": "code",
   "execution_count": 28,
   "metadata": {},
   "outputs": [],
   "source": [
    "request = rq.get('https://live.bible.is/bible/ENGWWH/MAT/1')\n",
    "\n",
    "html = request.content"
   ]
  },
  {
   "cell_type": "code",
   "execution_count": 29,
   "metadata": {},
   "outputs": [
    {
     "data": {
      "text/plain": [
       "b'<!DOCTYPE html><html><head><meta charSet=\"utf-8\" class=\"next-head\"/><meta name=\"description\" content=\"The book of the genealogy of Jesus Christ, the son of David, the son of Abraham....\" class=\"next-head\"/><meta property=\"og:title\" content=\"Matthew 1 | Bible.is\" class=\"next-head\"/><meta property=\"og:image\" content=\"https://live.bible.is/static/icon-310x310.png\" class=\"next-head\"/><meta property=\"og:image:width\" content=\"310\" class=\"next-head\"/><meta property=\"og:image:height\" content=\"310\" class=\"next-head\"/><meta property=\"og:url\" content=\"https://live.bible.is//bible/ENGWWH/MAT/1\" class=\"next-head\"/><meta property=\"og:description\" content=\"The book of the genealogy of Jesus Christ, the son of David, the son of Abraham....\" class=\"next-head\"/><meta name=\"twitter:title\" content=\"Matthew 1\" class=\"next-head\"/><meta name=\"twitter:description\" content=\"The book of the genealogy of Jesus Christ, the son of David, the son of Abraham....\" class=\"next-head\"/><title class=\"next-head\">Matthew 1'"
      ]
     },
     "execution_count": 29,
     "metadata": {},
     "output_type": "execute_result"
    }
   ],
   "source": [
    "html[:1000]"
   ]
  },
  {
   "cell_type": "code",
   "execution_count": 30,
   "metadata": {},
   "outputs": [],
   "source": [
    "soup = BeautifulSoup(html, 'html.parser') "
   ]
  },
  {
   "cell_type": "code",
   "execution_count": 36,
   "metadata": {},
   "outputs": [
    {
     "data": {
      "text/plain": [
       "'WWH - World English Bible (Winfred Henson)Matthew 11\\xa01\\xa0The book of the genealogy of Jesus Christ, the son of David, the son of Abraham.\\xa02\\xa0Abraham became the father of Isaac. Isaac became the father of Jacob. Jacob became the father of Judah and his brothers.\\xa03\\xa0Judah became the father of Perez and Zerah by Tamar. Perez became the father of Hezron. Hezron became the father of Ram.\\xa04\\xa0Ram became the father of Amminadab. Amminadab became the father of Nahshon. Nahshon became the father of Salmon.\\xa05\\xa0Salmon became the father of Boaz by Rahab. Boaz became the father of Obed by Ruth. Obed became the father of Jesse.\\xa06\\xa0Jesse became the father of King David. David became the father of Solomon by her who had been the wife of Uriah.\\xa07\\xa0Solomon became the father of Rehoboam. Rehoboam became the father of Abijah. Abijah became the father of Asa.\\xa08\\xa0Asa became the father of Jehoshaphat. Jehoshaphat became the father of Joram. Joram became the father of Uzziah.\\xa09\\xa0Uzziah became the father of Jotham. Jotham became the father of Ahaz. Ahaz became the father of Hezekiah.\\xa010\\xa0Hezekiah became the father of Manasseh. Manasseh became the father of Amon. Amon became the father of Josiah.\\xa011\\xa0Josiah became the father of Jechoniah and his brothers, at the time of the exile to Babylon.\\xa012\\xa0After the exile to Babylon, Jechoniah became the father of Shealtiel. Shealtiel became the father of Zerubbabel.\\xa013\\xa0Zerubbabel became the father of Abiud. Abiud became the father of Eliakim. Eliakim became the father of Azor.\\xa014\\xa0Azor became the father of Zadok. Zadok became the father of Achim. Achim became the father of Eliud.\\xa015\\xa0Eliud became the father of Eleazar. Eleazar became the father of Matthan. Matthan became the father of Jacob.\\xa016\\xa0Jacob became the father of Joseph, the husband of Mary, from whom was born Jesus, who is called Christ.\\xa017\\xa0So all the generations from Abraham to David are fourteen generations; from David to the exile to Babylon fourteen generations; and from the carrying away to Babylon to the Christ, fourteen generations.\\xa018\\xa0Now the birth of Jesus Christ was like this; for after his mother, Mary, was engaged to Joseph, before they came together, she was found pregnant by the Holy Spirit.\\xa019\\xa0Joseph, her husband, being a righteous man, and not willing to make her a public example, intended to put her away secretly.\\xa020\\xa0But when he thought about these things, behold, an angel of the Lord appeared to him in a dream, saying, “Joseph, son of David, don’t be afraid to take to yourself Mary, your wife, for that which is conceived in her is of the Holy Spirit.\\xa021\\xa0She shall give birth to a son. You shall call his name Jesus, for it is he who shall save his people from their sins.”\\xa022\\xa0Now all this has happened, that it might be fulfilled which was spoken by the Lord through the prophet, saying,\\xa023\\xa0“Behold, the virgin shall be with child, and shall give birth to a son. They shall call his name Immanuel”; which is, being interpreted, “God with us.”\\xa024\\xa0Joseph arose from his sleep, and did as the angel of the Lord commanded him, and took his wife to himself;\\xa025\\xa0and didn’t know her sexually until she had given birth to her firstborn son. He named him Jesus.Copyrighted Material\\xa0|\\xa0Learn More©\\xa0Bible.is, a ministry of\\xa0Faith Comes By Hearing\\xa0®.\\xa0Terms and Conditions\\xa0 | \\xa0Help & SupportPrevPlayNextDramaNon-DramaAutoplayVolumeSpeed0.7511.251.52'"
      ]
     },
     "execution_count": 36,
     "metadata": {},
     "output_type": "execute_result"
    }
   ],
   "source": [
    "soup.body.text"
   ]
  },
  {
   "cell_type": "code",
   "execution_count": 43,
   "metadata": {},
   "outputs": [
    {
     "name": "stdout",
     "output_type": "stream",
     "text": [
      "The book of the genealogy of Jesus Christ, the son of David, the son of Abraham.\n",
      "Abraham became the father of Isaac. Isaac became the father of Jacob. Jacob became the father of Judah and his brothers.\n",
      "Judah became the father of Perez and Zerah by Tamar. Perez became the father of Hezron. Hezron became the father of Ram.\n",
      "Ram became the father of Amminadab. Amminadab became the father of Nahshon. Nahshon became the father of Salmon.\n",
      "Salmon became the father of Boaz by Rahab. Boaz became the father of Obed by Ruth. Obed became the father of Jesse.\n",
      "Jesse became the father of King David. David became the father of Solomon by her who had been the wife of Uriah.\n",
      "Solomon became the father of Rehoboam. Rehoboam became the father of Abijah. Abijah became the father of Asa.\n",
      "Asa became the father of Jehoshaphat. Jehoshaphat became the father of Joram. Joram became the father of Uzziah.\n",
      "Uzziah became the father of Jotham. Jotham became the father of Ahaz. Ahaz became the father of Hezekiah.\n",
      "Hezekiah became the father of Manasseh. Manasseh became the father of Amon. Amon became the father of Josiah.\n",
      "Josiah became the father of Jechoniah and his brothers, at the time of the exile to Babylon.\n",
      "After the exile to Babylon, Jechoniah became the father of Shealtiel. Shealtiel became the father of Zerubbabel.\n",
      "Zerubbabel became the father of Abiud. Abiud became the father of Eliakim. Eliakim became the father of Azor.\n",
      "Azor became the father of Zadok. Zadok became the father of Achim. Achim became the father of Eliud.\n",
      "Eliud became the father of Eleazar. Eleazar became the father of Matthan. Matthan became the father of Jacob.\n",
      "Jacob became the father of Joseph, the husband of Mary, from whom was born Jesus, who is called Christ.\n",
      "So all the generations from Abraham to David are fourteen generations; from David to the exile to Babylon fourteen generations; and from the carrying away to Babylon to the Christ, fourteen generations.\n",
      "Now the birth of Jesus Christ was like this; for after his mother, Mary, was engaged to Joseph, before they came together, she was found pregnant by the Holy Spirit.\n",
      "Joseph, her husband, being a righteous man, and not willing to make her a public example, intended to put her away secretly.\n",
      "But when he thought about these things, behold, an angel of the Lord appeared to him in a dream, saying, “Joseph, son of David, don’t be afraid to take to yourself Mary, your wife, for that which is conceived in her is of the Holy Spirit.\n",
      "She shall give birth to a son. You shall call his name Jesus, for it is he who shall save his people from their sins.”\n",
      "Now all this has happened, that it might be fulfilled which was spoken by the Lord through the prophet, saying,\n",
      "“Behold, the virgin shall be with child, and shall give birth to a son. They shall call his name Immanuel”; which is, being interpreted, “God with us.”\n",
      "Joseph arose from his sleep, and did as the angel of the Lord commanded him, and took his wife to himself;\n",
      "and didn’t know her sexually until she had given birth to her firstborn son. He named him Jesus.\n",
      "Copyrighted Material\n",
      "Learn More\n",
      "©\n",
      "Bible.is\n",
      ", a ministry of\n",
      "Faith Comes By Hearing\n",
      "®.\n",
      "Terms and Conditions\n",
      "Help & Support\n",
      "Prev\n",
      "Play\n",
      "Next\n",
      "Autoplay\n",
      "Volume\n",
      "Speed\n"
     ]
    }
   ],
   "source": [
    "s = soup.find_all(\"span\", {\"class\": \"\"})\n",
    "# s\n",
    "for t in s:\n",
    "    print(t.text)"
   ]
  },
  {
   "cell_type": "code",
   "execution_count": 108,
   "metadata": {},
   "outputs": [],
   "source": [
    "Bible_dict = {\n",
    "#     'GEN' : 50,\n",
    "#     'EXO' : 40,\n",
    "#     'LEV' : 27,\n",
    "#     'NUM' : 36,\n",
    "#     'DEU' : 34,\n",
    "#     'JOS' : 24,\n",
    "#     'JDG' : 21,\n",
    "#     'RUT' : 4, \n",
    "#     '1SA' : 31,\n",
    "#     '2SA' : 24,\n",
    "#     '1KI' : 22,\n",
    "#     '2KI' : 25,\n",
    "#     '1CH' : 29,\n",
    "#     '2CH' : 36,\n",
    "#     'EZR' : 10,\n",
    "#     'NEH' : 13,\n",
    "#     'EST' : 10, \n",
    "#     'JOB' : 42,\n",
    "#     'PSA' : 150,\n",
    "#     'PRO' : 31,\n",
    "#     'ECC' : 12,\n",
    "#     'SNG' : 8,\n",
    "#     'ISA' : 66,\n",
    "#     'JER' : 52,\n",
    "#     'LAM' : 5,\n",
    "#     'EZK' : 48,\n",
    "#     'DAN' : 12,\n",
    "#     'HOS' : 14,\n",
    "#     'JOL' : 3,\n",
    "#     'AMO' : 9,\n",
    "#     'OBA' : 1,\n",
    "#     'JON' : 4,\n",
    "#     'MIC' : 7,\n",
    "#     'NAM' : 3,\n",
    "#     'HAB' : 3,\n",
    "#     'ZEP' : 3,\n",
    "#     'HAG' : 2,\n",
    "#     'ZEC' : 14,\n",
    "#     'MAL' : 4,\n",
    "    'MAT' : 28,\n",
    "    'MRK' : 16,\n",
    "    'LUK' : 24,\n",
    "    'JHN' : 21,\n",
    "    'ACT' : 28,\n",
    "    'ROM' : 16,\n",
    "    '1CO' : 16,\n",
    "    '2CO' : 13,\n",
    "    'GAL' : 6,\n",
    "    'EPH' : 6,\n",
    "    'PHP' : 4,\n",
    "    'COL' : 4,\n",
    "    '1TH' : 5,\n",
    "    '2TH' : 3,\n",
    "    '1TI' : 6,\n",
    "    '2TI' : 4,\n",
    "    'TIT' : 3,\n",
    "    'PHM' : 1,\n",
    "    'HEB' : 13,\n",
    "    'JAS' : 5,\n",
    "    '1PE' : 5,\n",
    "    '2PE' : 3,\n",
    "    '1JN' : 5,\n",
    "    '2JN' : 1,\n",
    "    '3JN' : 1,\n",
    "    'JUD' : 1,\n",
    "    'REV' : 22\n",
    "}"
   ]
  },
  {
   "cell_type": "code",
   "execution_count": 56,
   "metadata": {},
   "outputs": [],
   "source": [
    "def load_book_chapter(book = 'GEN', verse = '1'):\n",
    "    \"\"\"\n",
    "    This function will help to save in text form, depening to the book and verse argument \n",
    "    given in parameter\n",
    "    \n",
    "    The data is maintly taken from the website https://www.jw.org/\n",
    "    \"\"\"\n",
    "    try :\n",
    "        r_engl = rq.get('https://live.bible.is/bible/ENGWWH/'\\\n",
    "                     +str(book)+'/'+str(verse)+'/')\n",
    "        html_engl = r_engl.content\n",
    "        soup_engl = BeautifulSoup(html_engl, 'html.parser') \n",
    "        s_engl = soup_engl.find_all(\"span\", {\"class\": \"\"})\n",
    "        \n",
    "        with open(\"./data/English_World_English_Bible_NT_Drama/B\"+book+\"_\"+verse, \"w\") as text_file:\n",
    "                \n",
    "            for i, t in enumerate(s_engl):\n",
    "                \n",
    "                # this removes special caracters from the text# this removes special caracters from the text\n",
    "                # text = re.sub(r\"[^a-zA-Z]+\", ' ', t.text) \n",
    "                if t.text.split()[0] == 'Copyrighted':\n",
    "                    break\n",
    "                text = re.sub(r\"[+]\", ' ', t.text) \n",
    "                # .strip() to delect any leading and trailing whitespace\n",
    "                text_file.write(text.strip()+\"\\n\") # to use the ligaikuma app, we need to format of in the .txt\n",
    "        \n",
    "    except Exception as inst:      \n",
    "        traceback.print_exc()"
   ]
  },
  {
   "cell_type": "markdown",
   "metadata": {},
   "source": [
    "## Matthew"
   ]
  },
  {
   "cell_type": "code",
   "execution_count": 72,
   "metadata": {},
   "outputs": [],
   "source": [
    "def load_book_chapter_format(book = 'MAT', verse = '1'):\n",
    "    \"\"\"\n",
    "    This function will help to save in text form, depening to the book and verse argument \n",
    "    given in parameter\n",
    "    \n",
    "    The data is maintly taken from the website https://www.jw.org/\n",
    "    \"\"\"\n",
    "    try :\n",
    "        r_engl = rq.get('https://live.bible.is/bible/ENGWWH/'\\\n",
    "                     +str(book)+'/'+str(verse)+'/')\n",
    "        html_engl = r_engl.content\n",
    "        soup_engl = BeautifulSoup(html_engl, 'html.parser') \n",
    "        s_engl = soup_engl.find_all(\"span\", {\"class\": \"\"})\n",
    "        \n",
    "        var = verse if len(verse) == 2 else '0'+verse\n",
    "        with open(\"./data/English_World_English_Bible_NT_Drama/B01___\"+var+\"_Matthew_____EN1WEBN2DA.txt\", \"w\") as text_file:\n",
    "                \n",
    "            for i, t in enumerate(s_engl):\n",
    "                \n",
    "                # this removes special caracters from the text# this removes special caracters from the text\n",
    "                # text = re.sub(r\"[^a-zA-Z]+\", ' ', t.text) \n",
    "                if t.text.split()[0] == 'Copyrighted':\n",
    "                    break\n",
    "                text = re.sub(r\"[+]\", ' ', t.text) \n",
    "                # .strip() to delect any leading and trailing whitespace\n",
    "                text_file.write(text.strip()+\"\\n\") # to use the ligaikuma app, we need to format of in the .txt\n",
    "        \n",
    "    except Exception as inst:      \n",
    "        traceback.print_exc()"
   ]
  },
  {
   "cell_type": "code",
   "execution_count": 73,
   "metadata": {},
   "outputs": [
    {
     "data": {
      "text/plain": [
       "'MAT'"
      ]
     },
     "execution_count": 73,
     "metadata": {},
     "output_type": "execute_result"
    }
   ],
   "source": [
    "Book_list = list(Bible_dict.keys())\n",
    "Book_list[0]"
   ]
  },
  {
   "cell_type": "code",
   "execution_count": 74,
   "metadata": {},
   "outputs": [
    {
     "data": {
      "text/plain": [
       "28"
      ]
     },
     "execution_count": 74,
     "metadata": {},
     "output_type": "execute_result"
    }
   ],
   "source": [
    "Bible_dict['MAT']"
   ]
  },
  {
   "cell_type": "code",
   "execution_count": 75,
   "metadata": {},
   "outputs": [],
   "source": [
    "book = Book_list[0]\n",
    "    \n",
    "verses = Bible_dict[book]\n",
    "for i in range(1, verses+1):\n",
    "    load_book_chapter_format(book = book, verse = str(i))        "
   ]
  },
  {
   "cell_type": "markdown",
   "metadata": {},
   "source": [
    "## Mark"
   ]
  },
  {
   "cell_type": "code",
   "execution_count": null,
   "metadata": {},
   "outputs": [],
   "source": [
    "B02___01_Mark________EN1WEBN2DA"
   ]
  },
  {
   "cell_type": "code",
   "execution_count": 76,
   "metadata": {},
   "outputs": [],
   "source": [
    "def load_book_chapter_format(book = 'MAT', verse = '1'):\n",
    "    \"\"\"\n",
    "    This function will help to save in text form, depening to the book and verse argument \n",
    "    given in parameter\n",
    "    \n",
    "    The data is maintly taken from the website https://www.jw.org/\n",
    "    \"\"\"\n",
    "    try :\n",
    "        r_engl = rq.get('https://live.bible.is/bible/ENGWWH/'\\\n",
    "                     +str(book)+'/'+str(verse)+'/')\n",
    "        html_engl = r_engl.content\n",
    "        soup_engl = BeautifulSoup(html_engl, 'html.parser') \n",
    "        s_engl = soup_engl.find_all(\"span\", {\"class\": \"\"})\n",
    "        \n",
    "        var = verse if len(verse) == 2 else '0'+verse\n",
    "        with open(\"./data/English_World_English_Bible_NT_Drama/B02___\"+var+\"_Mark________EN1WEBN2DA.txt\", \"w\") as text_file:\n",
    "                \n",
    "            for i, t in enumerate(s_engl):\n",
    "                \n",
    "                # this removes special caracters from the text# this removes special caracters from the text\n",
    "                # text = re.sub(r\"[^a-zA-Z]+\", ' ', t.text) \n",
    "                if t.text.split()[0] == 'Copyrighted':\n",
    "                    break\n",
    "                text = re.sub(r\"[+]\", ' ', t.text) \n",
    "                # .strip() to delect any leading and trailing whitespace\n",
    "                text_file.write(text.strip()+\"\\n\") # to use the ligaikuma app, we need to format of in the .txt\n",
    "        \n",
    "    except Exception as inst:      \n",
    "        traceback.print_exc()"
   ]
  },
  {
   "cell_type": "code",
   "execution_count": 79,
   "metadata": {},
   "outputs": [
    {
     "data": {
      "text/plain": [
       "'MRK'"
      ]
     },
     "execution_count": 79,
     "metadata": {},
     "output_type": "execute_result"
    }
   ],
   "source": [
    "Book_list = list(Bible_dict.keys())\n",
    "Book_list[1]"
   ]
  },
  {
   "cell_type": "code",
   "execution_count": 80,
   "metadata": {},
   "outputs": [],
   "source": [
    "book = Book_list[1]\n",
    "    \n",
    "verses = Bible_dict[book]\n",
    "for i in range(1, verses+1):\n",
    "    load_book_chapter_format(book = book, verse = str(i))        "
   ]
  },
  {
   "cell_type": "markdown",
   "metadata": {},
   "source": [
    "## Luke .. Acts"
   ]
  },
  {
   "cell_type": "code",
   "execution_count": null,
   "metadata": {},
   "outputs": [],
   "source": [
    "B03___01_Luke________EN1WEBN2DA"
   ]
  },
  {
   "cell_type": "code",
   "execution_count": 94,
   "metadata": {},
   "outputs": [],
   "source": [
    "def load_book_chapter_format(book = 'MAT', verse = '1'):\n",
    "    \"\"\"\n",
    "    This function will help to save in text form, depening to the book and verse argument \n",
    "    given in parameter\n",
    "    \n",
    "    The data is maintly taken from the website https://www.jw.org/\n",
    "    \"\"\"\n",
    "    try :\n",
    "        r_engl = rq.get('https://live.bible.is/bible/ENGWWH/'\\\n",
    "                     +str(book)+'/'+str(verse)+'/')\n",
    "        html_engl = r_engl.content\n",
    "        soup_engl = BeautifulSoup(html_engl, 'html.parser') \n",
    "        s_engl = soup_engl.find_all(\"span\", {\"class\": \"\"})\n",
    "        \n",
    "        var = verse if len(verse) == 2 else '0'+verse\n",
    "        with open(\"./data/English_World_English_Bible_NT_Drama/B05___\"+var+\"_Acts________EN1WEBN2DA.txt\", \"w\") as text_file:\n",
    "                \n",
    "            for i, t in enumerate(s_engl):\n",
    "                \n",
    "                # this removes special caracters from the text# this removes special caracters from the text\n",
    "                # text = re.sub(r\"[^a-zA-Z]+\", ' ', t.text) \n",
    "                if t.text.split()[0] == 'Copyrighted':\n",
    "                    break\n",
    "                text = re.sub(r\"[+]\", ' ', t.text) \n",
    "                # .strip() to delect any leading and trailing whitespace\n",
    "                text_file.write(text.strip()+\"\\n\") # to use the ligaikuma app, we need to format of in the .txt\n",
    "        \n",
    "    except Exception as inst:      \n",
    "        traceback.print_exc()"
   ]
  },
  {
   "cell_type": "code",
   "execution_count": 95,
   "metadata": {},
   "outputs": [
    {
     "data": {
      "text/plain": [
       "'ACT'"
      ]
     },
     "execution_count": 95,
     "metadata": {},
     "output_type": "execute_result"
    }
   ],
   "source": [
    "Book_list = list(Bible_dict.keys())\n",
    "Book_list[4]"
   ]
  },
  {
   "cell_type": "code",
   "execution_count": 96,
   "metadata": {},
   "outputs": [
    {
     "name": "stderr",
     "output_type": "stream",
     "text": [
      "Traceback (most recent call last):\n",
      "  File \"<ipython-input-94-9ebe078b1548>\", line 22, in load_book_chapter_format\n",
      "    if t.text.split()[0] == 'Copyrighted':\n",
      "IndexError: list index out of range\n",
      "Traceback (most recent call last):\n",
      "  File \"<ipython-input-94-9ebe078b1548>\", line 22, in load_book_chapter_format\n",
      "    if t.text.split()[0] == 'Copyrighted':\n",
      "IndexError: list index out of range\n",
      "Traceback (most recent call last):\n",
      "  File \"<ipython-input-94-9ebe078b1548>\", line 22, in load_book_chapter_format\n",
      "    if t.text.split()[0] == 'Copyrighted':\n",
      "IndexError: list index out of range\n"
     ]
    }
   ],
   "source": [
    "book = Book_list[4]\n",
    "    \n",
    "verses = Bible_dict[book]\n",
    "for i in range(1, verses+1):\n",
    "    load_book_chapter_format(book = book, verse = str(i))        "
   ]
  },
  {
   "cell_type": "markdown",
   "metadata": {},
   "source": [
    "## Romains"
   ]
  },
  {
   "cell_type": "code",
   "execution_count": null,
   "metadata": {},
   "outputs": [],
   "source": [
    "B06___01_Romans______EN1WEBN2DA"
   ]
  },
  {
   "cell_type": "code",
   "execution_count": 99,
   "metadata": {},
   "outputs": [],
   "source": [
    "def load_book_chapter_format(book = 'MAT', verse = '1'):\n",
    "    \"\"\"\n",
    "    This function will help to save in text form, depening to the book and verse argument \n",
    "    given in parameter\n",
    "    \n",
    "    The data is maintly taken from the website https://www.jw.org/\n",
    "    \"\"\"\n",
    "    try :\n",
    "        r_engl = rq.get('https://live.bible.is/bible/ENGWWH/'\\\n",
    "                     +str(book)+'/'+str(verse)+'/')\n",
    "        html_engl = r_engl.content\n",
    "        soup_engl = BeautifulSoup(html_engl, 'html.parser') \n",
    "        s_engl = soup_engl.find_all(\"span\", {\"class\": \"\"})\n",
    "        \n",
    "        var = verse if len(verse) == 2 else '0'+verse\n",
    "        with open(\"./data/English_World_English_Bible_NT_Drama/B06___\"+var+\"_Romans______EN1WEBN2DA.txt\", \"w\") as text_file:\n",
    "                \n",
    "            for i, t in enumerate(s_engl):\n",
    "                \n",
    "                # this removes special caracters from the text# this removes special caracters from the text\n",
    "                # text = re.sub(r\"[^a-zA-Z]+\", ' ', t.text) \n",
    "                if t.text.split()[0] == 'Copyrighted':\n",
    "                    break\n",
    "                text = re.sub(r\"[+]\", ' ', t.text) \n",
    "                # .strip() to delect any leading and trailing whitespace\n",
    "                text_file.write(text.strip()+\"\\n\") # to use the ligaikuma app, we need to format of in the .txt\n",
    "        \n",
    "    except Exception as inst:      \n",
    "        traceback.print_exc()"
   ]
  },
  {
   "cell_type": "code",
   "execution_count": 100,
   "metadata": {},
   "outputs": [
    {
     "data": {
      "text/plain": [
       "'ROM'"
      ]
     },
     "execution_count": 100,
     "metadata": {},
     "output_type": "execute_result"
    }
   ],
   "source": [
    "Book_list = list(Bible_dict.keys())\n",
    "Book_list[5]"
   ]
  },
  {
   "cell_type": "code",
   "execution_count": 101,
   "metadata": {},
   "outputs": [],
   "source": [
    "book = Book_list[5]\n",
    "    \n",
    "verses = Bible_dict[book]\n",
    "for i in range(1, verses+1):\n",
    "    load_book_chapter_format(book = book, verse = str(i))        "
   ]
  },
  {
   "cell_type": "code",
   "execution_count": null,
   "metadata": {},
   "outputs": [],
   "source": []
  },
  {
   "cell_type": "markdown",
   "metadata": {},
   "source": [
    "## 1Corinthians, 2Corinthians"
   ]
  },
  {
   "cell_type": "code",
   "execution_count": null,
   "metadata": {},
   "outputs": [],
   "source": [
    "B07___01_1CorinthiansEN1WEBN2DA"
   ]
  },
  {
   "cell_type": "code",
   "execution_count": 109,
   "metadata": {},
   "outputs": [],
   "source": [
    "def load_book_chapter_format(book = 'MAT', verse = '1'):\n",
    "    \"\"\"\n",
    "    This function will help to save in text form, depening to the book and verse argument \n",
    "    given in parameter\n",
    "    \n",
    "    The data is maintly taken from the website https://www.jw.org/\n",
    "    \"\"\"\n",
    "    try :\n",
    "        r_engl = rq.get('https://live.bible.is/bible/ENGWWH/'\\\n",
    "                     +str(book)+'/'+str(verse)+'/')\n",
    "        html_engl = r_engl.content\n",
    "        soup_engl = BeautifulSoup(html_engl, 'html.parser') \n",
    "        s_engl = soup_engl.find_all(\"span\", {\"class\": \"\"})\n",
    "        \n",
    "        var = verse if len(verse) == 2 else '0'+verse\n",
    "        with open(\"./data/English_World_English_Bible_NT_Drama/B08___\"+var+\"_2CorinthiansEN1WEBN2DA.txt\", \"w\") as text_file:\n",
    "                \n",
    "            for i, t in enumerate(s_engl):\n",
    "                \n",
    "                # this removes special caracters from the text# this removes special caracters from the text\n",
    "                # text = re.sub(r\"[^a-zA-Z]+\", ' ', t.text) \n",
    "                if t.text.split()[0] == 'Copyrighted':\n",
    "                    break\n",
    "                text = re.sub(r\"[+]\", ' ', t.text) \n",
    "                # .strip() to delect any leading and trailing whitespace\n",
    "                text_file.write(text.strip()+\"\\n\") # to use the ligaikuma app, we need to format of in the .txt\n",
    "        \n",
    "    except Exception as inst:      \n",
    "        traceback.print_exc()"
   ]
  },
  {
   "cell_type": "code",
   "execution_count": 110,
   "metadata": {},
   "outputs": [
    {
     "data": {
      "text/plain": [
       "'2CO'"
      ]
     },
     "execution_count": 110,
     "metadata": {},
     "output_type": "execute_result"
    }
   ],
   "source": [
    "Book_list = list(Bible_dict.keys())\n",
    "Book_list[7]"
   ]
  },
  {
   "cell_type": "code",
   "execution_count": 111,
   "metadata": {},
   "outputs": [],
   "source": [
    "book = Book_list[7]\n",
    "    \n",
    "verses = Bible_dict[book]\n",
    "for i in range(1, verses+1):\n",
    "    load_book_chapter_format(book = book, verse = str(i))        "
   ]
  },
  {
   "cell_type": "code",
   "execution_count": null,
   "metadata": {},
   "outputs": [],
   "source": []
  },
  {
   "cell_type": "markdown",
   "metadata": {},
   "source": [
    "## Galatians ... Ephesians"
   ]
  },
  {
   "cell_type": "code",
   "execution_count": null,
   "metadata": {},
   "outputs": [],
   "source": [
    "B09___01_Galatians___EN1WEBN2DA"
   ]
  },
  {
   "cell_type": "code",
   "execution_count": 115,
   "metadata": {},
   "outputs": [],
   "source": [
    "def load_book_chapter_format(book = 'MAT', verse = '1'):\n",
    "    \"\"\"\n",
    "    This function will help to save in text form, depening to the book and verse argument \n",
    "    given in parameter\n",
    "    \n",
    "    The data is maintly taken from the website https://www.jw.org/\n",
    "    \"\"\"\n",
    "    try :\n",
    "        r_engl = rq.get('https://live.bible.is/bible/ENGWWH/'\\\n",
    "                     +str(book)+'/'+str(verse)+'/')\n",
    "        html_engl = r_engl.content\n",
    "        soup_engl = BeautifulSoup(html_engl, 'html.parser') \n",
    "        s_engl = soup_engl.find_all(\"span\", {\"class\": \"\"})\n",
    "        \n",
    "        var = verse if len(verse) == 2 else '0'+verse\n",
    "        with open(\"./data/English_World_English_Bible_NT_Drama/B10___\"+var+\"_Ephesians___EN1WEBN2DA.txt\", \"w\") as text_file:\n",
    "                \n",
    "            for i, t in enumerate(s_engl):\n",
    "                \n",
    "                # this removes special caracters from the text# this removes special caracters from the text\n",
    "                # text = re.sub(r\"[^a-zA-Z]+\", ' ', t.text) \n",
    "                if t.text.split()[0] == 'Copyrighted':\n",
    "                    break\n",
    "                text = re.sub(r\"[+]\", ' ', t.text) \n",
    "                # .strip() to delect any leading and trailing whitespace\n",
    "                text_file.write(text.strip()+\"\\n\") # to use the ligaikuma app, we need to format of in the .txt\n",
    "        \n",
    "    except Exception as inst:      \n",
    "        traceback.print_exc()"
   ]
  },
  {
   "cell_type": "code",
   "execution_count": 116,
   "metadata": {},
   "outputs": [
    {
     "data": {
      "text/plain": [
       "'EPH'"
      ]
     },
     "execution_count": 116,
     "metadata": {},
     "output_type": "execute_result"
    }
   ],
   "source": [
    "Book_list = list(Bible_dict.keys())\n",
    "Book_list[9]"
   ]
  },
  {
   "cell_type": "code",
   "execution_count": 117,
   "metadata": {},
   "outputs": [],
   "source": [
    "book = Book_list[9]\n",
    "    \n",
    "verses = Bible_dict[book]\n",
    "for i in range(1, verses+1):\n",
    "    load_book_chapter_format(book = book, verse = str(i))        "
   ]
  },
  {
   "cell_type": "markdown",
   "metadata": {},
   "source": [
    "## Philippians"
   ]
  },
  {
   "cell_type": "code",
   "execution_count": 119,
   "metadata": {},
   "outputs": [],
   "source": [
    "# B11___01_Philippians_EN1WEBN2DA\n",
    "B12___01_Colossians__EN1WEBN2DA"
   ]
  },
  {
   "cell_type": "code",
   "execution_count": 123,
   "metadata": {},
   "outputs": [],
   "source": [
    "def load_book_chapter_format(book = 'MAT', verse = '1'):\n",
    "    \"\"\"\n",
    "    This function will help to save in text form, depening to the book and verse argument \n",
    "    given in parameter\n",
    "    \n",
    "    The data is maintly taken from the website https://www.jw.org/\n",
    "    \"\"\"\n",
    "    try :\n",
    "        r_engl = rq.get('https://live.bible.is/bible/ENGWWH/'\\\n",
    "                     +str(book)+'/'+str(verse)+'/')\n",
    "        html_engl = r_engl.content\n",
    "        soup_engl = BeautifulSoup(html_engl, 'html.parser') \n",
    "        s_engl = soup_engl.find_all(\"span\", {\"class\": \"\"})\n",
    "        \n",
    "        var = verse if len(verse) == 2 else '0'+verse\n",
    "        with open(\"./data/English_World_English_Bible_NT_Drama/B12___\"+var+\"_Colossians_EN1WEBN2DA.txt\", \"w\") as text_file:\n",
    "                \n",
    "            for i, t in enumerate(s_engl):\n",
    "                \n",
    "                # this removes special caracters from the text# this removes special caracters from the text\n",
    "                # text = re.sub(r\"[^a-zA-Z]+\", ' ', t.text) \n",
    "                if t.text.split()[0] == 'Copyrighted':\n",
    "                    break\n",
    "                text = re.sub(r\"[+]\", ' ', t.text) \n",
    "                # .strip() to delect any leading and trailing whitespace\n",
    "                text_file.write(text.strip()+\"\\n\") # to use the ligaikuma app, we need to format of in the .txt\n",
    "        \n",
    "    except Exception as inst:      \n",
    "        traceback.print_exc()"
   ]
  },
  {
   "cell_type": "code",
   "execution_count": 124,
   "metadata": {},
   "outputs": [
    {
     "data": {
      "text/plain": [
       "'COL'"
      ]
     },
     "execution_count": 124,
     "metadata": {},
     "output_type": "execute_result"
    }
   ],
   "source": [
    "Book_list = list(Bible_dict.keys())\n",
    "Book_list[11]"
   ]
  },
  {
   "cell_type": "code",
   "execution_count": 125,
   "metadata": {},
   "outputs": [],
   "source": [
    "book = Book_list[11]\n",
    "    \n",
    "verses = Bible_dict[book]\n",
    "for i in range(1, verses+1):\n",
    "    load_book_chapter_format(book = book, verse = str(i))        "
   ]
  },
  {
   "cell_type": "code",
   "execution_count": null,
   "metadata": {},
   "outputs": [],
   "source": []
  },
  {
   "cell_type": "markdown",
   "metadata": {},
   "source": [
    "## Colossians"
   ]
  },
  {
   "cell_type": "code",
   "execution_count": 119,
   "metadata": {},
   "outputs": [],
   "source": [
    "B12___01_Colossians__EN1WEBN2DA"
   ]
  },
  {
   "cell_type": "code",
   "execution_count": 126,
   "metadata": {},
   "outputs": [],
   "source": [
    "def load_book_chapter_format(book = 'MAT', verse = '1'):\n",
    "    \"\"\"\n",
    "    This function will help to save in text form, depening to the book and verse argument \n",
    "    given in parameter\n",
    "    \n",
    "    The data is maintly taken from the website https://www.jw.org/\n",
    "    \"\"\"\n",
    "    try :\n",
    "        r_engl = rq.get('https://live.bible.is/bible/ENGWWH/'\\\n",
    "                     +str(book)+'/'+str(verse)+'/')\n",
    "        html_engl = r_engl.content\n",
    "        soup_engl = BeautifulSoup(html_engl, 'html.parser') \n",
    "        s_engl = soup_engl.find_all(\"span\", {\"class\": \"\"})\n",
    "        \n",
    "        var = verse if len(verse) == 2 else '0'+verse\n",
    "        with open(\"./data/English_World_English_Bible_NT_Drama/B12___\"+var+\"_Colossians__EN1WEBN2DA.txt\", \"w\") as text_file:\n",
    "                \n",
    "            for i, t in enumerate(s_engl):\n",
    "                \n",
    "                # this removes special caracters from the text# this removes special caracters from the text\n",
    "                # text = re.sub(r\"[^a-zA-Z]+\", ' ', t.text) \n",
    "                if t.text.split()[0] == 'Copyrighted':\n",
    "                    break\n",
    "                text = re.sub(r\"[+]\", ' ', t.text) \n",
    "                # .strip() to delect any leading and trailing whitespace\n",
    "                text_file.write(text.strip()+\"\\n\") # to use the ligaikuma app, we need to format of in the .txt\n",
    "        \n",
    "    except Exception as inst:      \n",
    "        traceback.print_exc()"
   ]
  },
  {
   "cell_type": "code",
   "execution_count": 127,
   "metadata": {},
   "outputs": [
    {
     "data": {
      "text/plain": [
       "'COL'"
      ]
     },
     "execution_count": 127,
     "metadata": {},
     "output_type": "execute_result"
    }
   ],
   "source": [
    "Book_list = list(Bible_dict.keys())\n",
    "Book_list[11]"
   ]
  },
  {
   "cell_type": "code",
   "execution_count": 128,
   "metadata": {},
   "outputs": [],
   "source": [
    "book = Book_list[11]\n",
    "    \n",
    "verses = Bible_dict[book]\n",
    "for i in range(1, verses+1):\n",
    "    load_book_chapter_format(book = book, verse = str(i))        "
   ]
  },
  {
   "cell_type": "code",
   "execution_count": null,
   "metadata": {},
   "outputs": [],
   "source": []
  },
  {
   "cell_type": "markdown",
   "metadata": {},
   "source": [
    "## 1Thess ... 2Thess"
   ]
  },
  {
   "cell_type": "code",
   "execution_count": 119,
   "metadata": {},
   "outputs": [],
   "source": [
    "B13___01_1Thess______EN1WEBN2DA"
   ]
  },
  {
   "cell_type": "code",
   "execution_count": 132,
   "metadata": {},
   "outputs": [],
   "source": [
    "def load_book_chapter_format(book = 'MAT', verse = '1'):\n",
    "    \"\"\"\n",
    "    This function will help to save in text form, depening to the book and verse argument \n",
    "    given in parameter\n",
    "    \n",
    "    The data is maintly taken from the website https://www.jw.org/\n",
    "    \"\"\"\n",
    "    try :\n",
    "        r_engl = rq.get('https://live.bible.is/bible/ENGWWH/'\\\n",
    "                     +str(book)+'/'+str(verse)+'/')\n",
    "        html_engl = r_engl.content\n",
    "        soup_engl = BeautifulSoup(html_engl, 'html.parser') \n",
    "        s_engl = soup_engl.find_all(\"span\", {\"class\": \"\"})\n",
    "        \n",
    "        var = verse if len(verse) == 2 else '0'+verse\n",
    "        with open(\"./data/English_World_English_Bible_NT_Drama/B14___\"+var+\"_2Thess______EN1WEBN2DA.txt\", \"w\") as text_file:\n",
    "                \n",
    "            for i, t in enumerate(s_engl):\n",
    "                \n",
    "                # this removes special caracters from the text# this removes special caracters from the text\n",
    "                # text = re.sub(r\"[^a-zA-Z]+\", ' ', t.text) \n",
    "                if t.text.split()[0] == 'Copyrighted':\n",
    "                    break\n",
    "                text = re.sub(r\"[+]\", ' ', t.text) \n",
    "                # .strip() to delect any leading and trailing whitespace\n",
    "                text_file.write(text.strip()+\"\\n\") # to use the ligaikuma app, we need to format of in the .txt\n",
    "        \n",
    "    except Exception as inst:      \n",
    "        traceback.print_exc()"
   ]
  },
  {
   "cell_type": "code",
   "execution_count": 133,
   "metadata": {},
   "outputs": [
    {
     "data": {
      "text/plain": [
       "'2TH'"
      ]
     },
     "execution_count": 133,
     "metadata": {},
     "output_type": "execute_result"
    }
   ],
   "source": [
    "Book_list = list(Bible_dict.keys())\n",
    "Book_list[13]"
   ]
  },
  {
   "cell_type": "code",
   "execution_count": 134,
   "metadata": {},
   "outputs": [],
   "source": [
    "book = Book_list[13]\n",
    "    \n",
    "verses = Bible_dict[book]\n",
    "for i in range(1, verses+1):\n",
    "    load_book_chapter_format(book = book, verse = str(i))        "
   ]
  },
  {
   "cell_type": "code",
   "execution_count": null,
   "metadata": {},
   "outputs": [],
   "source": []
  },
  {
   "cell_type": "markdown",
   "metadata": {},
   "source": [
    "## 1Timothy, 2Timothy"
   ]
  },
  {
   "cell_type": "code",
   "execution_count": 119,
   "metadata": {},
   "outputs": [],
   "source": [
    "B15___01_1Timothy____EN1WEBN2DA"
   ]
  },
  {
   "cell_type": "code",
   "execution_count": 141,
   "metadata": {},
   "outputs": [],
   "source": [
    "def load_book_chapter_format(book = 'MAT', verse = '1'):\n",
    "    \"\"\"\n",
    "    This function will help to save in text form, depening to the book and verse argument \n",
    "    given in parameter\n",
    "    \n",
    "    The data is maintly taken from the website https://www.jw.org/\n",
    "    \"\"\"\n",
    "    try :\n",
    "        r_engl = rq.get('https://live.bible.is/bible/ENGWWH/'\\\n",
    "                     +str(book)+'/'+str(verse)+'/')\n",
    "        html_engl = r_engl.content\n",
    "        soup_engl = BeautifulSoup(html_engl, 'html.parser') \n",
    "        s_engl = soup_engl.find_all(\"span\", {\"class\": \"\"})\n",
    "        \n",
    "        var = verse if len(verse) == 2 else '0'+verse\n",
    "        with open(\"./data/English_World_English_Bible_NT_Drama/B16___\"+var+\"_2Timothy____EN1WEBN2DA.txt\", \"w\") as text_file:\n",
    "                \n",
    "            for i, t in enumerate(s_engl):\n",
    "                \n",
    "                # this removes special caracters from the text# this removes special caracters from the text\n",
    "                # text = re.sub(r\"[^a-zA-Z]+\", ' ', t.text) \n",
    "                if t.text.split()[0] == 'Copyrighted':\n",
    "                    break\n",
    "                text = re.sub(r\"[+]\", ' ', t.text) \n",
    "                # .strip() to delect any leading and trailing whitespace\n",
    "                text_file.write(text.strip()+\"\\n\") # to use the ligaikuma app, we need to format of in the .txt\n",
    "        \n",
    "    except Exception as inst:      \n",
    "        traceback.print_exc()"
   ]
  },
  {
   "cell_type": "code",
   "execution_count": 142,
   "metadata": {},
   "outputs": [
    {
     "data": {
      "text/plain": [
       "'2TI'"
      ]
     },
     "execution_count": 142,
     "metadata": {},
     "output_type": "execute_result"
    }
   ],
   "source": [
    "Book_list = list(Bible_dict.keys())\n",
    "Book_list[15]"
   ]
  },
  {
   "cell_type": "code",
   "execution_count": 143,
   "metadata": {},
   "outputs": [],
   "source": [
    "book = Book_list[15]\n",
    "    \n",
    "verses = Bible_dict[book]\n",
    "for i in range(1, verses+1):\n",
    "    load_book_chapter_format(book = book, verse = str(i))        "
   ]
  },
  {
   "cell_type": "code",
   "execution_count": null,
   "metadata": {},
   "outputs": [],
   "source": []
  },
  {
   "cell_type": "markdown",
   "metadata": {},
   "source": [
    "## Titus"
   ]
  },
  {
   "cell_type": "code",
   "execution_count": 119,
   "metadata": {},
   "outputs": [],
   "source": [
    "B17___01_Titus_______EN1WEBN2DA"
   ]
  },
  {
   "cell_type": "code",
   "execution_count": 144,
   "metadata": {},
   "outputs": [],
   "source": [
    "def load_book_chapter_format(book = 'MAT', verse = '1'):\n",
    "    \"\"\"\n",
    "    This function will help to save in text form, depening to the book and verse argument \n",
    "    given in parameter\n",
    "    \n",
    "    The data is maintly taken from the website https://www.jw.org/\n",
    "    \"\"\"\n",
    "    try :\n",
    "        r_engl = rq.get('https://live.bible.is/bible/ENGWWH/'\\\n",
    "                     +str(book)+'/'+str(verse)+'/')\n",
    "        html_engl = r_engl.content\n",
    "        soup_engl = BeautifulSoup(html_engl, 'html.parser') \n",
    "        s_engl = soup_engl.find_all(\"span\", {\"class\": \"\"})\n",
    "        \n",
    "        var = verse if len(verse) == 2 else '0'+verse\n",
    "        with open(\"./data/English_World_English_Bible_NT_Drama/B17___\"+var+\"_Titus_______EN1WEBN2DA.txt\", \"w\") as text_file:\n",
    "                \n",
    "            for i, t in enumerate(s_engl):\n",
    "                \n",
    "                # this removes special caracters from the text# this removes special caracters from the text\n",
    "                # text = re.sub(r\"[^a-zA-Z]+\", ' ', t.text) \n",
    "                if t.text.split()[0] == 'Copyrighted':\n",
    "                    break\n",
    "                text = re.sub(r\"[+]\", ' ', t.text) \n",
    "                # .strip() to delect any leading and trailing whitespace\n",
    "                text_file.write(text.strip()+\"\\n\") # to use the ligaikuma app, we need to format of in the .txt\n",
    "        \n",
    "    except Exception as inst:      \n",
    "        traceback.print_exc()"
   ]
  },
  {
   "cell_type": "code",
   "execution_count": 145,
   "metadata": {},
   "outputs": [
    {
     "data": {
      "text/plain": [
       "'TIT'"
      ]
     },
     "execution_count": 145,
     "metadata": {},
     "output_type": "execute_result"
    }
   ],
   "source": [
    "Book_list = list(Bible_dict.keys())\n",
    "Book_list[16]"
   ]
  },
  {
   "cell_type": "code",
   "execution_count": 146,
   "metadata": {},
   "outputs": [],
   "source": [
    "book = Book_list[16]\n",
    "    \n",
    "verses = Bible_dict[book]\n",
    "for i in range(1, verses+1):\n",
    "    load_book_chapter_format(book = book, verse = str(i))        "
   ]
  },
  {
   "cell_type": "code",
   "execution_count": null,
   "metadata": {},
   "outputs": [],
   "source": []
  },
  {
   "cell_type": "markdown",
   "metadata": {},
   "source": [
    "## Philemon, "
   ]
  },
  {
   "cell_type": "code",
   "execution_count": 119,
   "metadata": {},
   "outputs": [],
   "source": [
    "# B18___01_Philemon____EN1WEBN2DA\n"
   ]
  },
  {
   "cell_type": "code",
   "execution_count": 147,
   "metadata": {},
   "outputs": [],
   "source": [
    "def load_book_chapter_format(book = 'MAT', verse = '1'):\n",
    "    \"\"\"\n",
    "    This function will help to save in text form, depening to the book and verse argument \n",
    "    given in parameter\n",
    "    \n",
    "    The data is maintly taken from the website https://www.jw.org/\n",
    "    \"\"\"\n",
    "    try :\n",
    "        r_engl = rq.get('https://live.bible.is/bible/ENGWWH/'\\\n",
    "                     +str(book)+'/'+str(verse)+'/')\n",
    "        html_engl = r_engl.content\n",
    "        soup_engl = BeautifulSoup(html_engl, 'html.parser') \n",
    "        s_engl = soup_engl.find_all(\"span\", {\"class\": \"\"})\n",
    "        \n",
    "        var = verse if len(verse) == 2 else '0'+verse\n",
    "        with open(\"./data/English_World_English_Bible_NT_Drama/B18___\"+var+\"_Philemon____EN1WEBN2DA.txt\", \"w\") as text_file:\n",
    "                \n",
    "            for i, t in enumerate(s_engl):\n",
    "                \n",
    "                # this removes special caracters from the text# this removes special caracters from the text\n",
    "                # text = re.sub(r\"[^a-zA-Z]+\", ' ', t.text) \n",
    "                if t.text.split()[0] == 'Copyrighted':\n",
    "                    break\n",
    "                text = re.sub(r\"[+]\", ' ', t.text) \n",
    "                # .strip() to delect any leading and trailing whitespace\n",
    "                text_file.write(text.strip()+\"\\n\") # to use the ligaikuma app, we need to format of in the .txt\n",
    "        \n",
    "    except Exception as inst:      \n",
    "        traceback.print_exc()"
   ]
  },
  {
   "cell_type": "code",
   "execution_count": 148,
   "metadata": {},
   "outputs": [
    {
     "data": {
      "text/plain": [
       "'PHM'"
      ]
     },
     "execution_count": 148,
     "metadata": {},
     "output_type": "execute_result"
    }
   ],
   "source": [
    "Book_list = list(Bible_dict.keys())\n",
    "Book_list[17]"
   ]
  },
  {
   "cell_type": "code",
   "execution_count": 149,
   "metadata": {},
   "outputs": [],
   "source": [
    "book = Book_list[17]\n",
    "    \n",
    "verses = Bible_dict[book]\n",
    "for i in range(1, verses+1):\n",
    "    load_book_chapter_format(book = book, verse = str(i))        "
   ]
  },
  {
   "cell_type": "code",
   "execution_count": null,
   "metadata": {},
   "outputs": [],
   "source": []
  },
  {
   "cell_type": "markdown",
   "metadata": {},
   "source": [
    "## Hebrews"
   ]
  },
  {
   "cell_type": "code",
   "execution_count": 150,
   "metadata": {},
   "outputs": [],
   "source": [
    "# B19___01_Hebrews_____EN1WEBN2DA"
   ]
  },
  {
   "cell_type": "code",
   "execution_count": 151,
   "metadata": {},
   "outputs": [],
   "source": [
    "def load_book_chapter_format(book = 'MAT', verse = '1'):\n",
    "    \"\"\"\n",
    "    This function will help to save in text form, depening to the book and verse argument \n",
    "    given in parameter\n",
    "    \n",
    "    The data is maintly taken from the website https://www.jw.org/\n",
    "    \"\"\"\n",
    "    try :\n",
    "        r_engl = rq.get('https://live.bible.is/bible/ENGWWH/'\\\n",
    "                     +str(book)+'/'+str(verse)+'/')\n",
    "        html_engl = r_engl.content\n",
    "        soup_engl = BeautifulSoup(html_engl, 'html.parser') \n",
    "        s_engl = soup_engl.find_all(\"span\", {\"class\": \"\"})\n",
    "        \n",
    "        var = verse if len(verse) == 2 else '0'+verse\n",
    "        with open(\"./data/English_World_English_Bible_NT_Drama/B19___\"+var+\"_Hebrews_____EN1WEBN2DA.txt\", \"w\") as text_file:\n",
    "                \n",
    "            for i, t in enumerate(s_engl):\n",
    "                \n",
    "                # this removes special caracters from the text# this removes special caracters from the text\n",
    "                # text = re.sub(r\"[^a-zA-Z]+\", ' ', t.text) \n",
    "                if t.text.split()[0] == 'Copyrighted':\n",
    "                    break\n",
    "                text = re.sub(r\"[+]\", ' ', t.text) \n",
    "                # .strip() to delect any leading and trailing whitespace\n",
    "                text_file.write(text.strip()+\"\\n\") # to use the ligaikuma app, we need to format of in the .txt\n",
    "        \n",
    "    except Exception as inst:      \n",
    "        traceback.print_exc()"
   ]
  },
  {
   "cell_type": "code",
   "execution_count": 152,
   "metadata": {},
   "outputs": [
    {
     "data": {
      "text/plain": [
       "'HEB'"
      ]
     },
     "execution_count": 152,
     "metadata": {},
     "output_type": "execute_result"
    }
   ],
   "source": [
    "Book_list = list(Bible_dict.keys())\n",
    "Book_list[18]"
   ]
  },
  {
   "cell_type": "code",
   "execution_count": 153,
   "metadata": {},
   "outputs": [],
   "source": [
    "book = Book_list[18]\n",
    "    \n",
    "verses = Bible_dict[book]\n",
    "for i in range(1, verses+1):\n",
    "    load_book_chapter_format(book = book, verse = str(i))        "
   ]
  },
  {
   "cell_type": "code",
   "execution_count": null,
   "metadata": {},
   "outputs": [],
   "source": []
  },
  {
   "cell_type": "markdown",
   "metadata": {},
   "source": [
    "## James"
   ]
  },
  {
   "cell_type": "code",
   "execution_count": 154,
   "metadata": {},
   "outputs": [],
   "source": [
    "# B20___01_James_______EN1WEBN2DA"
   ]
  },
  {
   "cell_type": "code",
   "execution_count": 155,
   "metadata": {},
   "outputs": [],
   "source": [
    "def load_book_chapter_format(book = 'MAT', verse = '1'):\n",
    "    \"\"\"\n",
    "    This function will help to save in text form, depening to the book and verse argument \n",
    "    given in parameter\n",
    "    \n",
    "    The data is maintly taken from the website https://www.jw.org/\n",
    "    \"\"\"\n",
    "    try :\n",
    "        r_engl = rq.get('https://live.bible.is/bible/ENGWWH/'\\\n",
    "                     +str(book)+'/'+str(verse)+'/')\n",
    "        html_engl = r_engl.content\n",
    "        soup_engl = BeautifulSoup(html_engl, 'html.parser') \n",
    "        s_engl = soup_engl.find_all(\"span\", {\"class\": \"\"})\n",
    "        \n",
    "        var = verse if len(verse) == 2 else '0'+verse\n",
    "        with open(\"./data/English_World_English_Bible_NT_Drama/B20___\"+var+\"_James_______EN1WEBN2DA.txt\", \"w\") as text_file:\n",
    "                \n",
    "            for i, t in enumerate(s_engl):\n",
    "                \n",
    "                # this removes special caracters from the text# this removes special caracters from the text\n",
    "                # text = re.sub(r\"[^a-zA-Z]+\", ' ', t.text) \n",
    "                if t.text.split()[0] == 'Copyrighted':\n",
    "                    break\n",
    "                text = re.sub(r\"[+]\", ' ', t.text) \n",
    "                # .strip() to delect any leading and trailing whitespace\n",
    "                text_file.write(text.strip()+\"\\n\") # to use the ligaikuma app, we need to format of in the .txt\n",
    "        \n",
    "    except Exception as inst:      \n",
    "        traceback.print_exc()"
   ]
  },
  {
   "cell_type": "code",
   "execution_count": 156,
   "metadata": {},
   "outputs": [
    {
     "data": {
      "text/plain": [
       "'JAS'"
      ]
     },
     "execution_count": 156,
     "metadata": {},
     "output_type": "execute_result"
    }
   ],
   "source": [
    "Book_list = list(Bible_dict.keys())\n",
    "Book_list[19]"
   ]
  },
  {
   "cell_type": "code",
   "execution_count": 157,
   "metadata": {},
   "outputs": [],
   "source": [
    "book = Book_list[19]\n",
    "    \n",
    "verses = Bible_dict[book]\n",
    "for i in range(1, verses+1):\n",
    "    load_book_chapter_format(book = book, verse = str(i))        "
   ]
  },
  {
   "cell_type": "markdown",
   "metadata": {},
   "source": [
    "## 1Peter, 2Peter"
   ]
  },
  {
   "cell_type": "code",
   "execution_count": 154,
   "metadata": {},
   "outputs": [],
   "source": [
    "# B21___01_1Peter______EN1WEBN2DA"
   ]
  },
  {
   "cell_type": "code",
   "execution_count": 163,
   "metadata": {},
   "outputs": [],
   "source": [
    "def load_book_chapter_format(book = 'MAT', verse = '1'):\n",
    "    \"\"\"\n",
    "    This function will help to save in text form, depening to the book and verse argument \n",
    "    given in parameter\n",
    "    \n",
    "    The data is maintly taken from the website https://www.jw.org/\n",
    "    \"\"\"\n",
    "    try :\n",
    "        r_engl = rq.get('https://live.bible.is/bible/ENGWWH/'\\\n",
    "                     +str(book)+'/'+str(verse)+'/')\n",
    "        html_engl = r_engl.content\n",
    "        soup_engl = BeautifulSoup(html_engl, 'html.parser') \n",
    "        s_engl = soup_engl.find_all(\"span\", {\"class\": \"\"})\n",
    "        \n",
    "        var = verse if len(verse) == 2 else '0'+verse\n",
    "        with open(\"./data/English_World_English_Bible_NT_Drama/B22___\"+var+\"_2Peter______EN1WEBN2DA.txt\", \"w\") as text_file:\n",
    "                \n",
    "            for i, t in enumerate(s_engl):\n",
    "                \n",
    "                # this removes special caracters from the text# this removes special caracters from the text\n",
    "                # text = re.sub(r\"[^a-zA-Z]+\", ' ', t.text) \n",
    "                if t.text.split()[0] == 'Copyrighted':\n",
    "                    break\n",
    "                text = re.sub(r\"[+]\", ' ', t.text) \n",
    "                # .strip() to delect any leading and trailing whitespace\n",
    "                text_file.write(text.strip()+\"\\n\") # to use the ligaikuma app, we need to format of in the .txt\n",
    "        \n",
    "    except Exception as inst:      \n",
    "        traceback.print_exc()"
   ]
  },
  {
   "cell_type": "code",
   "execution_count": 164,
   "metadata": {},
   "outputs": [
    {
     "data": {
      "text/plain": [
       "'2PE'"
      ]
     },
     "execution_count": 164,
     "metadata": {},
     "output_type": "execute_result"
    }
   ],
   "source": [
    "Book_list = list(Bible_dict.keys())\n",
    "Book_list[21]"
   ]
  },
  {
   "cell_type": "code",
   "execution_count": 165,
   "metadata": {},
   "outputs": [],
   "source": [
    "book = Book_list[21]\n",
    "    \n",
    "verses = Bible_dict[book]\n",
    "for i in range(1, verses+1):\n",
    "    load_book_chapter_format(book = book, verse = str(i))        "
   ]
  },
  {
   "cell_type": "markdown",
   "metadata": {},
   "source": [
    "## 1John, 2John, 3John"
   ]
  },
  {
   "cell_type": "code",
   "execution_count": 154,
   "metadata": {},
   "outputs": [],
   "source": [
    "# B23___01_1John_______EN1WEBN2DA"
   ]
  },
  {
   "cell_type": "code",
   "execution_count": 172,
   "metadata": {},
   "outputs": [],
   "source": [
    "def load_book_chapter_format(book = 'MAT', verse = '1'):\n",
    "    \"\"\"\n",
    "    This function will help to save in text form, depening to the book and verse argument \n",
    "    given in parameter\n",
    "    \n",
    "    The data is maintly taken from the website https://www.jw.org/\n",
    "    \"\"\"\n",
    "    try :\n",
    "        r_engl = rq.get('https://live.bible.is/bible/ENGWWH/'\\\n",
    "                     +str(book)+'/'+str(verse)+'/')\n",
    "        html_engl = r_engl.content\n",
    "        soup_engl = BeautifulSoup(html_engl, 'html.parser') \n",
    "        s_engl = soup_engl.find_all(\"span\", {\"class\": \"\"})\n",
    "        \n",
    "        var = verse if len(verse) == 2 else '0'+verse\n",
    "        with open(\"./data/English_World_English_Bible_NT_Drama/B25___\"+var+\"_3John_______EN1WEBN2DA.txt\", \"w\") as text_file:\n",
    "                \n",
    "            for i, t in enumerate(s_engl):\n",
    "                \n",
    "                # this removes special caracters from the text# this removes special caracters from the text\n",
    "                # text = re.sub(r\"[^a-zA-Z]+\", ' ', t.text) \n",
    "                if t.text.split()[0] == 'Copyrighted':\n",
    "                    break\n",
    "                text = re.sub(r\"[+]\", ' ', t.text) \n",
    "                # .strip() to delect any leading and trailing whitespace\n",
    "                text_file.write(text.strip()+\"\\n\") # to use the ligaikuma app, we need to format of in the .txt\n",
    "        \n",
    "    except Exception as inst:      \n",
    "        traceback.print_exc()"
   ]
  },
  {
   "cell_type": "code",
   "execution_count": 173,
   "metadata": {},
   "outputs": [
    {
     "data": {
      "text/plain": [
       "'3JN'"
      ]
     },
     "execution_count": 173,
     "metadata": {},
     "output_type": "execute_result"
    }
   ],
   "source": [
    "Book_list = list(Bible_dict.keys())\n",
    "Book_list[24]"
   ]
  },
  {
   "cell_type": "code",
   "execution_count": 174,
   "metadata": {},
   "outputs": [],
   "source": [
    "book = Book_list[24]\n",
    "    \n",
    "verses = Bible_dict[book]\n",
    "for i in range(1, verses+1):\n",
    "    load_book_chapter_format(book = book, verse = str(i))        "
   ]
  },
  {
   "cell_type": "markdown",
   "metadata": {},
   "source": [
    "## Jude"
   ]
  },
  {
   "cell_type": "code",
   "execution_count": 176,
   "metadata": {},
   "outputs": [],
   "source": [
    "# B26___01_Jude________EN1WEBN2DA"
   ]
  },
  {
   "cell_type": "code",
   "execution_count": 177,
   "metadata": {},
   "outputs": [],
   "source": [
    "def load_book_chapter_format(book = 'MAT', verse = '1'):\n",
    "    \"\"\"\n",
    "    This function will help to save in text form, depening to the book and verse argument \n",
    "    given in parameter\n",
    "    \n",
    "    The data is maintly taken from the website https://www.jw.org/\n",
    "    \"\"\"\n",
    "    try :\n",
    "        r_engl = rq.get('https://live.bible.is/bible/ENGWWH/'\\\n",
    "                     +str(book)+'/'+str(verse)+'/')\n",
    "        html_engl = r_engl.content\n",
    "        soup_engl = BeautifulSoup(html_engl, 'html.parser') \n",
    "        s_engl = soup_engl.find_all(\"span\", {\"class\": \"\"})\n",
    "        \n",
    "        var = verse if len(verse) == 2 else '0'+verse\n",
    "        with open(\"./data/English_World_English_Bible_NT_Drama/B26___\"+var+\"_Jude________EN1WEBN2DA.txt\", \"w\") as text_file:\n",
    "                \n",
    "            for i, t in enumerate(s_engl):\n",
    "                \n",
    "                # this removes special caracters from the text# this removes special caracters from the text\n",
    "                # text = re.sub(r\"[^a-zA-Z]+\", ' ', t.text) \n",
    "                if t.text.split()[0] == 'Copyrighted':\n",
    "                    break\n",
    "                text = re.sub(r\"[+]\", ' ', t.text) \n",
    "                # .strip() to delect any leading and trailing whitespace\n",
    "                text_file.write(text.strip()+\"\\n\") # to use the ligaikuma app, we need to format of in the .txt\n",
    "        \n",
    "    except Exception as inst:      \n",
    "        traceback.print_exc()"
   ]
  },
  {
   "cell_type": "code",
   "execution_count": 182,
   "metadata": {},
   "outputs": [
    {
     "data": {
      "text/plain": [
       "'JUD'"
      ]
     },
     "execution_count": 182,
     "metadata": {},
     "output_type": "execute_result"
    }
   ],
   "source": [
    "Book_list = list(Bible_dict.keys())\n",
    "Book_list[25]"
   ]
  },
  {
   "cell_type": "code",
   "execution_count": 179,
   "metadata": {},
   "outputs": [],
   "source": [
    "book = Book_list[25]\n",
    "    \n",
    "verses = Bible_dict[book]\n",
    "for i in range(1, verses+1):\n",
    "    load_book_chapter_format(book = book, verse = str(i))        "
   ]
  },
  {
   "cell_type": "markdown",
   "metadata": {},
   "source": [
    "## Revelation"
   ]
  },
  {
   "cell_type": "code",
   "execution_count": 180,
   "metadata": {},
   "outputs": [],
   "source": [
    "# B27___01_Revelation__EN1WEBN2DA"
   ]
  },
  {
   "cell_type": "code",
   "execution_count": 183,
   "metadata": {},
   "outputs": [],
   "source": [
    "def load_book_chapter_format(book = 'MAT', verse = '1'):\n",
    "    \"\"\"\n",
    "    This function will help to save in text form, depening to the book and verse argument \n",
    "    given in parameter\n",
    "    \n",
    "    The data is maintly taken from the website https://www.jw.org/\n",
    "    \"\"\"\n",
    "    try :\n",
    "        r_engl = rq.get('https://live.bible.is/bible/ENGWWH/'\\\n",
    "                     +str(book)+'/'+str(verse)+'/')\n",
    "        html_engl = r_engl.content\n",
    "        soup_engl = BeautifulSoup(html_engl, 'html.parser') \n",
    "        s_engl = soup_engl.find_all(\"span\", {\"class\": \"\"})\n",
    "        \n",
    "        var = verse if len(verse) == 2 else '0'+verse\n",
    "        with open(\"./data/English_World_English_Bible_NT_Drama/B27___\"+var+\"_Revelation__EN1WEBN2DA.txt\", \"w\") as text_file:\n",
    "                \n",
    "            for i, t in enumerate(s_engl):\n",
    "                \n",
    "                # this removes special caracters from the text# this removes special caracters from the text\n",
    "                # text = re.sub(r\"[^a-zA-Z]+\", ' ', t.text) \n",
    "                if t.text.split()[0] == 'Copyrighted':\n",
    "                    break\n",
    "                text = re.sub(r\"[+]\", ' ', t.text) \n",
    "                # .strip() to delect any leading and trailing whitespace\n",
    "                text_file.write(text.strip()+\"\\n\") # to use the ligaikuma app, we need to format of in the .txt\n",
    "        \n",
    "    except Exception as inst:      \n",
    "        traceback.print_exc()"
   ]
  },
  {
   "cell_type": "code",
   "execution_count": 184,
   "metadata": {},
   "outputs": [
    {
     "data": {
      "text/plain": [
       "'REV'"
      ]
     },
     "execution_count": 184,
     "metadata": {},
     "output_type": "execute_result"
    }
   ],
   "source": [
    "Book_list = list(Bible_dict.keys())\n",
    "Book_list[26]"
   ]
  },
  {
   "cell_type": "code",
   "execution_count": 185,
   "metadata": {},
   "outputs": [],
   "source": [
    "book = Book_list[26]\n",
    "    \n",
    "verses = Bible_dict[book]\n",
    "for i in range(1, verses+1):\n",
    "    load_book_chapter_format(book = book, verse = str(i))        "
   ]
  },
  {
   "cell_type": "code",
   "execution_count": null,
   "metadata": {},
   "outputs": [],
   "source": []
  },
  {
   "cell_type": "code",
   "execution_count": null,
   "metadata": {},
   "outputs": [],
   "source": []
  },
  {
   "cell_type": "code",
   "execution_count": null,
   "metadata": {},
   "outputs": [],
   "source": []
  },
  {
   "cell_type": "code",
   "execution_count": null,
   "metadata": {},
   "outputs": [],
   "source": []
  },
  {
   "cell_type": "code",
   "execution_count": null,
   "metadata": {},
   "outputs": [],
   "source": []
  },
  {
   "cell_type": "code",
   "execution_count": null,
   "metadata": {},
   "outputs": [],
   "source": []
  },
  {
   "cell_type": "code",
   "execution_count": null,
   "metadata": {},
   "outputs": [],
   "source": []
  },
  {
   "cell_type": "markdown",
   "metadata": {},
   "source": [
    "# Download Data"
   ]
  },
  {
   "cell_type": "code",
   "execution_count": 59,
   "metadata": {},
   "outputs": [
    {
     "data": {
      "text/plain": [
       "dict_keys(['GEN', 'EXO', 'LEV', 'NUM', 'DEU', 'JOS', 'JDG', 'RUT', '1SA', '2SA', '1KI', '2KI', '1CH', '2CH', 'EZR', 'NEH', 'EST', 'JOB', 'PSA', 'PRO', 'ECC', 'SNG', 'ISA', 'JER', 'LAM', 'EZK', 'DAN', 'HOS', 'JOL', 'AMO', 'OBA', 'JON', 'MIC', 'NAM', 'HAB', 'ZEP', 'HAG', 'ZEC', 'MAL', 'MAT', 'MRK', 'LUK', 'JHN', 'ACT', 'ROM', '1CO', '2CO', 'GAL', 'EPH', 'PHP', 'COL', '1TH', '2TH', '1TI', '2TI', 'TIT', 'PHM', 'HEB', 'JAS', '1PE', '2PE', '1JN', '2JN', '3JN', 'JUD', 'REV'])"
      ]
     },
     "execution_count": 59,
     "metadata": {},
     "output_type": "execute_result"
    }
   ],
   "source": [
    "Bible_dict.keys()"
   ]
  },
  {
   "cell_type": "code",
   "execution_count": 36,
   "metadata": {},
   "outputs": [],
   "source": [
    "for book in Bible_dict.keys():\n",
    "    \n",
    "    verses = Bible_dict[book][1]\n",
    "    for i in range(1, verses+1):\n",
    "        load_book_chapeter(book = book, verse = str(i))        "
   ]
  },
  {
   "cell_type": "markdown",
   "metadata": {},
   "source": [
    "### loading validation"
   ]
  },
  {
   "cell_type": "code",
   "execution_count": 41,
   "metadata": {},
   "outputs": [
    {
     "name": "stdout",
     "output_type": "stream",
     "text": [
      "> \u001b[0;32m<ipython-input-39-875dc819d8d3>\u001b[0m(26)\u001b[0;36mload_book_chapeter\u001b[0;34m()\u001b[0m\n",
      "\u001b[0;32m     25 \u001b[0;31m        \u001b[0mipdb\u001b[0m\u001b[0;34m.\u001b[0m\u001b[0mset_trace\u001b[0m\u001b[0;34m(\u001b[0m\u001b[0;34m)\u001b[0m\u001b[0;34m\u001b[0m\u001b[0;34m\u001b[0m\u001b[0m\n",
      "\u001b[0m\u001b[0;32m---> 26 \u001b[0;31m        \u001b[0;32mif\u001b[0m \u001b[0mlen\u001b[0m\u001b[0;34m(\u001b[0m\u001b[0ms_engl\u001b[0m\u001b[0;34m)\u001b[0m \u001b[0;34m!=\u001b[0m \u001b[0mlen\u001b[0m\u001b[0;34m(\u001b[0m\u001b[0ms_ling\u001b[0m\u001b[0;34m)\u001b[0m \u001b[0;34m:\u001b[0m\u001b[0;34m\u001b[0m\u001b[0;34m\u001b[0m\u001b[0m\n",
      "\u001b[0m\u001b[0;32m     27 \u001b[0;31m\u001b[0;31m#             ipdb.set_trace()\u001b[0m\u001b[0;34m\u001b[0m\u001b[0;34m\u001b[0m\u001b[0;34m\u001b[0m\u001b[0m\n",
      "\u001b[0m\n"
     ]
    },
    {
     "name": "stdin",
     "output_type": "stream",
     "text": [
      "ipdb>  c\n"
     ]
    },
    {
     "name": "stderr",
     "output_type": "stream",
     "text": [
      "Traceback (most recent call last):\n",
      "  File \"<ipython-input-39-875dc819d8d3>\", line 26, in load_book_chapeter\n",
      "    if len(s_engl) != len(s_ling) :\n",
      "Exception: ('Verse', 'empty s')\n"
     ]
    }
   ],
   "source": [
    "# load_book_chapeter(book = 'genesis', verse = '1')\n"
   ]
  },
  {
   "cell_type": "code",
   "execution_count": null,
   "metadata": {},
   "outputs": [],
   "source": []
  },
  {
   "cell_type": "code",
   "execution_count": 38,
   "metadata": {},
   "outputs": [],
   "source": [
    "# for book in Bible_dict_valid.keys():\n",
    "#     verses = Bible_dict_valid[book][1]\n",
    "#     for i in range(1, verses+1):\n",
    "#         load_book_chapeter(book = book, verse = str(i),  mode = \"valid\")        "
   ]
  },
  {
   "cell_type": "code",
   "execution_count": 5,
   "metadata": {},
   "outputs": [
    {
     "data": {
      "text/plain": [
       "1179"
      ]
     },
     "execution_count": 5,
     "metadata": {},
     "output_type": "execute_result"
    }
   ],
   "source": [
    "# sum(Bible_dict.values())"
   ]
  },
  {
   "cell_type": "markdown",
   "metadata": {},
   "source": [
    "# Put the data in MaseseSpeech format"
   ]
  },
  {
   "cell_type": "code",
   "execution_count": 3,
   "metadata": {},
   "outputs": [
    {
     "data": {
      "text/plain": [
       "'001'"
      ]
     },
     "execution_count": 3,
     "metadata": {},
     "output_type": "execute_result"
    }
   ],
   "source": [
    "v = '1'\n",
    "filen = ''\n",
    "\n",
    "file = '00'+v\n",
    "file"
   ]
  },
  {
   "cell_type": "code",
   "execution_count": 15,
   "metadata": {},
   "outputs": [],
   "source": [
    "def load_book_chapeter(book = 'masese', verse = '1'):\n",
    "    \"\"\"\n",
    "    This function will help to save in text form, depening to the book and verse argument \n",
    "    given in parameter\n",
    "    \n",
    "    The data is maintly taken from the website https://www.jw.org/\n",
    "    \"\"\"\n",
    "    try :\n",
    "        r = rq.get('https://www.jw.org/ln/Biblioteke/biblia/bi12/mikanda/'\\\n",
    "                     +str(book)+'/'+str(verse)+'/')\n",
    "\n",
    "        html = r.content\n",
    "        soup = BeautifulSoup(html, 'html.parser') \n",
    "        s = soup.find_all('span', {'class' : 'style-b'})\n",
    "\n",
    "        if s == []:\n",
    "            # This may happen when the verse doesn't exist\n",
    "            raise Exception('Verse', 'empty s')\n",
    "        \n",
    "        file_name = ''\n",
    "        \n",
    "#         verse = int(verse)+1\n",
    "#         verse = str(verse)\n",
    "        if len(verse) == 1:\n",
    "            file_name = '00'+verse\n",
    "        elif len(verse) == 2:\n",
    "            file_name = '0'+verse\n",
    "            \n",
    "            \n",
    "        #Proverb is the 20th book in the bible    \n",
    "        with open(\"./020/020-\"+file_name+\".trans.txt\", \"w\") as text_file:              \n",
    "\n",
    "            for i, t in enumerate(s):\n",
    "                \n",
    "                # this removes special caracters from the text# this removes special caracters from the text\n",
    "#                 text = re.sub(r\"[^a-zA-Z]+\", ' ', t.text) \n",
    "#                 ipdb.set_trace()\n",
    "                text = re.sub(r\"[+]\", ' ', t.text) \n",
    "                \n",
    "                number = str(i)\n",
    "                if len(number) == 1:\n",
    "                    number = '00'+number\n",
    "                elif len(number) == 2:\n",
    "                    number = '0'+number\n",
    "                # .strip() to delect any leading and trailing whitespace\n",
    "                text_file.write(\"020-\"+file_name+\"-\"+number+\" \"+text[2:].strip().upper()+\"\\n\") # to use the ligaikuma app, we need to format of in the .txt\n",
    "        \n",
    "    except Exception as inst:      \n",
    "        traceback.print_exc()"
   ]
  },
  {
   "cell_type": "code",
   "execution_count": 17,
   "metadata": {},
   "outputs": [],
   "source": [
    "book = 'masese'\n",
    "\n",
    "for i in range(1, 31+1):\n",
    "    load_book_chapeter(book = book, verse = str(i))        "
   ]
  },
  {
   "cell_type": "code",
   "execution_count": 23,
   "metadata": {},
   "outputs": [
    {
     "name": "stdout",
     "output_type": "stream",
     "text": [
      "200624-102822_lin_053_elicit_0-metadata.json\n",
      "200624-102822_lin_053_elicit_0.wav\n",
      "200624-102822_lin_053_elicit_10-metadata.json\n",
      "200624-102822_lin_053_elicit_10.wav\n",
      "200624-102822_lin_053_elicit_11-metadata.json\n",
      "200624-102822_lin_053_elicit_11.wav\n",
      "200624-102822_lin_053_elicit_12-metadata.json\n",
      "200624-102822_lin_053_elicit_12.wav\n",
      "200624-102822_lin_053_elicit_13-metadata.json\n",
      "200624-102822_lin_053_elicit_13.wav\n",
      "200624-102822_lin_053_elicit_14-metadata.json\n",
      "200624-102822_lin_053_elicit_14.wav\n",
      "200624-102822_lin_053_elicit_15-metadata.json\n",
      "200624-102822_lin_053_elicit_15.wav\n",
      "200624-102822_lin_053_elicit_16-metadata.json\n",
      "200624-102822_lin_053_elicit_16.wav\n",
      "200624-102822_lin_053_elicit_17-metadata.json\n",
      "200624-102822_lin_053_elicit_17.wav\n",
      "200624-102822_lin_053_elicit_18-metadata.json\n",
      "200624-102822_lin_053_elicit_18.wav\n",
      "200624-102822_lin_053_elicit_19-metadata.json\n",
      "200624-102822_lin_053_elicit_19.wav\n",
      "200624-102822_lin_053_elicit_1-metadata.json\n",
      "200624-102822_lin_053_elicit_1.wav\n",
      "200624-102822_lin_053_elicit_20-metadata.json\n",
      "200624-102822_lin_053_elicit_20.wav\n",
      "200624-102822_lin_053_elicit_21-metadata.json\n",
      "200624-102822_lin_053_elicit_21.wav\n",
      "200624-102822_lin_053_elicit_22-metadata.json\n",
      "200624-102822_lin_053_elicit_22.wav\n",
      "200624-102822_lin_053_elicit_23-metadata.json\n",
      "200624-102822_lin_053_elicit_23.wav\n",
      "200624-102822_lin_053_elicit_24-metadata.json\n",
      "200624-102822_lin_053_elicit_24.wav\n",
      "200624-102822_lin_053_elicit_25-metadata.json\n",
      "200624-102822_lin_053_elicit_25.wav\n",
      "200624-102822_lin_053_elicit_26-metadata.json\n",
      "200624-102822_lin_053_elicit_26.wav\n",
      "200624-102822_lin_053_elicit_27-metadata.json\n",
      "200624-102822_lin_053_elicit_27.wav\n",
      "200624-102822_lin_053_elicit_28-metadata.json\n",
      "200624-102822_lin_053_elicit_28.wav\n",
      "200624-102822_lin_053_elicit_29-metadata.json\n",
      "200624-102822_lin_053_elicit_29.wav\n",
      "200624-102822_lin_053_elicit_2-metadata.json\n",
      "200624-102822_lin_053_elicit_2.wav\n",
      "200624-102822_lin_053_elicit_30-metadata.json\n",
      "200624-102822_lin_053_elicit_30.wav\n",
      "200624-102822_lin_053_elicit_31-metadata.json\n",
      "200624-102822_lin_053_elicit_31.wav\n",
      "200624-102822_lin_053_elicit_32-metadata.json\n",
      "200624-102822_lin_053_elicit_32.wav\n",
      "200624-102822_lin_053_elicit_3-metadata.json\n",
      "200624-102822_lin_053_elicit_3.wav\n",
      "200624-102822_lin_053_elicit_4-metadata.json\n",
      "200624-102822_lin_053_elicit_4.wav\n",
      "200624-102822_lin_053_elicit_5-metadata.json\n",
      "200624-102822_lin_053_elicit_5.wav\n",
      "200624-102822_lin_053_elicit_6-metadata.json\n",
      "200624-102822_lin_053_elicit_6.wav\n",
      "200624-102822_lin_053_elicit_7-metadata.json\n",
      "200624-102822_lin_053_elicit_7.wav\n",
      "200624-102822_lin_053_elicit_8-metadata.json\n",
      "200624-102822_lin_053_elicit_8.wav\n",
      "200624-102822_lin_053_elicit_9-metadata.json\n",
      "200624-102822_lin_053_elicit_9.wav\n",
      "200624-102822_lin_053_elicit_linker.txt\n"
     ]
    }
   ],
   "source": [
    "!ls data/200624-102822_lin_053_elicit/"
   ]
  },
  {
   "cell_type": "code",
   "execution_count": 48,
   "metadata": {},
   "outputs": [
    {
     "data": {
      "text/plain": [
       "['200624-102822_lin_053_elicit_0.wav',\n",
       " '200624-102822_lin_053_elicit_1.wav',\n",
       " '200624-102822_lin_053_elicit_10.wav',\n",
       " '200624-102822_lin_053_elicit_11.wav',\n",
       " '200624-102822_lin_053_elicit_12.wav',\n",
       " '200624-102822_lin_053_elicit_13.wav',\n",
       " '200624-102822_lin_053_elicit_14.wav',\n",
       " '200624-102822_lin_053_elicit_15.wav',\n",
       " '200624-102822_lin_053_elicit_16.wav',\n",
       " '200624-102822_lin_053_elicit_17.wav',\n",
       " '200624-102822_lin_053_elicit_18.wav',\n",
       " '200624-102822_lin_053_elicit_19.wav',\n",
       " '200624-102822_lin_053_elicit_2.wav',\n",
       " '200624-102822_lin_053_elicit_20.wav',\n",
       " '200624-102822_lin_053_elicit_21.wav',\n",
       " '200624-102822_lin_053_elicit_22.wav',\n",
       " '200624-102822_lin_053_elicit_23.wav',\n",
       " '200624-102822_lin_053_elicit_24.wav',\n",
       " '200624-102822_lin_053_elicit_25.wav',\n",
       " '200624-102822_lin_053_elicit_26.wav',\n",
       " '200624-102822_lin_053_elicit_27.wav',\n",
       " '200624-102822_lin_053_elicit_28.wav',\n",
       " '200624-102822_lin_053_elicit_29.wav',\n",
       " '200624-102822_lin_053_elicit_3.wav',\n",
       " '200624-102822_lin_053_elicit_30.wav',\n",
       " '200624-102822_lin_053_elicit_31.wav',\n",
       " '200624-102822_lin_053_elicit_32.wav',\n",
       " '200624-102822_lin_053_elicit_4.wav',\n",
       " '200624-102822_lin_053_elicit_5.wav',\n",
       " '200624-102822_lin_053_elicit_6.wav',\n",
       " '200624-102822_lin_053_elicit_7.wav',\n",
       " '200624-102822_lin_053_elicit_8.wav',\n",
       " '200624-102822_lin_053_elicit_9.wav']"
      ]
     },
     "execution_count": 48,
     "metadata": {},
     "output_type": "execute_result"
    }
   ],
   "source": [
    "path = \"data/200624-102822_lin_053_elicit/\"\n",
    "\n",
    "wav = [file for file in sorted(os.listdir(path)) if file[-4:] == '.wav']\n",
    "wav"
   ]
  },
  {
   "cell_type": "code",
   "execution_count": 49,
   "metadata": {},
   "outputs": [
    {
     "data": {
      "text/plain": [
       "['200624-102822_lin_053_elicit_0.wav',\n",
       " '200624-102822_lin_053_elicit_1.wav',\n",
       " '200624-102822_lin_053_elicit_2.wav',\n",
       " '200624-102822_lin_053_elicit_3.wav',\n",
       " '200624-102822_lin_053_elicit_4.wav',\n",
       " '200624-102822_lin_053_elicit_5.wav',\n",
       " '200624-102822_lin_053_elicit_6.wav',\n",
       " '200624-102822_lin_053_elicit_7.wav',\n",
       " '200624-102822_lin_053_elicit_8.wav',\n",
       " '200624-102822_lin_053_elicit_9.wav',\n",
       " '200624-102822_lin_053_elicit_10.wav',\n",
       " '200624-102822_lin_053_elicit_11.wav',\n",
       " '200624-102822_lin_053_elicit_12.wav',\n",
       " '200624-102822_lin_053_elicit_13.wav',\n",
       " '200624-102822_lin_053_elicit_14.wav',\n",
       " '200624-102822_lin_053_elicit_15.wav',\n",
       " '200624-102822_lin_053_elicit_16.wav',\n",
       " '200624-102822_lin_053_elicit_17.wav',\n",
       " '200624-102822_lin_053_elicit_18.wav',\n",
       " '200624-102822_lin_053_elicit_19.wav',\n",
       " '200624-102822_lin_053_elicit_20.wav',\n",
       " '200624-102822_lin_053_elicit_21.wav',\n",
       " '200624-102822_lin_053_elicit_22.wav',\n",
       " '200624-102822_lin_053_elicit_23.wav',\n",
       " '200624-102822_lin_053_elicit_24.wav',\n",
       " '200624-102822_lin_053_elicit_25.wav',\n",
       " '200624-102822_lin_053_elicit_26.wav',\n",
       " '200624-102822_lin_053_elicit_27.wav',\n",
       " '200624-102822_lin_053_elicit_28.wav',\n",
       " '200624-102822_lin_053_elicit_29.wav',\n",
       " '200624-102822_lin_053_elicit_30.wav',\n",
       " '200624-102822_lin_053_elicit_31.wav',\n",
       " '200624-102822_lin_053_elicit_32.wav']"
      ]
     },
     "execution_count": 49,
     "metadata": {},
     "output_type": "execute_result"
    }
   ],
   "source": [
    "sorted(wav, key=lambda x: int(x.split('_')[-1].split('.')[0]))"
   ]
  },
  {
   "cell_type": "code",
   "execution_count": 32,
   "metadata": {},
   "outputs": [
    {
     "data": {
      "text/plain": [
       "\u001b[0;31mSignature:\u001b[0m \u001b[0msorted\u001b[0m\u001b[0;34m(\u001b[0m\u001b[0miterable\u001b[0m\u001b[0;34m,\u001b[0m \u001b[0;34m/\u001b[0m\u001b[0;34m,\u001b[0m \u001b[0;34m*\u001b[0m\u001b[0;34m,\u001b[0m \u001b[0mkey\u001b[0m\u001b[0;34m=\u001b[0m\u001b[0;32mNone\u001b[0m\u001b[0;34m,\u001b[0m \u001b[0mreverse\u001b[0m\u001b[0;34m=\u001b[0m\u001b[0;32mFalse\u001b[0m\u001b[0;34m)\u001b[0m\u001b[0;34m\u001b[0m\u001b[0;34m\u001b[0m\u001b[0m\n",
       "\u001b[0;31mDocstring:\u001b[0m\n",
       "Return a new list containing all items from the iterable in ascending order.\n",
       "\n",
       "A custom key function can be supplied to customize the sort order, and the\n",
       "reverse flag can be set to request the result in descending order.\n",
       "\u001b[0;31mType:\u001b[0m      builtin_function_or_method\n"
      ]
     },
     "metadata": {},
     "output_type": "display_data"
    }
   ],
   "source": [
    "sorted??"
   ]
  },
  {
   "cell_type": "code",
   "execution_count": 52,
   "metadata": {},
   "outputs": [
    {
     "name": "stdout",
     "output_type": "stream",
     "text": [
      " 020    LICENSE\t\t    Main_MaseseSpeech_ASR.ipynb\n",
      " data  'Lingala JW.ipynb'   README.md\n"
     ]
    }
   ],
   "source": [
    "!ls"
   ]
  },
  {
   "cell_type": "code",
   "execution_count": 84,
   "metadata": {},
   "outputs": [],
   "source": [
    "# Function to rename multiple files\n",
    "# path = \"data/200624-102822_lin_053_elicit/\" # 1\n",
    "\n",
    "# path = \"data/200624-104423_lin_053_elicit/\" # 2\n",
    "\n",
    "# path = \"data/200625-001111_lin_053_elicit/\" # 3\n",
    "# path = \"data/200625-005243_lin_053_elicit/\" # 4\n",
    "# path = \"data/200629-223643_lin_053_elicit/\" # 5\n",
    "# path = \"data/200629-231545_lin_053_elicit/\" # 6\n",
    "# path = \"data/200629-234022_lin_053_elicit/\" # 7\n",
    "# path = \"data/200630-001335_lin_053_elicit/\" # 8\n",
    "# path = \"data/200630-005007_lin_053_elicit/\" # 9\n",
    "# path = \"data/200630-011337_lin_053_elicit/\" # 10\n",
    "# path = \"data/200630-013828_lin_053_elicit/\" # 11\n",
    "# path = \"data/200702-103352_lin_053_elicit/\" # 12\n",
    "# path = \"data/200702-105438_lin_053_elicit/\" # 13\n",
    "# path = \"data/200702-110714_lin_053_elicit/\" # 14\n",
    "# path = \"data/200702-112925_lin_053_elicit/\" # 15\n",
    "# path = \"data/200702-141619_lin_053_elicit/\" # 16\n",
    "# path = \"data/200702-144002_lin_053_elicit/\" # 17\n",
    "# path = \"data/200702-145857_lin_053_elicit/\" # 18\n",
    "# path = \"data/200702-151139_lin_053_elicit/\" # 19\n",
    "# path = \"data/200702-152742_lin_053_elicit/\" # 20\n",
    "path = \"data/200702-154607_lin_053_elicit/\" # 21\n",
    "\n",
    "\n",
    "# dest = \"data/020/\"\n",
    "\n",
    "wav = [file for file in sorted(os.listdir(path)) if file[-4:] == '.wav']\n",
    "\n",
    "for i, filename in enumerate(sorted(wav, key=lambda x: int(x.split('_')[-1].split('.')[0]))):\n",
    "\n",
    "    number = str(i)\n",
    "    if len(number) == 1:\n",
    "        number = '00'+number\n",
    "    elif len(number) == 2:\n",
    "        number = '0'+number\n",
    "\n",
    "    my_dest =\"020-021-\" + number + \".wav\"\n",
    "    my_source = path + filename\n",
    "    my_dest = path + my_dest\n",
    "    # rename() function will\n",
    "    # rename all the files\n",
    "#     ipdb.set_trace()\n",
    "    os.rename(my_source, my_dest) # I may need in the future to change this by copy (TODO)\n",
    "#         i += 1"
   ]
  },
  {
   "cell_type": "code",
   "execution_count": 57,
   "metadata": {},
   "outputs": [
    {
     "data": {
      "text/plain": [
       "\u001b[0;31mSignature:\u001b[0m \u001b[0mos\u001b[0m\u001b[0;34m.\u001b[0m\u001b[0mrename\u001b[0m\u001b[0;34m(\u001b[0m\u001b[0msrc\u001b[0m\u001b[0;34m,\u001b[0m \u001b[0mdst\u001b[0m\u001b[0;34m,\u001b[0m \u001b[0;34m*\u001b[0m\u001b[0;34m,\u001b[0m \u001b[0msrc_dir_fd\u001b[0m\u001b[0;34m=\u001b[0m\u001b[0;32mNone\u001b[0m\u001b[0;34m,\u001b[0m \u001b[0mdst_dir_fd\u001b[0m\u001b[0;34m=\u001b[0m\u001b[0;32mNone\u001b[0m\u001b[0;34m)\u001b[0m\u001b[0;34m\u001b[0m\u001b[0;34m\u001b[0m\u001b[0m\n",
       "\u001b[0;31mDocstring:\u001b[0m\n",
       "Rename a file or directory.\n",
       "\n",
       "If either src_dir_fd or dst_dir_fd is not None, it should be a file\n",
       "  descriptor open to a directory, and the respective path string (src or dst)\n",
       "  should be relative; the path will then be relative to that directory.\n",
       "src_dir_fd and dst_dir_fd, may not be implemented on your platform.\n",
       "  If they are unavailable, using them will raise a NotImplementedError.\n",
       "\u001b[0;31mType:\u001b[0m      builtin_function_or_method\n"
      ]
     },
     "metadata": {},
     "output_type": "display_data"
    }
   ],
   "source": [
    "os.rename?"
   ]
  },
  {
   "cell_type": "code",
   "execution_count": 59,
   "metadata": {},
   "outputs": [],
   "source": [
    "# # Function to rename multiple files\n",
    "# path = \"test/\"\n",
    "# dest = \"data/020/\"\n",
    "\n",
    "# wav = [file for file in sorted(os.listdir(path)) if file[-4:] == '.wav']\n",
    "\n",
    "# for i, filename in enumerate(sorted(wav, key=lambda x: int(x.split('_')[-1].split('.')[0]))):\n",
    "\n",
    "#     number = str(i)\n",
    "#     if len(number) == 1:\n",
    "#         number = '00'+number\n",
    "#     elif len(number) == 2:\n",
    "#         number = '0'+number\n",
    "\n",
    "#     my_dest =\"020-001-\" + number + \".wav\"\n",
    "#     my_source =path + filename\n",
    "#     my_dest =path + my_dest\n",
    "#     # rename() function will\n",
    "#     # rename all the files\n",
    "# #     ipdb.set_trace()\n",
    "#     os.rename(my_source, my_dest)\n",
    "# #         i += 1"
   ]
  },
  {
   "cell_type": "code",
   "execution_count": 9,
   "metadata": {},
   "outputs": [
    {
     "data": {
      "text/plain": [
       "True"
      ]
     },
     "execution_count": 9,
     "metadata": {},
     "output_type": "execute_result"
    }
   ],
   "source": [
    "os.path.exists('./scripts/check-verses.py')"
   ]
  },
  {
   "cell_type": "code",
   "execution_count": null,
   "metadata": {},
   "outputs": [],
   "source": []
  }
 ],
 "metadata": {
  "kernelspec": {
   "display_name": "aims",
   "language": "python",
   "name": "aims"
  },
  "language_info": {
   "codemirror_mode": {
    "name": "ipython",
    "version": 3
   },
   "file_extension": ".py",
   "mimetype": "text/x-python",
   "name": "python",
   "nbconvert_exporter": "python",
   "pygments_lexer": "ipython3",
   "version": "3.6.10"
  }
 },
 "nbformat": 4,
 "nbformat_minor": 4
}
