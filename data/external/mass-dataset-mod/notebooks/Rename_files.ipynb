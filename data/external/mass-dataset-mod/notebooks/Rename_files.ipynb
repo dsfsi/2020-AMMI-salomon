{
 "cells": [
  {
   "cell_type": "code",
   "execution_count": 13,
   "metadata": {},
   "outputs": [],
   "source": [
    "# Pythono3 code to rename multiple \n",
    "# files in a directory or folder \n",
    "\n",
    "# importing os module \n",
    "import os \n",
    "import ipdb\n",
    "\n",
    "# Function to rename multiple files \n",
    "def folder(sub_name, new_sub_name, repository):\n",
    "\n",
    "    for count, filename in enumerate(os.listdir(repository)): \n",
    "        \n",
    "        name = filename.split(sub_name)[0]\n",
    "\n",
    "        if filename == name:\n",
    "            continue\n",
    "        else:\n",
    "            ext = '.'+filename.split('.')[-1]\n",
    "\n",
    "            # dst =\"Hostel\" + str(count) + \".jpg\"\n",
    "\n",
    "            src = repository+\"/\"+name+sub_name+ext \n",
    "            dst = repository+\"/\"+name+new_sub_name+ext\n",
    "\n",
    "#             ipdb.set_trace()\n",
    "\n",
    "            ## rename() function will \n",
    "            ## rename all the files \n",
    "            os.rename(src, dst) \n",
    "  \n",
    "            \n",
    "\n",
    "# Driver Code \n",
    "if __name__ == '__main__': \n",
    "    # Calling main() function \n",
    "    # main() \n",
    "#     folder(sub_name = \"ENGESVN1DA\", \n",
    "#            new_sub_name = \"EN1WEBN2DA\", \n",
    "#            repository=\"raw_txt\")\n",
    "    \n",
    "    folder(sub_name = \"ENGESVN1DA\", \n",
    "           new_sub_name = \"EN1WEBN2DA\", \n",
    "           repository=\"maus_textgrid\")"
   ]
  },
  {
   "cell_type": "code",
   "execution_count": 8,
   "metadata": {},
   "outputs": [
    {
     "name": "stdout",
     "output_type": "stream",
     "text": [
      "/home/aims/big_data/2020-AMMI-salomon/data/external/mass-dataset-mod/dataset/english/raw_txt\n"
     ]
    }
   ],
   "source": [
    "!pwd"
   ]
  },
  {
   "cell_type": "code",
   "execution_count": null,
   "metadata": {},
   "outputs": [],
   "source": []
  },
  {
   "cell_type": "markdown",
   "metadata": {},
   "source": [
    "# Rename name on wav_speech"
   ]
  },
  {
   "cell_type": "code",
   "execution_count": 5,
   "metadata": {},
   "outputs": [],
   "source": [
    "# Pythono3 code to rename multiple \n",
    "# files in a directory or folder \n",
    "\n",
    "# importing os module \n",
    "import os \n",
    "import ipdb\n",
    "\n",
    "# Function to rename multiple files \n",
    "def folder(sub_name, new_sub_name, repository):\n",
    "\n",
    "    for count, filename in enumerate(os.listdir(repository)): \n",
    "        \n",
    "        name = filename.split(sub_name)[0]\n",
    "\n",
    "        if filename == name:\n",
    "            continue\n",
    "        else:\n",
    "            ext = '.'+filename.split('.')[-1]\n",
    "\n",
    "            # dst =\"Hostel\" + str(count) + \".jpg\"\n",
    "\n",
    "            src = repository+\"/\"+name+sub_name+ext \n",
    "            dst = repository+\"/\"+name+new_sub_name+ext\n",
    "\n",
    "#             ipdb.set_trace()\n",
    "\n",
    "            ## rename() function will \n",
    "            ## rename all the files \n",
    "            os.rename(src, dst) \n",
    "  \n",
    "            \n",
    "\n",
    "# Driver Code \n",
    "if __name__ == '__main__': \n",
    "    # Calling main() function \n",
    "    # main() \n",
    "#     folder(sub_name = \"ENGESVN1DA\", \n",
    "#            new_sub_name = \"EN1WEBN2DA\", \n",
    "#            repository=\"raw_txt\")\n",
    "    \n",
    "    folder(sub_name = \"_one_channel\",\n",
    "           new_sub_name = \"\", \n",
    "           repository=\"../dataset/wav_verse\")"
   ]
  },
  {
   "cell_type": "code",
   "execution_count": null,
   "metadata": {},
   "outputs": [],
   "source": []
  },
  {
   "cell_type": "code",
   "execution_count": null,
   "metadata": {},
   "outputs": [],
   "source": []
  }
 ],
 "metadata": {
  "kernelspec": {
   "display_name": "mass",
   "language": "python",
   "name": "mass"
  },
  "language_info": {
   "codemirror_mode": {
    "name": "ipython",
    "version": 3
   },
   "file_extension": ".py",
   "mimetype": "text/x-python",
   "name": "python",
   "nbconvert_exporter": "python",
   "pygments_lexer": "ipython3",
   "version": "3.6.12"
  }
 },
 "nbformat": 4,
 "nbformat_minor": 4
}
