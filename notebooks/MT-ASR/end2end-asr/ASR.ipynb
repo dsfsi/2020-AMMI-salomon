{
 "cells": [
  {
   "cell_type": "code",
   "execution_count": 1,
   "metadata": {},
   "outputs": [
    {
     "name": "stderr",
     "output_type": "stream",
     "text": [
      "usage: ipykernel_launcher.py [-h] [--model MODEL] [--name NAME]\n",
      "                             [--train-manifest-list TRAIN_MANIFEST_LIST [TRAIN_MANIFEST_LIST ...]]\n",
      "                             [--valid-manifest-list VALID_MANIFEST_LIST [VALID_MANIFEST_LIST ...]]\n",
      "                             [--test-manifest-list TEST_MANIFEST_LIST [TEST_MANIFEST_LIST ...]]\n",
      "                             [--lang-list LANG_LIST [LANG_LIST ...]]\n",
      "                             [--sample-rate SAMPLE_RATE]\n",
      "                             [--batch-size BATCH_SIZE]\n",
      "                             [--num-workers NUM_WORKERS]\n",
      "                             [--labels-path LABELS_PATH]\n",
      "                             [--label-smoothing LABEL_SMOOTHING]\n",
      "                             [--window-size WINDOW_SIZE]\n",
      "                             [--window-stride WINDOW_STRIDE] [--window WINDOW]\n",
      "                             [--epochs EPOCHS] [--cuda]\n",
      "                             [--device-ids DEVICE_IDS [DEVICE_IDS ...]]\n",
      "                             [--lr LR] [--save-every SAVE_EVERY]\n",
      "                             [--save-folder SAVE_FOLDER] [--emb_trg_sharing]\n",
      "                             [--feat_extractor FEAT_EXTRACTOR] [--verbose]\n",
      "                             [--continue-from CONTINUE_FROM] [--augment]\n",
      "                             [--noise-dir NOISE_DIR] [--noise-prob NOISE_PROB]\n",
      "                             [--noise-min NOISE_MIN] [--noise-max NOISE_MAX]\n",
      "                             [--num-layers NUM_LAYERS] [--num-heads NUM_HEADS]\n",
      "                             [--dim-model DIM_MODEL] [--dim-key DIM_KEY]\n",
      "                             [--dim-value DIM_VALUE] [--dim-input DIM_INPUT]\n",
      "                             [--dim-inner DIM_INNER] [--dim-emb DIM_EMB]\n",
      "                             [--src-max-len SRC_MAX_LEN]\n",
      "                             [--tgt-max-len TGT_MAX_LEN] [--warmup WARMUP]\n",
      "                             [--min-lr MIN_LR] [--k-lr K_LR]\n",
      "                             [--momentum MOMENTUM] [--lr-anneal LR_ANNEAL]\n",
      "                             [--beam-search] [--beam-width BEAM_WIDTH]\n",
      "                             [--beam-nbest BEAM_NBEST] [--lm-rescoring]\n",
      "                             [--lm-path LM_PATH] [--lm-weight LM_WEIGHT]\n",
      "                             [--c-weight C_WEIGHT] [--prob-weight PROB_WEIGHT]\n",
      "                             [--loss LOSS] [--clip] [--max-norm MAX_NORM]\n",
      "                             [--dropout DROPOUT] [--parallel] [--shuffle]\n",
      "ipykernel_launcher.py: error: unrecognized arguments: -f /home/aims/.local/share/jupyter/runtime/kernel-1954e436-2eee-40e2-8593-f6b1e87c6aa6.json\n"
     ]
    },
    {
     "ename": "SystemExit",
     "evalue": "2",
     "output_type": "error",
     "traceback": [
      "An exception has occurred, use %tb to see the full traceback.\n",
      "\u001b[0;31mSystemExit\u001b[0m\u001b[0;31m:\u001b[0m 2\n"
     ]
    },
    {
     "name": "stderr",
     "output_type": "stream",
     "text": [
      "/home/aims/anaconda3/envs/aims/lib/python3.6/site-packages/IPython/core/interactiveshell.py:3351: UserWarning: To exit: use 'exit', 'quit', or Ctrl-D.\n",
      "  warn(\"To exit: use 'exit', 'quit', or Ctrl-D.\", stacklevel=1)\n"
     ]
    }
   ],
   "source": [
    "import json\n",
    "import time\n",
    "import math\n",
    "import numpy as np\n",
    "\n",
    "import torch\n",
    "import torch.nn as nn\n",
    "from torch.autograd import Variable\n",
    "\n",
    "from trainer.asr.trainer import Trainer\n",
    "\n",
    "from utils import constant\n",
    "from utils.data_loader import SpectrogramDataset, AudioDataLoader, BucketingSampler\n",
    "from utils.functions import save_model, load_model, init_transformer_model, init_optimizer\n",
    "import logging\n",
    "\n",
    "import sys\n",
    "import os"
   ]
  },
  {
   "cell_type": "code",
   "execution_count": null,
   "metadata": {},
   "outputs": [],
   "source": []
  }
 ],
 "metadata": {
  "kernelspec": {
   "display_name": "Python 3",
   "language": "python",
   "name": "python3"
  },
  "language_info": {
   "codemirror_mode": {
    "name": "ipython",
    "version": 3
   },
   "file_extension": ".py",
   "mimetype": "text/x-python",
   "name": "python",
   "nbconvert_exporter": "python",
   "pygments_lexer": "ipython3",
   "version": "3.6.10"
  }
 },
 "nbformat": 4,
 "nbformat_minor": 4
}
