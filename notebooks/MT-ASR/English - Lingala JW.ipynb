{
 "cells": [
  {
   "cell_type": "code",
   "execution_count": 3,
   "metadata": {},
   "outputs": [],
   "source": [
    "# Packages to install \n",
    "\n",
    "# !pip install -q selenium \n",
    "# !pip install -q BeautifulSoup4\n",
    "# !pip install -q ipdb"
   ]
  },
  {
   "cell_type": "code",
   "execution_count": 1,
   "metadata": {},
   "outputs": [],
   "source": [
    "import requests as rq\n",
    "import bs4 as bs\n",
    "import json\n",
    "import traceback\n",
    "import re\n",
    "import numpy as np\n",
    "import json\n",
    "from selenium import webdriver\n",
    "from selenium.webdriver.support.ui import WebDriverWait\n",
    "from selenium.webdriver.common.by import By\n",
    "from selenium.webdriver.support import expected_conditions as EC\n",
    "import time\n",
    "import glob, os\n",
    "import ipdb\n",
    "from bs4 import BeautifulSoup"
   ]
  },
  {
   "cell_type": "markdown",
   "metadata": {},
   "source": [
    "# English to French"
   ]
  },
  {
   "cell_type": "code",
   "execution_count": null,
   "metadata": {},
   "outputs": [],
   "source": [
    "Bible_dict = {\n",
    "    'genesis' : ['ebandeli', 50],\n",
    "    'exodus' : ['kobima', 40],\n",
    "    'leviticus' : ['balevi', 27],\n",
    "    'numbers' : ['Mitángo', 36],\n",
    "    'deuteronomy' : ['kolimbola-mibeko', 34],\n",
    "    'joshua' : ['yosua', 24],\n",
    "    'judges' : ['basambisi', 21],\n",
    "    'ruth' : ['ruta', 4], \n",
    "    '1-samuel' : ['1-samwele', 31],\n",
    "    '2-samuel' : ['2-samwele', 24],\n",
    "    '1-kings' : ['1-bakonzi', 22],\n",
    "    '2-kings' : ['2-bakonzi', 25],\n",
    "    '1-chronicles' : ['1-ntango', 29],\n",
    "    '2-chronicles' : ['2-ntango', 36],\n",
    "    'ezra' : ['ezera', 10],\n",
    "    'nehemiah' : ['nehemia', 13],\n",
    "    'esther' : ['estere', 10], \n",
    "    'job' : ['yobo', 42],\n",
    "    'psalms' : ['nzembo', 150],\n",
    "    'proverbs' : ['masese', 31],\n",
    "    'ecclesiastes' : ['mosakoli', 12],\n",
    "    'song-of-solomon' : ['loyembo-ya-salomo', 8],\n",
    "    'isaiah' : ['yisaya', 66],\n",
    "    'jeremiah' : ['yirimia', 52],\n",
    "    'lamentations' : ['bileli', 5],\n",
    "    'ezekiel' : ['ezekiele', 48],\n",
    "    'daniel' : ['danyele', 12],\n",
    "    'hosea' : ['hosea', 14],\n",
    "    'joel' : ['yoele', 3],\n",
    "    'amos' : ['amose', 9],\n",
    "    'obadiah' : ['obadia', 1],\n",
    "    'jonah' : ['yona', 4],\n",
    "    'micah' : ['mika', 7],\n",
    "    'nahum' : ['nahumu', 3],\n",
    "    'habakkuk' : ['habakuku', 3],\n",
    "    'zephaniah' : ['sefania', 3],\n",
    "    'haggai' : ['hagai', 2],\n",
    "    'zechariah' : ['zekaria', 14],\n",
    "    'malachi' : ['malaki', 4],\n",
    "    'matthew' : ['matai', 28],\n",
    "    'mark' : ['marko', 16],\n",
    "    'luke' : ['luka', 24],\n",
    "    'john' : ['yoane', 21],\n",
    "    'acts' : ['misala', 28],\n",
    "    'romans' : ['baroma', 16],\n",
    "    '1-corinthians' : ['1-bakorinti', 16],\n",
    "    '2-corinthians' : ['2-bakorinti', 3],\n",
    "    'galatians' : ['bagalatia', 6],\n",
    "    'ephesians' : ['baefese', 6],\n",
    "    'philippians' : ['bafilipi', 4],\n",
    "    'colossians' : ['bakolose', 4],\n",
    "    '1-thessalonians' : ['1-batesaloniki', 5],\n",
    "    '2-thessalonians' : ['2-batesaloniki', 3],\n",
    "    '1-timothy' : ['1-timote', 6],\n",
    "    '2-timothy' : ['2-timote', 4],\n",
    "    'titus' : ['tito', 3],\n",
    "    'philemon' : ['filemo', 1],\n",
    "    'hebrews' : ['baebre', 13],\n",
    "    'james' : ['yakobo', 5],\n",
    "    '1-peter' : ['1-petro', 5],\n",
    "    '2-peter' : ['2-petro', 3],\n",
    "    '1-john' : ['1-yoane', 5],\n",
    "    '2-john' : ['2-yoane', 1],\n",
    "    '3-john' : ['3-yoane', 1],\n",
    "    'jude' : ['yuda', 1],\n",
    "    'revelation' : ['emoniseli', 22]\n",
    "}"
   ]
  },
  {
   "cell_type": "code",
   "execution_count": null,
   "metadata": {},
   "outputs": [],
   "source": [
    "Bible_dict['genesis'][0]"
   ]
  },
  {
   "cell_type": "code",
   "execution_count": null,
   "metadata": {},
   "outputs": [],
   "source": [
    "# def load_book_chapeter(book = 'genesis', verse = '1'):\n",
    "#     \"\"\"\n",
    "#     This function will help to save in text form, depening to the book and verse argument \n",
    "#     given in parameter\n",
    "    \n",
    "#     The data is maintly taken from the website https://www.jw.org/\n",
    "#     \"\"\"\n",
    "#     try :\n",
    "#         r_engl = rq.get('https://www.jw.org/en/library/bible/nwt/'\\\n",
    "#                      +str(book)+'/'+str(verse)+'/')\n",
    "        \n",
    "#         r_ling = rq.get('https://www.jw.org/ln/Biblioteke/biblia/bi12/mikanda/'\\\n",
    "#                      +str(Bible_dict[book][0])+'/'+str(verse)+'/')\n",
    "\n",
    "#         html_engl = r_engl.content\n",
    "#         html_ling = r_ling.content\n",
    "        \n",
    "#         soup_engl = BeautifulSoup(html_engl, 'html.parser') \n",
    "#         soup_ling = BeautifulSoup(html_ling, 'html.parser') \n",
    "        \n",
    "#         s_engl = soup_engl.find_all('span', {'class' : 'style-b'})\n",
    "#         s_ling = soup_ling.find_all('span', {'class' : 'style-b'})\n",
    "\n",
    "#         if s_engl == [] or s__ling == []:\n",
    "#             # This may happen when the verse doesn't exist\n",
    "#             raise Exception('Verse', 'empty s')\n",
    "            \n",
    "#         with open(\"./data/train.en\", \"a+\") as text_file:\n",
    "#             # Move read cursor to the start of file.\n",
    "#             text_file.seek(0)\n",
    "#             # If file is not empty then append '\\n'\n",
    "#             data = text_file.read(100)\n",
    "#             if len(data) > 0 :\n",
    "#                 text_file.write(\"\\n\")\n",
    "                \n",
    "#             for eng, ling in zip(s_engl, s_ling):\n",
    "                \n",
    "#                 # this removes special caracters from the text# this removes special caracters from the text\n",
    "# #                 text = re.sub(r\"[^a-zA-Z]+\", ' ', t.text) \n",
    "# #                 ipdb.set_trace()\n",
    "#                 text_engl = re.sub(r\"[+]\", ' ', eng.text) \n",
    "#                 text_ling = re.sub(r\"[+]\", ' ', ling.text)\n",
    "        \n",
    "#                 # .strip() to delect any leading and trailing whitespace\n",
    "#                 text_file.write(text_engl[2:].strip()+\" \"+text_ling[2:].strip()) # to use the ligaikuma app, we need to format of in the .txt\n",
    "        \n",
    "#     except Exception as inst:      \n",
    "#         traceback.print_exc()"
   ]
  },
  {
   "cell_type": "code",
   "execution_count": 5,
   "metadata": {},
   "outputs": [],
   "source": [
    "# r_engl = rq.get('https://www.jw.org/en/library/bible/nwt/books/genesis/1/')\n",
    "# html_engl = r_engl.content\n",
    "\n",
    "# soup_engl = BeautifulSoup(html_engl, 'html.parser') \n",
    "\n",
    "# s_eng = soup_engl.find_all('span', {'class' : 'style-l'})"
   ]
  },
  {
   "cell_type": "code",
   "execution_count": 6,
   "metadata": {},
   "outputs": [],
   "source": [
    "# s_eng"
   ]
  },
  {
   "cell_type": "code",
   "execution_count": 7,
   "metadata": {},
   "outputs": [],
   "source": [
    "# soup_engl"
   ]
  },
  {
   "cell_type": "code",
   "execution_count": 8,
   "metadata": {},
   "outputs": [],
   "source": [
    "# <span class=\"verse\" id=\"v1001014\"><span class=\"style-b first\"><sup class=\"verseNum\">\n",
    "# <a data-anchor=\"#v1001014\" href=\"/ln/Biblioteke/biblia/bi12/mikanda/ebandeli/1/#v1001014\">14 </a></sup>\n",
    "# Mpe Nzambe alobaki lisusu ete: “Bingɛngiseli ezala na etando ya likoló mpo na kosala ete moi ekabwana na butu;\n",
    "# <a class=\"xrefLink jsBibleLink\" data-bible=\"bi12\" data-targetverses=\"5004019,19148003\"\n",
    "\n",
    "# span class=\"style-b first\""
   ]
  },
  {
   "cell_type": "code",
   "execution_count": 56,
   "metadata": {},
   "outputs": [],
   "source": [
    "def load_book_chapeter(book = 'genesis', verse = '1', mode = \"train\"):\n",
    "    \"\"\"\n",
    "    This function will help to save in text form, depening to the book and verse argument \n",
    "    given in parameter\n",
    "    \n",
    "    The data is maintly taken from the website https://www.jw.org/\n",
    "    \"\"\"\n",
    "    try :\n",
    "        r_engl = rq.get('https://www.jw.org/en/library/bible/nwt/books/'\\\n",
    "                     +str(book)+'/'+str(verse)+'/')\n",
    "        html_engl = r_engl.content\n",
    "        soup_engl = BeautifulSoup(html_engl, 'html.parser') \n",
    "        s_engl = soup_engl.find_all('span', {'class' : 'style-b'})\n",
    "#         if book == \"song-of-solomon\":\n",
    "#             s_engl.append(soup_engl.find_all('span', {'class' : 'style-l'}))\n",
    "#             ipdb.set_trace()\n",
    "        \n",
    "        \n",
    "        r_ling = rq.get('https://www.jw.org/ln/Biblioteke/biblia/bi12/mikanda/'\\\n",
    "                     +str(Bible_dict[book][0])+'/'+str(verse)+'/')\n",
    "        html_ling = r_ling.content\n",
    "        soup_ling = BeautifulSoup(html_ling, 'html.parser')         \n",
    "        s_ling = soup_ling.find_all('span', {'class' : 'style-b'})\n",
    "        \n",
    "#         if len(s_engl) != len(s_ling) :\n",
    "#             ipdb.set_trace()\n",
    "#             # This may happen when the verse doesn't exist\n",
    "#             raise Exception('Verse', 'empty s')\n",
    "            \n",
    "        with open(\"./data/\"+mode+\".en\", \"w\") as text_file:\n",
    "            # Move read cursor to the start of file.\n",
    "#             text_file.seek(0)\n",
    "            # If file is not empty then append '\\n'\n",
    "#             data = text_file.read(100)\n",
    "#             if len(data) > 0 :\n",
    "#                 text_file.write(\"\")\n",
    "                \n",
    "            for i, t in enumerate(s_engl):\n",
    "                \n",
    "                # this removes special caracters from the text# this removes special caracters from the text\n",
    "#                 text = re.sub(r\"[^a-zA-Z]+\", ' ', t.text) \n",
    "#                 ipdb.set_trace()\n",
    "                text = re.sub(r\"[+]\", ' ', t.text) \n",
    "                # .strip() to delect any leading and trailing whitespace\n",
    "                text_file.write(text[2:].strip()+\"\\n\") # to use the ligaikuma app, we need to format of in the .txt\n",
    "        \n",
    "#         ipdb.set_trace()\n",
    "        \n",
    "        with open(\"./data/\"+mode+\".ln\", \"w\") as text_file: # a+\n",
    "            # Move read cursor to the start of file.\n",
    "#             text_file.seek(0)\n",
    "            # If file is not empty then append '\\n'\n",
    "#             data = text_file.read(100)\n",
    "#             if len(data) > 0 :\n",
    "#                 text_file.write(\"\")\n",
    "                \n",
    "            for i, t in enumerate(s_ling):\n",
    "                \n",
    "                # this removes special caracters from the text# this removes special caracters from the text\n",
    "#                 text = re.sub(r\"[^a-zA-Z.]+\", ' ', t.text) \n",
    "#                 text = re.sub(r\"[.]+\", ' .', t.text) \n",
    "#                 ipdb.set_trace()\n",
    "                text = re.sub(r\"[+]\", ' ', t.text) \n",
    "                # .strip() to delect any leading and trailing whitespace\n",
    "                text_file.write(text[2:].strip()+\"\\n\") \n",
    "        \n",
    "    except Exception as inst:      \n",
    "        traceback.print_exc()"
   ]
  },
  {
   "cell_type": "code",
   "execution_count": 58,
   "metadata": {},
   "outputs": [],
   "source": [
    "load_book_chapeter(book = list(Bible_dict_valid.keys())[0], verse = '1')\n",
    "# load_book_chapeter(book = 'revelation', verse = '2')"
   ]
  },
  {
   "cell_type": "code",
   "execution_count": 33,
   "metadata": {},
   "outputs": [],
   "source": [
    "# with open(\"./converted_aligned_phones.txt\", \"a+\") as text_file:              \n",
    "#             # Move read cursor to the start of file.\n",
    "#             text_file.seek(0)\n",
    "#             # If file is not empty then append '\\n'\n",
    "#             data = text_file.read(100)\n",
    "#             if len(data) > 0 :\n",
    "#                 text_file.write(\"\\n\")\n",
    "\n",
    "#             # .strip() to delect any leading and trailing whitespace\n",
    "#             text_file.write(book_id+\"-\"+chapter_id+\"-\"+utterance_id+\" \"+targets)"
   ]
  },
  {
   "cell_type": "markdown",
   "metadata": {},
   "source": [
    "## Book of Acts of Apostles \n",
    "\n",
    "The book of Acts has 28 verses, and Acts of Apostles in lingala is **misala**"
   ]
  },
  {
   "cell_type": "code",
   "execution_count": 34,
   "metadata": {},
   "outputs": [],
   "source": [
    "# Bible_dict = {\n",
    "#     'genesis' : ['ebandeli', 50],\n",
    "#     'exodus' : ['kobima', 40],\n",
    "#     'leviticus' : ['balevi', 27],\n",
    "#     'numbers' : ['Mitángo', 36],\n",
    "#     'deuteronomy' : ['kolimbola-mibeko', 34],\n",
    "#     'joshua' : ['yosua', 24],\n",
    "#     'judges' : ['basambisi', 21],\n",
    "#     'ruth' : ['ruta', 4], \n",
    "#     '1-samuel' : ['1-samwele', 31],\n",
    "#     '2-samuel' : ['2-samwele', 24],\n",
    "#     '1-kings' : ['1-bakonzi', 22],\n",
    "#     '2-kings' : ['2-bakonzi', 25],\n",
    "#     '1-chronicles' : ['1-ntango', 29],\n",
    "#     '2-chronicles' : ['2-ntango', 36],\n",
    "#     'ezra' : ['ezera', 10],\n",
    "#     'nehemiah' : ['nehemia', 13],\n",
    "#     'esther' : ['estere', 10], \n",
    "#     'job' : ['yobo', 42],\n",
    "#     'psalms' : ['nzembo', 150],\n",
    "#     'proverbs' : ['masese', 31],\n",
    "#     'ecclesiastes' : ['mosakoli', 12],\n",
    "#     'song-of-solomon' : ['loyembo-ya-salomo', 8],\n",
    "#     'isaiah' : ['yisaya', 66],\n",
    "#     'jeremiah' : ['yirimia', 52],\n",
    "#     'lamentations' : ['bileli', 5],\n",
    "#     'ezekiel' : ['ezekiele', 48],\n",
    "#     'daniel' : ['danyele', 12],\n",
    "#     'hosea' : ['hosea', 14],\n",
    "#     'joel' : ['yoele', 3],\n",
    "#     'amos' : ['amose', 9],\n",
    "#     'obadiah' : ['obadia', 1],\n",
    "#     'jonah' : ['yona', 4],\n",
    "#     'micah' : ['mika', 7],\n",
    "#     'nahum' : ['nahumu', 3],\n",
    "#     'habakkuk' : ['habakuku', 3],\n",
    "#     'zephaniah' : ['sefania', 3],\n",
    "#     'haggai' : ['hagai', 2],\n",
    "#     'zechariah' : ['zekaria', 14],\n",
    "#     'malachi' : ['malaki', 4],\n",
    "#     'matthew' : ['matai', 28],\n",
    "#     'mark' : ['marko', 16],\n",
    "#     'luke' : ['luka', 24],\n",
    "#     'john' : ['yoane', 21],\n",
    "#     'acts' : ['misala', 28],\n",
    "#     'romans' : ['baroma', 16],\n",
    "#     '1-corinthians' : ['1-bakorinti', 16],\n",
    "#     '2-corinthians' : ['2-bakorinti', 3],\n",
    "#     'galatians' : ['bagalatia', 6],\n",
    "#     'ephesians' : ['baefese', 6],\n",
    "#     'philippians' : ['bafilipi', 4],\n",
    "#     'colossians' : ['bakolose', 4],\n",
    "#     '1-thessalonians' : ['1-batesaloniki', 5],\n",
    "#     '2-thessalonians' : ['2-batesaloniki', 3],\n",
    "#     '1-timothy' : ['1-timote', 6],\n",
    "#     '2-timothy' : ['2-timote', 4],\n",
    "#     'titus' : ['tito', 3],\n",
    "#     'philemon' : ['filemo', 1],\n",
    "#     'hebrews' : ['baebre', 13],\n",
    "#     'james' : ['yakobo', 5],\n",
    "#     '1-peter' : ['1-petro', 5],\n",
    "#     '2-peter' : ['2-petro', 3],\n",
    "#     '1-john' : ['1-yoane', 5],\n",
    "#     '2-john' : ['2-yoane', 1],\n",
    "#     '3-john' : ['3-yoane', 1],\n",
    "#     'jude' : ['yuda', 1],\n",
    "#     'revelation' : ['emoniseli', 22]\n",
    "# }"
   ]
  },
  {
   "cell_type": "markdown",
   "metadata": {},
   "source": [
    "## Spliting Train and Validation data"
   ]
  },
  {
   "cell_type": "code",
   "execution_count": 35,
   "metadata": {},
   "outputs": [],
   "source": [
    "Bible_dict_train = {\n",
    "    'genesis' : ['ebandeli', 50],\n",
    "    'exodus' : ['kobima', 40],\n",
    "    'leviticus' : ['balevi', 27],\n",
    "    'numbers' : ['Mitángo', 36],\n",
    "    'deuteronomy' : ['kolimbola-mibeko', 34],\n",
    "    'joshua' : ['yosua', 24],\n",
    "    'judges' : ['basambisi', 21],\n",
    "    'ruth' : ['ruta', 4], \n",
    "    '1-samuel' : ['1-samwele', 31],\n",
    "    '2-samuel' : ['2-samwele', 24],\n",
    "    '1-kings' : ['1-bakonzi', 22],\n",
    "    '2-kings' : ['2-bakonzi', 25],\n",
    "    '1-chronicles' : ['1-ntango', 29],\n",
    "    '2-chronicles' : ['2-ntango', 36],\n",
    "    'ezra' : ['ezera', 10],\n",
    "    'nehemiah' : ['nehemia', 13],\n",
    "    'esther' : ['estere', 10], \n",
    "    'job' : ['yobo', 42],\n",
    "    'psalms' : ['nzembo', 150],\n",
    "    'proverbs' : ['masese', 31],\n",
    "    'ecclesiastes' : ['mosakoli', 12],\n",
    "    \n",
    "    'matthew' : ['matai', 28],\n",
    "    'mark' : ['marko', 16],\n",
    "    'romans' : ['baroma', 16],\n",
    "    '1-corinthians' : ['1-bakorinti', 16],\n",
    "    'philippians' : ['bafilipi', 4],\n",
    "    'colossians' : ['bakolose', 4],\n",
    "    '1-thessalonians' : ['1-batesaloniki', 5],\n",
    "    '2-timothy' : ['2-timote', 4],\n",
    "    'titus' : ['tito', 3],\n",
    "    '2-peter' : ['2-petro', 3],\n",
    "    '1-john' : ['1-yoane', 5],\n",
    "    '2-john' : ['2-yoane', 1],\n",
    "    '3-john' : ['3-yoane', 1],\n",
    "    'jude' : ['yuda', 1],\n",
    "    'revelation' : ['emoniseli', 22]\n",
    "}\n",
    "\n",
    "Bible_dict_valid = {\n",
    "#     'song-of-solomon' : ['loyembo-ya-salomo', 8],\n",
    "#     'isaiah' : ['yisaya', 66],\n",
    "    'jeremiah' : ['yirimia', 52],\n",
    "    'lamentations' : ['bileli', 5],\n",
    "    'ezekiel' : ['ezekiele', 48],\n",
    "    'daniel' : ['danyele', 12],\n",
    "    'hosea' : ['hosea', 14],\n",
    "    'joel' : ['yoele', 3],\n",
    "    'amos' : ['amose', 9],\n",
    "    'obadiah' : ['obadia', 1],\n",
    "    'jonah' : ['yona', 4],\n",
    "    'micah' : ['mika', 7],\n",
    "    'nahum' : ['nahumu', 3],\n",
    "    'habakkuk' : ['habakuku', 3],\n",
    "    'zephaniah' : ['sefania', 3],\n",
    "    'haggai' : ['hagai', 2],\n",
    "    'zechariah' : ['zekaria', 14],\n",
    "    'malachi' : ['malaki', 4],\n",
    "    \n",
    "    'luke' : ['luka', 24],\n",
    "    'john' : ['yoane', 21],\n",
    "    'acts' : ['misala', 28],\n",
    "    '2-corinthians' : ['2-bakorinti', 3],\n",
    "    'galatians' : ['bagalatia', 6],\n",
    "    'ephesians' : ['baefese', 6],\n",
    "    '2-thessalonians' : ['2-batesaloniki', 3],\n",
    "    '1-timothy' : ['1-timote', 6],\n",
    "}"
   ]
  },
  {
   "cell_type": "markdown",
   "metadata": {},
   "source": [
    "### loading the training data"
   ]
  },
  {
   "cell_type": "code",
   "execution_count": 36,
   "metadata": {},
   "outputs": [],
   "source": [
    "# for book in Bible_dict_train.keys():\n",
    "    \n",
    "#     verses = Bible_dict_train[book][1]\n",
    "#     for i in range(1, verses+1):\n",
    "#         load_book_chapeter(book = book, verse = str(i))        "
   ]
  },
  {
   "cell_type": "markdown",
   "metadata": {},
   "source": [
    "### loading validation"
   ]
  },
  {
   "cell_type": "code",
   "execution_count": 41,
   "metadata": {},
   "outputs": [
    {
     "name": "stdout",
     "output_type": "stream",
     "text": [
      "> \u001b[0;32m<ipython-input-39-875dc819d8d3>\u001b[0m(26)\u001b[0;36mload_book_chapeter\u001b[0;34m()\u001b[0m\n",
      "\u001b[0;32m     25 \u001b[0;31m        \u001b[0mipdb\u001b[0m\u001b[0;34m.\u001b[0m\u001b[0mset_trace\u001b[0m\u001b[0;34m(\u001b[0m\u001b[0;34m)\u001b[0m\u001b[0;34m\u001b[0m\u001b[0;34m\u001b[0m\u001b[0m\n",
      "\u001b[0m\u001b[0;32m---> 26 \u001b[0;31m        \u001b[0;32mif\u001b[0m \u001b[0mlen\u001b[0m\u001b[0;34m(\u001b[0m\u001b[0ms_engl\u001b[0m\u001b[0;34m)\u001b[0m \u001b[0;34m!=\u001b[0m \u001b[0mlen\u001b[0m\u001b[0;34m(\u001b[0m\u001b[0ms_ling\u001b[0m\u001b[0;34m)\u001b[0m \u001b[0;34m:\u001b[0m\u001b[0;34m\u001b[0m\u001b[0;34m\u001b[0m\u001b[0m\n",
      "\u001b[0m\u001b[0;32m     27 \u001b[0;31m\u001b[0;31m#             ipdb.set_trace()\u001b[0m\u001b[0;34m\u001b[0m\u001b[0;34m\u001b[0m\u001b[0;34m\u001b[0m\u001b[0m\n",
      "\u001b[0m\n"
     ]
    },
    {
     "name": "stdin",
     "output_type": "stream",
     "text": [
      "ipdb>  c\n"
     ]
    },
    {
     "name": "stderr",
     "output_type": "stream",
     "text": [
      "Traceback (most recent call last):\n",
      "  File \"<ipython-input-39-875dc819d8d3>\", line 26, in load_book_chapeter\n",
      "    if len(s_engl) != len(s_ling) :\n",
      "Exception: ('Verse', 'empty s')\n"
     ]
    }
   ],
   "source": [
    "# load_book_chapeter(book = 'genesis', verse = '1')\n"
   ]
  },
  {
   "cell_type": "code",
   "execution_count": null,
   "metadata": {},
   "outputs": [],
   "source": []
  },
  {
   "cell_type": "code",
   "execution_count": 38,
   "metadata": {},
   "outputs": [],
   "source": [
    "# for book in Bible_dict_valid.keys():\n",
    "#     verses = Bible_dict_valid[book][1]\n",
    "#     for i in range(1, verses+1):\n",
    "#         load_book_chapeter(book = book, verse = str(i),  mode = \"valid\")        "
   ]
  },
  {
   "cell_type": "code",
   "execution_count": 5,
   "metadata": {},
   "outputs": [
    {
     "data": {
      "text/plain": [
       "1179"
      ]
     },
     "execution_count": 5,
     "metadata": {},
     "output_type": "execute_result"
    }
   ],
   "source": [
    "# sum(Bible_dict.values())"
   ]
  },
  {
   "cell_type": "markdown",
   "metadata": {},
   "source": [
    "# Put the data in MaseseSpeech format"
   ]
  },
  {
   "cell_type": "code",
   "execution_count": 3,
   "metadata": {},
   "outputs": [
    {
     "data": {
      "text/plain": [
       "'001'"
      ]
     },
     "execution_count": 3,
     "metadata": {},
     "output_type": "execute_result"
    }
   ],
   "source": [
    "v = '1'\n",
    "filen = ''\n",
    "\n",
    "file = '00'+v\n",
    "file"
   ]
  },
  {
   "cell_type": "code",
   "execution_count": 15,
   "metadata": {},
   "outputs": [],
   "source": [
    "def load_book_chapeter(book = 'masese', verse = '1'):\n",
    "    \"\"\"\n",
    "    This function will help to save in text form, depening to the book and verse argument \n",
    "    given in parameter\n",
    "    \n",
    "    The data is maintly taken from the website https://www.jw.org/\n",
    "    \"\"\"\n",
    "    try :\n",
    "        r = rq.get('https://www.jw.org/ln/Biblioteke/biblia/bi12/mikanda/'\\\n",
    "                     +str(book)+'/'+str(verse)+'/')\n",
    "\n",
    "        html = r.content\n",
    "        soup = BeautifulSoup(html, 'html.parser') \n",
    "        s = soup.find_all('span', {'class' : 'style-b'})\n",
    "\n",
    "        if s == []:\n",
    "            # This may happen when the verse doesn't exist\n",
    "            raise Exception('Verse', 'empty s')\n",
    "        \n",
    "        file_name = ''\n",
    "        \n",
    "#         verse = int(verse)+1\n",
    "#         verse = str(verse)\n",
    "        if len(verse) == 1:\n",
    "            file_name = '00'+verse\n",
    "        elif len(verse) == 2:\n",
    "            file_name = '0'+verse\n",
    "            \n",
    "            \n",
    "        #Proverb is the 20th book in the bible    \n",
    "        with open(\"./020/020-\"+file_name+\".trans.txt\", \"w\") as text_file:              \n",
    "\n",
    "            for i, t in enumerate(s):\n",
    "                \n",
    "                # this removes special caracters from the text# this removes special caracters from the text\n",
    "#                 text = re.sub(r\"[^a-zA-Z]+\", ' ', t.text) \n",
    "#                 ipdb.set_trace()\n",
    "                text = re.sub(r\"[+]\", ' ', t.text) \n",
    "                \n",
    "                number = str(i)\n",
    "                if len(number) == 1:\n",
    "                    number = '00'+number\n",
    "                elif len(number) == 2:\n",
    "                    number = '0'+number\n",
    "                # .strip() to delect any leading and trailing whitespace\n",
    "                text_file.write(\"020-\"+file_name+\"-\"+number+\" \"+text[2:].strip().upper()+\"\\n\") # to use the ligaikuma app, we need to format of in the .txt\n",
    "        \n",
    "    except Exception as inst:      \n",
    "        traceback.print_exc()"
   ]
  },
  {
   "cell_type": "code",
   "execution_count": 17,
   "metadata": {},
   "outputs": [],
   "source": [
    "book = 'masese'\n",
    "\n",
    "for i in range(1, 31+1):\n",
    "    load_book_chapeter(book = book, verse = str(i))        "
   ]
  },
  {
   "cell_type": "code",
   "execution_count": 23,
   "metadata": {},
   "outputs": [
    {
     "name": "stdout",
     "output_type": "stream",
     "text": [
      "200624-102822_lin_053_elicit_0-metadata.json\n",
      "200624-102822_lin_053_elicit_0.wav\n",
      "200624-102822_lin_053_elicit_10-metadata.json\n",
      "200624-102822_lin_053_elicit_10.wav\n",
      "200624-102822_lin_053_elicit_11-metadata.json\n",
      "200624-102822_lin_053_elicit_11.wav\n",
      "200624-102822_lin_053_elicit_12-metadata.json\n",
      "200624-102822_lin_053_elicit_12.wav\n",
      "200624-102822_lin_053_elicit_13-metadata.json\n",
      "200624-102822_lin_053_elicit_13.wav\n",
      "200624-102822_lin_053_elicit_14-metadata.json\n",
      "200624-102822_lin_053_elicit_14.wav\n",
      "200624-102822_lin_053_elicit_15-metadata.json\n",
      "200624-102822_lin_053_elicit_15.wav\n",
      "200624-102822_lin_053_elicit_16-metadata.json\n",
      "200624-102822_lin_053_elicit_16.wav\n",
      "200624-102822_lin_053_elicit_17-metadata.json\n",
      "200624-102822_lin_053_elicit_17.wav\n",
      "200624-102822_lin_053_elicit_18-metadata.json\n",
      "200624-102822_lin_053_elicit_18.wav\n",
      "200624-102822_lin_053_elicit_19-metadata.json\n",
      "200624-102822_lin_053_elicit_19.wav\n",
      "200624-102822_lin_053_elicit_1-metadata.json\n",
      "200624-102822_lin_053_elicit_1.wav\n",
      "200624-102822_lin_053_elicit_20-metadata.json\n",
      "200624-102822_lin_053_elicit_20.wav\n",
      "200624-102822_lin_053_elicit_21-metadata.json\n",
      "200624-102822_lin_053_elicit_21.wav\n",
      "200624-102822_lin_053_elicit_22-metadata.json\n",
      "200624-102822_lin_053_elicit_22.wav\n",
      "200624-102822_lin_053_elicit_23-metadata.json\n",
      "200624-102822_lin_053_elicit_23.wav\n",
      "200624-102822_lin_053_elicit_24-metadata.json\n",
      "200624-102822_lin_053_elicit_24.wav\n",
      "200624-102822_lin_053_elicit_25-metadata.json\n",
      "200624-102822_lin_053_elicit_25.wav\n",
      "200624-102822_lin_053_elicit_26-metadata.json\n",
      "200624-102822_lin_053_elicit_26.wav\n",
      "200624-102822_lin_053_elicit_27-metadata.json\n",
      "200624-102822_lin_053_elicit_27.wav\n",
      "200624-102822_lin_053_elicit_28-metadata.json\n",
      "200624-102822_lin_053_elicit_28.wav\n",
      "200624-102822_lin_053_elicit_29-metadata.json\n",
      "200624-102822_lin_053_elicit_29.wav\n",
      "200624-102822_lin_053_elicit_2-metadata.json\n",
      "200624-102822_lin_053_elicit_2.wav\n",
      "200624-102822_lin_053_elicit_30-metadata.json\n",
      "200624-102822_lin_053_elicit_30.wav\n",
      "200624-102822_lin_053_elicit_31-metadata.json\n",
      "200624-102822_lin_053_elicit_31.wav\n",
      "200624-102822_lin_053_elicit_32-metadata.json\n",
      "200624-102822_lin_053_elicit_32.wav\n",
      "200624-102822_lin_053_elicit_3-metadata.json\n",
      "200624-102822_lin_053_elicit_3.wav\n",
      "200624-102822_lin_053_elicit_4-metadata.json\n",
      "200624-102822_lin_053_elicit_4.wav\n",
      "200624-102822_lin_053_elicit_5-metadata.json\n",
      "200624-102822_lin_053_elicit_5.wav\n",
      "200624-102822_lin_053_elicit_6-metadata.json\n",
      "200624-102822_lin_053_elicit_6.wav\n",
      "200624-102822_lin_053_elicit_7-metadata.json\n",
      "200624-102822_lin_053_elicit_7.wav\n",
      "200624-102822_lin_053_elicit_8-metadata.json\n",
      "200624-102822_lin_053_elicit_8.wav\n",
      "200624-102822_lin_053_elicit_9-metadata.json\n",
      "200624-102822_lin_053_elicit_9.wav\n",
      "200624-102822_lin_053_elicit_linker.txt\n"
     ]
    }
   ],
   "source": [
    "!ls data/200624-102822_lin_053_elicit/"
   ]
  },
  {
   "cell_type": "code",
   "execution_count": 48,
   "metadata": {},
   "outputs": [
    {
     "data": {
      "text/plain": [
       "['200624-102822_lin_053_elicit_0.wav',\n",
       " '200624-102822_lin_053_elicit_1.wav',\n",
       " '200624-102822_lin_053_elicit_10.wav',\n",
       " '200624-102822_lin_053_elicit_11.wav',\n",
       " '200624-102822_lin_053_elicit_12.wav',\n",
       " '200624-102822_lin_053_elicit_13.wav',\n",
       " '200624-102822_lin_053_elicit_14.wav',\n",
       " '200624-102822_lin_053_elicit_15.wav',\n",
       " '200624-102822_lin_053_elicit_16.wav',\n",
       " '200624-102822_lin_053_elicit_17.wav',\n",
       " '200624-102822_lin_053_elicit_18.wav',\n",
       " '200624-102822_lin_053_elicit_19.wav',\n",
       " '200624-102822_lin_053_elicit_2.wav',\n",
       " '200624-102822_lin_053_elicit_20.wav',\n",
       " '200624-102822_lin_053_elicit_21.wav',\n",
       " '200624-102822_lin_053_elicit_22.wav',\n",
       " '200624-102822_lin_053_elicit_23.wav',\n",
       " '200624-102822_lin_053_elicit_24.wav',\n",
       " '200624-102822_lin_053_elicit_25.wav',\n",
       " '200624-102822_lin_053_elicit_26.wav',\n",
       " '200624-102822_lin_053_elicit_27.wav',\n",
       " '200624-102822_lin_053_elicit_28.wav',\n",
       " '200624-102822_lin_053_elicit_29.wav',\n",
       " '200624-102822_lin_053_elicit_3.wav',\n",
       " '200624-102822_lin_053_elicit_30.wav',\n",
       " '200624-102822_lin_053_elicit_31.wav',\n",
       " '200624-102822_lin_053_elicit_32.wav',\n",
       " '200624-102822_lin_053_elicit_4.wav',\n",
       " '200624-102822_lin_053_elicit_5.wav',\n",
       " '200624-102822_lin_053_elicit_6.wav',\n",
       " '200624-102822_lin_053_elicit_7.wav',\n",
       " '200624-102822_lin_053_elicit_8.wav',\n",
       " '200624-102822_lin_053_elicit_9.wav']"
      ]
     },
     "execution_count": 48,
     "metadata": {},
     "output_type": "execute_result"
    }
   ],
   "source": [
    "path = \"data/200624-102822_lin_053_elicit/\"\n",
    "\n",
    "wav = [file for file in sorted(os.listdir(path)) if file[-4:] == '.wav']\n",
    "wav"
   ]
  },
  {
   "cell_type": "code",
   "execution_count": 49,
   "metadata": {},
   "outputs": [
    {
     "data": {
      "text/plain": [
       "['200624-102822_lin_053_elicit_0.wav',\n",
       " '200624-102822_lin_053_elicit_1.wav',\n",
       " '200624-102822_lin_053_elicit_2.wav',\n",
       " '200624-102822_lin_053_elicit_3.wav',\n",
       " '200624-102822_lin_053_elicit_4.wav',\n",
       " '200624-102822_lin_053_elicit_5.wav',\n",
       " '200624-102822_lin_053_elicit_6.wav',\n",
       " '200624-102822_lin_053_elicit_7.wav',\n",
       " '200624-102822_lin_053_elicit_8.wav',\n",
       " '200624-102822_lin_053_elicit_9.wav',\n",
       " '200624-102822_lin_053_elicit_10.wav',\n",
       " '200624-102822_lin_053_elicit_11.wav',\n",
       " '200624-102822_lin_053_elicit_12.wav',\n",
       " '200624-102822_lin_053_elicit_13.wav',\n",
       " '200624-102822_lin_053_elicit_14.wav',\n",
       " '200624-102822_lin_053_elicit_15.wav',\n",
       " '200624-102822_lin_053_elicit_16.wav',\n",
       " '200624-102822_lin_053_elicit_17.wav',\n",
       " '200624-102822_lin_053_elicit_18.wav',\n",
       " '200624-102822_lin_053_elicit_19.wav',\n",
       " '200624-102822_lin_053_elicit_20.wav',\n",
       " '200624-102822_lin_053_elicit_21.wav',\n",
       " '200624-102822_lin_053_elicit_22.wav',\n",
       " '200624-102822_lin_053_elicit_23.wav',\n",
       " '200624-102822_lin_053_elicit_24.wav',\n",
       " '200624-102822_lin_053_elicit_25.wav',\n",
       " '200624-102822_lin_053_elicit_26.wav',\n",
       " '200624-102822_lin_053_elicit_27.wav',\n",
       " '200624-102822_lin_053_elicit_28.wav',\n",
       " '200624-102822_lin_053_elicit_29.wav',\n",
       " '200624-102822_lin_053_elicit_30.wav',\n",
       " '200624-102822_lin_053_elicit_31.wav',\n",
       " '200624-102822_lin_053_elicit_32.wav']"
      ]
     },
     "execution_count": 49,
     "metadata": {},
     "output_type": "execute_result"
    }
   ],
   "source": [
    "sorted(wav, key=lambda x: int(x.split('_')[-1].split('.')[0]))"
   ]
  },
  {
   "cell_type": "code",
   "execution_count": 32,
   "metadata": {},
   "outputs": [
    {
     "data": {
      "text/plain": [
       "\u001b[0;31mSignature:\u001b[0m \u001b[0msorted\u001b[0m\u001b[0;34m(\u001b[0m\u001b[0miterable\u001b[0m\u001b[0;34m,\u001b[0m \u001b[0;34m/\u001b[0m\u001b[0;34m,\u001b[0m \u001b[0;34m*\u001b[0m\u001b[0;34m,\u001b[0m \u001b[0mkey\u001b[0m\u001b[0;34m=\u001b[0m\u001b[0;32mNone\u001b[0m\u001b[0;34m,\u001b[0m \u001b[0mreverse\u001b[0m\u001b[0;34m=\u001b[0m\u001b[0;32mFalse\u001b[0m\u001b[0;34m)\u001b[0m\u001b[0;34m\u001b[0m\u001b[0;34m\u001b[0m\u001b[0m\n",
       "\u001b[0;31mDocstring:\u001b[0m\n",
       "Return a new list containing all items from the iterable in ascending order.\n",
       "\n",
       "A custom key function can be supplied to customize the sort order, and the\n",
       "reverse flag can be set to request the result in descending order.\n",
       "\u001b[0;31mType:\u001b[0m      builtin_function_or_method\n"
      ]
     },
     "metadata": {},
     "output_type": "display_data"
    }
   ],
   "source": [
    "sorted??"
   ]
  },
  {
   "cell_type": "code",
   "execution_count": 52,
   "metadata": {},
   "outputs": [
    {
     "name": "stdout",
     "output_type": "stream",
     "text": [
      " 020    LICENSE\t\t    Main_MaseseSpeech_ASR.ipynb\n",
      " data  'Lingala JW.ipynb'   README.md\n"
     ]
    }
   ],
   "source": [
    "!ls"
   ]
  },
  {
   "cell_type": "code",
   "execution_count": 84,
   "metadata": {},
   "outputs": [],
   "source": [
    "# Function to rename multiple files\n",
    "# path = \"data/200624-102822_lin_053_elicit/\" # 1\n",
    "\n",
    "# path = \"data/200624-104423_lin_053_elicit/\" # 2\n",
    "\n",
    "# path = \"data/200625-001111_lin_053_elicit/\" # 3\n",
    "# path = \"data/200625-005243_lin_053_elicit/\" # 4\n",
    "# path = \"data/200629-223643_lin_053_elicit/\" # 5\n",
    "# path = \"data/200629-231545_lin_053_elicit/\" # 6\n",
    "# path = \"data/200629-234022_lin_053_elicit/\" # 7\n",
    "# path = \"data/200630-001335_lin_053_elicit/\" # 8\n",
    "# path = \"data/200630-005007_lin_053_elicit/\" # 9\n",
    "# path = \"data/200630-011337_lin_053_elicit/\" # 10\n",
    "# path = \"data/200630-013828_lin_053_elicit/\" # 11\n",
    "# path = \"data/200702-103352_lin_053_elicit/\" # 12\n",
    "# path = \"data/200702-105438_lin_053_elicit/\" # 13\n",
    "# path = \"data/200702-110714_lin_053_elicit/\" # 14\n",
    "# path = \"data/200702-112925_lin_053_elicit/\" # 15\n",
    "# path = \"data/200702-141619_lin_053_elicit/\" # 16\n",
    "# path = \"data/200702-144002_lin_053_elicit/\" # 17\n",
    "# path = \"data/200702-145857_lin_053_elicit/\" # 18\n",
    "# path = \"data/200702-151139_lin_053_elicit/\" # 19\n",
    "# path = \"data/200702-152742_lin_053_elicit/\" # 20\n",
    "path = \"data/200702-154607_lin_053_elicit/\" # 21\n",
    "\n",
    "\n",
    "# dest = \"data/020/\"\n",
    "\n",
    "wav = [file for file in sorted(os.listdir(path)) if file[-4:] == '.wav']\n",
    "\n",
    "for i, filename in enumerate(sorted(wav, key=lambda x: int(x.split('_')[-1].split('.')[0]))):\n",
    "\n",
    "    number = str(i)\n",
    "    if len(number) == 1:\n",
    "        number = '00'+number\n",
    "    elif len(number) == 2:\n",
    "        number = '0'+number\n",
    "\n",
    "    my_dest =\"020-021-\" + number + \".wav\"\n",
    "    my_source = path + filename\n",
    "    my_dest = path + my_dest\n",
    "    # rename() function will\n",
    "    # rename all the files\n",
    "#     ipdb.set_trace()\n",
    "    os.rename(my_source, my_dest) # I may need in the future to change this by copy (TODO)\n",
    "#         i += 1"
   ]
  },
  {
   "cell_type": "code",
   "execution_count": 57,
   "metadata": {},
   "outputs": [
    {
     "data": {
      "text/plain": [
       "\u001b[0;31mSignature:\u001b[0m \u001b[0mos\u001b[0m\u001b[0;34m.\u001b[0m\u001b[0mrename\u001b[0m\u001b[0;34m(\u001b[0m\u001b[0msrc\u001b[0m\u001b[0;34m,\u001b[0m \u001b[0mdst\u001b[0m\u001b[0;34m,\u001b[0m \u001b[0;34m*\u001b[0m\u001b[0;34m,\u001b[0m \u001b[0msrc_dir_fd\u001b[0m\u001b[0;34m=\u001b[0m\u001b[0;32mNone\u001b[0m\u001b[0;34m,\u001b[0m \u001b[0mdst_dir_fd\u001b[0m\u001b[0;34m=\u001b[0m\u001b[0;32mNone\u001b[0m\u001b[0;34m)\u001b[0m\u001b[0;34m\u001b[0m\u001b[0;34m\u001b[0m\u001b[0m\n",
       "\u001b[0;31mDocstring:\u001b[0m\n",
       "Rename a file or directory.\n",
       "\n",
       "If either src_dir_fd or dst_dir_fd is not None, it should be a file\n",
       "  descriptor open to a directory, and the respective path string (src or dst)\n",
       "  should be relative; the path will then be relative to that directory.\n",
       "src_dir_fd and dst_dir_fd, may not be implemented on your platform.\n",
       "  If they are unavailable, using them will raise a NotImplementedError.\n",
       "\u001b[0;31mType:\u001b[0m      builtin_function_or_method\n"
      ]
     },
     "metadata": {},
     "output_type": "display_data"
    }
   ],
   "source": [
    "os.rename?"
   ]
  },
  {
   "cell_type": "code",
   "execution_count": 59,
   "metadata": {},
   "outputs": [],
   "source": [
    "# # Function to rename multiple files\n",
    "# path = \"test/\"\n",
    "# dest = \"data/020/\"\n",
    "\n",
    "# wav = [file for file in sorted(os.listdir(path)) if file[-4:] == '.wav']\n",
    "\n",
    "# for i, filename in enumerate(sorted(wav, key=lambda x: int(x.split('_')[-1].split('.')[0]))):\n",
    "\n",
    "#     number = str(i)\n",
    "#     if len(number) == 1:\n",
    "#         number = '00'+number\n",
    "#     elif len(number) == 2:\n",
    "#         number = '0'+number\n",
    "\n",
    "#     my_dest =\"020-001-\" + number + \".wav\"\n",
    "#     my_source =path + filename\n",
    "#     my_dest =path + my_dest\n",
    "#     # rename() function will\n",
    "#     # rename all the files\n",
    "# #     ipdb.set_trace()\n",
    "#     os.rename(my_source, my_dest)\n",
    "# #         i += 1"
   ]
  },
  {
   "cell_type": "code",
   "execution_count": null,
   "metadata": {},
   "outputs": [],
   "source": []
  }
 ],
 "metadata": {
  "kernelspec": {
   "display_name": "Python [conda env:aims] *",
   "language": "python",
   "name": "conda-env-aims-py"
  },
  "language_info": {
   "codemirror_mode": {
    "name": "ipython",
    "version": 3
   },
   "file_extension": ".py",
   "mimetype": "text/x-python",
   "name": "python",
   "nbconvert_exporter": "python",
   "pygments_lexer": "ipython3",
   "version": "3.6.10"
  }
 },
 "nbformat": 4,
 "nbformat_minor": 4
}
