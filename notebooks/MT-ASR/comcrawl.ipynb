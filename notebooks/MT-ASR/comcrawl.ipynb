{
 "cells": [
  {
   "cell_type": "markdown",
   "metadata": {},
   "source": [
    "https://commoncrawl.org/the-data/examples/"
   ]
  },
  {
   "cell_type": "code",
   "execution_count": 1,
   "metadata": {},
   "outputs": [
    {
     "name": "stdout",
     "output_type": "stream",
     "text": [
      "Collecting comcrawl\n",
      "  Downloading comcrawl-1.0.2-py3-none-any.whl (10 kB)\n",
      "Requirement already satisfied: requests<3.0.0,>=2.22.0 in /home/salomon/miniconda3/envs/aims/lib/python3.6/site-packages (from comcrawl) (2.24.0)\n",
      "Requirement already satisfied: urllib3!=1.25.0,!=1.25.1,<1.26,>=1.21.1 in /home/salomon/miniconda3/envs/aims/lib/python3.6/site-packages (from requests<3.0.0,>=2.22.0->comcrawl) (1.25.10)\n",
      "Requirement already satisfied: idna<3,>=2.5 in /home/salomon/miniconda3/envs/aims/lib/python3.6/site-packages (from requests<3.0.0,>=2.22.0->comcrawl) (2.10)\n",
      "Requirement already satisfied: chardet<4,>=3.0.2 in /home/salomon/miniconda3/envs/aims/lib/python3.6/site-packages (from requests<3.0.0,>=2.22.0->comcrawl) (3.0.4)\n",
      "Requirement already satisfied: certifi>=2017.4.17 in /home/salomon/miniconda3/envs/aims/lib/python3.6/site-packages (from requests<3.0.0,>=2.22.0->comcrawl) (2020.6.20)\n",
      "Installing collected packages: comcrawl\n",
      "Successfully installed comcrawl-1.0.2\n"
     ]
    }
   ],
   "source": [
    "!pip install comcrawl"
   ]
  },
  {
   "cell_type": "code",
   "execution_count": null,
   "metadata": {},
   "outputs": [],
   "source": [
    "# https://github.com/michaelharms/comcrawl\n",
    "\n",
    "from comcrawl import IndexClient\n",
    "\n",
    "client = IndexClient()\n",
    "\n",
    "client.search(\"https://www.voalingala.com/*\")\n",
    "client.download(threads=8)\n",
    "\n",
    "first_page_html = client.results[0][\"html\"]"
   ]
  },
  {
   "cell_type": "code",
   "execution_count": null,
   "metadata": {},
   "outputs": [],
   "source": [
    "https://www.voalingala.com/"
   ]
  }
 ],
 "metadata": {
  "kernelspec": {
   "display_name": "Python 3",
   "language": "python",
   "name": "python3"
  },
  "language_info": {
   "codemirror_mode": {
    "name": "ipython",
    "version": 3
   },
   "file_extension": ".py",
   "mimetype": "text/x-python",
   "name": "python",
   "nbconvert_exporter": "python",
   "pygments_lexer": "ipython3",
   "version": "3.6.10"
  }
 },
 "nbformat": 4,
 "nbformat_minor": 4
}
