{
 "cells": [
  {
   "cell_type": "code",
   "execution_count": 3,
   "metadata": {
    "colab": {},
    "colab_type": "code",
    "id": "jzzuGAMna4NG"
   },
   "outputs": [],
   "source": [
    "from pydrive.auth import GoogleAuth\n",
    "from pydrive.drive import GoogleDrive\n",
    "from google.colab import auth\n",
    "from oauth2client.client import GoogleCredentials\n",
    "auth.authenticate_user()\n",
    "gauth = GoogleAuth()\n",
    "gauth.credentials = GoogleCredentials.get_application_default()\n",
    "drive = GoogleDrive(gauth)"
   ]
  },
  {
   "cell_type": "code",
   "execution_count": 1,
   "metadata": {
    "colab": {},
    "colab_type": "code",
    "id": "ppRP3ZqP8vZP"
   },
   "outputs": [],
   "source": [
    "import torch\n",
    "import torchaudio"
   ]
  },
  {
   "cell_type": "markdown",
   "metadata": {
    "colab_type": "text",
    "id": "srPM5r_LB9v-"
   },
   "source": [
    "# Part 2 : Fine tuning"
   ]
  },
  {
   "cell_type": "markdown",
   "metadata": {
    "colab_type": "text",
    "id": "0Nb_-0IQiJk9"
   },
   "source": [
    "## Exercice 1 : Phone separability with aligned phonemes.\n",
    "\n",
    "One option to evaluate the quality of the features trained with CPC can be to check if they can be used to recognize phonemes. \n",
    "To do so, we can fine-tune a pre-trained model using a limited amount of labelled speech data.\n",
    "We are going to start with a simple evaluation setting where we have the phone labels for each timestep corresponding to a CPC feature.\n",
    "\n",
    "We will work with a model already pre-trained on English data. As far as the fine-tuning dataset is concerned, we will use a 1h subset of [librispeech-100](http://www.openslr.org/12/). "
   ]
  },
  {
   "cell_type": "code",
   "execution_count": 19,
   "metadata": {
    "colab": {
     "base_uri": "https://localhost:8080/",
     "height": 595
    },
    "colab_type": "code",
    "id": "N-scDMAasXxc",
    "outputId": "3ae4d269-ccba-405e-ad08-da80e85a7e7a"
   },
   "outputs": [
    {
     "name": "stdout",
     "output_type": "stream",
     "text": [
      "--2020-06-29 10:11:59--  https://dl.fbaipublicfiles.com/librilight/CPC_checkpoints/not_hub/2levels_6k_top_ctc/checkpoint_30.pt\n",
      "Resolving dl.fbaipublicfiles.com (dl.fbaipublicfiles.com)... 104.22.74.142, 104.22.75.142, 172.67.9.4, ...\n",
      "Connecting to dl.fbaipublicfiles.com (dl.fbaipublicfiles.com)|104.22.74.142|:443... connected.\n",
      "HTTP request sent, awaiting response... 200 OK\n",
      "Length: 113599715 (108M) [application/octet-stream]\n",
      "Saving to: ‘checkpoint_data/checkpoint_30.pt’\n",
      "\n",
      "checkpoint_30.pt    100%[===================>] 108.34M  12.2MB/s    in 10s     \n",
      "\n",
      "2020-06-29 10:12:10 (10.5 MB/s) - ‘checkpoint_data/checkpoint_30.pt’ saved [113599715/113599715]\n",
      "\n",
      "--2020-06-29 10:12:12--  https://dl.fbaipublicfiles.com/librilight/CPC_checkpoints/not_hub/2levels_6k_top_ctc/checkpoint_logs.json\n",
      "Resolving dl.fbaipublicfiles.com (dl.fbaipublicfiles.com)... 104.22.74.142, 104.22.75.142, 172.67.9.4, ...\n",
      "Connecting to dl.fbaipublicfiles.com (dl.fbaipublicfiles.com)|104.22.74.142|:443... connected.\n",
      "HTTP request sent, awaiting response... 200 OK\n",
      "Length: 20786 (20K) [text/plain]\n",
      "Saving to: ‘checkpoint_data/checkpoint_logs.json’\n",
      "\n",
      "checkpoint_logs.jso 100%[===================>]  20.30K   125KB/s    in 0.2s    \n",
      "\n",
      "2020-06-29 10:12:13 (125 KB/s) - ‘checkpoint_data/checkpoint_logs.json’ saved [20786/20786]\n",
      "\n",
      "--2020-06-29 10:12:14--  https://dl.fbaipublicfiles.com/librilight/CPC_checkpoints/not_hub/2levels_6k_top_ctc/checkpoint_args.json\n",
      "Resolving dl.fbaipublicfiles.com (dl.fbaipublicfiles.com)... 104.22.74.142, 104.22.75.142, 172.67.9.4, ...\n",
      "Connecting to dl.fbaipublicfiles.com (dl.fbaipublicfiles.com)|104.22.74.142|:443... connected.\n",
      "HTTP request sent, awaiting response... 200 OK\n",
      "Length: 2063 (2.0K) [text/plain]\n",
      "Saving to: ‘checkpoint_data/checkpoint_args.json’\n",
      "\n",
      "checkpoint_args.jso 100%[===================>]   2.01K  --.-KB/s    in 0s      \n",
      "\n",
      "2020-06-29 10:12:15 (35.3 MB/s) - ‘checkpoint_data/checkpoint_args.json’ saved [2063/2063]\n",
      "\n",
      "checkpoint_30.pt  checkpoint_args.json\tcheckpoint_logs.json\n"
     ]
    }
   ],
   "source": [
    "!mkdir checkpoint_data\n",
    "!wget https://dl.fbaipublicfiles.com/librilight/CPC_checkpoints/not_hub/2levels_6k_top_ctc/checkpoint_30.pt -P checkpoint_data\n",
    "!wget https://dl.fbaipublicfiles.com/librilight/CPC_checkpoints/not_hub/2levels_6k_top_ctc/checkpoint_logs.json -P checkpoint_data\n",
    "!wget https://dl.fbaipublicfiles.com/librilight/CPC_checkpoints/not_hub/2levels_6k_top_ctc/checkpoint_args.json -P checkpoint_data\n",
    "!ls checkpoint_data"
   ]
  },
  {
   "cell_type": "code",
   "execution_count": 15,
   "metadata": {
    "colab": {
     "base_uri": "https://localhost:8080/",
     "height": 374
    },
    "colab_type": "code",
    "id": "SSSaiYo82_oY",
    "outputId": "cbd1917b-6d69-4eaf-a564-62f52aa9ba6a"
   },
   "outputs": [
    {
     "name": "stdout",
     "output_type": "stream",
     "text": [
      "/content/CPC_audio\n",
      "Loading checkpoint checkpoint_data/checkpoint_30.pt\n",
      "Loading the state dict at checkpoint_data/checkpoint_30.pt\n"
     ]
    },
    {
     "name": "stderr",
     "output_type": "stream",
     "text": [
      "162it [00:00, 2417.18it/s]"
     ]
    },
    {
     "name": "stdout",
     "output_type": "stream",
     "text": [
      "Saved cache file at /content/train_data/_seqs_cache.txt\n"
     ]
    },
    {
     "name": "stderr",
     "output_type": "stream",
     "text": [
      "\n"
     ]
    },
    {
     "name": "stdout",
     "output_type": "stream",
     "text": [
      "Checking length...\n"
     ]
    },
    {
     "name": "stderr",
     "output_type": "stream",
     "text": [
      "1430it [00:00, 1117126.97it/s]\n"
     ]
    },
    {
     "name": "stdout",
     "output_type": "stream",
     "text": [
      "Done, elapsed: 0.274 seconds\n",
      "Scanned 1430 sequences in 0.27 seconds\n",
      "1 chunks computed\n",
      "Joining pool\n",
      "Joined process, elapsed=7.480 secs\n"
     ]
    },
    {
     "name": "stderr",
     "output_type": "stream",
     "text": [
      "169it [00:00, 662.54it/s]\n"
     ]
    },
    {
     "name": "stdout",
     "output_type": "stream",
     "text": [
      "Saved cache file at /content/val_data/_seqs_cache.txt\n",
      "Checking length...\n"
     ]
    },
    {
     "name": "stderr",
     "output_type": "stream",
     "text": [
      "316it [00:00, 60357.94it/s]\n"
     ]
    },
    {
     "name": "stdout",
     "output_type": "stream",
     "text": [
      "Done, elapsed: 0.875 seconds\n",
      "Scanned 316 sequences in 0.88 seconds\n",
      "1 chunks computed\n",
      "Joining pool\n",
      "Joined process, elapsed=2.434 secs\n"
     ]
    }
   ],
   "source": [
    "%cd /content/CPC_audio\n",
    "from cpc.dataset import parseSeqLabels\n",
    "from cpc.feature_loader import loadModel\n",
    "\n",
    "checkpoint_path = 'checkpoint_data/checkpoint_30.pt'\n",
    "cpc_model, HIDDEN_CONTEXT_MODEL, HIDDEN_ENCODER_MODEL = loadModel([checkpoint_path])\n",
    "cpc_model = cpc_model.cuda()\n",
    "label_dict, N_PHONES = parseSeqLabels('/content/converted_aligned_phones.txt')\n",
    "dataset_train = load_dataset('/content/train_data', file_extension='.flac', phone_label_dict=label_dict)\n",
    "dataset_val = load_dataset('/content/val_data', file_extension='.flac', phone_label_dict=label_dict)\n",
    "data_loader_train = dataset_train.getDataLoader(BATCH_SIZE, \"speaker\", True)\n",
    "data_loader_val = dataset_val.getDataLoader(BATCH_SIZE, \"sequence\", False)"
   ]
  },
  {
   "cell_type": "code",
   "execution_count": 16,
   "metadata": {
    "colab": {},
    "colab_type": "code",
    "id": "3ulgYV3nHcoa"
   },
   "outputs": [],
   "source": [
    "??cpc_model"
   ]
  },
  {
   "cell_type": "markdown",
   "metadata": {
    "colab_type": "text",
    "id": "xkKi-qfosng2"
   },
   "source": [
    "Then we will use a simple linear classifier to recognize the phonemes from the features produced by ```cpc_model```. \n",
    "\n",
    "### a) Build the phone classifier \n",
    "\n",
    "Design a class of linear classifiers, ```PhoneClassifier``` that will take as input a batch of sequences of CPC features and output a score vector for each phoneme"
   ]
  },
  {
   "cell_type": "code",
   "execution_count": 20,
   "metadata": {
    "colab": {},
    "colab_type": "code",
    "id": "4RpAbz-0CXJJ"
   },
   "outputs": [],
   "source": [
    "class PhoneClassifier(torch.nn.Module):\n",
    "\n",
    "  def __init__(self,\n",
    "               input_dim : int,\n",
    "               n_phones : int):\n",
    "    super(PhoneClassifier, self).__init__()\n",
    "    self.linear = torch.nn.Linear(input_dim, n_phones)\n",
    "    \n",
    "\n",
    "  def forward(self, x):\n",
    "    return self.linear(x)"
   ]
  },
  {
   "cell_type": "markdown",
   "metadata": {
    "colab_type": "text",
    "id": "Zt5oa_nqtH-d"
   },
   "source": [
    "Our phone classifier will then be:"
   ]
  },
  {
   "cell_type": "code",
   "execution_count": null,
   "metadata": {
    "colab": {},
    "colab_type": "code",
    "id": "NRBf_83IuLv5"
   },
   "outputs": [],
   "source": [
    "phone_classifier = PhoneClassifier(HIDDEN_CONTEXT_MODEL, N_PHONES).to(device)"
   ]
  },
  {
   "cell_type": "markdown",
   "metadata": {
    "colab_type": "text",
    "id": "z_Vf5AbUhqm4"
   },
   "source": [
    "### b - What would be the correct loss criterion for this task ?\n",
    "\n"
   ]
  },
  {
   "cell_type": "code",
   "execution_count": 19,
   "metadata": {
    "colab": {},
    "colab_type": "code",
    "id": "uhyPM-cgjrtw"
   },
   "outputs": [],
   "source": [
    "loss_criterion = torch.nn.CrossEntropyLoss()"
   ]
  },
  {
   "cell_type": "markdown",
   "metadata": {
    "colab_type": "text",
    "id": "Nv4cSxbaplrz"
   },
   "source": [
    "To perform the fine-tuning, we will also need an optimization function.\n",
    "\n",
    "We will use an [Adam optimizer ](https://pytorch.org/docs/stable/optim.html#torch.optim.Adam)."
   ]
  },
  {
   "cell_type": "code",
   "execution_count": 20,
   "metadata": {
    "colab": {},
    "colab_type": "code",
    "id": "W5CgYyAlqKxu"
   },
   "outputs": [],
   "source": [
    "parameters = list(phone_classifier.parameters()) + list(cpc_model.parameters())\n",
    "LEARNING_RATE = 2e-4\n",
    "optimizer = torch.optim.Adam(parameters, lr=LEARNING_RATE)"
   ]
  },
  {
   "cell_type": "markdown",
   "metadata": {
    "colab_type": "text",
    "id": "qQB9HS9PvAXc"
   },
   "source": [
    "You might also want to perform this training while freezing the weights of the ```cpc_model```. Indeed, if the pre-training was good enough, then ```cpc_model``` phonemes representation should be linearly separable. In this case the optimizer should be defined like this:"
   ]
  },
  {
   "cell_type": "code",
   "execution_count": 24,
   "metadata": {
    "colab": {},
    "colab_type": "code",
    "id": "nRy0gn6awGUQ"
   },
   "outputs": [],
   "source": [
    "optimizer_frozen = torch.optim.Adam(list(phone_classifier.parameters()), lr=LEARNING_RATE)"
   ]
  },
  {
   "cell_type": "markdown",
   "metadata": {
    "colab_type": "text",
    "id": "cO93ngIfj4JW"
   },
   "source": [
    "### c- Now let's build a training loop. \n",
    "Complete the function ```train_one_epoch``` below.\n",
    "\n"
   ]
  },
  {
   "cell_type": "code",
   "execution_count": 58,
   "metadata": {
    "colab": {},
    "colab_type": "code",
    "id": "fabqj3wvLwgU"
   },
   "outputs": [],
   "source": [
    "def train_one_epoch(cpc_model, \n",
    "                    phone_classifier, \n",
    "                    loss_criterion, \n",
    "                    data_loader, \n",
    "                    optimizer):\n",
    "\n",
    "  cpc_model.train()\n",
    "  loss_criterion.train()\n",
    "\n",
    "  avg_loss = 0\n",
    "  avg_accuracy = 0\n",
    "  n_items = 0\n",
    "  for step, full_data in enumerate(data_loader):\n",
    "    # Each batch is represented by a Tuple of vectors:\n",
    "    # sequence of size : N x 1 x T\n",
    "    # label of size : N x T\n",
    "    # \n",
    "    # With :\n",
    "    # - N number of sequence in the batch\n",
    "    # - T size of each sequence\n",
    "    sequence, label = full_data\n",
    "    \n",
    "    \n",
    "\n",
    "    bs = len(sequence)\n",
    "    seq_len = label.size(1)\n",
    "    optimizer.zero_grad()\n",
    "    context_out, enc_out, _ = cpc_model(sequence.to(device),label.to(device))\n",
    "\n",
    "    scores = phone_classifier(context_out)\n",
    "\n",
    "    scores = scores.permute(0,2,1)\n",
    "    loss = loss_criterion(scores,label.to(device))\n",
    "    loss.backward()\n",
    "    optimizer.step()\n",
    "    avg_loss+=loss.item()*bs\n",
    "    n_items+=bs\n",
    "    correct_labels = scores.argmax(1)\n",
    "    avg_accuracy += ((label==correct_labels.cpu()).float()).mean(1).sum().item()\n",
    "  avg_loss/=n_items\n",
    "  avg_accuracy/=n_items\n",
    "  return avg_loss, avg_accuracy\n",
    "    "
   ]
  },
  {
   "cell_type": "markdown",
   "metadata": {
    "colab_type": "text",
    "id": "quYtjx_TxIPK"
   },
   "source": [
    "Don't forget to test it !"
   ]
  },
  {
   "cell_type": "code",
   "execution_count": 59,
   "metadata": {
    "colab": {},
    "colab_type": "code",
    "id": "50MwxbKhxMKp"
   },
   "outputs": [],
   "source": [
    "avg_loss, avg_accuracy = train_one_epoch(cpc_model, phone_classifier, loss_criterion, data_loader_train, optimizer_frozen)"
   ]
  },
  {
   "cell_type": "code",
   "execution_count": 60,
   "metadata": {
    "colab": {
     "base_uri": "https://localhost:8080/",
     "height": 34
    },
    "colab_type": "code",
    "id": "_o6yk8XKWnYe",
    "outputId": "19b006e6-03ac-4c18-c415-cdeb293b54d3"
   },
   "outputs": [
    {
     "data": {
      "text/plain": [
       "(1.3621995804512956, 0.6497440501715266)"
      ]
     },
     "execution_count": 60,
     "metadata": {
      "tags": []
     },
     "output_type": "execute_result"
    }
   ],
   "source": [
    "avg_loss, avg_accuracy"
   ]
  },
  {
   "cell_type": "markdown",
   "metadata": {
    "colab_type": "text",
    "id": "EmUkuJ2bwu4Z"
   },
   "source": [
    "### d- Build the validation loop"
   ]
  },
  {
   "cell_type": "code",
   "execution_count": 61,
   "metadata": {
    "colab": {},
    "colab_type": "code",
    "id": "kZJMxj6cwzd3"
   },
   "outputs": [],
   "source": [
    "def validation_step(cpc_model, \n",
    "                    phone_classifier, \n",
    "                    loss_criterion, \n",
    "                    data_loader):\n",
    "  \n",
    "  cpc_model.eval()\n",
    "  phone_classifier.eval()\n",
    "\n",
    "  avg_loss = 0\n",
    "  avg_accuracy = 0\n",
    "  n_items = 0\n",
    "  with torch.no_grad():\n",
    "    for step, full_data in enumerate(data_loader):\n",
    "      # Each batch is represented by a Tuple of vectors:\n",
    "      # sequence of size : N x 1 x T\n",
    "      # label of size : N x T\n",
    "      # \n",
    "      # With :\n",
    "      # - N number of sequence in the batch\n",
    "      # - T size of each sequence\n",
    "      sequence, label = full_data\n",
    "      bs = len(sequence)\n",
    "      seq_len = label.size(1)\n",
    "      context_out, enc_out, _ = cpc_model(sequence.to(device),label.to(device))\n",
    "      scores = phone_classifier(context_out)\n",
    "      scores = scores.permute(0,2,1)\n",
    "      loss = loss_criterion(scores,label.to(device))\n",
    "      avg_loss+=loss.item()*bs\n",
    "      n_items+=bs\n",
    "      correct_labels = scores.argmax(1)\n",
    "      avg_accuracy += ((label==correct_labels.cpu()).float()).mean(1).sum().item()\n",
    "  avg_loss/=n_items\n",
    "  avg_accuracy/=n_items\n",
    "  return avg_loss, avg_accuracy"
   ]
  },
  {
   "cell_type": "markdown",
   "metadata": {
    "colab_type": "text",
    "id": "vownVCt7xbVh"
   },
   "source": [
    "### e- Run everything\n",
    "\n",
    "Test this functiion with both ```optimizer``` and ```optimizer_frozen```."
   ]
  },
  {
   "cell_type": "code",
   "execution_count": 65,
   "metadata": {
    "colab": {},
    "colab_type": "code",
    "id": "xvO_4nKUxfQx"
   },
   "outputs": [],
   "source": [
    "def run(cpc_model, \n",
    "        phone_classifier, \n",
    "        loss_criterion, \n",
    "        data_loader_train, \n",
    "        data_loader_val, \n",
    "        optimizer,\n",
    "        n_epoch):\n",
    "\n",
    "  for epoch in range(n_epoch):\n",
    "\n",
    "    print(f\"Running epoch {epoch + 1} / {n_epoch}\")\n",
    "    loss_train, acc_train = train_one_epoch(cpc_model, phone_classifier, loss_criterion, data_loader_train, optimizer)\n",
    "    print(\"-------------------\")\n",
    "    print(f\"Training dataset :\")\n",
    "    print(f\"Average loss : {loss_train}. Average accuracy {acc_train}\")\n",
    "\n",
    "    print(\"-------------------\")\n",
    "    print(\"Validation dataset\")\n",
    "    loss_val, acc_val = validation_step(cpc_model, phone_classifier, loss_criterion, data_loader_val)\n",
    "    print(f\"Average loss : {loss_val}. Average accuracy {acc_val}\")\n",
    "    print(\"-------------------\")\n",
    "    print()"
   ]
  },
  {
   "cell_type": "code",
   "execution_count": 67,
   "metadata": {
    "colab": {
     "base_uri": "https://localhost:8080/",
     "height": 1000
    },
    "colab_type": "code",
    "id": "ceCEO2h2bxAn",
    "outputId": "2842125e-7f20-434d-9189-33699670f620"
   },
   "outputs": [
    {
     "name": "stdout",
     "output_type": "stream",
     "text": [
      "Running epoch 1 / 10\n",
      "-------------------\n",
      "Training dataset :\n",
      "Average loss : 1.0219527069604895. Average accuracy 0.7057498257933105\n",
      "-------------------\n",
      "Validation dataset\n",
      "Average loss : 1.0688188383544701. Average accuracy 0.6966259057971015\n",
      "-------------------\n",
      "\n",
      "Running epoch 2 / 10\n",
      "-------------------\n",
      "Training dataset :\n",
      "Average loss : 0.9813667901793229. Average accuracy 0.7150101397226987\n",
      "-------------------\n",
      "Validation dataset\n",
      "Average loss : 1.0425163616304811. Average accuracy 0.7018257472826087\n",
      "-------------------\n",
      "\n",
      "Running epoch 3 / 10\n",
      "-------------------\n",
      "Training dataset :\n",
      "Average loss : 0.9586697046657233. Average accuracy 0.7197957984919954\n",
      "-------------------\n",
      "Validation dataset\n",
      "Average loss : 1.029444672577623. Average accuracy 0.7042572463768116\n",
      "-------------------\n",
      "\n",
      "Running epoch 4 / 10\n",
      "-------------------\n",
      "Training dataset :\n",
      "Average loss : 0.9506696053679975. Average accuracy 0.7210777810534591\n",
      "-------------------\n",
      "Validation dataset\n",
      "Average loss : 0.9972989958265553. Average accuracy 0.7106855751811594\n",
      "-------------------\n",
      "\n",
      "Running epoch 5 / 10\n",
      "-------------------\n",
      "Training dataset :\n",
      "Average loss : 0.9448814161032387. Average accuracy 0.7218349101272156\n",
      "-------------------\n",
      "Validation dataset\n",
      "Average loss : 0.9780038367147031. Average accuracy 0.7143144248188406\n",
      "-------------------\n",
      "\n",
      "Running epoch 6 / 10\n",
      "-------------------\n",
      "Training dataset :\n",
      "Average loss : 0.929420669805397. Average accuracy 0.7249711888936535\n",
      "-------------------\n",
      "Validation dataset\n",
      "Average loss : 0.9746506056923797. Average accuracy 0.715234375\n",
      "-------------------\n",
      "\n",
      "Running epoch 7 / 10\n",
      "-------------------\n",
      "Training dataset :\n",
      "Average loss : 0.9157625487901743. Average accuracy 0.7281409689465409\n",
      "-------------------\n",
      "Validation dataset\n",
      "Average loss : 0.9955525258313055. Average accuracy 0.710739356884058\n",
      "-------------------\n",
      "\n",
      "Running epoch 8 / 10\n",
      "-------------------\n",
      "Training dataset :\n",
      "Average loss : 0.9135043791459587. Average accuracy 0.7293961504788451\n",
      "-------------------\n",
      "Validation dataset\n",
      "Average loss : 0.9721649721048881. Average accuracy 0.7155910326086956\n",
      "-------------------\n",
      "\n",
      "Running epoch 9 / 10\n",
      "-------------------\n",
      "Training dataset :\n",
      "Average loss : 0.9004762198940013. Average accuracy 0.7319076302530018\n",
      "-------------------\n",
      "Validation dataset\n",
      "Average loss : 0.980453244154004. Average accuracy 0.713963428442029\n",
      "-------------------\n",
      "\n",
      "Running epoch 10 / 10\n",
      "-------------------\n",
      "Training dataset :\n",
      "Average loss : 0.9172716077018834. Average accuracy 0.7282263972269869\n",
      "-------------------\n",
      "Validation dataset\n",
      "Average loss : 0.9502466599146525. Average accuracy 0.7199048913043479\n",
      "-------------------\n",
      "\n"
     ]
    }
   ],
   "source": [
    "run(cpc_model,phone_classifier,loss_criterion,data_loader_train,data_loader_val,optimizer_frozen,n_epoch=10)"
   ]
  },
  {
   "cell_type": "markdown",
   "metadata": {
    "colab_type": "text",
    "id": "TdfWDiFnylMT"
   },
   "source": [
    "## Exercise 2 : Phone separability without alignment (PER)\n",
    "\n",
    "Aligned data are very practical, but un real life they are rarely available. That's why in this excercise we will consider a fine-tuning with non-aligned phonemes.\n",
    "\n",
    "The model, the optimizer and the phone classifier will stay the same. However, we will replace our phone criterion with a [CTC loss](https://pytorch.org/docs/master/generated/torch.nn.CTCLoss.html). "
   ]
  },
  {
   "cell_type": "code",
   "execution_count": 16,
   "metadata": {
    "colab": {},
    "colab_type": "code",
    "id": "_9BpM_Lpzgx8"
   },
   "outputs": [],
   "source": [
    "loss_ctc = torch.nn.CTCLoss()"
   ]
  },
  {
   "cell_type": "markdown",
   "metadata": {
    "colab_type": "text",
    "id": "AQpYgTyfzsrq"
   },
   "source": [
    "Besides, we will use a siglthy different dataset class."
   ]
  },
  {
   "cell_type": "code",
   "execution_count": 17,
   "metadata": {
    "colab": {
     "base_uri": "https://localhost:8080/",
     "height": 272
    },
    "colab_type": "code",
    "id": "9HRxoatlz3ZZ",
    "outputId": "210b7f5f-b722-42dd-97df-56cb2e614a1a"
   },
   "outputs": [
    {
     "name": "stderr",
     "output_type": "stream",
     "text": [
      "67it [00:00, 16115.29it/s]"
     ]
    },
    {
     "name": "stdout",
     "output_type": "stream",
     "text": [
      "/content/CPC_audio\n",
      "Saved cache file at /content/per_data/pack_master/1h/_seqs_cache.txt\n"
     ]
    },
    {
     "name": "stderr",
     "output_type": "stream",
     "text": [
      "\n",
      "7it [00:00, 1867.22it/s]"
     ]
    },
    {
     "name": "stdout",
     "output_type": "stream",
     "text": [
      "Loaded 287 sequences in 4.05 seconds\n",
      "maxSizeSeq : 273359\n",
      "maxSizePhone : 207\n",
      "minSizePhone : 17\n",
      "Total size dataset 1.0406152430555555 hours\n",
      "Saved cache file at /content/per_data/pack_master/10min/_seqs_cache.txt\n"
     ]
    },
    {
     "name": "stderr",
     "output_type": "stream",
     "text": [
      "\n"
     ]
    },
    {
     "name": "stdout",
     "output_type": "stream",
     "text": [
      "Loaded 212 sequences in 2.49 seconds\n",
      "maxSizeSeq : 273760\n",
      "maxSizePhone : 188\n",
      "minSizePhone : 17\n",
      "Total size dataset 0.73 hours\n"
     ]
    }
   ],
   "source": [
    "%cd /content/CPC_audio\n",
    "from cpc.eval.common_voices_eval import SingleSequenceDataset, parseSeqLabels, findAllSeqs\n",
    "path_train_data_per = '/content/per_data/pack_master/1h'\n",
    "path_val_data_per = '/content/per_data/pack_master/10min'\n",
    "path_phone_data_per = '/content/per_data/pack_master/10h_phones.txt'\n",
    "BATCH_SIZE=8\n",
    "\n",
    "phone_labels, N_PHONES = parseSeqLabels(path_phone_data_per)\n",
    "data_train_per, _ = findAllSeqs(path_train_data_per, extension='.flac')\n",
    "dataset_train_non_aligned = SingleSequenceDataset(path_train_data_per, data_train_per, phone_labels)\n",
    "data_loader_train = torch.utils.data.DataLoader(dataset_train_non_aligned, batch_size=BATCH_SIZE,\n",
    "                                                shuffle=True)\n",
    "\n",
    "data_val_per, _ = findAllSeqs(path_val_data_per, extension='.flac')\n",
    "dataset_val_non_aligned = SingleSequenceDataset(path_val_data_per, data_val_per, phone_labels)\n",
    "data_loader_val = torch.utils.data.DataLoader(dataset_val_non_aligned, batch_size=BATCH_SIZE,\n",
    "                                              shuffle=True)"
   ]
  },
  {
   "cell_type": "markdown",
   "metadata": {
    "colab_type": "text",
    "id": "GwAckY62z7s9"
   },
   "source": [
    "### a- Training\n",
    "\n",
    "Since the phonemes are not aligned, there is no simple direct way to get the classification acuracy of a model. Write and test the three functions ```train_one_epoch_ctc```, ```validation_step_ctc``` and ```run_ctc``` as before but without considering the average acuracy of the model. "
   ]
  },
  {
   "cell_type": "code",
   "execution_count": 21,
   "metadata": {
    "colab": {
     "base_uri": "https://localhost:8080/",
     "height": 51
    },
    "colab_type": "code",
    "id": "oYg5YzW8EHl4",
    "outputId": "be8aec47-f0a8-4cb6-b4ff-df232118a6d3"
   },
   "outputs": [
    {
     "name": "stdout",
     "output_type": "stream",
     "text": [
      "Loading checkpoint checkpoint_data/checkpoint_30.pt\n",
      "Loading the state dict at checkpoint_data/checkpoint_30.pt\n"
     ]
    }
   ],
   "source": [
    "from cpc.feature_loader import loadModel\n",
    "\n",
    "checkpoint_path = 'checkpoint_data/checkpoint_30.pt'\n",
    "cpc_model, HIDDEN_CONTEXT_MODEL, HIDDEN_ENCODER_MODEL = loadModel([checkpoint_path])\n",
    "cpc_model = cpc_model.cuda()\n",
    "phone_classifier = PhoneClassifier(HIDDEN_CONTEXT_MODEL, N_PHONES).to(device)"
   ]
  },
  {
   "cell_type": "code",
   "execution_count": 19,
   "metadata": {
    "colab": {},
    "colab_type": "code",
    "id": "CFQ2g3PjErdZ"
   },
   "outputs": [],
   "source": [
    "parameters = list(phone_classifier.parameters()) + list(cpc_model.parameters())\n",
    "LEARNING_RATE = 2e-4\n",
    "optimizer = torch.optim.Adam(parameters, lr=LEARNING_RATE)\n",
    "\n",
    "optimizer_frozen = torch.optim.Adam(list(phone_classifier.parameters()), lr=LEARNING_RATE)"
   ]
  },
  {
   "cell_type": "code",
   "execution_count": 34,
   "metadata": {
    "colab": {},
    "colab_type": "code",
    "id": "Zsgjv3cD0oqD"
   },
   "outputs": [],
   "source": [
    "import torch.nn.functional as F\n",
    "\n",
    "def train_one_epoch_ctc(cpc_model, \n",
    "                        phone_classifier, \n",
    "                        loss_criterion, \n",
    "                        data_loader, \n",
    "                        optimizer):\n",
    "  \n",
    "  cpc_model.train()\n",
    "  loss_criterion.train()\n",
    "\n",
    "  avg_loss = 0\n",
    "  avg_accuracy = 0\n",
    "  n_items = 0\n",
    "  for step, full_data in enumerate(data_loader):\n",
    "\n",
    "    x, x_len, y, y_len = full_data\n",
    "\n",
    "    x_batch_len = x.shape[-1]\n",
    "    x, y = x.to(device), y.to(device)\n",
    "\n",
    "    bs=x.size(0)\n",
    "    optimizer.zero_grad()\n",
    "    context_out, enc_out, _ = cpc_model(x.to(device),y.to(device))\n",
    "  \n",
    "    scores = phone_classifier(context_out)\n",
    "    scores = scores.permute(1,0,2)\n",
    "    scores = F.log_softmax(scores,2)\n",
    "    yhat_len = torch.tensor([int(scores.shape[0]*x_len[i]/x_batch_len) for i in range(scores.shape[1])]) # this is an approximation, should be good enough\n",
    "\n",
    "    loss = loss_criterion(scores,y.to(device),yhat_len,y_len)\n",
    "    loss.backward()\n",
    "    optimizer.step()\n",
    "    avg_loss+=loss.item()*bs\n",
    "    n_items+=bs\n",
    "  avg_loss/=n_items\n",
    "  return avg_loss\n",
    "\n",
    "def validation_step(cpc_model, \n",
    "                    phone_classifier, \n",
    "                    loss_criterion, \n",
    "                    data_loader):\n",
    "\n",
    "  cpc_model.eval()\n",
    "  phone_classifier.eval()\n",
    "  avg_loss = 0\n",
    "  avg_accuracy = 0\n",
    "  n_items = 0\n",
    "  with torch.no_grad():\n",
    "    for step, full_data in enumerate(data_loader):\n",
    "\n",
    "      x, x_len, y, y_len = full_data\n",
    "\n",
    "      x_batch_len = x.shape[-1]\n",
    "      x, y = x.to(device), y.to(device)\n",
    "\n",
    "      bs=x.size(0)\n",
    "      context_out, enc_out, _ = cpc_model(x.to(device),y.to(device))\n",
    "    \n",
    "      scores = phone_classifier(context_out)\n",
    "      scores = scores.permute(1,0,2)\n",
    "      scores = F.log_softmax(scores,2)\n",
    "      yhat_len = torch.tensor([int(scores.shape[0]*x_len[i]/x_batch_len) for i in range(scores.shape[1])]) # this is an approximation, should be good enough\n",
    "\n",
    "      loss = loss_criterion(scores,y.to(device),yhat_len,y_len)\n",
    "      avg_loss+=loss.item()*bs\n",
    "      n_items+=bs\n",
    "  avg_loss/=n_items\n",
    "\n",
    "  return avg_loss\n",
    "\n",
    "def run_ctc(cpc_model, \n",
    "            phone_classifier, \n",
    "            loss_criterion, \n",
    "            data_loader_train, \n",
    "            data_loader_val, \n",
    "            optimizer,\n",
    "            n_epoch):\n",
    "  for epoch in range(n_epoch):\n",
    "\n",
    "    print(f\"Running epoch {epoch + 1} / {n_epoch}\")\n",
    "    loss_train = train_one_epoch_ctc(cpc_model, phone_classifier, loss_criterion, data_loader_train, optimizer)\n",
    "    print(\"-------------------\")\n",
    "    print(f\"Training dataset :\")\n",
    "    print(f\"Average loss : {loss_train}.\")\n",
    "\n",
    "    print(\"-------------------\")\n",
    "    print(\"Validation dataset\")\n",
    "    loss_val = validation_step(cpc_model, phone_classifier, loss_criterion, data_loader_val)\n",
    "    print(f\"Average loss : {loss_val}\")\n",
    "    print(\"-------------------\")\n",
    "    print()"
   ]
  },
  {
   "cell_type": "code",
   "execution_count": 40,
   "metadata": {
    "colab": {
     "base_uri": "https://localhost:8080/",
     "height": 1000
    },
    "colab_type": "code",
    "id": "GSr7tcUdD72c",
    "outputId": "ea9f1f53-6b42-436d-e760-68bfdae72bf4"
   },
   "outputs": [
    {
     "name": "stdout",
     "output_type": "stream",
     "text": [
      "Running epoch 1 / 10\n",
      "-------------------\n",
      "Training dataset :\n",
      "Average loss : 32.44543953208657.\n",
      "-------------------\n",
      "Validation dataset\n",
      "Average loss : 32.01081585093132\n",
      "-------------------\n",
      "\n",
      "Running epoch 2 / 10\n",
      "-------------------\n",
      "Training dataset :\n",
      "Average loss : 30.99022026328774.\n",
      "-------------------\n",
      "Validation dataset\n",
      "Average loss : 30.300324444522225\n",
      "-------------------\n",
      "\n",
      "Running epoch 3 / 10\n",
      "-------------------\n",
      "Training dataset :\n",
      "Average loss : 29.319565432888645.\n",
      "-------------------\n",
      "Validation dataset\n",
      "Average loss : 28.464903420181635\n",
      "-------------------\n",
      "\n",
      "Running epoch 4 / 10\n",
      "-------------------\n",
      "Training dataset :\n",
      "Average loss : 27.567655403297262.\n",
      "-------------------\n",
      "Validation dataset\n",
      "Average loss : 26.642856191119876\n",
      "-------------------\n",
      "\n",
      "Running epoch 5 / 10\n",
      "-------------------\n",
      "Training dataset :\n",
      "Average loss : 25.832834390493538.\n",
      "-------------------\n",
      "Validation dataset\n",
      "Average loss : 24.82515669546986\n",
      "-------------------\n",
      "\n",
      "Running epoch 6 / 10\n",
      "-------------------\n",
      "Training dataset :\n",
      "Average loss : 24.127855487636754.\n",
      "-------------------\n",
      "Validation dataset\n",
      "Average loss : 23.089440377402646\n",
      "-------------------\n",
      "\n",
      "Running epoch 7 / 10\n",
      "-------------------\n",
      "Training dataset :\n",
      "Average loss : 22.487650171026484.\n",
      "-------------------\n",
      "Validation dataset\n",
      "Average loss : 21.420966125777547\n",
      "-------------------\n",
      "\n",
      "Running epoch 8 / 10\n",
      "-------------------\n",
      "Training dataset :\n",
      "Average loss : 20.911723703771205.\n",
      "-------------------\n",
      "Validation dataset\n",
      "Average loss : 19.82448653813222\n",
      "-------------------\n",
      "\n",
      "Running epoch 9 / 10\n",
      "-------------------\n",
      "Training dataset :\n",
      "Average loss : 19.407203647640202.\n",
      "-------------------\n",
      "Validation dataset\n",
      "Average loss : 18.315616182806366\n",
      "-------------------\n",
      "\n",
      "Running epoch 10 / 10\n",
      "-------------------\n",
      "Training dataset :\n",
      "Average loss : 17.984150039566146.\n",
      "-------------------\n",
      "Validation dataset\n",
      "Average loss : 16.896408695745244\n",
      "-------------------\n",
      "\n"
     ]
    }
   ],
   "source": [
    "run_ctc(cpc_model,phone_classifier,loss_ctc,data_loader_train,data_loader_val,optimizer_frozen,n_epoch=10)"
   ]
  },
  {
   "cell_type": "markdown",
   "metadata": {
    "colab_type": "text",
    "id": "TKrYW4gK1BBF"
   },
   "source": [
    "### b- Evaluation: the Phone Error Rate (PER)\n",
    "\n",
    "In order to compute the similarity between two sequences, we can use the [Levenshtein distance](https://en.wikipedia.org/wiki/Levenshtein_distance). This distance estimates the minimum number of insertion, deletion and addition to move from one sequence to another. If we normalize this distance by the number of characters in the reference sequence we get the Phone Error Rate (PER).\n",
    "\n",
    "This value can be interpreted as :\n",
    "\\\\[  PER = \\frac{S + D + I}{N} \\\\]\n",
    "\n",
    "Where:\n",
    "\n",
    "\n",
    "*   N is the number of characters in the reference\n",
    "*   S is the number of substitutiion\n",
    "*   I in the number of insertion\n",
    "*   D in the number of deletion\n",
    "\n",
    "For the best possible alignment of the two sequences.\n",
    "\n"
   ]
  },
  {
   "cell_type": "code",
   "execution_count": 15,
   "metadata": {
    "colab": {},
    "colab_type": "code",
    "id": "RoBhsx7GNqI_"
   },
   "outputs": [],
   "source": [
    "import numpy as np\n",
    "\n",
    "def get_PER_sequence(ref_seq, target_seq):\n",
    "\n",
    "  # re = g.split()\n",
    "  # h = h.split()\n",
    "  n = len(ref_seq)\n",
    "  m = len(target_seq)\n",
    "\n",
    "  D = np.zeros((n+1,m+1))\n",
    "  for i in range(1,n+1):\n",
    "    D[i,0] = D[i-1,0]+1\n",
    "  for j in range(1,m+1):\n",
    "    D[0,j] = D[0,j-1]+1\n",
    "  \n",
    "  ### TODO compute the alignment\n",
    "\n",
    "  for i in range(1,n+1):\n",
    "    for j in range(1,m+1):\n",
    "      D[i,j] = min(\n",
    "          D[i-1,j]+1,\n",
    "          D[i-1,j-1]+1,\n",
    "          D[i,j-1]+1,\n",
    "          D[i-1,j-1]+ 0 if ref_seq[i-1]==target_seq[j-1] else float(\"inf\")\n",
    "      )\n",
    "  return D[n,m]/len(ref_seq)\n",
    "  \n",
    "\n",
    "  #return PER"
   ]
  },
  {
   "cell_type": "markdown",
   "metadata": {
    "colab_type": "text",
    "id": "r-hr0KK0mgcR"
   },
   "source": [
    "You can test your function below:"
   ]
  },
  {
   "cell_type": "code",
   "execution_count": 45,
   "metadata": {
    "colab": {
     "base_uri": "https://localhost:8080/",
     "height": 34
    },
    "colab_type": "code",
    "id": "AfTb3yOQmvey",
    "outputId": "5db807ca-4c58-4413-ab19-6581d7d07263"
   },
   "outputs": [
    {
     "name": "stdout",
     "output_type": "stream",
     "text": [
      "True\n"
     ]
    }
   ],
   "source": [
    "ref_seq = [0, 1, 1, 2, 0, 2, 2]\n",
    "pred_seq = [1, 1, 2, 2, 0, 0]\n",
    "\n",
    "expected_PER = 4. / 7.\n",
    "print(get_PER_sequence(ref_seq, pred_seq) == expected_PER)"
   ]
  },
  {
   "cell_type": "markdown",
   "metadata": {
    "colab_type": "text",
    "id": "nHiyChl-m_k7"
   },
   "source": [
    "## c- Evaluating the PER of your model on the test dataset\n",
    "\n",
    "Evaluate the PER on the validation dataset. Please notice that you should usually use a separate dataset, called the dev dataset, to perform this operation. However for the sake of simplicity we will work with validation data in this exercise."
   ]
  },
  {
   "cell_type": "code",
   "execution_count": 16,
   "metadata": {
    "colab": {},
    "colab_type": "code",
    "id": "DMkX0PoFnclg"
   },
   "outputs": [],
   "source": [
    "import progressbar\n",
    "from multiprocessing import Pool\n",
    "\n",
    "def cut_data(seq, sizeSeq):\n",
    "    maxSeq = sizeSeq.max()\n",
    "    return seq[:, :maxSeq]\n",
    "\n",
    "\n",
    "def prepare_data(data):\n",
    "    seq, sizeSeq, phone, sizePhone = data\n",
    "    seq = seq.cuda()\n",
    "    phone = phone.cuda()\n",
    "    sizeSeq = sizeSeq.cuda().view(-1)\n",
    "    sizePhone = sizePhone.cuda().view(-1)\n",
    "\n",
    "    seq = cut_data(seq.permute(0, 2, 1), sizeSeq).permute(0, 2, 1)\n",
    "    return seq, sizeSeq, phone, sizePhone\n",
    "\n",
    "\n",
    "def get_per(test_dataloader,\n",
    "            cpc_model,\n",
    "            phone_classifier):\n",
    "\n",
    "  downsampling_factor = 160\n",
    "  cpc_model.eval()\n",
    "  phone_classifier.eval()\n",
    "\n",
    "  avgPER = 0\n",
    "  nItems = 0 \n",
    "\n",
    "  print(\"Starting the PER computation through beam search\")\n",
    "  bar = progressbar.ProgressBar(maxval=len(test_dataloader))\n",
    "  bar.start()\n",
    "\n",
    "  for index, data in enumerate(test_dataloader):\n",
    "\n",
    "    bar.update(index)\n",
    "\n",
    "    with torch.no_grad():\n",
    "      \n",
    "        seq, sizeSeq, phone, sizePhone = prepare_data(data)\n",
    "        c_feature, _, _ = cpc_model(seq.to(device),phone.to(device))\n",
    "        sizeSeq = sizeSeq / downsampling_factor\n",
    "        predictions = torch.nn.functional.softmax(\n",
    "        phone_classifier(c_feature), dim=2).cpu()\n",
    "        phone = phone.cpu()\n",
    "        sizeSeq = sizeSeq.cpu()\n",
    "        sizePhone = sizePhone.cpu()\n",
    "\n",
    "        bs = c_feature.size(0)\n",
    "        data_per = [(predictions[b].argmax(1),  phone[b]) for b in range(bs)]\n",
    "        # data_per = [(predictions[b], sizeSeq[b], phone[b], sizePhone[b],\n",
    "        #               \"criterion.module.BLANK_LABEL\") for b in range(bs)]\n",
    "\n",
    "        with Pool(bs) as p:\n",
    "            poolData = p.starmap(get_PER_sequence, data_per)\n",
    "        avgPER += sum([x for x in poolData])\n",
    "        nItems += len(poolData)\n",
    "\n",
    "  bar.finish()\n",
    "\n",
    "  avgPER /= nItems\n",
    "\n",
    "  print(f\"Average PER {avgPER}\")\n",
    "  return avgPER\n"
   ]
  },
  {
   "cell_type": "code",
   "execution_count": 91,
   "metadata": {
    "colab": {
     "base_uri": "https://localhost:8080/",
     "height": 85
    },
    "colab_type": "code",
    "id": "2hvnudh4Osb4",
    "outputId": "acdd8ab7-c766-4a2b-9b6c-b744266d6240"
   },
   "outputs": [
    {
     "name": "stderr",
     "output_type": "stream",
     "text": [
      "N/A% (0 of 27) |                         | Elapsed Time: 0:00:00 ETA:  --:--:--"
     ]
    },
    {
     "name": "stdout",
     "output_type": "stream",
     "text": [
      "Starting the PER computation through beam search\n"
     ]
    },
    {
     "name": "stderr",
     "output_type": "stream",
     "text": [
      "100% (27 of 27) |########################| Elapsed Time: 0:10:44 Time:  0:10:44\n"
     ]
    },
    {
     "name": "stdout",
     "output_type": "stream",
     "text": [
      "Average PER 0.9509821691500522\n"
     ]
    },
    {
     "data": {
      "text/plain": [
       "0.9509821691500522"
      ]
     },
     "execution_count": 91,
     "metadata": {
      "tags": []
     },
     "output_type": "execute_result"
    }
   ],
   "source": [
    "get_per(data_loader_val,cpc_model,phone_classifier)"
   ]
  },
  {
   "cell_type": "markdown",
   "metadata": {
    "colab_type": "text",
    "id": "p8e9D7g8159k"
   },
   "source": [
    "## Exercice 3 : Character error rate (CER) \n",
    "\n",
    "The Character Error Rate (CER) is an evaluation metric similar to the PER but with characters insterad of phonemes. Using the following data, run the functions you defined previously to estimate the CER of your model after fine-tuning."
   ]
  },
  {
   "cell_type": "code",
   "execution_count": 23,
   "metadata": {
    "colab": {
     "base_uri": "https://localhost:8080/",
     "height": 272
    },
    "colab_type": "code",
    "id": "cXONmKQOuFSn",
    "outputId": "5a2791ec-ff0e-4749-ce93-92922ffbee01"
   },
   "outputs": [
    {
     "name": "stderr",
     "output_type": "stream",
     "text": [
      "67it [00:00, 10784.76it/s]"
     ]
    },
    {
     "name": "stdout",
     "output_type": "stream",
     "text": [
      "/content/CPC_audio\n",
      "Saved cache file at /content/per_data/pack_master/1h/_seqs_cache.txt\n"
     ]
    },
    {
     "name": "stderr",
     "output_type": "stream",
     "text": [
      "\n",
      "7it [00:00, 1741.82it/s]"
     ]
    },
    {
     "name": "stdout",
     "output_type": "stream",
     "text": [
      "Loaded 287 sequences in 2.68 seconds\n",
      "maxSizeSeq : 273359\n",
      "maxSizePhone : 300\n",
      "minSizePhone : 18\n",
      "Total size dataset 1.0406152430555555 hours\n",
      "Saved cache file at /content/per_data/pack_master/10min/_seqs_cache.txt\n"
     ]
    },
    {
     "name": "stderr",
     "output_type": "stream",
     "text": [
      "\n"
     ]
    },
    {
     "name": "stdout",
     "output_type": "stream",
     "text": [
      "Loaded 212 sequences in 2.29 seconds\n",
      "maxSizeSeq : 273760\n",
      "maxSizePhone : 273\n",
      "minSizePhone : 29\n",
      "Total size dataset 0.73 hours\n"
     ]
    }
   ],
   "source": [
    "# Load a dataset labelled with the letters of each sequence.\n",
    "%cd /content/CPC_audio\n",
    "from cpc.eval.common_voices_eval import SingleSequenceDataset, parseSeqLabels, findAllSeqs\n",
    "path_train_data_cer = '/content/per_data/pack_master/1h'\n",
    "path_val_data_cer = '/content/per_data/pack_master/10min'\n",
    "path_letter_data_cer = '/content/per_data/pack_master/chars.txt'\n",
    "BATCH_SIZE=8\n",
    "\n",
    "letters_labels, N_LETTERS = parseSeqLabels(path_letter_data_cer)\n",
    "data_train_cer, _ = findAllSeqs(path_train_data_cer, extension='.flac')\n",
    "dataset_train_non_aligned = SingleSequenceDataset(path_train_data_cer, data_train_cer, letters_labels)\n",
    "\n",
    "\n",
    "data_val_cer, _ = findAllSeqs(path_val_data_cer, extension='.flac')\n",
    "dataset_val_non_aligned = SingleSequenceDataset(path_val_data_cer, data_val_cer, letters_labels)\n",
    "\n",
    "\n",
    "# The data loader will generate a tuple of tensors data, labels for each batch\n",
    "# data : size N x T1 x 1 : the audio sequence\n",
    "# label : size N x T2 the sequence of letters corresponding to the audio data\n",
    "# IMPORTANT NOTE: just like the PER the CER is computed with non-aligned phone data.\n",
    "data_loader_train_letters = torch.utils.data.DataLoader(dataset_train_non_aligned, batch_size=BATCH_SIZE,\n",
    "                                                shuffle=True)\n",
    "data_loader_val_letters = torch.utils.data.DataLoader(dataset_val_non_aligned, batch_size=BATCH_SIZE,\n",
    "                                              shuffle=True)"
   ]
  },
  {
   "cell_type": "code",
   "execution_count": 24,
   "metadata": {
    "colab": {
     "base_uri": "https://localhost:8080/",
     "height": 51
    },
    "colab_type": "code",
    "id": "9h07zI2LjzAU",
    "outputId": "70542ed5-a32e-448f-83ea-6355e601511e"
   },
   "outputs": [
    {
     "name": "stdout",
     "output_type": "stream",
     "text": [
      "Loading checkpoint checkpoint_data/checkpoint_30.pt\n",
      "Loading the state dict at checkpoint_data/checkpoint_30.pt\n"
     ]
    }
   ],
   "source": [
    "from cpc.feature_loader import loadModel\n",
    "\n",
    "checkpoint_path = 'checkpoint_data/checkpoint_30.pt'\n",
    "cpc_model, HIDDEN_CONTEXT_MODEL, HIDDEN_ENCODER_MODEL = loadModel([checkpoint_path])\n",
    "cpc_model = cpc_model.cuda()\n",
    "character_classifier = PhoneClassifier(HIDDEN_CONTEXT_MODEL, N_LETTERS).to(device)"
   ]
  },
  {
   "cell_type": "code",
   "execution_count": 27,
   "metadata": {
    "colab": {},
    "colab_type": "code",
    "id": "rHCNg1E7lW1L"
   },
   "outputs": [],
   "source": [
    "parameters = list(character_classifier.parameters()) + list(cpc_model.parameters())\n",
    "LEARNING_RATE = 2e-4\n",
    "optimizer = torch.optim.Adam(parameters, lr=LEARNING_RATE)\n",
    "\n",
    "optimizer_frozen = torch.optim.Adam(list(character_classifier.parameters()), lr=LEARNING_RATE)"
   ]
  },
  {
   "cell_type": "code",
   "execution_count": 25,
   "metadata": {
    "colab": {},
    "colab_type": "code",
    "id": "engpkljbk9hj"
   },
   "outputs": [],
   "source": [
    "loss_ctc = torch.nn.CTCLoss()"
   ]
  },
  {
   "cell_type": "code",
   "execution_count": 35,
   "metadata": {
    "colab": {
     "base_uri": "https://localhost:8080/",
     "height": 1000
    },
    "colab_type": "code",
    "id": "9NBHd2s2kxld",
    "outputId": "24067818-b4b2-4f90-a433-a63f851b7587"
   },
   "outputs": [
    {
     "name": "stdout",
     "output_type": "stream",
     "text": [
      "Running epoch 1 / 10\n",
      "-------------------\n",
      "Training dataset :\n",
      "Average loss : 17.15224294729166.\n",
      "-------------------\n",
      "Validation dataset\n",
      "Average loss : 16.621312869103598\n",
      "-------------------\n",
      "\n",
      "Running epoch 2 / 10\n",
      "-------------------\n",
      "Training dataset :\n",
      "Average loss : 15.531890602378578.\n",
      "-------------------\n",
      "Validation dataset\n",
      "Average loss : 14.840831449246519\n",
      "-------------------\n",
      "\n",
      "Running epoch 3 / 10\n",
      "-------------------\n",
      "Training dataset :\n",
      "Average loss : 13.80899079863008.\n",
      "-------------------\n",
      "Validation dataset\n",
      "Average loss : 12.998893340052021\n",
      "-------------------\n",
      "\n",
      "Running epoch 4 / 10\n",
      "-------------------\n",
      "Training dataset :\n",
      "Average loss : 12.093861906678526.\n",
      "-------------------\n",
      "Validation dataset\n",
      "Average loss : 11.24841435599666\n",
      "-------------------\n",
      "\n",
      "Running epoch 5 / 10\n",
      "-------------------\n",
      "Training dataset :\n",
      "Average loss : 10.522326436076131.\n",
      "-------------------\n",
      "Validation dataset\n",
      "Average loss : 9.72009142654202\n",
      "-------------------\n",
      "\n",
      "Running epoch 6 / 10\n",
      "-------------------\n",
      "Training dataset :\n",
      "Average loss : 9.169493901979672.\n",
      "-------------------\n",
      "Validation dataset\n",
      "Average loss : 8.452587624861732\n",
      "-------------------\n",
      "\n",
      "Running epoch 7 / 10\n",
      "-------------------\n",
      "Training dataset :\n",
      "Average loss : 8.05292275568822.\n",
      "-------------------\n",
      "Validation dataset\n",
      "Average loss : 7.4334790514543725\n",
      "-------------------\n",
      "\n",
      "Running epoch 8 / 10\n",
      "-------------------\n",
      "Training dataset :\n",
      "Average loss : 7.152782953702486.\n",
      "-------------------\n",
      "Validation dataset\n",
      "Average loss : 6.621052656128509\n",
      "-------------------\n",
      "\n",
      "Running epoch 9 / 10\n",
      "-------------------\n",
      "Training dataset :\n",
      "Average loss : 6.4348565915247775.\n",
      "-------------------\n",
      "Validation dataset\n",
      "Average loss : 5.983951862389443\n",
      "-------------------\n",
      "\n",
      "Running epoch 10 / 10\n",
      "-------------------\n",
      "Training dataset :\n",
      "Average loss : 5.864399843282633.\n",
      "-------------------\n",
      "Validation dataset\n",
      "Average loss : 5.487570416870841\n",
      "-------------------\n",
      "\n"
     ]
    }
   ],
   "source": [
    "run_ctc(cpc_model,character_classifier,loss_ctc,data_loader_train_letters,data_loader_val_letters,optimizer_frozen,n_epoch=10)"
   ]
  },
  {
   "cell_type": "code",
   "execution_count": 36,
   "metadata": {
    "colab": {
     "base_uri": "https://localhost:8080/",
     "height": 85
    },
    "colab_type": "code",
    "id": "A8oxFr1jm17P",
    "outputId": "947ea6da-7fd9-4106-e3f1-32cf6d77c4f4"
   },
   "outputs": [
    {
     "name": "stderr",
     "output_type": "stream",
     "text": [
      "N/A% (0 of 27) |                         | Elapsed Time: 0:00:00 ETA:  --:--:--"
     ]
    },
    {
     "name": "stdout",
     "output_type": "stream",
     "text": [
      "Starting the PER computation through beam search\n"
     ]
    },
    {
     "name": "stderr",
     "output_type": "stream",
     "text": [
      "100% (27 of 27) |########################| Elapsed Time: 0:17:48 Time:  0:17:48\n"
     ]
    },
    {
     "name": "stdout",
     "output_type": "stream",
     "text": [
      "Average PER 0.9113886992183796\n"
     ]
    },
    {
     "data": {
      "text/plain": [
       "0.9113886992183796"
      ]
     },
     "execution_count": 36,
     "metadata": {
      "tags": []
     },
     "output_type": "execute_result"
    }
   ],
   "source": [
    "get_per(data_loader_val_letters,cpc_model,character_classifier)"
   ]
  },
  {
   "cell_type": "markdown",
   "metadata": {
    "colab_type": "text",
    "id": "YZ1Wywx3BNGS"
   },
   "source": [
    "# Part 1 : contrastive predictive coding\n",
    "\n",
    "Contrastive Predictive Coding (CPC) is a method of unsupervised training for speech models. The idea behind it is pretty simple:\n",
    "\n",
    "\n",
    "1.   The raw audio wave is passed through a convolutional network: the ```encoder```\n",
    "2.   Then, the encoder's output is given to a recurrent network the ```context```\n",
    "3. A third party network, the ```prediction_network``` will try to predict the  future embeddings of the encoder using the output of the context network.\n",
    "\n",
    "In order to avoid a collapse to trivial solutions, the prediction_network doesn't try to reconstruct the future features. Instead, using the context output $c_t$ at time $t$ it is trained to discriminate the real  encoder representatioin $g_{t+k}$ at time $t+k$ from several other features $(g_n)_n$ taken elsewhere in the batch. Thus the loss becomes:\n",
    "\n",
    "\\\\[ \\mathcal{L}_c = - \\frac{1}{K} \\sum_{k=1}^K \\text{Cross_entropy}(\\phi_k(c_t), g_{t+k}) \\\\]\n",
    "\n",
    "Or:\n",
    "\n",
    "\\\\[ \\mathcal{L}_c = - \\frac{1}{K} \\sum_{k=1}^K \\log \\frac{ \\exp\\left(\\phi_k(c_t)^\\top g_{t+k}\\right) }{  \\sum_{\\mathbf{n}\\in\\mathcal{N}_t} \\exp\\left(\\phi_k(c_t)^\\top g_n\\right)} \\\\]\n",
    "\n",
    "Where:\n",
    "\n",
    "\n",
    "*   $\\phi_k$ is the prediction network for the kth timestep\n",
    "*   $\\mathcal{N}_t$ is the set of all negative examples sampled for timestep $t$\n",
    "\n",
    "\n"
   ]
  },
  {
   "cell_type": "markdown",
   "metadata": {
    "colab_type": "text",
    "id": "frPFYXuPfNPs"
   },
   "source": [
    "## Exercice 1 : Building the model\n",
    "\n",
    "In this exercise, we will build and train a small CPC model using the repository CPC_audio.\n",
    "\n",
    "The code below loads a context and an encoder newtorks."
   ]
  },
  {
   "cell_type": "code",
   "execution_count": 2,
   "metadata": {
    "colab": {
     "base_uri": "https://localhost:8080/",
     "height": 34
    },
    "colab_type": "code",
    "id": "8g-xPSdLRdui",
    "outputId": "3844cc98-f55a-4124-c41c-72490fc2f9e8"
   },
   "outputs": [
    {
     "name": "stdout",
     "output_type": "stream",
     "text": [
      "/content/CPC_audio\n"
     ]
    }
   ],
   "source": [
    "%cd /content/CPC_audio\n",
    "from cpc.model import CPCEncoder, CPCAR\n",
    "device = torch.device(\"cuda:0\" if torch.cuda.is_available() else \"cpu\")\n",
    "\n",
    "DIM_ENCODER=256\n",
    "DIM_CONTEXT=256\n",
    "KEEP_HIDDEN_VECTOR=False\n",
    "N_LEVELS_CONTEXT=1\n",
    "CONTEXT_RNN=\"LSTM\"\n",
    "N_PREDICTIONS=12\n",
    "LEARNING_RATE=2e-4\n",
    "N_NEGATIVE_SAMPLE =128"
   ]
  },
  {
   "cell_type": "code",
   "execution_count": 3,
   "metadata": {
    "colab": {},
    "colab_type": "code",
    "id": "7Wx8WkrQk9bQ"
   },
   "outputs": [],
   "source": [
    "encoder = CPCEncoder(DIM_ENCODER).to(device)\n",
    "context = CPCAR(DIM_ENCODER, DIM_CONTEXT, KEEP_HIDDEN_VECTOR, 1, mode=CONTEXT_RNN).to(device)"
   ]
  },
  {
   "cell_type": "code",
   "execution_count": 4,
   "metadata": {
    "colab": {},
    "colab_type": "code",
    "id": "f9BrweAIla4J"
   },
   "outputs": [],
   "source": [
    "# Several functions that will be necessary to load the data later\n",
    "from cpc.dataset import findAllSeqs, AudioBatchData, parseSeqLabels\n",
    "SIZE_WINDOW = 20480\n",
    "BATCH_SIZE=8\n",
    "def load_dataset(path_dataset, file_extension='.flac', phone_label_dict=None):\n",
    "  data_list, speakers = findAllSeqs(path_dataset, extension=file_extension)\n",
    "  dataset = AudioBatchData(path_dataset, SIZE_WINDOW, data_list, phone_label_dict, len(speakers))\n",
    "  return dataset"
   ]
  },
  {
   "cell_type": "markdown",
   "metadata": {
    "colab_type": "text",
    "id": "58pQ7ysXk9ZO"
   },
   "source": [
    "Now build a new class, ```CPCModel``` which will"
   ]
  },
  {
   "cell_type": "code",
   "execution_count": 5,
   "metadata": {
    "colab": {},
    "colab_type": "code",
    "id": "rR5IYRTpRF8T"
   },
   "outputs": [],
   "source": [
    "class CPCModel(torch.nn.Module):\n",
    "\n",
    "    def __init__(self,\n",
    "                 encoder,\n",
    "                 AR):\n",
    "\n",
    "        super(CPCModel, self).__init__()\n",
    "        self.gEncoder = encoder\n",
    "        self.gAR = AR\n",
    "\n",
    "    def forward(self, batch_data):\n",
    "        \n",
    "\n",
    "        encoder_output = self.gEncoder(batch_data)\n",
    "        #print(encoder_output.shape)\n",
    "        # The output of the encoder data does not have the good format \n",
    "        # indeed it is Batch_size x Hidden_size x temp size\n",
    "        # while the context requires Batch_size  x temp size x Hidden_size\n",
    "        # thus you need to permute\n",
    "        context_input = encoder_output.permute(0, 2, 1)\n",
    "\n",
    "        context_output = self.gAR(context_input)\n",
    "        #print(context_output.shape)\n",
    "        return context_output, encoder_output"
   ]
  },
  {
   "cell_type": "markdown",
   "metadata": {
    "colab_type": "text",
    "id": "XUJgm6Rl4vS4"
   },
   "source": [
    "Let's test your code !\n"
   ]
  },
  {
   "cell_type": "code",
   "execution_count": 6,
   "metadata": {
    "colab": {},
    "colab_type": "code",
    "id": "D1x1n4mv4y03"
   },
   "outputs": [],
   "source": [
    "audio = torchaudio.load(\"/content/train_data/831/130739/831-130739-0048.flac\")[0]\n",
    "audio = audio.view(1, 1, -1)\n",
    "cpc_model = CPCModel(encoder, context).to(device)\n",
    "context_output, encoder_output = cpc_model(audio.to(device))"
   ]
  },
  {
   "cell_type": "markdown",
   "metadata": {
    "colab_type": "text",
    "id": "X27ce8Hy3C2p"
   },
   "source": [
    "## Exercise 2 : CPC loss\n",
    "\n",
    "We will define a class ```CPCCriterion``` which will hold the prediction networks $\\phi_k$ defined above and perform the classification loss $\\mathcal{L}_c$.\n",
    "\n",
    "a) In this exercise, the $\\phi_k$ will be a linear transform, ie:\n",
    "\n",
    "\\\\[ \\phi_k(c_t) = \\mathbf{A}_k c_t\\\\]\n",
    "\n",
    "Using the class [torch.nn.Linear](https://pytorch.org/docs/stable/nn.html#torch.nn.Linear), define the transformations $\\phi_k$ in the code below and complete the function ```get_prediction_k``` which computes $\\phi_k(c_t)$ for a given batch of vectors $c_t$.\n",
    "\n",
    "b) Using both ```get_prediction_k```  and ```sample_negatives``` defined below, write the forward function which will take as input two batches of features $c_t$ and $g_t$ and outputs the classification loss $\\mathcal{L}_c$ and the average acuracy for all predictions. "
   ]
  },
  {
   "cell_type": "code",
   "execution_count": 7,
   "metadata": {
    "colab": {},
    "colab_type": "code",
    "id": "UlAs-z1fBc3W"
   },
   "outputs": [],
   "source": [
    "# Exercice 2: write the CPC loss\n",
    "# a) Write the negative sampling (with some help)\n",
    "# ERRATUM: it's really hard, the sampling will be provided\n",
    "\n",
    "class CPCCriterion(torch.nn.Module):\n",
    "\n",
    "  def __init__(self,\n",
    "               K,\n",
    "               dim_context,\n",
    "               dim_encoder,\n",
    "               n_negative):\n",
    "    super(CPCCriterion, self).__init__()\n",
    "    self.K_ = K\n",
    "    self.dim_context = dim_context\n",
    "    self.dim_encoder = dim_encoder\n",
    "    self.n_negative = n_negative\n",
    "\n",
    "    self.predictors = torch.nn.ModuleList() \n",
    "    for k in range(self.K_):\n",
    "      # TO COMPLETE !\n",
    "      \n",
    "      # A affine transformation in pytorch is equivalent to a nn.Linear layer\n",
    "      # To get a linear transformation you must set bias=False\n",
    "      # input dimension of the layer = dimension of the encoder\n",
    "      # output dimension of the layer = dimension of the context\n",
    "      self.predictors.append(torch.nn.Linear(dim_context, dim_encoder, bias=False))\n",
    "\n",
    "  def get_prediction_k(self, context_data):\n",
    "\n",
    "    #TO COMPLETE !\n",
    "    output = [] \n",
    "    # For each time step k\n",
    "    for k in range(self.K_):\n",
    "\n",
    "      # We need to compute phi_k = A_k * c_t\n",
    "      phi_k = self.predictors[k](context_data)\n",
    "      output.append(phi_k)\n",
    "\n",
    "    return output\n",
    "\n",
    "\n",
    "  def sample_negatives(self, encoded_data):\n",
    "    r\"\"\"\n",
    "    Sample some negative examples in the given encoded data.\n",
    "    Input:\n",
    "    - encoded_data size: B x T x H\n",
    "    Returns\n",
    "    - outputs of size B x (n_negative + 1) x (T - K_) x H\n",
    "      outputs[:, 0, :, :] contains the positive example\n",
    "      outputs[:, 1:, :, :] contains negative example sampled in the batch\n",
    "    - labels, long tensor of size B x (T - K_)\n",
    "      Since the positive example is always at coordinates 0 for all sequences \n",
    "      in the batch and all timestep in the sequence, labels is just a tensor\n",
    "      full of zeros !\n",
    "    \"\"\"\n",
    "    batch_size, time_size, dim_encoded = encoded_data.size()\n",
    "    window_size = time_size - self.K_\n",
    "    outputs = []\n",
    "\n",
    "    neg_ext = encoded_data.contiguous().view(-1, dim_encoded)\n",
    "    n_elem_sampled = self.n_negative * window_size * batch_size\n",
    "    # Draw nNegativeExt * batchSize negative samples anywhere in the batch\n",
    "    batch_idx = torch.randint(low=0, high=batch_size,\n",
    "                              size=(n_elem_sampled, ),\n",
    "                              device=encoded_data.device)\n",
    "\n",
    "    seq_idx = torch.randint(low=1, high=time_size,\n",
    "                            size=(n_elem_sampled, ),\n",
    "                            device=encoded_data.device)\n",
    "\n",
    "    base_idx = torch.arange(0, window_size, device=encoded_data.device)\n",
    "    base_idx = base_idx.view(1, 1, window_size)\n",
    "    base_idx = base_idx.expand(1, self.n_negative, window_size)\n",
    "    base_idx = base_idx.expand(batch_size, self.n_negative, window_size)\n",
    "    seq_idx += base_idx.contiguous().view(-1)\n",
    "    seq_idx = torch.remainder(seq_idx, time_size)\n",
    "\n",
    "    ext_idx = seq_idx + batch_idx * time_size\n",
    "    neg_ext = neg_ext[ext_idx].view(batch_size, self.n_negative,\n",
    "                                    window_size, dim_encoded)\n",
    "    label_loss = torch.zeros((batch_size, window_size),\n",
    "                              dtype=torch.long,\n",
    "                              device=encoded_data.device)\n",
    "\n",
    "    for k in range(1, self.K_ + 1):\n",
    "\n",
    "      # Positive samples\n",
    "      if k < self.K_:\n",
    "          pos_seq = encoded_data[:, k:-(self.K_-k)]\n",
    "      else:\n",
    "          pos_seq = encoded_data[:, k:]\n",
    "\n",
    "      pos_seq = pos_seq.view(batch_size, 1, pos_seq.size(1), dim_encoded)\n",
    "      full_seq = torch.cat((pos_seq, neg_ext), dim=1)\n",
    "      outputs.append(full_seq)\n",
    "\n",
    "    return outputs, label_loss\n",
    "\n",
    "  def forward(self, encoded_data, context_data):\n",
    "\n",
    "    # TO COMPLETE:\n",
    "    # Perform the full cpc criterion\n",
    "    # Returns 2 values:\n",
    "    # - the average classification loss avg_loss\n",
    "    # - the average classification acuracy avg_acc\n",
    "\n",
    "    # Reminder : The permuation !\n",
    "    encoded_data = encoded_data.permute(0, 2, 1)\n",
    "\n",
    "    # First we need to sample the negative examples\n",
    "    negative_samples, labels = self.sample_negatives(encoded_data)\n",
    "\n",
    "    # Then we must compute phi_k\n",
    "    phi_k = self.get_prediction_k(context_data)\n",
    "\n",
    "    # Finally we must get the dot product between phi_k and negative_samples \n",
    "    # for each k\n",
    "\n",
    "    #The total loss is the average of all losses\n",
    "    avg_loss = 0\n",
    "\n",
    "    # Average acuracy\n",
    "    avg_acc = 0\n",
    "\n",
    "    for k in range(self.K_):\n",
    "      B, N_sampled, S_small, H = negative_samples[k].size() \n",
    "      B, S, H = phi_k[k].size()\n",
    "\n",
    "      # As told before S = S_small + K. For segments too far in the sequence\n",
    "      # there are no positive exmples anyway, so we must shorten phi_k\n",
    "      phi = phi_k[k][:, :S_small]\n",
    "\n",
    "      # Now the dot product\n",
    "      # You have several ways to do that, let's do the simple but non optimal \n",
    "      # one\n",
    "      # pytorch has a matrix product function https://pytorch.org/docs/stable/torch.html#torch.bmm\n",
    "      # But it takes only 3D tensors of the same batch size !\n",
    "      # To begin negative_samples is a 4D tensor ! \n",
    "      # We want to compute the dot product for each features, of each sequence\n",
    "      # of the batch. Thus we are trying to compute a dot product for all\n",
    "      # B* N_sampled * S_small 1D vector of negative_samples[k]\n",
    "      # Or, a 1D tensor of size H is also a matrix of size 1 x H\n",
    "      # Then, we must view it as a 3D tensor of size (B* N_sampled * S_small, 1, H)\n",
    "      negative_sample_k  =  negative_samples[k].view(B* N_sampled* S_small, 1, H)\n",
    "\n",
    "      # But now phi and negative_sample_k no longer have the same batch size !\n",
    "      # No worries, we can expand phi so that each sequence of the batch\n",
    "      # is repeated N_sampled times\n",
    "      phi = phi.view(B, 1,S_small, H).expand(B, N_sampled, S_small, H)\n",
    "\n",
    "      # And now we can view it as a 3D tensor \n",
    "      phi  = phi.contiguous().view(B * N_sampled * S_small, H, 1)\n",
    "\n",
    "      # We can finally get the dot product !\n",
    "      scores = torch.bmm(negative_sample_k, phi)\n",
    "\n",
    "      # Dot_product has a size (B * N_sampled * S_small , 1, 1)\n",
    "      # Let's reorder it a bit\n",
    "      scores = scores.reshape(B, N_sampled, S_small)\n",
    "\n",
    "      # For each elements of the sequence, and each elements sampled, it gives \n",
    "      # a floating score stating the likelihood of this element being the \n",
    "      # true one.\n",
    "      # Now the classification loss, we need to use the Cross Entropy loss\n",
    "      # https://pytorch.org/docs/master/generated/torch.nn.CrossEntropyLoss.html\n",
    "\n",
    "      # For each time-step of each sequence of the batch \n",
    "      # we have N_sampled possible predictions. \n",
    "      # Looking at the documentation of torch.nn.CrossEntropyLoss\n",
    "      # we can see that this loss expect a tensor of size M x C where \n",
    "      # - M is the number of elements with a classification score\n",
    "      # - C is the number of possible classes\n",
    "      # There are N_sampled candidates for each predictions so\n",
    "      # C = N_sampled \n",
    "      # Each timestep of each sequence of the batch has a prediction so\n",
    "      # M = B * S_small\n",
    "      # Thus we need an input vector of size B * S_small, N_sampled\n",
    "      # To begin, we need to permute the axis\n",
    "      scores = scores.permute(0, 2, 1) # Now it has size B , S_small, N_sampled\n",
    "\n",
    "      # Then we can cast it into a 2D tensor\n",
    "      scores = scores.reshape(B * S_small, N_sampled)\n",
    "\n",
    "      # Same thing for the labels \n",
    "      labels = labels.reshape(B * S_small)\n",
    "\n",
    "      # Finally we can get the classification loss\n",
    "      loss_criterion = torch.nn.CrossEntropyLoss()\n",
    "      loss_k = loss_criterion(scores, labels)\n",
    "      avg_loss+= loss_k\n",
    "\n",
    "      # And for the acuracy\n",
    "      # The prediction for each elements is the sample with the highest score\n",
    "      # Thus the tensors of all predictions is the tensors of the index of the \n",
    "      # maximal score for each time-step of each sequence of the batch\n",
    "      predictions = torch.argmax(scores, 1)\n",
    "      acc_k  = (labels == predictions).sum() / (B * S_small)\n",
    "      avg_acc += acc_k\n",
    "\n",
    "    # Normalization\n",
    "    avg_loss = avg_loss / self.K_\n",
    "    avg_acc = avg_acc / self.K_\n",
    "      \n",
    "    return avg_loss , avg_acc"
   ]
  },
  {
   "cell_type": "markdown",
   "metadata": {
    "colab_type": "text",
    "id": "0cqGXhLf-_O1"
   },
   "source": [
    "Don't forget to test !"
   ]
  },
  {
   "cell_type": "code",
   "execution_count": 8,
   "metadata": {
    "colab": {
     "base_uri": "https://localhost:8080/",
     "height": 54
    },
    "colab_type": "code",
    "id": "sYJSMh5I_QCf",
    "outputId": "c3d3fa00-afec-4d5b-8e27-0e48a18f9d13"
   },
   "outputs": [
    {
     "name": "stderr",
     "output_type": "stream",
     "text": [
      "/pytorch/aten/src/ATen/native/BinaryOps.cpp:81: UserWarning: Integer division of tensors using div or / is deprecated, and in a future release div will perform true division as in Python 3. Use true_divide or floor_divide (// in Python) instead.\n"
     ]
    }
   ],
   "source": [
    "audio = torchaudio.load(\"/content/train_data/831/130739/831-130739-0048.flac\")[0]\n",
    "audio = audio.view(1, 1, -1)\n",
    "cpc_criterion = CPCCriterion(N_PREDICTIONS, DIM_CONTEXT, \n",
    "                             DIM_ENCODER, N_NEGATIVE_SAMPLE).to(device)\n",
    "context_output, encoder_output = cpc_model(audio.to(device))\n",
    "loss, avg = cpc_criterion(encoder_output,context_output)"
   ]
  },
  {
   "cell_type": "markdown",
   "metadata": {
    "colab_type": "text",
    "id": "zLv7GoE0_4C3"
   },
   "source": [
    "## Exercise 3: Full training loop !\n",
    "\n",
    "You have the model, you have the criterion. All you need now are a data loader and an optimizer to run your training loop.\n",
    "\n",
    "We will use an Adam optimizer:"
   ]
  },
  {
   "cell_type": "code",
   "execution_count": 9,
   "metadata": {
    "colab": {},
    "colab_type": "code",
    "id": "zcg29tqPAIR1"
   },
   "outputs": [],
   "source": [
    "parameters = list(cpc_criterion.parameters()) + list(cpc_model.parameters())\n",
    "optimizer = torch.optim.Adam(parameters, lr=LEARNING_RATE)"
   ]
  },
  {
   "cell_type": "markdown",
   "metadata": {
    "colab_type": "text",
    "id": "hETDwSfTAuF4"
   },
   "source": [
    "And as far as the data loader is concerned, we will rely on the data loader provided by the CPC_audio library."
   ]
  },
  {
   "cell_type": "code",
   "execution_count": 10,
   "metadata": {
    "colab": {
     "base_uri": "https://localhost:8080/",
     "height": 323
    },
    "colab_type": "code",
    "id": "O6KES4RXA0tU",
    "outputId": "2652617d-4dd3-47c8-d500-978f13420cdc"
   },
   "outputs": [
    {
     "name": "stderr",
     "output_type": "stream",
     "text": [
      "162it [00:00, 14774.14it/s]"
     ]
    },
    {
     "name": "stdout",
     "output_type": "stream",
     "text": [
      "Saved cache file at /content/train_data/_seqs_cache.txt\n"
     ]
    },
    {
     "name": "stderr",
     "output_type": "stream",
     "text": [
      "\n",
      "1430it [00:00, 700683.96it/s]"
     ]
    },
    {
     "name": "stdout",
     "output_type": "stream",
     "text": [
      "Checking length...\n",
      "Done, elapsed: 0.142 seconds\n",
      "Scanned 1430 sequences in 0.14 seconds\n",
      "1 chunks computed\n",
      "Joining pool\n"
     ]
    },
    {
     "name": "stderr",
     "output_type": "stream",
     "text": [
      "\n"
     ]
    },
    {
     "name": "stdout",
     "output_type": "stream",
     "text": [
      "Joined process, elapsed=6.853 secs\n"
     ]
    },
    {
     "name": "stderr",
     "output_type": "stream",
     "text": [
      "169it [00:00, 1200.16it/s]\n"
     ]
    },
    {
     "name": "stdout",
     "output_type": "stream",
     "text": [
      "Saved cache file at /content/val_data/_seqs_cache.txt\n"
     ]
    },
    {
     "name": "stderr",
     "output_type": "stream",
     "text": [
      "316it [00:00, 479696.01it/s]"
     ]
    },
    {
     "name": "stdout",
     "output_type": "stream",
     "text": [
      "Checking length...\n",
      "Done, elapsed: 0.105 seconds\n",
      "Scanned 316 sequences in 0.10 seconds\n",
      "1 chunks computed\n",
      "Joining pool\n"
     ]
    },
    {
     "name": "stderr",
     "output_type": "stream",
     "text": [
      "\n"
     ]
    },
    {
     "name": "stdout",
     "output_type": "stream",
     "text": [
      "Joined process, elapsed=2.870 secs\n"
     ]
    }
   ],
   "source": [
    "dataset_train = load_dataset('/content/train_data')\n",
    "dataset_val = load_dataset('/content/val_data')\n",
    "data_loader_train = dataset_train.getDataLoader(BATCH_SIZE, \"speaker\", True)\n",
    "data_loader_val = dataset_train.getDataLoader(BATCH_SIZE, \"sequence\", False)"
   ]
  },
  {
   "cell_type": "markdown",
   "metadata": {
    "colab_type": "text",
    "id": "uCoMCPL0A8VI"
   },
   "source": [
    "Now that everything is ready, complete and test the ```train_step``` function below which trains the model for one epoch."
   ]
  },
  {
   "cell_type": "code",
   "execution_count": 17,
   "metadata": {
    "colab": {},
    "colab_type": "code",
    "id": "U-hIH3p8BsZr"
   },
   "outputs": [],
   "source": [
    "def train_step(data_loader,\n",
    "               cpc_model,\n",
    "               cpc_criterion,\n",
    "               optimizer):\n",
    "  \n",
    "  avg_loss = 0\n",
    "  avg_acc = 0\n",
    "  n_items = 0\n",
    "\n",
    "  for step, data in enumerate(data_loader):\n",
    "    x,y = data\n",
    "    bs = len(x)\n",
    "    optimizer.zero_grad()\n",
    "    context_output, encoder_output = cpc_model(x.to(device))\n",
    "    loss , acc = cpc_criterion(encoder_output, context_output)\n",
    "    loss.backward()\n",
    "    n_items+=bs\n",
    "    avg_loss+=loss.item()*bs\n",
    "    avg_acc +=acc.item()*bs\n",
    "  \n",
    "  avg_loss/=n_items\n",
    "  avg_acc/=n_items\n",
    "  return avg_loss, avg_acc"
   ]
  },
  {
   "cell_type": "markdown",
   "metadata": {
    "colab_type": "text",
    "id": "rIj06giJE_bZ"
   },
   "source": [
    "## Exercise 4 : Validation loop\n",
    "\n",
    "Now complete the validation loop."
   ]
  },
  {
   "cell_type": "code",
   "execution_count": 18,
   "metadata": {
    "colab": {},
    "colab_type": "code",
    "id": "Q7Qwi6jDByyt"
   },
   "outputs": [],
   "source": [
    "def validation_step(data_loader,\n",
    "                    cpc_model,\n",
    "                    cpc_criterion):\n",
    "  \n",
    "  avg_loss = 0\n",
    "  avg_acc = 0\n",
    "  n_items = 0\n",
    "\n",
    "  for step, data in enumerate(data_loader):\n",
    "    x,y = data\n",
    "    bs = len(x)\n",
    "    context_output, encoder_output = cpc_model(x.to(device))\n",
    "    loss , acc = cpc_criterion(encoder_output, context_output)\n",
    "    n_items+=bs\n",
    "    avg_loss+=loss.item()*bs\n",
    "    avg_acc+=acc.item()*bs\n",
    "  \n",
    "  avg_loss/=n_items\n",
    "  avg_acc/=n_items\n",
    "  return avg_loss, avg_acc"
   ]
  },
  {
   "cell_type": "markdown",
   "metadata": {
    "colab_type": "text",
    "id": "OBVUPKKs2_0U"
   },
   "source": [
    "## Exercise 5: Run everything"
   ]
  },
  {
   "cell_type": "code",
   "execution_count": 19,
   "metadata": {
    "colab": {},
    "colab_type": "code",
    "id": "ZbXsZIRiB1tm"
   },
   "outputs": [],
   "source": [
    "def run(train_loader,\n",
    "        val_loader,\n",
    "        cpc_model,\n",
    "        cpc_criterion,\n",
    "        optimizer,\n",
    "        n_epochs):\n",
    "  \n",
    "  for epoch in range(n_epochs):\n",
    "\n",
    "    \n",
    "    print(f\"Running epoch {epoch+1} / {n_epochs}\")\n",
    "    avg_loss_train, avg_acc_train = train_step(train_loader, cpc_model, cpc_criterion, optimizer)\n",
    "    print(\"----------------------\")\n",
    "    print(f\"Training dataset\")\n",
    "    print(f\"- average loss : {avg_loss_train}\")\n",
    "    print(f\"- average acuracy : {avg_acc_train}\")\n",
    "    print(\"----------------------\")\n",
    "    with torch.no_grad():\n",
    "      cpc_model.eval()\n",
    "      cpc_criterion.eval()\n",
    "      avg_loss_val, avg_acc_val = validation_step(val_loader, cpc_model, cpc_criterion)\n",
    "      print(f\"Validation dataset\")\n",
    "      print(f\"- average loss : {avg_loss_val}\")\n",
    "      print(f\"- average acuracy : {avg_acc_val}\")\n",
    "      print(\"----------------------\")\n",
    "      print()\n",
    "      cpc_model.train()\n",
    "      cpc_criterion.train()"
   ]
  },
  {
   "cell_type": "code",
   "execution_count": 20,
   "metadata": {
    "colab": {
     "base_uri": "https://localhost:8080/",
     "height": 204
    },
    "colab_type": "code",
    "id": "5xx8vN2wpECC",
    "outputId": "8ff9e12b-77fe-400a-e434-3062f72a123a"
   },
   "outputs": [
    {
     "name": "stdout",
     "output_type": "stream",
     "text": [
      "Running epoch 1 / 1\n",
      "----------------------\n",
      "Training dataset\n",
      "- average loss : 4.878548990311724\n",
      "- average acuracy : 0.0\n",
      "----------------------\n",
      "Validation dataset\n",
      "- average loss : 4.878525506558247\n",
      "- average acuracy : 0.0\n",
      "----------------------\n",
      "\n"
     ]
    }
   ],
   "source": [
    "run(data_loader_train, data_loader_val, cpc_model,cpc_criterion,optimizer,1)"
   ]
  },
  {
   "cell_type": "markdown",
   "metadata": {
    "colab_type": "text",
    "id": "5hoT3_3W6HYY"
   },
   "source": [
    "Once everything is donw, clear the memory."
   ]
  },
  {
   "cell_type": "code",
   "execution_count": 37,
   "metadata": {
    "colab": {},
    "colab_type": "code",
    "id": "fU5mDOY46KSG"
   },
   "outputs": [],
   "source": [
    "del dataset_train\n",
    "del dataset_val\n",
    "del cpc_model\n",
    "del context\n",
    "del encoder"
   ]
  },
  {
   "cell_type": "markdown",
   "metadata": {
    "colab_type": "text",
    "id": "srPM5r_LB9v-"
   },
   "source": [
    "# Part 2 : Fine tuning"
   ]
  },
  {
   "cell_type": "markdown",
   "metadata": {
    "colab_type": "text",
    "id": "0Nb_-0IQiJk9"
   },
   "source": [
    "## Exercice 1 : Phone separability with aligned phonemes.\n",
    "\n",
    "One option to evaluate the quality of the features trained with CPC can be to check if they can be used to recognize phonemes. \n",
    "To do so, we can fine-tune a pre-trained model using a limited amount of labelled speech data.\n",
    "We are going to start with a simple evaluation setting where we have the phone labels for each timestep corresponding to a CPC feature.\n",
    "\n",
    "We will work with a model already pre-trained on English data. As far as the fine-tuning dataset is concerned, we will use a 1h subset of [librispeech-100](http://www.openslr.org/12/). "
   ]
  },
  {
   "cell_type": "code",
   "execution_count": 19,
   "metadata": {
    "colab": {
     "base_uri": "https://localhost:8080/",
     "height": 595
    },
    "colab_type": "code",
    "id": "N-scDMAasXxc",
    "outputId": "3ae4d269-ccba-405e-ad08-da80e85a7e7a"
   },
   "outputs": [
    {
     "name": "stdout",
     "output_type": "stream",
     "text": [
      "--2020-06-29 10:11:59--  https://dl.fbaipublicfiles.com/librilight/CPC_checkpoints/not_hub/2levels_6k_top_ctc/checkpoint_30.pt\n",
      "Resolving dl.fbaipublicfiles.com (dl.fbaipublicfiles.com)... 104.22.74.142, 104.22.75.142, 172.67.9.4, ...\n",
      "Connecting to dl.fbaipublicfiles.com (dl.fbaipublicfiles.com)|104.22.74.142|:443... connected.\n",
      "HTTP request sent, awaiting response... 200 OK\n",
      "Length: 113599715 (108M) [application/octet-stream]\n",
      "Saving to: ‘checkpoint_data/checkpoint_30.pt’\n",
      "\n",
      "checkpoint_30.pt    100%[===================>] 108.34M  12.2MB/s    in 10s     \n",
      "\n",
      "2020-06-29 10:12:10 (10.5 MB/s) - ‘checkpoint_data/checkpoint_30.pt’ saved [113599715/113599715]\n",
      "\n",
      "--2020-06-29 10:12:12--  https://dl.fbaipublicfiles.com/librilight/CPC_checkpoints/not_hub/2levels_6k_top_ctc/checkpoint_logs.json\n",
      "Resolving dl.fbaipublicfiles.com (dl.fbaipublicfiles.com)... 104.22.74.142, 104.22.75.142, 172.67.9.4, ...\n",
      "Connecting to dl.fbaipublicfiles.com (dl.fbaipublicfiles.com)|104.22.74.142|:443... connected.\n",
      "HTTP request sent, awaiting response... 200 OK\n",
      "Length: 20786 (20K) [text/plain]\n",
      "Saving to: ‘checkpoint_data/checkpoint_logs.json’\n",
      "\n",
      "checkpoint_logs.jso 100%[===================>]  20.30K   125KB/s    in 0.2s    \n",
      "\n",
      "2020-06-29 10:12:13 (125 KB/s) - ‘checkpoint_data/checkpoint_logs.json’ saved [20786/20786]\n",
      "\n",
      "--2020-06-29 10:12:14--  https://dl.fbaipublicfiles.com/librilight/CPC_checkpoints/not_hub/2levels_6k_top_ctc/checkpoint_args.json\n",
      "Resolving dl.fbaipublicfiles.com (dl.fbaipublicfiles.com)... 104.22.74.142, 104.22.75.142, 172.67.9.4, ...\n",
      "Connecting to dl.fbaipublicfiles.com (dl.fbaipublicfiles.com)|104.22.74.142|:443... connected.\n",
      "HTTP request sent, awaiting response... 200 OK\n",
      "Length: 2063 (2.0K) [text/plain]\n",
      "Saving to: ‘checkpoint_data/checkpoint_args.json’\n",
      "\n",
      "checkpoint_args.jso 100%[===================>]   2.01K  --.-KB/s    in 0s      \n",
      "\n",
      "2020-06-29 10:12:15 (35.3 MB/s) - ‘checkpoint_data/checkpoint_args.json’ saved [2063/2063]\n",
      "\n",
      "checkpoint_30.pt  checkpoint_args.json\tcheckpoint_logs.json\n"
     ]
    }
   ],
   "source": [
    "!mkdir checkpoint_data\n",
    "!wget https://dl.fbaipublicfiles.com/librilight/CPC_checkpoints/not_hub/2levels_6k_top_ctc/checkpoint_30.pt -P checkpoint_data\n",
    "!wget https://dl.fbaipublicfiles.com/librilight/CPC_checkpoints/not_hub/2levels_6k_top_ctc/checkpoint_logs.json -P checkpoint_data\n",
    "!wget https://dl.fbaipublicfiles.com/librilight/CPC_checkpoints/not_hub/2levels_6k_top_ctc/checkpoint_args.json -P checkpoint_data\n",
    "!ls checkpoint_data"
   ]
  },
  {
   "cell_type": "code",
   "execution_count": 15,
   "metadata": {
    "colab": {
     "base_uri": "https://localhost:8080/",
     "height": 374
    },
    "colab_type": "code",
    "id": "SSSaiYo82_oY",
    "outputId": "cbd1917b-6d69-4eaf-a564-62f52aa9ba6a"
   },
   "outputs": [
    {
     "name": "stdout",
     "output_type": "stream",
     "text": [
      "/content/CPC_audio\n",
      "Loading checkpoint checkpoint_data/checkpoint_30.pt\n",
      "Loading the state dict at checkpoint_data/checkpoint_30.pt\n"
     ]
    },
    {
     "name": "stderr",
     "output_type": "stream",
     "text": [
      "162it [00:00, 2417.18it/s]"
     ]
    },
    {
     "name": "stdout",
     "output_type": "stream",
     "text": [
      "Saved cache file at /content/train_data/_seqs_cache.txt\n"
     ]
    },
    {
     "name": "stderr",
     "output_type": "stream",
     "text": [
      "\n"
     ]
    },
    {
     "name": "stdout",
     "output_type": "stream",
     "text": [
      "Checking length...\n"
     ]
    },
    {
     "name": "stderr",
     "output_type": "stream",
     "text": [
      "1430it [00:00, 1117126.97it/s]\n"
     ]
    },
    {
     "name": "stdout",
     "output_type": "stream",
     "text": [
      "Done, elapsed: 0.274 seconds\n",
      "Scanned 1430 sequences in 0.27 seconds\n",
      "1 chunks computed\n",
      "Joining pool\n",
      "Joined process, elapsed=7.480 secs\n"
     ]
    },
    {
     "name": "stderr",
     "output_type": "stream",
     "text": [
      "169it [00:00, 662.54it/s]\n"
     ]
    },
    {
     "name": "stdout",
     "output_type": "stream",
     "text": [
      "Saved cache file at /content/val_data/_seqs_cache.txt\n",
      "Checking length...\n"
     ]
    },
    {
     "name": "stderr",
     "output_type": "stream",
     "text": [
      "316it [00:00, 60357.94it/s]\n"
     ]
    },
    {
     "name": "stdout",
     "output_type": "stream",
     "text": [
      "Done, elapsed: 0.875 seconds\n",
      "Scanned 316 sequences in 0.88 seconds\n",
      "1 chunks computed\n",
      "Joining pool\n",
      "Joined process, elapsed=2.434 secs\n"
     ]
    }
   ],
   "source": [
    "%cd /content/CPC_audio\n",
    "from cpc.dataset import parseSeqLabels\n",
    "from cpc.feature_loader import loadModel\n",
    "\n",
    "checkpoint_path = 'checkpoint_data/checkpoint_30.pt'\n",
    "cpc_model, HIDDEN_CONTEXT_MODEL, HIDDEN_ENCODER_MODEL = loadModel([checkpoint_path])\n",
    "cpc_model = cpc_model.cuda()\n",
    "label_dict, N_PHONES = parseSeqLabels('/content/converted_aligned_phones.txt')\n",
    "dataset_train = load_dataset('/content/train_data', file_extension='.flac', phone_label_dict=label_dict)\n",
    "dataset_val = load_dataset('/content/val_data', file_extension='.flac', phone_label_dict=label_dict)\n",
    "data_loader_train = dataset_train.getDataLoader(BATCH_SIZE, \"speaker\", True)\n",
    "data_loader_val = dataset_val.getDataLoader(BATCH_SIZE, \"sequence\", False)"
   ]
  },
  {
   "cell_type": "code",
   "execution_count": 16,
   "metadata": {
    "colab": {},
    "colab_type": "code",
    "id": "3ulgYV3nHcoa"
   },
   "outputs": [],
   "source": [
    "??cpc_model"
   ]
  },
  {
   "cell_type": "markdown",
   "metadata": {
    "colab_type": "text",
    "id": "xkKi-qfosng2"
   },
   "source": [
    "Then we will use a simple linear classifier to recognize the phonemes from the features produced by ```cpc_model```. \n",
    "\n",
    "### a) Build the phone classifier \n",
    "\n",
    "Design a class of linear classifiers, ```PhoneClassifier``` that will take as input a batch of sequences of CPC features and output a score vector for each phoneme"
   ]
  },
  {
   "cell_type": "code",
   "execution_count": 20,
   "metadata": {
    "colab": {},
    "colab_type": "code",
    "id": "4RpAbz-0CXJJ"
   },
   "outputs": [],
   "source": [
    "class PhoneClassifier(torch.nn.Module):\n",
    "\n",
    "  def __init__(self,\n",
    "               input_dim : int,\n",
    "               n_phones : int):\n",
    "    super(PhoneClassifier, self).__init__()\n",
    "    self.linear = torch.nn.Linear(input_dim, n_phones)\n",
    "    \n",
    "\n",
    "  def forward(self, x):\n",
    "    return self.linear(x)"
   ]
  },
  {
   "cell_type": "markdown",
   "metadata": {
    "colab_type": "text",
    "id": "Zt5oa_nqtH-d"
   },
   "source": [
    "Our phone classifier will then be:"
   ]
  },
  {
   "cell_type": "code",
   "execution_count": null,
   "metadata": {
    "colab": {},
    "colab_type": "code",
    "id": "NRBf_83IuLv5"
   },
   "outputs": [],
   "source": [
    "phone_classifier = PhoneClassifier(HIDDEN_CONTEXT_MODEL, N_PHONES).to(device)"
   ]
  },
  {
   "cell_type": "markdown",
   "metadata": {
    "colab_type": "text",
    "id": "z_Vf5AbUhqm4"
   },
   "source": [
    "### b - What would be the correct loss criterion for this task ?\n",
    "\n"
   ]
  },
  {
   "cell_type": "code",
   "execution_count": 19,
   "metadata": {
    "colab": {},
    "colab_type": "code",
    "id": "uhyPM-cgjrtw"
   },
   "outputs": [],
   "source": [
    "loss_criterion = torch.nn.CrossEntropyLoss()"
   ]
  },
  {
   "cell_type": "markdown",
   "metadata": {
    "colab_type": "text",
    "id": "Nv4cSxbaplrz"
   },
   "source": [
    "To perform the fine-tuning, we will also need an optimization function.\n",
    "\n",
    "We will use an [Adam optimizer ](https://pytorch.org/docs/stable/optim.html#torch.optim.Adam)."
   ]
  },
  {
   "cell_type": "code",
   "execution_count": 20,
   "metadata": {
    "colab": {},
    "colab_type": "code",
    "id": "W5CgYyAlqKxu"
   },
   "outputs": [],
   "source": [
    "parameters = list(phone_classifier.parameters()) + list(cpc_model.parameters())\n",
    "LEARNING_RATE = 2e-4\n",
    "optimizer = torch.optim.Adam(parameters, lr=LEARNING_RATE)"
   ]
  },
  {
   "cell_type": "markdown",
   "metadata": {
    "colab_type": "text",
    "id": "qQB9HS9PvAXc"
   },
   "source": [
    "You might also want to perform this training while freezing the weights of the ```cpc_model```. Indeed, if the pre-training was good enough, then ```cpc_model``` phonemes representation should be linearly separable. In this case the optimizer should be defined like this:"
   ]
  },
  {
   "cell_type": "code",
   "execution_count": 24,
   "metadata": {
    "colab": {},
    "colab_type": "code",
    "id": "nRy0gn6awGUQ"
   },
   "outputs": [],
   "source": [
    "optimizer_frozen = torch.optim.Adam(list(phone_classifier.parameters()), lr=LEARNING_RATE)"
   ]
  },
  {
   "cell_type": "markdown",
   "metadata": {
    "colab_type": "text",
    "id": "cO93ngIfj4JW"
   },
   "source": [
    "### c- Now let's build a training loop. \n",
    "Complete the function ```train_one_epoch``` below.\n",
    "\n"
   ]
  },
  {
   "cell_type": "code",
   "execution_count": 58,
   "metadata": {
    "colab": {},
    "colab_type": "code",
    "id": "fabqj3wvLwgU"
   },
   "outputs": [],
   "source": [
    "def train_one_epoch(cpc_model, \n",
    "                    phone_classifier, \n",
    "                    loss_criterion, \n",
    "                    data_loader, \n",
    "                    optimizer):\n",
    "\n",
    "  cpc_model.train()\n",
    "  loss_criterion.train()\n",
    "\n",
    "  avg_loss = 0\n",
    "  avg_accuracy = 0\n",
    "  n_items = 0\n",
    "  for step, full_data in enumerate(data_loader):\n",
    "    # Each batch is represented by a Tuple of vectors:\n",
    "    # sequence of size : N x 1 x T\n",
    "    # label of size : N x T\n",
    "    # \n",
    "    # With :\n",
    "    # - N number of sequence in the batch\n",
    "    # - T size of each sequence\n",
    "    sequence, label = full_data\n",
    "    \n",
    "    \n",
    "\n",
    "    bs = len(sequence)\n",
    "    seq_len = label.size(1)\n",
    "    optimizer.zero_grad()\n",
    "    context_out, enc_out, _ = cpc_model(sequence.to(device),label.to(device))\n",
    "\n",
    "    scores = phone_classifier(context_out)\n",
    "\n",
    "    scores = scores.permute(0,2,1)\n",
    "    loss = loss_criterion(scores,label.to(device))\n",
    "    loss.backward()\n",
    "    optimizer.step()\n",
    "    avg_loss+=loss.item()*bs\n",
    "    n_items+=bs\n",
    "    correct_labels = scores.argmax(1)\n",
    "    avg_accuracy += ((label==correct_labels.cpu()).float()).mean(1).sum().item()\n",
    "  avg_loss/=n_items\n",
    "  avg_accuracy/=n_items\n",
    "  return avg_loss, avg_accuracy\n",
    "    "
   ]
  },
  {
   "cell_type": "markdown",
   "metadata": {
    "colab_type": "text",
    "id": "quYtjx_TxIPK"
   },
   "source": [
    "Don't forget to test it !"
   ]
  },
  {
   "cell_type": "code",
   "execution_count": 59,
   "metadata": {
    "colab": {},
    "colab_type": "code",
    "id": "50MwxbKhxMKp"
   },
   "outputs": [],
   "source": [
    "avg_loss, avg_accuracy = train_one_epoch(cpc_model, phone_classifier, loss_criterion, data_loader_train, optimizer_frozen)"
   ]
  },
  {
   "cell_type": "code",
   "execution_count": 60,
   "metadata": {
    "colab": {
     "base_uri": "https://localhost:8080/",
     "height": 34
    },
    "colab_type": "code",
    "id": "_o6yk8XKWnYe",
    "outputId": "19b006e6-03ac-4c18-c415-cdeb293b54d3"
   },
   "outputs": [
    {
     "data": {
      "text/plain": [
       "(1.3621995804512956, 0.6497440501715266)"
      ]
     },
     "execution_count": 60,
     "metadata": {
      "tags": []
     },
     "output_type": "execute_result"
    }
   ],
   "source": [
    "avg_loss, avg_accuracy"
   ]
  },
  {
   "cell_type": "markdown",
   "metadata": {
    "colab_type": "text",
    "id": "EmUkuJ2bwu4Z"
   },
   "source": [
    "### d- Build the validation loop"
   ]
  },
  {
   "cell_type": "code",
   "execution_count": 61,
   "metadata": {
    "colab": {},
    "colab_type": "code",
    "id": "kZJMxj6cwzd3"
   },
   "outputs": [],
   "source": [
    "def validation_step(cpc_model, \n",
    "                    phone_classifier, \n",
    "                    loss_criterion, \n",
    "                    data_loader):\n",
    "  \n",
    "  cpc_model.eval()\n",
    "  phone_classifier.eval()\n",
    "\n",
    "  avg_loss = 0\n",
    "  avg_accuracy = 0\n",
    "  n_items = 0\n",
    "  with torch.no_grad():\n",
    "    for step, full_data in enumerate(data_loader):\n",
    "      # Each batch is represented by a Tuple of vectors:\n",
    "      # sequence of size : N x 1 x T\n",
    "      # label of size : N x T\n",
    "      # \n",
    "      # With :\n",
    "      # - N number of sequence in the batch\n",
    "      # - T size of each sequence\n",
    "      sequence, label = full_data\n",
    "      bs = len(sequence)\n",
    "      seq_len = label.size(1)\n",
    "      context_out, enc_out, _ = cpc_model(sequence.to(device),label.to(device))\n",
    "      scores = phone_classifier(context_out)\n",
    "      scores = scores.permute(0,2,1)\n",
    "      loss = loss_criterion(scores,label.to(device))\n",
    "      avg_loss+=loss.item()*bs\n",
    "      n_items+=bs\n",
    "      correct_labels = scores.argmax(1)\n",
    "      avg_accuracy += ((label==correct_labels.cpu()).float()).mean(1).sum().item()\n",
    "  avg_loss/=n_items\n",
    "  avg_accuracy/=n_items\n",
    "  return avg_loss, avg_accuracy"
   ]
  },
  {
   "cell_type": "markdown",
   "metadata": {
    "colab_type": "text",
    "id": "vownVCt7xbVh"
   },
   "source": [
    "### e- Run everything\n",
    "\n",
    "Test this functiion with both ```optimizer``` and ```optimizer_frozen```."
   ]
  },
  {
   "cell_type": "code",
   "execution_count": 65,
   "metadata": {
    "colab": {},
    "colab_type": "code",
    "id": "xvO_4nKUxfQx"
   },
   "outputs": [],
   "source": [
    "def run(cpc_model, \n",
    "        phone_classifier, \n",
    "        loss_criterion, \n",
    "        data_loader_train, \n",
    "        data_loader_val, \n",
    "        optimizer,\n",
    "        n_epoch):\n",
    "\n",
    "  for epoch in range(n_epoch):\n",
    "\n",
    "    print(f\"Running epoch {epoch + 1} / {n_epoch}\")\n",
    "    loss_train, acc_train = train_one_epoch(cpc_model, phone_classifier, loss_criterion, data_loader_train, optimizer)\n",
    "    print(\"-------------------\")\n",
    "    print(f\"Training dataset :\")\n",
    "    print(f\"Average loss : {loss_train}. Average accuracy {acc_train}\")\n",
    "\n",
    "    print(\"-------------------\")\n",
    "    print(\"Validation dataset\")\n",
    "    loss_val, acc_val = validation_step(cpc_model, phone_classifier, loss_criterion, data_loader_val)\n",
    "    print(f\"Average loss : {loss_val}. Average accuracy {acc_val}\")\n",
    "    print(\"-------------------\")\n",
    "    print()"
   ]
  },
  {
   "cell_type": "code",
   "execution_count": 67,
   "metadata": {
    "colab": {
     "base_uri": "https://localhost:8080/",
     "height": 1000
    },
    "colab_type": "code",
    "id": "ceCEO2h2bxAn",
    "outputId": "2842125e-7f20-434d-9189-33699670f620"
   },
   "outputs": [
    {
     "name": "stdout",
     "output_type": "stream",
     "text": [
      "Running epoch 1 / 10\n",
      "-------------------\n",
      "Training dataset :\n",
      "Average loss : 1.0219527069604895. Average accuracy 0.7057498257933105\n",
      "-------------------\n",
      "Validation dataset\n",
      "Average loss : 1.0688188383544701. Average accuracy 0.6966259057971015\n",
      "-------------------\n",
      "\n",
      "Running epoch 2 / 10\n",
      "-------------------\n",
      "Training dataset :\n",
      "Average loss : 0.9813667901793229. Average accuracy 0.7150101397226987\n",
      "-------------------\n",
      "Validation dataset\n",
      "Average loss : 1.0425163616304811. Average accuracy 0.7018257472826087\n",
      "-------------------\n",
      "\n",
      "Running epoch 3 / 10\n",
      "-------------------\n",
      "Training dataset :\n",
      "Average loss : 0.9586697046657233. Average accuracy 0.7197957984919954\n",
      "-------------------\n",
      "Validation dataset\n",
      "Average loss : 1.029444672577623. Average accuracy 0.7042572463768116\n",
      "-------------------\n",
      "\n",
      "Running epoch 4 / 10\n",
      "-------------------\n",
      "Training dataset :\n",
      "Average loss : 0.9506696053679975. Average accuracy 0.7210777810534591\n",
      "-------------------\n",
      "Validation dataset\n",
      "Average loss : 0.9972989958265553. Average accuracy 0.7106855751811594\n",
      "-------------------\n",
      "\n",
      "Running epoch 5 / 10\n",
      "-------------------\n",
      "Training dataset :\n",
      "Average loss : 0.9448814161032387. Average accuracy 0.7218349101272156\n",
      "-------------------\n",
      "Validation dataset\n",
      "Average loss : 0.9780038367147031. Average accuracy 0.7143144248188406\n",
      "-------------------\n",
      "\n",
      "Running epoch 6 / 10\n",
      "-------------------\n",
      "Training dataset :\n",
      "Average loss : 0.929420669805397. Average accuracy 0.7249711888936535\n",
      "-------------------\n",
      "Validation dataset\n",
      "Average loss : 0.9746506056923797. Average accuracy 0.715234375\n",
      "-------------------\n",
      "\n",
      "Running epoch 7 / 10\n",
      "-------------------\n",
      "Training dataset :\n",
      "Average loss : 0.9157625487901743. Average accuracy 0.7281409689465409\n",
      "-------------------\n",
      "Validation dataset\n",
      "Average loss : 0.9955525258313055. Average accuracy 0.710739356884058\n",
      "-------------------\n",
      "\n",
      "Running epoch 8 / 10\n",
      "-------------------\n",
      "Training dataset :\n",
      "Average loss : 0.9135043791459587. Average accuracy 0.7293961504788451\n",
      "-------------------\n",
      "Validation dataset\n",
      "Average loss : 0.9721649721048881. Average accuracy 0.7155910326086956\n",
      "-------------------\n",
      "\n",
      "Running epoch 9 / 10\n",
      "-------------------\n",
      "Training dataset :\n",
      "Average loss : 0.9004762198940013. Average accuracy 0.7319076302530018\n",
      "-------------------\n",
      "Validation dataset\n",
      "Average loss : 0.980453244154004. Average accuracy 0.713963428442029\n",
      "-------------------\n",
      "\n",
      "Running epoch 10 / 10\n",
      "-------------------\n",
      "Training dataset :\n",
      "Average loss : 0.9172716077018834. Average accuracy 0.7282263972269869\n",
      "-------------------\n",
      "Validation dataset\n",
      "Average loss : 0.9502466599146525. Average accuracy 0.7199048913043479\n",
      "-------------------\n",
      "\n"
     ]
    }
   ],
   "source": [
    "run(cpc_model,phone_classifier,loss_criterion,data_loader_train,data_loader_val,optimizer_frozen,n_epoch=10)"
   ]
  },
  {
   "cell_type": "markdown",
   "metadata": {
    "colab_type": "text",
    "id": "TdfWDiFnylMT"
   },
   "source": [
    "## Exercise 2 : Phone separability without alignment (PER)\n",
    "\n",
    "Aligned data are very practical, but un real life they are rarely available. That's why in this excercise we will consider a fine-tuning with non-aligned phonemes.\n",
    "\n",
    "The model, the optimizer and the phone classifier will stay the same. However, we will replace our phone criterion with a [CTC loss](https://pytorch.org/docs/master/generated/torch.nn.CTCLoss.html). "
   ]
  },
  {
   "cell_type": "code",
   "execution_count": 16,
   "metadata": {
    "colab": {},
    "colab_type": "code",
    "id": "_9BpM_Lpzgx8"
   },
   "outputs": [],
   "source": [
    "loss_ctc = torch.nn.CTCLoss()"
   ]
  },
  {
   "cell_type": "markdown",
   "metadata": {
    "colab_type": "text",
    "id": "AQpYgTyfzsrq"
   },
   "source": [
    "Besides, we will use a siglthy different dataset class."
   ]
  },
  {
   "cell_type": "code",
   "execution_count": 17,
   "metadata": {
    "colab": {
     "base_uri": "https://localhost:8080/",
     "height": 272
    },
    "colab_type": "code",
    "id": "9HRxoatlz3ZZ",
    "outputId": "210b7f5f-b722-42dd-97df-56cb2e614a1a"
   },
   "outputs": [
    {
     "name": "stderr",
     "output_type": "stream",
     "text": [
      "67it [00:00, 16115.29it/s]"
     ]
    },
    {
     "name": "stdout",
     "output_type": "stream",
     "text": [
      "/content/CPC_audio\n",
      "Saved cache file at /content/per_data/pack_master/1h/_seqs_cache.txt\n"
     ]
    },
    {
     "name": "stderr",
     "output_type": "stream",
     "text": [
      "\n",
      "7it [00:00, 1867.22it/s]"
     ]
    },
    {
     "name": "stdout",
     "output_type": "stream",
     "text": [
      "Loaded 287 sequences in 4.05 seconds\n",
      "maxSizeSeq : 273359\n",
      "maxSizePhone : 207\n",
      "minSizePhone : 17\n",
      "Total size dataset 1.0406152430555555 hours\n",
      "Saved cache file at /content/per_data/pack_master/10min/_seqs_cache.txt\n"
     ]
    },
    {
     "name": "stderr",
     "output_type": "stream",
     "text": [
      "\n"
     ]
    },
    {
     "name": "stdout",
     "output_type": "stream",
     "text": [
      "Loaded 212 sequences in 2.49 seconds\n",
      "maxSizeSeq : 273760\n",
      "maxSizePhone : 188\n",
      "minSizePhone : 17\n",
      "Total size dataset 0.73 hours\n"
     ]
    }
   ],
   "source": [
    "%cd /content/CPC_audio\n",
    "from cpc.eval.common_voices_eval import SingleSequenceDataset, parseSeqLabels, findAllSeqs\n",
    "path_train_data_per = '/content/per_data/pack_master/1h'\n",
    "path_val_data_per = '/content/per_data/pack_master/10min'\n",
    "path_phone_data_per = '/content/per_data/pack_master/10h_phones.txt'\n",
    "BATCH_SIZE=8\n",
    "\n",
    "phone_labels, N_PHONES = parseSeqLabels(path_phone_data_per)\n",
    "data_train_per, _ = findAllSeqs(path_train_data_per, extension='.flac')\n",
    "dataset_train_non_aligned = SingleSequenceDataset(path_train_data_per, data_train_per, phone_labels)\n",
    "data_loader_train = torch.utils.data.DataLoader(dataset_train_non_aligned, batch_size=BATCH_SIZE,\n",
    "                                                shuffle=True)\n",
    "\n",
    "data_val_per, _ = findAllSeqs(path_val_data_per, extension='.flac')\n",
    "dataset_val_non_aligned = SingleSequenceDataset(path_val_data_per, data_val_per, phone_labels)\n",
    "data_loader_val = torch.utils.data.DataLoader(dataset_val_non_aligned, batch_size=BATCH_SIZE,\n",
    "                                              shuffle=True)"
   ]
  },
  {
   "cell_type": "markdown",
   "metadata": {
    "colab_type": "text",
    "id": "GwAckY62z7s9"
   },
   "source": [
    "### a- Training\n",
    "\n",
    "Since the phonemes are not aligned, there is no simple direct way to get the classification acuracy of a model. Write and test the three functions ```train_one_epoch_ctc```, ```validation_step_ctc``` and ```run_ctc``` as before but without considering the average acuracy of the model. "
   ]
  },
  {
   "cell_type": "code",
   "execution_count": 21,
   "metadata": {
    "colab": {
     "base_uri": "https://localhost:8080/",
     "height": 51
    },
    "colab_type": "code",
    "id": "oYg5YzW8EHl4",
    "outputId": "be8aec47-f0a8-4cb6-b4ff-df232118a6d3"
   },
   "outputs": [
    {
     "name": "stdout",
     "output_type": "stream",
     "text": [
      "Loading checkpoint checkpoint_data/checkpoint_30.pt\n",
      "Loading the state dict at checkpoint_data/checkpoint_30.pt\n"
     ]
    }
   ],
   "source": [
    "from cpc.feature_loader import loadModel\n",
    "\n",
    "checkpoint_path = 'checkpoint_data/checkpoint_30.pt'\n",
    "cpc_model, HIDDEN_CONTEXT_MODEL, HIDDEN_ENCODER_MODEL = loadModel([checkpoint_path])\n",
    "cpc_model = cpc_model.cuda()\n",
    "phone_classifier = PhoneClassifier(HIDDEN_CONTEXT_MODEL, N_PHONES).to(device)"
   ]
  },
  {
   "cell_type": "code",
   "execution_count": 19,
   "metadata": {
    "colab": {},
    "colab_type": "code",
    "id": "CFQ2g3PjErdZ"
   },
   "outputs": [],
   "source": [
    "parameters = list(phone_classifier.parameters()) + list(cpc_model.parameters())\n",
    "LEARNING_RATE = 2e-4\n",
    "optimizer = torch.optim.Adam(parameters, lr=LEARNING_RATE)\n",
    "\n",
    "optimizer_frozen = torch.optim.Adam(list(phone_classifier.parameters()), lr=LEARNING_RATE)"
   ]
  },
  {
   "cell_type": "code",
   "execution_count": 34,
   "metadata": {
    "colab": {},
    "colab_type": "code",
    "id": "Zsgjv3cD0oqD"
   },
   "outputs": [],
   "source": [
    "import torch.nn.functional as F\n",
    "\n",
    "def train_one_epoch_ctc(cpc_model, \n",
    "                        phone_classifier, \n",
    "                        loss_criterion, \n",
    "                        data_loader, \n",
    "                        optimizer):\n",
    "  \n",
    "  cpc_model.train()\n",
    "  loss_criterion.train()\n",
    "\n",
    "  avg_loss = 0\n",
    "  avg_accuracy = 0\n",
    "  n_items = 0\n",
    "  for step, full_data in enumerate(data_loader):\n",
    "\n",
    "    x, x_len, y, y_len = full_data\n",
    "\n",
    "    x_batch_len = x.shape[-1]\n",
    "    x, y = x.to(device), y.to(device)\n",
    "\n",
    "    bs=x.size(0)\n",
    "    optimizer.zero_grad()\n",
    "    context_out, enc_out, _ = cpc_model(x.to(device),y.to(device))\n",
    "  \n",
    "    scores = phone_classifier(context_out)\n",
    "    scores = scores.permute(1,0,2)\n",
    "    scores = F.log_softmax(scores,2)\n",
    "    yhat_len = torch.tensor([int(scores.shape[0]*x_len[i]/x_batch_len) for i in range(scores.shape[1])]) # this is an approximation, should be good enough\n",
    "\n",
    "    loss = loss_criterion(scores,y.to(device),yhat_len,y_len)\n",
    "    loss.backward()\n",
    "    optimizer.step()\n",
    "    avg_loss+=loss.item()*bs\n",
    "    n_items+=bs\n",
    "  avg_loss/=n_items\n",
    "  return avg_loss\n",
    "\n",
    "def validation_step(cpc_model, \n",
    "                    phone_classifier, \n",
    "                    loss_criterion, \n",
    "                    data_loader):\n",
    "\n",
    "  cpc_model.eval()\n",
    "  phone_classifier.eval()\n",
    "  avg_loss = 0\n",
    "  avg_accuracy = 0\n",
    "  n_items = 0\n",
    "  with torch.no_grad():\n",
    "    for step, full_data in enumerate(data_loader):\n",
    "\n",
    "      x, x_len, y, y_len = full_data\n",
    "\n",
    "      x_batch_len = x.shape[-1]\n",
    "      x, y = x.to(device), y.to(device)\n",
    "\n",
    "      bs=x.size(0)\n",
    "      context_out, enc_out, _ = cpc_model(x.to(device),y.to(device))\n",
    "    \n",
    "      scores = phone_classifier(context_out)\n",
    "      scores = scores.permute(1,0,2)\n",
    "      scores = F.log_softmax(scores,2)\n",
    "      yhat_len = torch.tensor([int(scores.shape[0]*x_len[i]/x_batch_len) for i in range(scores.shape[1])]) # this is an approximation, should be good enough\n",
    "\n",
    "      loss = loss_criterion(scores,y.to(device),yhat_len,y_len)\n",
    "      avg_loss+=loss.item()*bs\n",
    "      n_items+=bs\n",
    "  avg_loss/=n_items\n",
    "\n",
    "  return avg_loss\n",
    "\n",
    "def run_ctc(cpc_model, \n",
    "            phone_classifier, \n",
    "            loss_criterion, \n",
    "            data_loader_train, \n",
    "            data_loader_val, \n",
    "            optimizer,\n",
    "            n_epoch):\n",
    "  for epoch in range(n_epoch):\n",
    "\n",
    "    print(f\"Running epoch {epoch + 1} / {n_epoch}\")\n",
    "    loss_train = train_one_epoch_ctc(cpc_model, phone_classifier, loss_criterion, data_loader_train, optimizer)\n",
    "    print(\"-------------------\")\n",
    "    print(f\"Training dataset :\")\n",
    "    print(f\"Average loss : {loss_train}.\")\n",
    "\n",
    "    print(\"-------------------\")\n",
    "    print(\"Validation dataset\")\n",
    "    loss_val = validation_step(cpc_model, phone_classifier, loss_criterion, data_loader_val)\n",
    "    print(f\"Average loss : {loss_val}\")\n",
    "    print(\"-------------------\")\n",
    "    print()"
   ]
  },
  {
   "cell_type": "code",
   "execution_count": 40,
   "metadata": {
    "colab": {
     "base_uri": "https://localhost:8080/",
     "height": 1000
    },
    "colab_type": "code",
    "id": "GSr7tcUdD72c",
    "outputId": "ea9f1f53-6b42-436d-e760-68bfdae72bf4"
   },
   "outputs": [
    {
     "name": "stdout",
     "output_type": "stream",
     "text": [
      "Running epoch 1 / 10\n",
      "-------------------\n",
      "Training dataset :\n",
      "Average loss : 32.44543953208657.\n",
      "-------------------\n",
      "Validation dataset\n",
      "Average loss : 32.01081585093132\n",
      "-------------------\n",
      "\n",
      "Running epoch 2 / 10\n",
      "-------------------\n",
      "Training dataset :\n",
      "Average loss : 30.99022026328774.\n",
      "-------------------\n",
      "Validation dataset\n",
      "Average loss : 30.300324444522225\n",
      "-------------------\n",
      "\n",
      "Running epoch 3 / 10\n",
      "-------------------\n",
      "Training dataset :\n",
      "Average loss : 29.319565432888645.\n",
      "-------------------\n",
      "Validation dataset\n",
      "Average loss : 28.464903420181635\n",
      "-------------------\n",
      "\n",
      "Running epoch 4 / 10\n",
      "-------------------\n",
      "Training dataset :\n",
      "Average loss : 27.567655403297262.\n",
      "-------------------\n",
      "Validation dataset\n",
      "Average loss : 26.642856191119876\n",
      "-------------------\n",
      "\n",
      "Running epoch 5 / 10\n",
      "-------------------\n",
      "Training dataset :\n",
      "Average loss : 25.832834390493538.\n",
      "-------------------\n",
      "Validation dataset\n",
      "Average loss : 24.82515669546986\n",
      "-------------------\n",
      "\n",
      "Running epoch 6 / 10\n",
      "-------------------\n",
      "Training dataset :\n",
      "Average loss : 24.127855487636754.\n",
      "-------------------\n",
      "Validation dataset\n",
      "Average loss : 23.089440377402646\n",
      "-------------------\n",
      "\n",
      "Running epoch 7 / 10\n",
      "-------------------\n",
      "Training dataset :\n",
      "Average loss : 22.487650171026484.\n",
      "-------------------\n",
      "Validation dataset\n",
      "Average loss : 21.420966125777547\n",
      "-------------------\n",
      "\n",
      "Running epoch 8 / 10\n",
      "-------------------\n",
      "Training dataset :\n",
      "Average loss : 20.911723703771205.\n",
      "-------------------\n",
      "Validation dataset\n",
      "Average loss : 19.82448653813222\n",
      "-------------------\n",
      "\n",
      "Running epoch 9 / 10\n",
      "-------------------\n",
      "Training dataset :\n",
      "Average loss : 19.407203647640202.\n",
      "-------------------\n",
      "Validation dataset\n",
      "Average loss : 18.315616182806366\n",
      "-------------------\n",
      "\n",
      "Running epoch 10 / 10\n",
      "-------------------\n",
      "Training dataset :\n",
      "Average loss : 17.984150039566146.\n",
      "-------------------\n",
      "Validation dataset\n",
      "Average loss : 16.896408695745244\n",
      "-------------------\n",
      "\n"
     ]
    }
   ],
   "source": [
    "run_ctc(cpc_model,phone_classifier,loss_ctc,data_loader_train,data_loader_val,optimizer_frozen,n_epoch=10)"
   ]
  },
  {
   "cell_type": "markdown",
   "metadata": {
    "colab_type": "text",
    "id": "TKrYW4gK1BBF"
   },
   "source": [
    "### b- Evaluation: the Phone Error Rate (PER)\n",
    "\n",
    "In order to compute the similarity between two sequences, we can use the [Levenshtein distance](https://en.wikipedia.org/wiki/Levenshtein_distance). This distance estimates the minimum number of insertion, deletion and addition to move from one sequence to another. If we normalize this distance by the number of characters in the reference sequence we get the Phone Error Rate (PER).\n",
    "\n",
    "This value can be interpreted as :\n",
    "\\\\[  PER = \\frac{S + D + I}{N} \\\\]\n",
    "\n",
    "Where:\n",
    "\n",
    "\n",
    "*   N is the number of characters in the reference\n",
    "*   S is the number of substitutiion\n",
    "*   I in the number of insertion\n",
    "*   D in the number of deletion\n",
    "\n",
    "For the best possible alignment of the two sequences.\n",
    "\n"
   ]
  },
  {
   "cell_type": "code",
   "execution_count": 15,
   "metadata": {
    "colab": {},
    "colab_type": "code",
    "id": "RoBhsx7GNqI_"
   },
   "outputs": [],
   "source": [
    "import numpy as np\n",
    "\n",
    "def get_PER_sequence(ref_seq, target_seq):\n",
    "\n",
    "  # re = g.split()\n",
    "  # h = h.split()\n",
    "  n = len(ref_seq)\n",
    "  m = len(target_seq)\n",
    "\n",
    "  D = np.zeros((n+1,m+1))\n",
    "  for i in range(1,n+1):\n",
    "    D[i,0] = D[i-1,0]+1\n",
    "  for j in range(1,m+1):\n",
    "    D[0,j] = D[0,j-1]+1\n",
    "  \n",
    "  ### TODO compute the alignment\n",
    "\n",
    "  for i in range(1,n+1):\n",
    "    for j in range(1,m+1):\n",
    "      D[i,j] = min(\n",
    "          D[i-1,j]+1,\n",
    "          D[i-1,j-1]+1,\n",
    "          D[i,j-1]+1,\n",
    "          D[i-1,j-1]+ 0 if ref_seq[i-1]==target_seq[j-1] else float(\"inf\")\n",
    "      )\n",
    "  return D[n,m]/len(ref_seq)\n",
    "  \n",
    "\n",
    "  #return PER"
   ]
  },
  {
   "cell_type": "markdown",
   "metadata": {
    "colab_type": "text",
    "id": "r-hr0KK0mgcR"
   },
   "source": [
    "You can test your function below:"
   ]
  },
  {
   "cell_type": "code",
   "execution_count": 45,
   "metadata": {
    "colab": {
     "base_uri": "https://localhost:8080/",
     "height": 34
    },
    "colab_type": "code",
    "id": "AfTb3yOQmvey",
    "outputId": "5db807ca-4c58-4413-ab19-6581d7d07263"
   },
   "outputs": [
    {
     "name": "stdout",
     "output_type": "stream",
     "text": [
      "True\n"
     ]
    }
   ],
   "source": [
    "ref_seq = [0, 1, 1, 2, 0, 2, 2]\n",
    "pred_seq = [1, 1, 2, 2, 0, 0]\n",
    "\n",
    "expected_PER = 4. / 7.\n",
    "print(get_PER_sequence(ref_seq, pred_seq) == expected_PER)"
   ]
  },
  {
   "cell_type": "markdown",
   "metadata": {
    "colab_type": "text",
    "id": "nHiyChl-m_k7"
   },
   "source": [
    "## c- Evaluating the PER of your model on the test dataset\n",
    "\n",
    "Evaluate the PER on the validation dataset. Please notice that you should usually use a separate dataset, called the dev dataset, to perform this operation. However for the sake of simplicity we will work with validation data in this exercise."
   ]
  },
  {
   "cell_type": "code",
   "execution_count": 16,
   "metadata": {
    "colab": {},
    "colab_type": "code",
    "id": "DMkX0PoFnclg"
   },
   "outputs": [],
   "source": [
    "import progressbar\n",
    "from multiprocessing import Pool\n",
    "\n",
    "def cut_data(seq, sizeSeq):\n",
    "    maxSeq = sizeSeq.max()\n",
    "    return seq[:, :maxSeq]\n",
    "\n",
    "\n",
    "def prepare_data(data):\n",
    "    seq, sizeSeq, phone, sizePhone = data\n",
    "    seq = seq.cuda()\n",
    "    phone = phone.cuda()\n",
    "    sizeSeq = sizeSeq.cuda().view(-1)\n",
    "    sizePhone = sizePhone.cuda().view(-1)\n",
    "\n",
    "    seq = cut_data(seq.permute(0, 2, 1), sizeSeq).permute(0, 2, 1)\n",
    "    return seq, sizeSeq, phone, sizePhone\n",
    "\n",
    "\n",
    "def get_per(test_dataloader,\n",
    "            cpc_model,\n",
    "            phone_classifier):\n",
    "\n",
    "  downsampling_factor = 160\n",
    "  cpc_model.eval()\n",
    "  phone_classifier.eval()\n",
    "\n",
    "  avgPER = 0\n",
    "  nItems = 0 \n",
    "\n",
    "  print(\"Starting the PER computation through beam search\")\n",
    "  bar = progressbar.ProgressBar(maxval=len(test_dataloader))\n",
    "  bar.start()\n",
    "\n",
    "  for index, data in enumerate(test_dataloader):\n",
    "\n",
    "    bar.update(index)\n",
    "\n",
    "    with torch.no_grad():\n",
    "      \n",
    "        seq, sizeSeq, phone, sizePhone = prepare_data(data)\n",
    "        c_feature, _, _ = cpc_model(seq.to(device),phone.to(device))\n",
    "        sizeSeq = sizeSeq / downsampling_factor\n",
    "        predictions = torch.nn.functional.softmax(\n",
    "        phone_classifier(c_feature), dim=2).cpu()\n",
    "        phone = phone.cpu()\n",
    "        sizeSeq = sizeSeq.cpu()\n",
    "        sizePhone = sizePhone.cpu()\n",
    "\n",
    "        bs = c_feature.size(0)\n",
    "        data_per = [(predictions[b].argmax(1),  phone[b]) for b in range(bs)]\n",
    "        # data_per = [(predictions[b], sizeSeq[b], phone[b], sizePhone[b],\n",
    "        #               \"criterion.module.BLANK_LABEL\") for b in range(bs)]\n",
    "\n",
    "        with Pool(bs) as p:\n",
    "            poolData = p.starmap(get_PER_sequence, data_per)\n",
    "        avgPER += sum([x for x in poolData])\n",
    "        nItems += len(poolData)\n",
    "\n",
    "  bar.finish()\n",
    "\n",
    "  avgPER /= nItems\n",
    "\n",
    "  print(f\"Average PER {avgPER}\")\n",
    "  return avgPER\n"
   ]
  },
  {
   "cell_type": "code",
   "execution_count": 91,
   "metadata": {
    "colab": {
     "base_uri": "https://localhost:8080/",
     "height": 85
    },
    "colab_type": "code",
    "id": "2hvnudh4Osb4",
    "outputId": "acdd8ab7-c766-4a2b-9b6c-b744266d6240"
   },
   "outputs": [
    {
     "name": "stderr",
     "output_type": "stream",
     "text": [
      "N/A% (0 of 27) |                         | Elapsed Time: 0:00:00 ETA:  --:--:--"
     ]
    },
    {
     "name": "stdout",
     "output_type": "stream",
     "text": [
      "Starting the PER computation through beam search\n"
     ]
    },
    {
     "name": "stderr",
     "output_type": "stream",
     "text": [
      "100% (27 of 27) |########################| Elapsed Time: 0:10:44 Time:  0:10:44\n"
     ]
    },
    {
     "name": "stdout",
     "output_type": "stream",
     "text": [
      "Average PER 0.9509821691500522\n"
     ]
    },
    {
     "data": {
      "text/plain": [
       "0.9509821691500522"
      ]
     },
     "execution_count": 91,
     "metadata": {
      "tags": []
     },
     "output_type": "execute_result"
    }
   ],
   "source": [
    "get_per(data_loader_val,cpc_model,phone_classifier)"
   ]
  },
  {
   "cell_type": "markdown",
   "metadata": {
    "colab_type": "text",
    "id": "p8e9D7g8159k"
   },
   "source": [
    "## Exercice 3 : Character error rate (CER) \n",
    "\n",
    "The Character Error Rate (CER) is an evaluation metric similar to the PER but with characters insterad of phonemes. Using the following data, run the functions you defined previously to estimate the CER of your model after fine-tuning."
   ]
  },
  {
   "cell_type": "code",
   "execution_count": 23,
   "metadata": {
    "colab": {
     "base_uri": "https://localhost:8080/",
     "height": 272
    },
    "colab_type": "code",
    "id": "cXONmKQOuFSn",
    "outputId": "5a2791ec-ff0e-4749-ce93-92922ffbee01"
   },
   "outputs": [
    {
     "name": "stderr",
     "output_type": "stream",
     "text": [
      "67it [00:00, 10784.76it/s]"
     ]
    },
    {
     "name": "stdout",
     "output_type": "stream",
     "text": [
      "/content/CPC_audio\n",
      "Saved cache file at /content/per_data/pack_master/1h/_seqs_cache.txt\n"
     ]
    },
    {
     "name": "stderr",
     "output_type": "stream",
     "text": [
      "\n",
      "7it [00:00, 1741.82it/s]"
     ]
    },
    {
     "name": "stdout",
     "output_type": "stream",
     "text": [
      "Loaded 287 sequences in 2.68 seconds\n",
      "maxSizeSeq : 273359\n",
      "maxSizePhone : 300\n",
      "minSizePhone : 18\n",
      "Total size dataset 1.0406152430555555 hours\n",
      "Saved cache file at /content/per_data/pack_master/10min/_seqs_cache.txt\n"
     ]
    },
    {
     "name": "stderr",
     "output_type": "stream",
     "text": [
      "\n"
     ]
    },
    {
     "name": "stdout",
     "output_type": "stream",
     "text": [
      "Loaded 212 sequences in 2.29 seconds\n",
      "maxSizeSeq : 273760\n",
      "maxSizePhone : 273\n",
      "minSizePhone : 29\n",
      "Total size dataset 0.73 hours\n"
     ]
    }
   ],
   "source": [
    "# Load a dataset labelled with the letters of each sequence.\n",
    "%cd /content/CPC_audio\n",
    "from cpc.eval.common_voices_eval import SingleSequenceDataset, parseSeqLabels, findAllSeqs\n",
    "path_train_data_cer = '/content/per_data/pack_master/1h'\n",
    "path_val_data_cer = '/content/per_data/pack_master/10min'\n",
    "path_letter_data_cer = '/content/per_data/pack_master/chars.txt'\n",
    "BATCH_SIZE=8\n",
    "\n",
    "letters_labels, N_LETTERS = parseSeqLabels(path_letter_data_cer)\n",
    "data_train_cer, _ = findAllSeqs(path_train_data_cer, extension='.flac')\n",
    "dataset_train_non_aligned = SingleSequenceDataset(path_train_data_cer, data_train_cer, letters_labels)\n",
    "\n",
    "\n",
    "data_val_cer, _ = findAllSeqs(path_val_data_cer, extension='.flac')\n",
    "dataset_val_non_aligned = SingleSequenceDataset(path_val_data_cer, data_val_cer, letters_labels)\n",
    "\n",
    "\n",
    "# The data loader will generate a tuple of tensors data, labels for each batch\n",
    "# data : size N x T1 x 1 : the audio sequence\n",
    "# label : size N x T2 the sequence of letters corresponding to the audio data\n",
    "# IMPORTANT NOTE: just like the PER the CER is computed with non-aligned phone data.\n",
    "data_loader_train_letters = torch.utils.data.DataLoader(dataset_train_non_aligned, batch_size=BATCH_SIZE,\n",
    "                                                shuffle=True)\n",
    "data_loader_val_letters = torch.utils.data.DataLoader(dataset_val_non_aligned, batch_size=BATCH_SIZE,\n",
    "                                              shuffle=True)"
   ]
  },
  {
   "cell_type": "code",
   "execution_count": 24,
   "metadata": {
    "colab": {
     "base_uri": "https://localhost:8080/",
     "height": 51
    },
    "colab_type": "code",
    "id": "9h07zI2LjzAU",
    "outputId": "70542ed5-a32e-448f-83ea-6355e601511e"
   },
   "outputs": [
    {
     "name": "stdout",
     "output_type": "stream",
     "text": [
      "Loading checkpoint checkpoint_data/checkpoint_30.pt\n",
      "Loading the state dict at checkpoint_data/checkpoint_30.pt\n"
     ]
    }
   ],
   "source": [
    "from cpc.feature_loader import loadModel\n",
    "\n",
    "checkpoint_path = 'checkpoint_data/checkpoint_30.pt'\n",
    "cpc_model, HIDDEN_CONTEXT_MODEL, HIDDEN_ENCODER_MODEL = loadModel([checkpoint_path])\n",
    "cpc_model = cpc_model.cuda()\n",
    "character_classifier = PhoneClassifier(HIDDEN_CONTEXT_MODEL, N_LETTERS).to(device)"
   ]
  },
  {
   "cell_type": "code",
   "execution_count": 27,
   "metadata": {
    "colab": {},
    "colab_type": "code",
    "id": "rHCNg1E7lW1L"
   },
   "outputs": [],
   "source": [
    "parameters = list(character_classifier.parameters()) + list(cpc_model.parameters())\n",
    "LEARNING_RATE = 2e-4\n",
    "optimizer = torch.optim.Adam(parameters, lr=LEARNING_RATE)\n",
    "\n",
    "optimizer_frozen = torch.optim.Adam(list(character_classifier.parameters()), lr=LEARNING_RATE)"
   ]
  },
  {
   "cell_type": "code",
   "execution_count": 25,
   "metadata": {
    "colab": {},
    "colab_type": "code",
    "id": "engpkljbk9hj"
   },
   "outputs": [],
   "source": [
    "loss_ctc = torch.nn.CTCLoss()"
   ]
  },
  {
   "cell_type": "code",
   "execution_count": 35,
   "metadata": {
    "colab": {
     "base_uri": "https://localhost:8080/",
     "height": 1000
    },
    "colab_type": "code",
    "id": "9NBHd2s2kxld",
    "outputId": "24067818-b4b2-4f90-a433-a63f851b7587"
   },
   "outputs": [
    {
     "name": "stdout",
     "output_type": "stream",
     "text": [
      "Running epoch 1 / 10\n",
      "-------------------\n",
      "Training dataset :\n",
      "Average loss : 17.15224294729166.\n",
      "-------------------\n",
      "Validation dataset\n",
      "Average loss : 16.621312869103598\n",
      "-------------------\n",
      "\n",
      "Running epoch 2 / 10\n",
      "-------------------\n",
      "Training dataset :\n",
      "Average loss : 15.531890602378578.\n",
      "-------------------\n",
      "Validation dataset\n",
      "Average loss : 14.840831449246519\n",
      "-------------------\n",
      "\n",
      "Running epoch 3 / 10\n",
      "-------------------\n",
      "Training dataset :\n",
      "Average loss : 13.80899079863008.\n",
      "-------------------\n",
      "Validation dataset\n",
      "Average loss : 12.998893340052021\n",
      "-------------------\n",
      "\n",
      "Running epoch 4 / 10\n",
      "-------------------\n",
      "Training dataset :\n",
      "Average loss : 12.093861906678526.\n",
      "-------------------\n",
      "Validation dataset\n",
      "Average loss : 11.24841435599666\n",
      "-------------------\n",
      "\n",
      "Running epoch 5 / 10\n",
      "-------------------\n",
      "Training dataset :\n",
      "Average loss : 10.522326436076131.\n",
      "-------------------\n",
      "Validation dataset\n",
      "Average loss : 9.72009142654202\n",
      "-------------------\n",
      "\n",
      "Running epoch 6 / 10\n",
      "-------------------\n",
      "Training dataset :\n",
      "Average loss : 9.169493901979672.\n",
      "-------------------\n",
      "Validation dataset\n",
      "Average loss : 8.452587624861732\n",
      "-------------------\n",
      "\n",
      "Running epoch 7 / 10\n",
      "-------------------\n",
      "Training dataset :\n",
      "Average loss : 8.05292275568822.\n",
      "-------------------\n",
      "Validation dataset\n",
      "Average loss : 7.4334790514543725\n",
      "-------------------\n",
      "\n",
      "Running epoch 8 / 10\n",
      "-------------------\n",
      "Training dataset :\n",
      "Average loss : 7.152782953702486.\n",
      "-------------------\n",
      "Validation dataset\n",
      "Average loss : 6.621052656128509\n",
      "-------------------\n",
      "\n",
      "Running epoch 9 / 10\n",
      "-------------------\n",
      "Training dataset :\n",
      "Average loss : 6.4348565915247775.\n",
      "-------------------\n",
      "Validation dataset\n",
      "Average loss : 5.983951862389443\n",
      "-------------------\n",
      "\n",
      "Running epoch 10 / 10\n",
      "-------------------\n",
      "Training dataset :\n",
      "Average loss : 5.864399843282633.\n",
      "-------------------\n",
      "Validation dataset\n",
      "Average loss : 5.487570416870841\n",
      "-------------------\n",
      "\n"
     ]
    }
   ],
   "source": [
    "run_ctc(cpc_model,character_classifier,loss_ctc,data_loader_train_letters,data_loader_val_letters,optimizer_frozen,n_epoch=10)"
   ]
  },
  {
   "cell_type": "code",
   "execution_count": 36,
   "metadata": {
    "colab": {
     "base_uri": "https://localhost:8080/",
     "height": 85
    },
    "colab_type": "code",
    "id": "A8oxFr1jm17P",
    "outputId": "947ea6da-7fd9-4106-e3f1-32cf6d77c4f4"
   },
   "outputs": [
    {
     "name": "stderr",
     "output_type": "stream",
     "text": [
      "N/A% (0 of 27) |                         | Elapsed Time: 0:00:00 ETA:  --:--:--"
     ]
    },
    {
     "name": "stdout",
     "output_type": "stream",
     "text": [
      "Starting the PER computation through beam search\n"
     ]
    },
    {
     "name": "stderr",
     "output_type": "stream",
     "text": [
      "100% (27 of 27) |########################| Elapsed Time: 0:17:48 Time:  0:17:48\n"
     ]
    },
    {
     "name": "stdout",
     "output_type": "stream",
     "text": [
      "Average PER 0.9113886992183796\n"
     ]
    },
    {
     "data": {
      "text/plain": [
       "0.9113886992183796"
      ]
     },
     "execution_count": 36,
     "metadata": {
      "tags": []
     },
     "output_type": "execute_result"
    }
   ],
   "source": [
    "get_per(data_loader_val_letters,cpc_model,character_classifier)"
   ]
  }
 ],
 "metadata": {
  "accelerator": "GPU",
  "colab": {
   "collapsed_sections": [],
   "name": "Abubakr-Babiker-GH_TD_CPC.ipynb",
   "provenance": [],
   "toc_visible": true
  },
  "environment": {
   "name": "tf2-gpu.2-1.m46",
   "type": "gcloud",
   "uri": "gcr.io/deeplearning-platform-release/tf2-gpu.2-1:m46"
  },
  "kernelspec": {
   "display_name": "Python 3",
   "language": "python",
   "name": "python3"
  },
  "language_info": {
   "codemirror_mode": {
    "name": "ipython",
    "version": 3
   },
   "file_extension": ".py",
   "mimetype": "text/x-python",
   "name": "python",
   "nbconvert_exporter": "python",
   "pygments_lexer": "ipython3",
   "version": "3.7.6"
  }
 },
 "nbformat": 4,
 "nbformat_minor": 4
}
