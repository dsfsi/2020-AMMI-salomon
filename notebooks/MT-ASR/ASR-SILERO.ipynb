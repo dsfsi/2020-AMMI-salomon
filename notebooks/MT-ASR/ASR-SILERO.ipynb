{
 "cells": [
  {
   "cell_type": "markdown",
   "metadata": {
    "id": "sCW-xvckaO8s"
   },
   "source": [
    "# Live Colab Example\n"
   ]
  },
  {
   "cell_type": "markdown",
   "metadata": {
    "ExecuteTime": {
     "end_time": "2020-09-12T09:39:54.418700Z",
     "start_time": "2020-09-12T09:39:54.415303Z"
    },
    "id": "16gWjoEUXOhl"
   },
   "source": [
    "## Dependencies and Imports"
   ]
  },
  {
   "cell_type": "code",
   "execution_count": 1,
   "metadata": {},
   "outputs": [],
   "source": [
    "# #@title Install dependencies\n",
    "\n",
    "# !pip install -q omegaconf\n",
    "# !pip install -q torchaudio\n",
    "# !pip install -q soundfile\n",
    "# !pip install -q pydub"
   ]
  },
  {
   "cell_type": "code",
   "execution_count": 2,
   "metadata": {},
   "outputs": [],
   "source": [
    "import soundfile"
   ]
  },
  {
   "cell_type": "code",
   "execution_count": 3,
   "metadata": {
    "cellView": "form",
    "id": "jc7ZqfooYZnD"
   },
   "outputs": [
    {
     "name": "stderr",
     "output_type": "stream",
     "text": [
      "/home/aims/anaconda3/envs/LiStra/lib/python3.6/site-packages/torchaudio/backend/utils.py:54: UserWarning: \"sox\" backend is being deprecated. The default backend will be changed to \"sox_io\" backend in 0.8.0 and \"sox\" backend will be removed in 0.9.0. Please migrate to \"sox_io\" backend. Please refer to https://github.com/pytorch/audio/issues/903 for the detail.\n",
      "  '\"sox\" backend is being deprecated. '\n"
     ]
    }
   ],
   "source": [
    "import os\n",
    "import torch\n",
    "import random\n",
    "import base64\n",
    "import tempfile\n",
    "import warnings\n",
    "import torchaudio\n",
    "import soundfile\n",
    "\n",
    "from os.path import exists\n",
    "from glob import glob\n",
    "from omegaconf import OmegaConf\n",
    "from typing import List, Optional\n",
    "from itertools import groupby\n",
    "from pydub import AudioSegment"
   ]
  },
  {
   "cell_type": "code",
   "execution_count": 4,
   "metadata": {},
   "outputs": [],
   "source": [
    "# Utils\n",
    "\n",
    "torchaudio.USE_SOUNDFILE_LEGACY_INTERFACE = False\n",
    "\n",
    "torchaudio.set_audio_backend(\"soundfile\")  # switch backend\n",
    "\n",
    "def read_batch(audio_paths: List[str]):\n",
    "    return [read_audio(audio_path)\n",
    "            for audio_path\n",
    "            in audio_paths]\n",
    "\n",
    "\n",
    "def split_into_batches(lst: List[str],\n",
    "                       batch_size: int = 10):\n",
    "    return [lst[i:i + batch_size]\n",
    "            for i in\n",
    "            range(0, len(lst), batch_size)]\n",
    "\n",
    "\n",
    "def read_audio(path: str,\n",
    "               target_sr: int = 16000):\n",
    "\n",
    "    assert torchaudio.get_audio_backend() == 'soundfile'\n",
    "#     wav, sr = torchaudio.load(path,\n",
    "#                               normalization=True,\n",
    "#                               channels_first=True)\n",
    "    \n",
    "    wav, sr = torchaudio.load(path)\n",
    "\n",
    "    if wav.size(0) > 1:\n",
    "        wav = wav.mean(dim=0, keepdim=True)\n",
    "\n",
    "    if sr != target_sr:\n",
    "        transform = torchaudio.transforms.Resample(orig_freq=sr,\n",
    "                                                   new_freq=target_sr)\n",
    "        wav = transform(wav)\n",
    "        sr = target_sr\n",
    "\n",
    "    assert sr == target_sr\n",
    "    return wav.squeeze(0)\n",
    "\n",
    "\n",
    "def prepare_model_input(batch: List[torch.Tensor],\n",
    "                        device=torch.device('cpu')):\n",
    "    \n",
    "    max_seqlength = max(max([len(_) for _ in batch]), 12800)\n",
    "    inputs = torch.zeros(len(batch), max_seqlength)\n",
    "    for i, wav in enumerate(batch):\n",
    "        inputs[i, :len(wav)].copy_(wav)\n",
    "    inputs = inputs.to(device)\n",
    "    return inputs\n",
    "\n",
    "\n",
    "class Decoder():\n",
    "    def __init__(self,\n",
    "                 labels: List[str]):\n",
    "        self.labels = labels\n",
    "        self.blank_idx = self.labels.index('_')\n",
    "\n",
    "    def process(self,\n",
    "                probs):\n",
    "        assert len(self.labels) == probs.shape[1]\n",
    "        for_string = []\n",
    "        argm = torch.argmax(probs, axis=1)\n",
    "        for i in argm:\n",
    "            if i == self.labels.index('2'):\n",
    "                try:\n",
    "                    prev = for_string[-1]\n",
    "                    for_string.append('$')\n",
    "                    for_string.append(prev)\n",
    "                    continue\n",
    "                except:\n",
    "                    for_string.append(' ')\n",
    "                    warnings.warn('Token \"2\" detected a the beginning of sentence, omitting')\n",
    "            if i != self.blank_idx:\n",
    "                for_string.append(self.labels[i])\n",
    "        string = ''.join([x[0] for x in groupby(for_string)]).replace('$', '').strip()\n",
    "        return string\n",
    "\n",
    "    def __call__(self,\n",
    "                 probs: torch.Tensor):\n",
    "        return self.process(probs)\n",
    "\n",
    "\n",
    "def init_jit_model(model_url: str,\n",
    "                   device: torch.device = torch.device('cpu')):\n",
    "    \n",
    "    torch.set_grad_enabled(False)\n",
    "    \n",
    "    with tempfile.NamedTemporaryFile('wb', suffix='.model') as f:\n",
    "        torch.hub.download_url_to_file(model_url,\n",
    "                                       f.name,\n",
    "                                       progress=True)\n",
    "        model = torch.jit.load(f.name, map_location=device)\n",
    "        model.eval()\n",
    "    return model, Decoder(model.labels)"
   ]
  },
  {
   "cell_type": "code",
   "execution_count": 5,
   "metadata": {},
   "outputs": [],
   "source": [
    "#\n",
    "# a modified version of this script https://github.com/magenta/ddsp/blob/master/ddsp/colab/colab_utils.py\n",
    "# modified in line with the rest of examples code\n",
    "#\n",
    "# from google.colab import files\n",
    "# from google.colab import output\n",
    "\n",
    "from IPython import display as _display\n",
    "\n",
    "# from IPython.display import Audio, display, clear_output\n",
    "\n",
    "\n",
    "def record_audio(seconds: int = 3,\n",
    "                 normalize_db: float = 0.1):\n",
    "    # Use Javascript to record audio.\n",
    "    record_js_code = \"\"\"\n",
    "      const sleep  = time => new Promise(resolve => setTimeout(resolve, time))\n",
    "      const b2text = blob => new Promise(resolve => {\n",
    "        const reader = new FileReader()\n",
    "        reader.onloadend = e => resolve(e.srcElement.result)\n",
    "        reader.readAsDataURL(blob)\n",
    "      })\n",
    "      var record = time => new Promise(async resolve => {\n",
    "        stream = await navigator.mediaDevices.getUserMedia({ audio: true })\n",
    "        recorder = new MediaRecorder(stream)\n",
    "        chunks = []\n",
    "        recorder.ondataavailable = e => chunks.push(e.data)\n",
    "        recorder.start()\n",
    "        await sleep(time)\n",
    "        recorder.onstop = async ()=>{\n",
    "          blob = new Blob(chunks)\n",
    "          text = await b2text(blob)\n",
    "          resolve(text)\n",
    "        }\n",
    "        recorder.stop()\n",
    "      })\n",
    "      \"\"\"\n",
    "    print(f'Starting recording for {seconds} seconds...')\n",
    "    _display.display(_display.Javascript(record_js_code))\n",
    "    audio_string = output.eval_js('record(%d)' % (seconds * 1000.0))\n",
    "    print('Finished recording!')\n",
    "    audio_bytes = base64.b64decode(audio_string.split(',')[1])\n",
    "    return audio_bytes_to_np(audio_bytes,\n",
    "                             normalize_db=normalize_db)\n",
    "\n",
    "\n",
    "def audio_bytes_to_np(wav_data: bytes,\n",
    "                      normalize_db: float = 0.1):\n",
    "    # Parse and normalize the audio.\n",
    "    audio = AudioSegment.from_file(io.BytesIO(wav_data))\n",
    "    audio.remove_dc_offset()\n",
    "    if normalize_db is not None:\n",
    "        audio.normalize(headroom=normalize_db)\n",
    "    # Save to tempfile and load with librosa.\n",
    "    with tempfile.NamedTemporaryFile(suffix='.wav') as temp_wav_file:\n",
    "        fname = temp_wav_file.name\n",
    "        audio.export(fname, format='wav')\n",
    "        wav = read_audio(fname)\n",
    "    return wav\n",
    "\n",
    "\n",
    "def upload_audio(normalize_db: Optional[float] = None):\n",
    "#     audio_files = files.upload()\n",
    "    audio_files = \"./1183-124566-0005.wav\"\n",
    "#     fnames = list(audio_files.keys())\n",
    "#     if len(fnames) == 0:\n",
    "#         return None\n",
    "#     return read_audio(fnames[0])\n",
    "    return read_audio(audio_files)"
   ]
  },
  {
   "cell_type": "code",
   "execution_count": 6,
   "metadata": {},
   "outputs": [],
   "source": [
    "# import torchaudio.functional"
   ]
  },
  {
   "cell_type": "code",
   "execution_count": 7,
   "metadata": {
    "cellView": "form",
    "id": "jc7ZqfooYZnD"
   },
   "outputs": [],
   "source": [
    "# from utils import (init_jit_model, \n",
    "#                    split_into_batches,\n",
    "#                    read_audio,\n",
    "#                    read_batch,\n",
    "#                    prepare_model_input)\n",
    "\n",
    "# from colab_utils import (record_audio,\n",
    "#                          audio_bytes_to_np,\n",
    "#                          upload_audio)\n",
    "\n",
    "device = torch.device('cpu')   # you can use any pytorch device\n",
    "models = OmegaConf.load('models.yml')\n",
    "\n",
    "# imports for uploading/recording\n",
    "import numpy as np\n",
    "import ipywidgets as widgets\n",
    "from scipy.io import wavfile\n",
    "from IPython.display import Audio, display, clear_output\n",
    "# from torchaudio.functional import vad\n",
    "\n",
    "\n",
    "# wav to text method\n",
    "def wav_to_text(f='test.wav'):\n",
    "    batch = read_batch([f])\n",
    "    input = prepare_model_input(batch, device=device)\n",
    "    output = model(input)\n",
    "    return decoder(output[0].cpu())"
   ]
  },
  {
   "cell_type": "markdown",
   "metadata": {
    "id": "_6QIeg7XffsO"
   },
   "source": [
    "## Transcribe"
   ]
  },
  {
   "cell_type": "code",
   "execution_count": 8,
   "metadata": {},
   "outputs": [],
   "source": [
    "# model, decoder = init_jit_model(models.stt_models.en.latest.jit, device=device)"
   ]
  },
  {
   "cell_type": "code",
   "execution_count": 9,
   "metadata": {
    "cellView": "form",
    "id": "NJAOV1bbhEv0"
   },
   "outputs": [
    {
     "name": "stdout",
     "output_type": "stream",
     "text": [
      "English\n"
     ]
    },
    {
     "data": {
      "application/vnd.jupyter.widget-view+json": {
       "model_id": "938aa7c11ba74440beb10fdceb60b4ae",
       "version_major": 2,
       "version_minor": 0
      },
      "text/plain": [
       "HBox(children=(HTML(value=''), FloatProgress(value=0.0, max=182379714.0), HTML(value='')))"
      ]
     },
     "metadata": {},
     "output_type": "display_data"
    },
    {
     "name": "stdout",
     "output_type": "stream",
     "text": [
      "\n"
     ]
    }
   ],
   "source": [
    "#@markdown { run: \"auto\" }\n",
    "\n",
    "language = \"English\" #@param [\"English\", \"German\", \"Spanish\"]\n",
    "\n",
    "print(language)\n",
    "\n",
    "# if language == 'German':\n",
    "#     model, decoder = init_jit_model(models.stt_models.de.latest.jit, device=device)\n",
    "# elif language == \"Spanish\":\n",
    "#     model, decoder = init_jit_model(models.stt_models.es.latest.jit, device=device)\n",
    "# else:\n",
    "\n",
    "model, decoder = init_jit_model(models.stt_models.en.latest.jit, device=device)"
   ]
  },
  {
   "cell_type": "code",
   "execution_count": 10,
   "metadata": {
    "cellView": "form",
    "id": "FYsz_90gTQh-"
   },
   "outputs": [],
   "source": [
    "#@markdown { run: \"auto\" }\n",
    "\n",
    "use_VAD = \"No\" #@param [\"Yes\", \"No\"]\n",
    "# use_VAD = \"Yes\" #@param [\"Yes\", \"No\"]"
   ]
  },
  {
   "cell_type": "code",
   "execution_count": 11,
   "metadata": {
    "cellView": "form",
    "id": "QttWasy5hUd6"
   },
   "outputs": [
    {
     "data": {
      "text/html": [
       "\n",
       "                <audio  controls=\"controls\" autoplay=\"autoplay\">\n",
       "                    <source src=\"data:audio/wav;base64,UklGRmSwAABXQVZFZm10IBAAAAABAAEAgD4AAAB9AAACABAAZGF0YUCwAACy/F38Ef0M/Rb9XP3y/YT9DP0M/Uj9Ef0q/cr9u/0g/Qz9NP00/U392vzQ/FL9df1r/af9hP1r/cD9a/4G/jT9if3j/c/9Jf4Q/iX9a/3P/Uj9ov3y/Qb+tv1N/Rv+NP7Z/ZP9Bv73/bb9p/3t/RX+IP5X/uj9/P05/vz9xf3Z/UP+Fv2A/Hr9u/16/e39NP7j/SX9Zv3e/af+JP+i/k3+Tf4g/lf9B/1//az+p/5m/iX+/P22/Uj+Yf6Y/iT/H/+7/u393v16/hr/Qv9W/4n+IP62/YT9ov6I/5L/z/5D/kP+Q/6s/qL+mP5R/37/9/78/rv+Yf5m/jj/Zf8B/wb/Bv/U/lf+ev6i/mD/xP9l/1b/YP+J/n/+mP6I/x4AsP+d/o7+tv4k/5j+9/77/6H/Q/4f/0L/jf9zAHgAb/9q//z+Bv8G/1H/9v+6/7X/YP8u/yn/tv6I/+z/Lv8f/0L/Vv8k/2X/GQD7/xQAVv9//iT/RgAtANj/4v+N/3MAof8Q/+L/0/90/w8Atf90/xD+NP4tAIj/jf9uADcA0/8B/0P+C/8KAOf/fv+c/8T/sf6s/nT/CgBQAGr/2f4u/1H/jf8eAIIAfQAjAL//FAAeAJf/nP/o/jwA4QC1/1oARgAKAB4AsP/Y/xkAR//d/0EAzv+w/zIAggBLALr/3f8oAMMAoAC5AK8AbgBjAQkBjAC+AL4AQQAUAH7/zQCVAdIA6wAsAQUAYP99APoAlgD2/7QABAFzAPoACQHXAP8AJwFKAQ4BcwB4ALgBbQF3AUUBQAEsAbkAfQByAcgAVQB4ANP/zv/SAEUB/wBGAG0BswHcAIIABAG9AbQAcgHHAb4A8f8yADcAJwExAfoAggC+AG4AlgByAXIBaAEsAUoBvgBtAUoCqgAZAJsAJwFyAfoA8AAZAMn/oACBAfb/yAD1ATYBCgBQABgBUAAZAL4AmgFkANIANgHwAAUAzQBeAVoA6P5VAB0ByAAeAOsAlQFGADP/5gAsAZsA8AAdAfv/zv/J/6b/BQBKATYBeACqADwAYP/T/9wAuAEJAfH/qgDhADwA8ABZAbMBSwD2/5EArwBjAZoBcgHNAHMAkQAeAL4AswFZAXcB5gBVAIEB3ABQAHMAuQCpAYEBlgC+ABMB3ACCAIwAGAHXAAoAfv/n/zcA8ADSAFoAggAeAMD+Lv8TAV8AAf+HAIsBQv9h/j3/AAA3AGgBgQHO/97+hwDXAOYA4QCqAHT/5/88AN3/AADs/9IAg/+2/qH/uQCVAesAPAB4AMMAHQEAAH7/0/+LAVUAlgAYAdT+aQD2/wkBLAFpADwA+//SAL4Aof9GAF8AoAAeACgA3f9g/7v+tf94ANj/hwC0AB4Aa/73/tj/cgGBAYIA2f7t/qv/KAAtAA8AWgDi/2QAav9N/gH/EwHwAJsAnP+i/kj+Zf9+/24AvQEFAMT/Qv9H/2X/g/9AAUsApv/n/3/+ov43ANwA+gAjAM0AXwAf/7//hwBg/5f/q/8AAA8Asf2T/q8AbgAjAH0Ayf95/18Al/+n/uL/nwGN/9n+Pf/t/q8AwwCm/x4Aav+//1b/7f7E/5sAaQA8AFH/Lv88ALkAyv72/5sAq//s/woAxP9BAB4Ayf+2/o7+ZACBAWQAAADn/+L/hwDIADYB0gAFAAAAHgCMAA4BpQBaALX/8f+CAMMAQv8ZAIwATP8PAAUAkv8jAMMABQAQ/37/b/9pABX+2P9UAej+Ff9g/+L/rwCWAHIBZABr/lb/QAFLAKoAhgEKAGX/4/6gAEoB7P9+/7kAAf8tAJsACgBVALkADwDrAEABsP++APoAhgG9Ak8BIwDs/5sAVAHwAWMBEwLhADIAHQGRALQANgJ3AYwA6wBjAf8ARgDIAAkCOwFoAcIB6wAiAdYCnwGlAIsBHQLSANcA5QFVAGMB1gKaAbkAjAA7AS0AggCLATsBSgG9AXgAFAC6//H/5gAYAm0BcgGMAIP/fAEEAtEBOwHNADwAFABkAK4BEwInAYsBWgB+/68AWQEiAYYB3ABkALX/pQCaAscBOP9pAOsBHgAZACIBfAH/AL4A5QG4AUUBBAFAAfb/LAGGAnICYwFUATYBoABoAeABGAJpAPv/kAHgAW//cwCVATsCcgLCAXwBhgHs/08CMQKuAR0Cpv/y/gQC/wC+AKkBiwH/APz+/P48AGgBswJjAVAA6wBVAMn/lgDXAFkBdwFKAQQBdP+X/0oC+gEOArQAk/7t/qAAxwE2AVv/DwBKARQAVv8p//oA2wJBAOL/b/+2/goAHQHcAP8AH//7/0sAOP/rAMgA3f9ZAiIBjf9X/gH+aQCRAC0AuAFBAGH+u/5QAIwAGQCfATEBrP6Y/hX/PADDAFAAGAEZAC/+fv8oAFAAtAAUABQAq/9+/8T/jv6O/oIA0/9QADcAXP6gAIcA3v4Q/9n+CQHlAmX/Yf72/y7/SwAOAmkAYP/A/sD+UAC1/37/iP/DACgAv/95//L+u/5KAVv/C/9ZAVQBNP7Z/rD/oAAKADcAJwFH//L9lgAsAdcA3f8Q//v/uv9q/9IAZf8u/93/v//d/+f/1P7n/2QAGv8jAOL/Af95/+j+8v5zAGb+C/8AAOj+XwC//3X+CQEk/wz9XP6N//b/4v+2/tP/ev6s/Q8APAD8/r//Uf96/uz/hP51/nn/df5D/bb+C/5b/xX/M/9BAAv/DP0f/8n/W/8+/vf+dP8L/1f+7f62/cX+R/+//xD+2f0g/az92f6Y/RX+ov4q/gL9if1//lf9nf5aAGH9DP00/Sr+C/8C/az9pv/3/Z39Pv5h/nX+Tf1N/aH/V/4q/Zj9cP6x/Z3+QQD3/XD9Q/1//RX+9/7t/rD/Of3u+6L9ev5N/XD+LQAG/+78hP5v/6b/u/7i/+j+a/0+/dn91P6S/0z/Uv7f/Lf8Fv2O/Wb++//j/gv+Av0v/cH8Af7y/uL/Kv73/Rv9jv4g/vz9Uf8yAJj9MPx//QH/u/5W/43/Qv+P/Jn7tv0V//f9WgAUABv9t/vU/Tn+L/4k/2kAyf/j/Sr+Yf7j/jn+nf16/vL+wfwv/ab//P7A/Tj/9/5D/mz8Of3Y//v/M//K/sD91fy7/af+zv/e/mH+rP4u/0P9XfwQ/6AAYf51/cD9L/62/sr+TP+s/hD+k/5w/nr+Qv/n/+L/3f9X/Z78p/7n/7r/ZAC6/539SP0v/tn+nP9aAAb/Kv3y/bH+VQA8AHD+p/7Y//z9/P2r/xr/ef+I/xD/jv1w/tn9b/8k/8n/Lv9+/4cA6P4V/pz/pv+7/W//LQAa/7X/OP/8/lb/wwDt/gH+H/8xAR0BwP6h//8Aef9w/kL/0/8jAHT/4QBKAXn/iP++AKb/nf4jACgAq/9kAAoAC/9//goAMQIeAJL/hwAu/1H/FAD1ABMBTf5h/p3+eABAAbkAlgA3AM/+bgCuAaUAIwBkAGr/Lv/IAAQBkQBr/iMApQAyAPoBSgGRAFH/Bv+5AL4Atv76AIYBR/8B/pz/QAE7AoIAPAB+/7b9Pf/NAFQB5QKLAZj+/P3P/uYAaAI7Ab4AlgBLAM0ArwCBARMBPACqAGMBTP8f/+8CJwKw/ygA6wCS/yIBSgItAJj+PAD1AesBcwCh/30Afv/s/8wBgQIeALH+xwJKAb///wDmADwA8ADmAOYA8ABW/2//QQCGAq8AMQHXADIAQv/mAGgBmgFyASn//P3/ADsCfAGGATcAMgDo/rD/cgIsAXwBLAIsAUUBGQBVAMMArwBoAQ4BKABBAC7/cP6w/5UBIgJKARr/Kf9ZAYYCQAFLAFoAjAD6AesANwAG/9YB/wBkAMgAkAE7AWkAeABBACwBxwEIA0UCGQC2/goAZwSQAh0BUAD1ABMBwgL/AbQA5QFeAtwAIwBPAscCbQH6AFAAYwEYAsgAWgDmAKH/TwGzAf8AIgHXADYBxwEOAhgBhgLmAJYAiwFoARgBqgBuAH0AGAFtAhgCl//3/qUAkAE3AEABfAF4AGv+M/+fAqkCkv+6/1UAUAAjAKQB9AJtAab/KADj/sn/5gCuAZUBdwFaAHr+IP42AccBaAGCAMMAbgCd/sD+3AAyAEYADwBW/2kAkv9l/0oB9QB5/6v/GQAnAZP+v/+GAXMAwwB4AGX/MgBaAJz/OP/s/woAcwCCANwA7P+D/xX/dP9pAB0B7P/d/2QAq/8TAVUAM/9M/wb/+//bAXcBLQCc/3wBoABVAMn/q/+0AGkAuQCWAAUAPAAPAMX+Pf+aAWgCQQC2/lf++/9yAYwAggClABkAXgFkADcALAGMAOL/JwE8ANwApQDJ/wkBbQKfAW//9/3J/5sAqQGyAycBrP0u/+sARQH/ALkAqgCHAEsAQAFFAa8AkQA4/ycBjACc/2gBlgCE/vb/GAGMAHgA+/+CAIP/tf8TAoIALQCm/4j/WQFUARQARgDXAB4ABQA4//8AOP+x/owAQQD7/ycC2f7cABMBif6s/oIA+gATATIAuv8tAAAA0gAdAWgBkQDy/tj/MgCw/+sAjADcAD3/ov5fAIwANwCBAuEAdf4eANj/lgC4Al4Bq//i/53+JP8AABMBowOuAeYAKADO/43/kQDn/4sBHQIoAOz/Kf8k/3gA4AFVAF8AVv8UAJf/9QBfAP8BBAE+/vb/XgHd//L+5gCh/0EAav8FAH0AuAEZAAH/tv4nAh0C+gHlAYP/iP8TAd3/YwFjAvAB2P8Q/5j+2f26/wkCOgOvAMD+nf3F/t7+gQEiAjcAZACvAM7/C/8tAEAB/gJfAA8AAAC1/5L/QAHWAUoBpQCm/93/PACQAb4AIwA8ANj/6P2c//H/pQA7AncBAABGANj/8v7d/xr/MgCzAX0APf9QAG4ACgA7AWkAtf95/1oAhwAUAHn/3ADRAYwAev6w/yMAaAFuAB4AIgIJAbX/+gBQAMD+b/+CAIEB3AAAAKv/8v62/psALAF4AFQBRgC7/tn+jf+vAOsASgKHAN/8jv60AK8AyACN/0f/CQGh/zj/JP+m//v/q/9C/8D+0/8nAUABQv+x/qUAMgCc/7D/QQCT/in/LAIdAQv+4/2zAbMB4/2CAP4COP9I/uz/KAA3ADwA1gHY/5P9Zf8OAXcB1wDJ/xkA7P+2/lQBdwF4ALD/BQAp/0EAiP9zAKAASwDrAL//OP/n/6UA5//mAHT/xf4z/0EAtf+WAKUA3AAu/7X/aQDWAa8AIwCI/5z/CgB9AIwAWgB0/wb/4QD3/tP/WQFq/zn+l/8FAH0A2P/IABkAKf+n/oP/9QBkAAv/0gDXAI7+zv9fAM0Aav91/i7/MQEZAM7/SP6m/y0AcwDO/wH/Uf+vAAoAIP6D/93/0/83AKoAPAAz/0sA8ACw/4T+mwDSAFb/W/9VAEoB5/9I/gAAR/8oAJEA5//K/i0ANwDU/nD9UABPAjsB4/7Z/pL/iP+X/6QB4AG2/lf+1P4L/6b/VQAu/2gBTP/8/az+NwBaABMBMgCw/9j/Zv7K/QAAGQA4/+P+tv6r/1b/OP/2/4P/C/+CAB4Ab/8OAR4AKv67/nT/xwF9AI7+H/9b/2v+b/9GADsB9/4R/Yn+rgHd/xv+GQAPAEL/3v6d/gUAIwBR/+f/BQDs/3T/M/9R/7X/Gv+1/w8A3f/P/i0AiwH8/k3+2P9fAIcAjf/T/30AQv/O/+z/Ff/o/rH+YP+bAI3/0/9BAFb/cP2n/n0AWQGc/wb/Uv5fAOL/u/0tAGgBUf9c/hQARgDe/lL+XwCWADn+rP1h/hD/G/73/oT+IwA0/n/9dP8p/x//M/8b/m//QQAf/3D+wP7T/y0AOP/t/UP+rP5aAFoAnP9g/wH+C/6c/+j+rP4iAbr/xf44/4n+k/7o/lH/g/+D/9j/YP9I/RX+Bv+c/zwABv+s/on+9v8PAIP/Uf8jAIP/of+i/hH9tv2vALr/zv87AWr/Of7Z/cX9fv9ZAfv/Lv+d/i7/WgC//8T/pv8b/pP9W/9H/wv/mP7F/v8AQQDA/TwAMgDK/kL/rP49/+YAtv0FAIj/NP5b/zEBf/5D/in/CQHE/5f/tADhAN7+p/6d/j7+0gBPAVb/G/4p/1oAwwAf/2kAov7f/PL9eAAOAbb+jv43ANn+qPzY/ygAOf7F/dT+NwCS/z7+sP8z/2X/jADwAFH/Kv6J/vAAqgA9/x0B2P+d/cr+sP94AF4BFACS/+P+Of6m/4cAyf8nAW4A0gCMAFoAuv8YASwBxwH1ADwAQv+E/lv/kQDbAWgBJwF4ACT/HgA9/8r+2P8dAfv/Lv8L//H//P6//8MAZf+T/vb/ov4Q/4P/9v+D/+sAcwDDAAv/xP+//5z/bgDrAC0Ab//U/u3+lgBoAUf/M/+HAH0AFf7Y/3IBRgB//uz/CgB4AKAAqgBH/y7/jf+aARgBiP8G/w4Bkv/3/mD/DgHmANcAjf9R/wv/kv/s/2X/yf8iAZYAeAD2/87/Gv8oAKAAXwCc/x//kv+D/87/rwAPAKH/C/9H/8n/LAHwAKoAR/8AALkAHgCX/w4BKACm/8T/ZABzAFv/EP9pAEABof/t/Tj/rgLrAMX+iP84/8n/yf+gAEYAVQBAAZoB9/5l/4sBLAGvANIANgFGACn/bgDMAUABVQAFACgAkAKkAbQAfQCi/kYA5QGuAWX/nP+1/3wBuv8G/7r/jADHAeYA2f6gAKQBNgF4AJf/ov59APUArwAUAHMAAf8UAP8AtAAOAUABUf+X/xMBfAFZAVoAq/8tAK4CdwEZAOEA1gExAs0AwwBfAAQB/wF8AYIALAGBAf8ATP/2/yIBLAE8AOf/ggAKAMn/gQEsAVAAMQGRAKb/uv8EAm0CMgB0/9cADgEUAH0ACQF9AIIA+gFuAKb/5gBUAcMACQFpAEEA+/88AL//pv87AaQCiP89/woAggBKAYsCBQC2/kYA1wA7ASIBQAGX/87/rwDXAIP/hwBPAQAAXwDwAdcAjACm/7X/bgAdAv8BGQDE/7//LAHrAbgBTP9aACgA1wDDAOAB5QE3AB//JwKuAff+FAB9ACcBfQBGAB0CHgBD/o3/uQBjAYIAOP9VACMABv/O/+EAUAAf/8X+IwAYAUYAq//o/m//WgDJ/4P/Pf8V/5f/3ADrAPUAPf85/pj+4QAZACn/vgBUAbb+4/6m/2kASgG//1v/yAAoAAb/pv9BABMBoADY/1b/3f+vAPH/EP+N/2//3f8UAGr/eABQAAUACgC6/7//W/8u/2QAFAAk/x//xf7i/87/KAD6AC0A8v7x/x4ABQAf/18ADgHn/9n+3f8ZABkABAF9ANP/3v6m/y0AKADn/4cALv+7/qv/pQBLAAoAQQDDAB0BVQBH/+z/dwHrAJsAZf9g/wAApQD2/w4BCQF8AZEAaQCgAIIAVQBaAMn/FACHAAkBOwETAWD/2P94ALX/xP8YAc0A5/+r/5z/CgAiAZYA6wAPAL//KAC6/4P/WQHhALD/R/+lACIBrgFLAL4A1P5l/5AB+gE9/0L/EP9QANIAHQGMAPL9z/42Aez/p/5+/wQBbgDA/tj/mwBg/1v/wwBQAC0AKAC//9j/8v4AAOz/0//d/6b/1P4AACgAKADJ/yT/u/6N/zj/lgDY/8D+ef9GAGr/C/91/tn+rwBAAWQAmP51/af+Pf8yAFkB4v8v/o7+cP4FADsB1wCc/6H/rP40/gUACQKvAFf+2f5b/+f/jf/K/t7+hwAPAM7/2P90/43/Uf9VAIwAMgCr/7D/z/4PAHn/rwAFAN3/dP/o/tj/1wBb/xX/0/+I/7//ZABBAJf/Pv44/+L/jf/s//v/3v5fANwAyf+r/7X/IwAz/7v+BQCX/37/sP8KAHn/2P9//sr9nP9QAFAAf/7P/nT/YP8B/5f/Uv49//v//P6r/87/Q/7y/uf/Lv/n/4P/of/2/0P+sf43AD3/+/8B/0L/zv90/5L/DwDy/pL//P78/e3+Bv+2/pz/KAC7/iX+Pf/Y/7D/xf55/zIAUv4a/6v/8f90/xkAb/9N/i/+tf9LABX/W/8a/1b/M/+X/9j/+/83AO39Af84/7kAq/9C/8r+sP/t/gAAef8+/in/jf+S/yT/7f4+/t7+Pf+w/2//EP+2/pj+KAAJAej+M//E/7D//P4oAAAAof/U/qb/QQDE/3n/if4f/5z/tv4a/0f/z/6c/x//Pf8ZACD+9/3J/5L/W/9R/8n/W/8L/rH+zv8a/2X/GQBS/gv/zv/y/vf+UAB+/7//ov4L/6v/pv9b/93/z/5c/lv/Vv+S/5f/GAHSAAH/3v4z//v/Zf94ALr/av8B/0YATP90/+z/1wBv/wH/v//mAFb/iP9g/6H/l//n/1AAzQAa//v/LQBfANP/CgBGAH0A5/+vAM7/W/8Q/1v/tf+VAWMBLv+2/R4AuAFpAI3/HgDDABkACgC6/1b/W//mAHgA6P5M/wAA8f8a/woAZf/O/4cAzQD8/ff+JP+m/4j/a/5M/4cADwCw/6v/H//1AAkBBQAUAIP/iP+6/yT/KADSALX/3f9v/wv/Uf/7//H/MgDT/1H/pv8KAAoAtf9GADIAR/+X/6oA8f90/74AGAEPAAUA4v/8/Sn/9QCI/3n/yABGANT+Qv+MAFAAkQDmALQAof+c/2QACQEiARkA+gCMAG//R/8yADIAWgB9AM7/if62/kYA/wDi/6H/g/+//1v/9v8FAAoAWgBBAF8AZABpADwAPf/E//oAfAEPAD3/zv+gANj/NwCWABkALQAV/zP/4v8tAL4A+gDE/1oAuQAPAAkBYwFVACMACgDwAOf/u/66/5EA8f+bAOz/Lv9C/6v/yACGAdIAoACbAIcAcwAyAN3/cwClAF8AM//d/68AZABkAGQAMgDx/1kBSgFVAMT/lgCbALQAkQD7/wUAl//Y/6UAqgBLAOsA9QC0AC0AVQBKAV8ArwBzAMn/tAAnARQAKf+//8gAoAAFANcAKAAAADwAQQCw/3MAHQHrAc7/CgA2Ab4AsP8iAcgAVv/T/70BcgGc/5z/wwBl/0P+MgBPAQAAof8ZABX/v/+6/93/Uf+h/8T/4v8z/wb/UAAjAMX+aQDXAHT/2f5v/zj/nP/T/4IAFf8B/igA8ADj/kz/9QBQAKv/6P5W/4P/FAD7/+L/nf6c/18ANwAf/0L/dP/o/qL+BQCvAKv/av/3/uj++//i/8n/hwDY/7v+iP+S/wkBlgC1/y0ABQAV/1UAPADDAIcAUf+c/6UAHgBGAAoAR//7/1UAv/+w/43/9v8ZAHn/jABVAN7+Af/7/2QAkv+6/8T/SwCr/2D/of+6/+z/+gBGAPv/CQHs/4P/6wCVAaUAIwCX/3MANwCvADIAZACbAFoAfv+WAMMALQAeAJsAuQAeACMAaQC//y0AjABzAKH/fv8PAGQAMgBQAKAAzQAUAAAAGQAyAIwAYwEFACn/yf9uAJz/RgAyAL//Ff+7/m//3f9W/6oAQQBR/97+R/+r/93/iP+6/2//dP/n/y7/sP+GAa8AAf/8/mD/XwBaAFv/4v+1/1b/JP9C//H/mwCr/7r/NwCS/5sAmwCr/x4AaAGHAIj//P7n/4IAjf8KACgAC/+n/uL/Uf9q/2D/Qv+6/0sATP/O/2//0/+N/4P/H//2/3n/q//s/8n/b/+w/5L/jf99APUAhwDA/m//5/9BAK8APADd/9P/Af8eAKUANwDDAAUAef/IAKAAYwFFAWD/HgDIALr/bgA2ARMB9QBLAFAAQQDO//8AQAHn/1oA5gB9AC0A9QBGAGQASwC5AH0AcwDrAE8B0gCgAP8AIgHIAHMA9QAdATwAFADhANcA0gDwAAQB5gBGAFUAkQBzAB4A6wDNAJYA0/9BAH0AKAA3ANwACQHhAEsAv//7/1AAyAAOAX0ALQCWAKoA+/+0AAQBjACS/xQA9v/mAHIBzQAUAOL/yf+6/7r/jACLASgAAAB9AMMASwCqAIwAyAAoAL//bgDn/+3+ggD1AB0BmwDe/jj/vgAUAHMAIgH/ABkAv/94AK8AJwGlAGr/av9LAAoA9v/O/zj/Vv8tAHIBSwAf//H/VQDT/5EAOwGCAKH/dP+6/8T/Gv9kAKUAHgCD/+f/of8AAIwAJwGX/1z+BQC//x//FAD7/xQALQDe/pj+9v9VAPoAGQDj/jj/fv/2/zcAsP83ABkAJP/O/6AAFABVAIcA7P8eADcAqgAeABkA3ACqAGkApQDSANj/uv/Y/1oA7P+bAPH/aQCX/2r/C/+X/8T/LQB4AKv/8f88AAUA6P5l/0sA5/9W/0YAggBM/4j/QQCHABkAW/9b/1oAVQDO/7//xP+6/7X/BQBW/37/jf+0ADsBhwAeAAUApv9QAFQBkQAeADIAGQAyALQADwA3AOz/LQA2AaoA2P9GAEYAPACgAG4ACQHmACMAUAAFAGkAVAF9AC7/W/9R/5EA/wAeAKv/q/+m/y0AZACbAHgA2P8eAC0Akv88AB0BhwB4AJYANwCc/8n/oADXADcAQQAKAI3/W/9b/wAAFABb/3T/ef9b/2X/2P9kAKv/SP4B/0f/q//E/1H/fv+1/zwA9v/2/4j/kv9v/5z/9v89/xr/Vv+S/87/C/95/3gATP/t/lv/wP44/5L/GQBg/+3+H/9W//z+DwCh/6z+xf5q/2//xP+h/9j/kv8B/2X/nP/T/5z/ef8Q/yr+rP5+/2X/M//A/kP+3v4L/1v/Uf8b/j7+nP+D/+3+8v7F/h//k/7Z/rX/iP9q/5z/OP/s/1AAyf/8/tn+b/+X/wv/Bv9M/2D/sP+s/tn+C//U/jP/Ff9R/0z/IwCHANP//P5v/+z/Uf+S/0EAof+s/mr/ef+m/1H/of/O/7D/sf4Q/8T/RgCWAKH/2f5v/1UAVQDx/5L/AACm/2r/8f+c/zP/DwA8AHn/kv9H/3T/uv/y/gb//P7J/7QA0/8L/5z/+/9VAFH/SP6w/5EALQBQAA8AKAAeAFAAfQA3AAUAlgCw/2D/cwDmAPb/b/9b/wUAWgDd/7r/KACMAPoAmwDhAB4A7P/DAC0AxP8ZAA8AaQBLAEYAbgC0AKoA3ACqAKAAggC+AMgASwAoAFoAwwCWADIAbgDSALkACQE2Af8A0gBBAM0A9QAZACMA2P+//1AAXwBkAFoA+//T/8T/3f8eAPoAoAAKABkABQBpAM0AJwHwADsBoAC6/18AIgEOAUsAKABBAF8AZABuAKUAeABfACMAuv8tAFAAbgBBACMAxP99AKAASwD2/5z/AACRAGkAMgAFAKv/lgCWACgABQAKAMT/jf9l/3gA+gCc/2X/Qv9q/zcAnP8L/8T/CgAUALX/g//2/ygAWgAFAGX/nP/E//H/v/+N/woAQQDn/87/l/9b/9P/DwCbAAoAOP95/2//Pf/2/y0A8f8FAKH/l/9fAEEAHgAUAAAA5/+1//b/LQAyAOL/uv95/6H/q//x/7r/iP+1/+z/v//i/4P/NwC+AIwASwCh/zj/NwBfABQABQCI/8T/HgAPAOz/xP/7/+f/b/9g/8MANwCh/0EALQCr//H/3f/i/zIAjf+w/5z/fv8KALr/OP8PADcA0/8AAPH/9v8yAFAAsP9M/y7/pv83AJEAQQD7//v/QQAUAOf/ZACWADcAGQDs/7r/yf/7/37/R/+X//b/NwCh/zP/5/8FANP/GQDn/43/+/88AEYAyf/s/zwAjABBAPb/2P8PAHgAWgCN/5L/zv8eAJL/fv/d//H/g/89/ygARgCX/6H/v/+r/8T/kv+N/5z/kv+X/2X/Kf9v/zP/g/+r/yn/of8UANP/l/9q/2r/KAAKANj/Ff9R/6v/CgA3AMT/Kf/e/kL/dP95/7r/Lv8B/xD/3v4a/5z/W/8p/8X+sf4V/37/Af9l/6H/8v4z/zj/Qv+N/8n/Uf/y/tn+ef+h/xD/EP9H/yn/jf9M/1v/ef9+/6b/Af9l/8T/7P8ZAM7/9/5v/1oABQB0/1H/nP/7/93/tf9C/7v+Zf/i/5L/av9l//L+Gv8L/wb/pv/n/2X/b/89/9P/qgB9AGD/H/84/7//0//s/2QAv/8G/5z/LQAoAI3/R/9H/1H/jf/d/5L/Gv9M/0f/YP+S/8n/9v+1/7r/AAC//+L/ZADO/2D/yf8UAPH/zv9v/3T/yf/Y/ygAuv+c/8n/+/9aAGQAtf+D/9j/0/8FAAoAPABuAFAAIwBGAFoApQD/AJEARgB4ALkA9QCgAC0AVQBkAIIAqgCCAM0AvgCqAGkA+/+h/woAVQCbAKoAeAAjAEYAQQClAGMBwwDx/yMAcwBuAPoAlgBfAK8AcwAtAJEAzQC5AF8AfQBpAGkAeAAFAKv/8f/XAMgApQBVABQAtAAYAc0AkQBuAJEAwwC+AMMA0gDDAKAAWgBLAMgAWgC5AEUBbgDY/6oA6wDmAHwBXgGqAM0AIgHNADEBuAH6AEYA6wBeAf8AEwEdAaoA9v9fAFoAbgDmAOEA1wDmAPoATwHgAbgBXgFKAZUBgQEYAQkBrgFyAYYBkAGVAUoBaAGpARgClQGGAZ8BkAG4AeUBhgGGAdEBnwEsAUoBdwFeAVkBbQF8AV4BIgIdAqkBmgHHAUABfAFtAXcBTwExAdwAzQAdAcgApQATAQkB/wD/AP8AIgEsATsBdwHhACcBrgGBAeYA1wCvAOYA5gBpAC0AWgA2AfoAlgCqANIAzQDmAAQBBAG0ALkA1wBkAFAAwwDmAIcAPAAZAKoAjAB9AKoAZABVAIcAXwA8AFUASwBfAF8AcwCbAIIABQAZAFoA4v83AEYAoACbAJEAjABVAB4AVQBaABkAMgAFADcANwAjAF8AUAAoAFUAZADx/+f/2P8tAA8AUABBABkAFAB4AEYA4v/s/x4ANwBkADIAKAA3AC0AhwAZALD/8f/2/yMALQB9AEsAPABuAGkAWgBkAAoA9v8KAOf/+//E/87/3f8AAPv/DwAKAOz/QQAtACMA3f9W/1H/TP+X/6v/0/8oAKv/l/+1/87/IwAjAOz/g/9H/+z/NwDx/7X/W/9C/z3/jf+1/2//Vv8Q/8/+wP5M/3T/Uf8u/x//dP9M/xD/W/9g/wb//P44/2r/YP84/8X+hP6x/vz+yv7e/p3+hP5h/on+yv62/nr+sf4u/8r+8v6n/nr+a/40/qL+C//t/vf+/P73/tn+a/6i/qz+wP4k/8/+3v6d/nX+hP62/rH+6P4G/7H+rP6J/o7+jv7o/hr/C/84/zj/C//j/rH+z/7K/vz+z/6i/pP+1P7K/o7+a/4q/jn+sf6n/qL+Zv5D/mb+nf7e/pP+mP6x/u3+/P6T/mH+tv4V/6z+p/5//n/+k/5r/mb+Q/6O/n/+u/5w/kP+jv62/rH+Zv5r/pj+wP7e/rv+xf7A/sX+xf4Q/xD/yv67/s/+7f4f/xD/u/7U/sr+EP/y/rH+4/7t/u3+7f78/uj+8v6s/on+a/56/on+ov5//o7+cP6E/o7+2f4z/0z/TP+I/1H/Zf84/+3+Kf/y/gb/4/4V/wb/u/4u/y7/Ff8a/9T+1P4V/yT/Lv9W/x//JP8f/0f/uv+m/1b/g/95/1b/Uf8u/3n/Uf8B//f+Af8u/37/Vv+h/yn/TP+//7//of+N/0f/uv/s/7//5//2//b/zv+h/7D/0/8oAAoAuv/Y/5z/zv/s/2X/nP9+/6v/7P8oADIA4v/i//b/q/+6/3n/iP+m/6v/zv+///v/yf+6/7X/nP+w/43/tf+6/9j/+/8AANj/BQD2/x4AVQBLAEsA2P/d/1UARgDx/7//tf/i/woAWgBfABkAv//O/woAIwBGAB4ASwA3AEsAFABBAC0AGQBuACMADwAFADIAQQBBAEsAcwBfAGQAUADx/x4AKABuAGQAQQA3AHgALQAyAAAACgBVABQA9v8AAB4AZACgAIcAZAA8AKoAjABfAJEAQQBBAGQAcwBGAEsALQCvALQAcwCqAOEAyADIAKUAuQCqAMgA3ACRAKUAtACWANcAyADDAKoAqgDDALQA6wDmAKoA8ADXAJEAqgDhAPAA9QDwALQApQCqAMgAggC5AA4BpQCMAH0AtADrAPUA4QAnAdwAwwC5AOYACQHhAOEA3AD1AP8AHQEOARgBSgGBAUUBVAEOAdwAEwEsARMBQAEJASIBXgF3AUoBSgFyAUoBRQE2ARgBCQFeAWgBNgF8AUUBbQEsARgBMQEsASwBJwEnAfoA9QATAR0BNgFAAfoA+gA2AfUA+gATAeYAwwCqAJEAoABzAEsAeABuAGkAXwBGAFAAMgBkALkA1wDXALQA+gDmANcA6wDrAPoAkQBpAIIARgAeAIwAWgBQAEsAaQClAJYAUAAZAEsAXwAyAFAAVQD7/2kAggCqAIwAPABGAFoAQQBGADwACgAtADcAggCHAKUAcwBBAK8AmwCbAH0AcwCCAHMAUACqANIApQBfACMA4v/O/+z/QQAFAAoAaQBpAG4ANwBuAHgAmwBGADIAaQAyAOL/9v/O/6b/9v83AAUAiP/E/7//tf8AAPH/HgA3APH/UAAAALr/sP8PAN3/g/+m/+z/xP88AOz/3f8PAPH/sP/O/wUAFADi//v/CgAFACMAMgAeABkALQAKABkA8f/O/9P/jf+D/+z/GQAoAAUA4v8AAOf/CgC1/93/uv+N/6v/l/+I/2X/R/+S/4j/b/9v/yn/jf9H/0z/W/+c/6b/Kf8u/2r/Uf9g/6H/7P+1/7//0/+S/7D/uv/i/6b/iP95/43/l/+I/5L/g/9H/3T/b/9C/zj/C/8a/wv/7f44/0z/JP8p/9T+/P4u/wb/2f73/jP/6P7e/jP/Kf8V/wH/JP9l/yT/6P4V/2D/R//8/gv/Kf9q/yn/M/9W/1H/Zf+N/3n/Zf89/yn/M//8/vf+Gv+s/uP+Kf8p/xX/2f7A/gv/M/8z/wb/4/44/x//H//F/pj+9/73/hX/JP/e/tT+Af8L/xr/3v7P/vz+rP6i/tT+2f4L/xD/Bv+7/t7+8v7e/gH/wP4B/1b/W/8V/wb/8v4L/xX//P7j/vz+Bv84/zj/Kf8G/1H/av8B/wv/Uf/o/sX+4/7t/sX+8v4G/yT/Qv9W/2X/TP9W/yT/9/4L/97+mP6i/rb+8v7Z/uP+Kf9H//L+EP/y/p3+z/78/qz+wP6x/qf+xf7F/qz+yv4Q/0z/EP/Z/tT+3v6n/tT+3v78/tn+z/4V/yT/Kf8V/y7/iP9l/yn/kv+r/zj/Vv+6/3T/dP+X/8n/3f/d/7//8f/s//v/v//7/x4A7P+c/37/av9b/4P/kv+S/7X/xP+w/5f/of/i/5f/3f+r//b/AADx//v/yf/i/+f/kv+D/2//iP+S/2r/b/9q/5z/dP+I/4j/of/T/43/tf+m/2//Pf8z/4j/ef9+/3T/Pf9C/3T/JP8f/0f/g/8f/xr/dP9+/5z/sP/E/7X/kv+c/3n/iP+h/7r/0/+I/xQAHgCr/9j/2P+//+L/GQAeAKv/kv+w//v/CgAeAPv/v//n/3n/iP+X/8T/5//2/wAAHgAPAAAA5//d/87/of+6/6b/TP+N/1b/dP90/1b/nP+6/93/3f/T/5f/tf+r/7r/3f/J//v/BQAjABkAHgDx/y0AQQAUAAUAAABGAEsAVQBzACMA+/8FAAoAMgAAAOz/CgAKADIA9v8oAPH/IwDT/7//yf/cAAkBfQAjAK8AXwAPACMAeADcAMMAvgDDAPAA9QCWAMMA5gDwAJYAeABuAJsAcwBfABkA9v8ZAG4AMgBuAHMAggCCAHgAWgB4AHgAggBLAIIAmwCWAL4AfQAZAPb/9v8FADIAGQAKAAoA+/8eAPv/AADn/w8ARgBGAAUA+//2/w8AGQD2/wUAFAD7/8T/4v/s/w8APABLAFoAKADn/1oAjABaAFAAbgCbAKUAtAC+AKAAfQB9AFAAcwCCAEsAUAAtABkAKABuAC0AKAAeAAoAQQA8AEYAfQCHAFUARgBpAFoAmwD1AJEAggCMANIA0gCvAJsAjACRAJEAPAA8AIwAjABfAEsAUAA3AOf/3f/i//H/0//7/ygA8f8oAOL/AAD2/87/GQAFAAAAMgBuADcA0/8KADIAXwBfAC0AXwCqAF8AVQB9AHMALQBLAEsAaQBLABQAKABaAIwAqgBpAEsAaQBGAIIArwCMAIIAZAB9AFAAXwAtABQAPAA3AAoA2P/T/6H/q//2/yMA+/8jAAAAQQAAAMn/HgBLADwAVQBVAEYABQBpAFAASwB9AHgAfQBfAB4AZABuAB4ADwAoAPb/9v8tADcAHgAjAOL/AAAAAJf/kv+I/6b/v//i/93/7P/T//H/tf+h/6b/v//T/6b/Qv9g/6H/kv9b/3n/kv+h/0f/nP+D/8T/8f/d/+f/xP8FAN3/v/8KAKH/zv+m/5L/7P/O/6v/8f8jAGkAcwCbAEYAVQBLADcACgAyAC0ANwAoAEEAIwAZACMAXwAUAAAAXwCWAFoAvgCMALQAkQAZAFoAcwAyALQAggClALQAcwBuAH0AUABzAG4AlgCvAKoAtADXAKoAuQCCAL4AhwCqAM0A9QAJAa8AbgB9AOEA6wDrALkA5gDrAMgA9QDmAMMAzQC+AKAA0gD6AB0BGAEdAScBEwEnAU8BSgEJASIBDgHhAEUBGAHmANwA6wDXANIA+gDIAL4A0gD1APoA6wDrABgBNgEsAUUBIgEsARgBwwDNAKoAwwDXAB0B0gD1AP8AyADIAPoA8ABFAVQBMQE7AVkBXgF3AYsBTwEsARgB/wA7AVkBGAEiATYBbQGQAYYBnwGLAR0B/wAEAfUABAH6ACwBEwHNAP8AEwHXAP8ADgH/AMMAtAD/AAQBggCMAHMAjACgAGkAqgDSAPAABAHwAM0A8AD1ABMBfQBGAMMAeACHALQAkQBuAGkAfQBpAHMAbgBBAOf/+/8tAFoArwBzAHMAvgAyAB4AeABaAEYALQBQAFoAIwA3AC0ASwBzAGQASwAtAA8AHgBpAEEA7P8FAB4A7P/O/9j/CgDT/woAGQAKAN3/DwDx/woAfQBLAEEAQQAeABkAUAD2/2kAXwCRANcAjABVAJsAfQBQAHgAaQBLAEYAUAAjAB4AaQA3AB4AKADd/93/2P8AAA8A2P8ZAPH/5/8UANP/7P8FACMA0/8ZAEYA5//x/w8ACgDx/w8A0//J/7//0/9QAIwAUAAtAFUA9v/i/w8AGQDx/9P/GQAZAPv/AAAKACMAIwAjAAAAAADE/6b/v/+6/43/q/+h/4P/Zf9+/4j/v/+c/5f/iP/i/5z/g/+X/7r/yf+X/5L/av+I/6b/yf+D/5L/of8u/3T/sP9W/3n/M/8a/2X/Uf9H/yn/Uf9b/zP/Zf8z//L+C/84/1b/Ff9M/y7/OP8z/0L/Lv/Z/sD+3v7Z/h//Bv/U/lb/W/95/0L/TP8p/x//b/9g/xX/8v78/h//Pf8B/zP/Pf84/0L/JP9H/2//W/8f/wH/Lv9R//z+3v7Z/sr+z/7P/uP+p/7Z/sr+wP78/iT/Pf/3/vz+Bv/3/iT/3v7o/jj/OP84/z3/H/8a/xX/Ff9v/3n/9/4u/zP/H/8B//f+9/4a/xD/Af8V/wv/R/9M/wv/z/73/u3+hP7e/rv+z/7Z/gv/R/89/zP/7f4L/1b//P7e/hr/JP/P/uP+Ff/t/uP+wP6s/sr+6P6x/uP+EP8k/0z/W/9q/2r/q/+h/3n/tf+c/2r/sP/s/8T/BQAoALD/GQD7/5f/sP/O/87/5/+h/7X/uv+S/4j/iP/O/7X/v//J/8T/PAAFAPb/2P9q/6b/l/9q/2r/sP95/5L/v/+1/z3/iP+D/yn/Zf9W/0z/g/9+/3n/jf+1/37/TP84/0f/JP8L/1b/b/9+/1H/g/9H/2D/JP9C/37/Pf9C/2D/OP9R/3T/R/90/5L/kv+h/3T/kv+m/7D/xP9l/2//l/+w/+z/tf/J/7D/0//i/+L/q//J/wUA2P/x/7r/8f+w/7D/yf+m/9j/8f/T/7X/sP+S/7X/yf+c/37/pv+6/3n/q//Y/7//sP95/6v/4v+6/2//tf+r/4P/5//2/9P/uv95/5f/yf+1/37/Zf+m/6v/tf+N/+z/AADJ/93/tf+6/7X/7P8AANP/5//Y/93/+/+N/37/of+S/+f/zv/O/8T/yf8UAA8A2P/s/93/nP+c/6H/BQAtAEYANwAeAB4AUAB9AG4ARgAyAF8AeAAoACgAaQAZANP/5/8eAM7/7P8jACgAUABzAHMAjABLAIwAXwB4AKAAmwC+ANIAwwCqAIwA6wC0AF8AoACgANcAjACCAHgAoACMAGkAZABVADwANwBBACgAeACRAJYAkQBkACMAQQBkAAoAcwA3AFoAHgBLAH0AXwCvAPoAwwAdARMB9QDNAMMA3AC5ALQABAGlAFoASwBpAEsAoABpAGQAQQBQAC0AFADO/9j/3f8PAN3/yf8PACgA9v8AAOL/9v/7/zIABQDE/7//xP/i/8T/av+6/7X/4v8PABQADwB5/4P/AACr/5f/BQA3ALr/iP+r/7D/2P/n/8n/AACN/1b/fv+w/2X/jf+I/0z/jf+h/3n/av+I/2D/b//3/nT/q//d/+L/pv/J/7D/kv+S/4j/jf+w/37/nP9l/yn/JP8k/yn/zv+m/9j/9v8PALD/q/+r/6H/9v88AM7/0//x/6b/8f/T/9j/8f/E/xQAKADJ/7//g/9v/+f/YP9q/8T/zv8jAAAA3f/s/wUA5//n/+z/3f+N//b/5//T/87/GQAPADIA7P/d/9j/q/9H/43/DwCh/9j/8f/Y//v/7P9R/8n/8f+D/3n/3f/2/6b/+/8PAA8AQQBzAIcAPACCAEsAKAAyAFUAuQC0AAUAjACMAC0A8f99ALQAcwDSALQAkQBVAGQA8AC0AMMArwAnAaUApQDmAIIAhwAdAf8A+gAOATEByADNAB0BtADcAP8AfQCWANIApQCvAMMA+gCbAEsAtACWAIIA9QBPAbkAyAAEAQQB5gDhAAkB0gDcAOEANgHNANwA8ABAATYBBAFZASIB6wBPAfAAJwEiAR0B1wDwACwB5gDrAA4B4QAxAdcAJwEiAXcBEwETAUUB4QBFAXwBSgFPAScBDgJ8ARMBhgFFAV4BEwHcAAQB3AATAfUA3AAOAcgADgEdAdwAYwFFAfoAyAA7ASIBWQGLATsBSgGGASwBTwEOARMBQAFjAYsBQAFZASwBJwEJAdcAzQCRAL4AwwD1AGMBMQEOASwBGAEsAXIBXgGMAA4BQAG+ACwBLAHmAPAAtAC5AM0AggBuAKAAkQDwALQAXwCMAK8AoACgAGQAPAAAAGQAIwBfACgAUAC5AHgAqgCMAK8AhwCHAFUAPAAUAFoAKABGAFAAaQDn/y0A9v/T/wAAPAAyAEYARgAUAOf/hwBpAEsAVQCCAB4AGQB4AB4AhwAZAB4AGQCCAAAAGQAoADIA+//n/2r/tf+r/1H/7P/i/+L/l//O/5L/R/9q/5z/kv+6/y7/W/8k/x//R/8u/2r/kv9b/2r/b/8z/0f/OP8z/1b/Ff9g/xr/7f78/mD/YP95/0L/b/8z/6f+wP49//z+H/9l/x///P5W/4j/YP+w/1b/9/5R/0f/M/9v/8n/v/9W/7D/av9l/z3/ef+N/z3/ef+h/37/g/9v/1H/dP8z/z3/Pf/8/vz+H/9v/9T+/P7o/t7+TP8p/xD/M/+N/wH/1P4Q/xr/Gv/8/gb/wP4B/8r+wP6i/s/+C//3/sX+4/7y/kf/av9l/2//2f4Q/+3+YP9l/9T+JP8B//z+EP8z/y7/9/44/0L/Lv9q/wH/f/7o/rb+ov7K/rH+ov7t/sr+z/6x/o7+Bv/P/rb+6P6i/tn+9/7U/qf+rP6O/o7+nf5//qf+/P56/mH+tv6n/p3+9/7K/t7+iP9g/2r/fv9H/2X/Pf8p/wv/Pf/y/nr+3v4L/y7/EP89/wH/sf7A/iT/3v7F/vL+8v73/sD+rP4q/lL+Of5v/zEBXP16/pf/rP4q/kf/XP6s/Z3+rP5c/hD/OP/e/hD/Gv8G/0L/Lv8a/1b/Qv/8/gH//P6s/gH/6P62/sX+R/+n/uP+Ff/U/gb/q/8B/+3+Uf9H/1H/Pf/3/vL+Ff8L/9T+9/5W/x//Lv9g//z+Kf/y/hD/8v4G/97+Lv8u/0z/Ff/j/gv/C/8L/0L/Uf8f/zj/W/9b/7X/v/+S/5L/Qv8z/yT/Qv+D/5z/Pf+c/3n/fv+m/7D/tf/J/w8A3f8FAOz/GQAtADwARgCbAGkAwwDXADwAIwBQACMAAABBAH0AmwBVADcAbgBfAGkA5/8oABQAQQBBAEEAcwC+AOEAzQClAKAASwClANwAUACqAH0AaQC+AKUAaQA3AEsAFAAFACgAZABzAHMAcwCRAG4AvgC0AMgAwwC5AKUAyACbAF8AbgBQAC0AUAAtADIAbgBLAFoAMgDx/wUAKAAKAAAALQBVAEYALQBaADcA5/8tADcACgDi/9P/pv+h/9j/DwDs/+z/5//J/87/3f+h//v/5//J//b/PABBACMA7P/Y/woAjf+S/3n/4v/s//b/uv/Y/wAA7P+1/z3/YP90/87/zv8jAGQAKAAZAPH/MgBpAGQAaQAZABQAPAD2/xQANwBpAPb/GQAAAPb/+/8tAAoAHgDY//H/2P95/xQABQDY/93/xP8PACMA5//x/zwAFADn/+z/IwD7/4j/xP/d/7r/v//s/+f/BQAFAEEAcwA8AFoAfQA3AFAA2P/J/93/3f8UAEYADwAZAEsAUACqAEsASwBuAF8AcwBVAJsARgA3ABkACgBGAF8ALQA3AEYA4v8yADcABQC1/87/yf/s/9P/4v/s/xQAMgAPAPv/5/8UAEYAAAAAADcA3f8UADcAHgAyAC0ABQBzAHgAGQAyAA8AAAD2/7//+/88AC0AMgBBACMAGQAoABkANwAtAAoA+/8ZAC0AVQA8AEsARgBQABkAggCRAG4AeABuAK8AfQCCAJEAjACCALQAqgCRAIcApQCbAGkAoABGAFUAVQBpAKoASwBQAC0A7P99AEsAzv8tADIAPABVAPb/FAAUAOz/FAB9AC0AMgBQAGQASwB9AIIAyADNAKUAoAD1AOsA9QDDAPAA8AATAQ4BDgH1AJEAyAAJAVkBJwHcACwB8ADXAA4BMQE2AUUBQAFUAUABTwFoAVQBQAEOASIBwwAiAQkB5gDhAPoA8ADXALQArwDSALkArwCMAH0AoAAEARMBEwHrABgB5gC+APAAOwEYAeEAzQDIAMMAyAAOAf8AEwEJAfUA9QAJAQ4BCQH6AOEA5gDwAOsA+gAOAQ4BaAHmALQA+gAsATsBOwEsAU8BCQE2ASwBGAHrAP8A9QCvAP8ALAEOAfUAEwFAAdIAEwFoAYYBTwEsAdIAHQFKAR0B9QATAQkBSgEsATEBCQHSAOEAuQCWAHgAVQCqAK8AXwBVAF8AUACvAKAAcwCHAGkAfQClAPUA0gCgAJYAqgBGAEEApQB9AHgAoAC0AK8ArwClAKUApQC+AKUA4QD/AH0AyADSAMMAmwBzAH0AzQCWAFUAbgBBAFoAcwBGAH0ArwBpAC0AHgAjANj/of8FAPb/xP/E/9P/DwAtAEsANwAjAOz/8f8PABkA+//n/5L/b//d//b/9v/Y/7r/q/8KACgA5/8AAEEAAAAKADwAHgD7/5f/9v/Y/7r/9v/7/9P/q/+r/7r/8f/O/6v/uv/x/wUAv//d//H/tf9q/6H/sP+h/6b/yf+w/2X/nP90/z3/Uf9C/0f/g/+r/5z/pv/T/5z/l//Y/4j/of+N/4P/Uf9C/yT/av9W/4j/Zf+D/5z/av8a/wb/2f4k/1b/av9R/2D/pv+I/2r/Pf8z/zP/JP8p/xX/tv7K/vz+Kf/e/vf+W/89/x//Lv89/2r/fv89/1b/YP89/2D/Vv/t/pP+Af8L/wb/Qv9l/0z/R/9b/0f/Uf9M/x//Vv+m/2X/Kf8z/yn/Pf9H/0z/Vv8z/zj/EP8u/zP/Vv8B/y7/H/8G/y7/7f7K/uP+p/6O/qf+tv7j/gb/3v6n/sD+Kf8B/+P+/P44/x///P4V/xX/6P4a/97+rP7t/tn+k/62/in/Bv/t/hX/1P7e/tT+2f7y/vz+1P7y/uj+1P62/pP+z/73/sr+if7K/t7+u/5w/nD+z/6n/qz+Uv51/n/+ov7o/tT+yv67/pj+7f7y/sr+/P7o/tT+8v7P/sD+xf7Z/qz+df5h/nX+cP6O/lz+XP45/mv+nf6Y/rb+3v6x/qz+Qv8Q/6L+JP8f//L+7f4Q/xr/JP8z/xD/z/5C/1b/OP9W/1H/YP9g/0z/Uf9M/0L/Qv9+/z3/Qv8f/wH/9/4p/0f/9/73/hD/Af+7/gb/TP+D/z3/Lv9v/x//Qv9g/2X/jf9R/0f/Pf89/zj/b/9R/3n/b/+h/6H/tf/i/93/kv/2/7r/Zf/T/6b/v/9v/8T/5/+X/8n/CgD7/93/v//s/8n/xP8AACMANwAAAN3/WgBaAEEA5/8yAF8A9v/7/0YANwBzAH0AIwBGAFUAPABLAF8ALQAjADwALQBzAEYAWgBBAFoAXwAjAFoAWgAtAEsAQQDx//v/DwAFANj/8f8eADcARgBuAFoAWgBLAIwAMgAoAEEAMgAtADIASwB4AFAAhwBzADcAkQB9ABQAVQCMAF8ARgAoAGkAkQBLAEEANwA3AG4AWgAeAG4AbgBpAHgAeACbAEEAaQBBAEEAIwAZAEYAVQBaAH0APABkAF8AVQB9AHMAXwBBACMAAAAKAEEAcwAoAAAAIwA3AC0AcwBVACMAaQA3AGQAPAAKADIAAAAKAAAAPAA8AF8AKABkAJsASwAKADcAVQDs/yMANwCRAEEANwD7/y0AKAAtAAAACgAAANj/CgAPAMn/+//T/w8AIwAtAGkAIwAKAIcAVQCMADIAFAAoABkAjABzAFUAXwBVAGkAhwBaAGQAoAC+AGQANwCRAKoAhwBpAFAAHgBuAKUAeACWAH0AeABLAGQAjABGAAUAIwA3AAoAQQAyAC0ADwAUABQAFAAPAOL/FAAFAN3/7P/2/9j/AAAAAPH/4v/2/ygA9v/n/8n/xP/n/wAA8f8oAAAABQAPAJsAggBLAEYAQQBBAB4A+/8UAEYALQD7/1AAHgDY//v/0//n//H/3f/T/9j/iP+r/8T/2P8AAPv/IwDs/wAA9v8AADwALQAAAPv/HgA8ADcA8f/i//H/9v8FAPv/MgD2/zIAKAAPAAoA4v+m/8T/pv90/+L/zv/i/wAACgDY/87/v//x/zwANwBLAFAAfQBQALQAlgBuAG4ALQAeADwAQQBuAFAAHgAtAMn/dP/T/1AAFADn/43/q//Y/5z/v/+r/9j/2P/n/wAABQAKAPb/yf95/7X/AAD2/w8A+/83AHMAXwAyANj/GQAZAPb/NwBQAFAAaQAyALr/v//n/43/pv+//87/tf+6/+f/0//2/+f/0/8KALX/3f/T/zwANwAtABkACgB9ADIADwBkAEEABQA8AGkABQDE/7//7P/i/7X/5//J/+z/9v8UADwAXwAyAH0AXwBVAGQAeAAZABQADwBVAFAAHgAUAAoAMgA8ADIA7P8AAN3/BQAKAOf/9v/Y/5f/xP+D/7v+xf0H/Vr2497n9dwpvCOU59fZcAZSJVcFG+lq9YwLggrj86nvywVFDO39i/qeBDkGPfRb9CoFUAmF/Br1WQG7BhH8IfE8AMwCu/2x/aQCFADD+G368v74/Lr23vOcEqUfofa517f7wBx3FxsFZ/DC+kUCNwmf+gv1dvs7C5wHOwLa8Tj/lwc27h4AyBXc93vwy/sh+jXxbPvnCeANT+O+AMIMiQbR72MBaA1A7ywLnfT6+JT80A5188j34Azy/i32qA+3BC706BCIE7/g7fP4JCQIue379bsQrgHy/bbzDAYZCtcAlPBOBOwJ3v159BkKiP9lB175MAPmCiICDPx1/vAL7g/79sf6LBb6ASDyPhHlAg0NpvVtARIE3gcKADwAMvcAChkKt/vi9XILFv0+/ZYA8wTvAkn8cwBVANgIrQRt+k39FQh1Bf76UgbRAuMGNP6aAbkLnvui/usB/wvMAsf69walChL7Ifs/DlgO1/cv/TP/uA1c/iIChP5aClMDGPhPAqoLHgr1+Mj3cBBnBOX6iwG3+4sNOQaV+e4FawaO/jj0xgRdDoQGNgIx+EgGIgJ3AYYB7wLE/7cEMflRCJsAa/2zAlEHywXIANf4Ff4FCtj/RfgrAwUKov6s9FAAfQsq/On7fwUHEJoC2vFT/LcO6vpP+EwISwqGAlzzevMCBeUMZgXG8esB7Ajl+iv6AgZ0B0sAlPvNADYBvANT+zwAQwZAAmH+/fK8BIgIpfep+lwFggq4ARvyb/ViBFkBhgIGCDkPo/ss7q37vAMsC+oCGQBoDIn+/fLz8cH81wvbAqgDtQip+sb7Xfz7/wv/EQXQA8wCQ/4H/F4Ca/6y8ukE+gpCB2IEEP7E/8v8zPpY+w0NUgaT/s0AxgOvALHzJfyyAxoHUQf2CDT+M//D+PUA3v4AAEr6hAXsCIYCP/sdAiD8pv8wA1IFfAHPBwH/XgJ6BYX88/vi/ywBPf/UBocJDQNI/mbyHPFg/x4Kvgq5C0kDDwAj93b7bgAl/joDMQx7Dqb2VPmLAusA5PvXAL8J/QWCAFv/swK4AmvzJf5RB1UJdvwNA5YAj/zQBQ8A+/85/h4KwvloAQIGYf64AbcEzv80/cD+QQAwA3sDNQMTAYcAnvxy+rwDGgii/bz78AGlAGX/Wvew/7gCW/+dBuP+IQM7AQj7afjk+3wC/P57BNsD7f6u+V4ByACG+X/95QEjAJQEbAOI/5n86fuZ/If47f18AS8FOgM7AWb9hvnz/FP7/vmdBmIDOwJiA/j7Svko9vT52P+H+P38MwiTBkYAxP9f96b1Kv2PA9P/zALGA/v/Ovp5/6z95/8w+/38vgBpAAv+9Pny/hMCmwAN+yL5HQH5+vz9SP4+/ob5if7a/Ab/Pf8I+7L7Tf54AOr6c/iMAOP+B/2P/J3+VAEu/676XvpT+/X43v1c/hsFFwRr/Ur46fvL+8P3uPkSBHoGdvxt+TYBMQHq+df3ZwPK/jr6xvxm/Zj9IgEW/TcAzQDbAc34KvxZ+HH8hP57+xD/WASZ/I/8Of5EA3H83fYR/bQA7vw9/y7/Af/t/lv/nf7P/UD5//fe/ScCBAK4+p/6oACvAKX3P/wYAn/9C//M+q37PABW/4D7sf5kAHb8yv7d/0/4Rfk1/NT+7f4b/sb7Af5eAbH+pfdr/kj9mfuCAHcCVv9GAKT6t/tR/zj/6vqd/Xr9rvrU/TEBWQGa+p78e/yU/CD+Yf4PAKH/Z/y8+zr8L/05/tECJP8D+g36y/u7/mb9+/8FACr+8/ys/XH7k/6n/cb7oACo/En85QFfAIr7B/37/5YAJvp8+vP7jv7M+oX8ivyD/0ACOf7P/hj5UPZ2/PUBHQKT/dr70/8w/Cv69/6J/kD5j/sG/4EC5QE/++X5iP9iA2//Nfr5+k39L/2G+hQAev5J+yX9hfuT/iT/6P23/JEAmwCE/t/85Pym/4EB+Ptu+CD9r/gc+64CtwTF/V76yv6K/P/4LPlN/VkB4v+E/p8BSgIc+7j6/vrgAYT+6vrk+wH/kv+Y/hr/yACs/jn+vfkH/Bv9OvvG/HD+TwEKAAL9ev1R/8/+aAH2/wkB9/3q+oD8Af7j/r0B0AOuAfv/R//f/P379/0l/Cn/wwDCAakBa/0u/wL90Pup+o8DdgSN/9f4Af4dAQMEb/+x/iICUf8w/BgBvgA/++j+OwGlAHD+cP0G/gH/mwDhAJQDXgLt/dX8nP90/3X9fAIgBYYCdP+i/nT/9/6w/1oAPv0TAuUDuv/T/5sAl/9OBJ8CQAGX/6b/g/9yAb4AtAAnAtT+gQGLAm0CnwI8AEL/JwGJ/lj8XgFZAk8CnwJ7A9IAFAATAY8DTgOMAPz+IwBzANYBQQAiASAFWQKO/d79VQA2AUz/pQBFAesBqAOUAwv+Jfwg/lQBswKpAlQCSQOQAnT/WQHHAaAAnwKKA2//7P8OAnYDDgJyApUBwgFAAoP/qQGtBNYB3f81AzQFMAMdAWQAGAIdAWkADQOzAkACLAIXBE8B0/+ZA9sD+QNKAmgB5QJhBlIFggAEAVb/Ff+i/rgBMgC4AXEDBgjfBUkDDgKFA4YBGAEYAdcA1gOjBCoFsgOfAqQCCQEnAV4BDQRDBV4CxwIlBdECjABFAeUCswFUAncCmgKaAv8BcQTQBYkFOgPvAvUBuQClAP8A8AH5ApUB9AI1BGEFAwPmAOABSgFdA+UBswGpAkQDxwF8AnYD5QLMATECbAN3AusANgLwAYYBrgINA2gBuQDXAEEA4AEtAAQCJgOAAycC6gI1A64CvgDrAJABlQJ9AKAASQOuATYCBQA8ACgA8AEDBAQCKACx/q0DigP+AjYBAAA3AGX/Gv+4AVQCWAMWBV0ExwKRALb+3v1q/wUAZABdA+ADMAPgAfH/rwAJAWQASwAAANj/pQBEA6gDdwEOAmIDaAK+ABgCUAAL/7D/gQH7//f+FAAjADcA3f/rAKkB5gB3Aa4BkAGvAFUArgFeAVUAggDRAesAWgDwAFoAqgBaAHMAMQH/AUUBgQF3Am0Bzv9jAQkCQALSAEsA/wB8AY3//P4oAEABBAHx/7QA9QAUAGD/ef+CANIA0gCaARgB4QCHAEYA6wDhAK8A/wBKAXMATf73/gkBcgFAAcgAuQAsAWQAKf9g/6z+G/40/u3+BQAPAOf/fQBFATEBPADmADIA0gCw/4j/2P99ACn/p/4jAPb/W/9VACgAkv+O/lv/8ACMAF8ASgEsAtsBmgHDAJYAKABq/wb/H//o/iT/JP9v/ygAfQBb/7b+uv/DABQATP8k/z3/av/3/rD/IwBb/1H/3f9KAbQA4v9H/zP/3v6i/kL/pQAZAHX+Bv5LAL//av8G//v/nP/j/rH+YP+c/xv+Af4UAJYA9v/y/lb/zv+i/gH+EP9I/jn95PxN/oj/4/7U/Zj+z/5D/mH9EP/O/1H/mP7y/qb/sP8p/9T+Zf/o/jn+Zv4z/yT//P7U/qH/CgAFAFv/LQC+AMn//P3K/eP9Tf67/cr99/6m/7//FAByATYBIwAjAKv/dP8z/7X/uQCD//L+xf5b/9T+mP4b/oT9Q/3j/VL+iP9H/8r+Uv62/X/+/P6d/on+/P2n/bb9mP62/vz+1P7j/o3/8v6//5z/1P62/cX96P2s/Wb+Uv4v/qb/NwC//7//QQCX//H/SwAJAb//tv4V/i/+4v9tAQkBGAHrAdYCMQKQAuoC4AFVAE8BuQByATECpAFoAXwCGAIYApkDDQRYAwMEgASeA64CTwLhAN3/Ff8q/q375Ps/+1j70fr0+iv7rfvg+mL70fp7+xL7CPsc+p/6lfrq+k77nvu8+3v8mfzf/Cr8WPyP+4/7hfti+9X7Zv3t/eP+of84/+j+OP+s/aP8qPzt/e3+QQBeAnEEjgbYCYsMqA+EEGYQARFXEYQR8hHAEVsTtROhE6YT/xRgEqIRSBBIEQIPTAei9Ebh289DyDHO7NXg2g3mL/Mu/wMOmBtGHxQeHhVeDDQGRQJw/ln6ZfT08Pruo/Dj82r1/PP48qPxpO8J7yvwCPFw8vL0pfea+Xv7t/xr/YX8WPtf+Nf4uPr8/b0BjwOjA8YEYQWoBIsCjAAl/l38wfvz/N3/jwT2CV0OfxEFFTkaFB/5IlgkQyV6JcYjdyIXI6gkSCUbG8f6jNdsvEmxf7Piwt7KE9rh7Zf/MxKSKIkv4icgGysOGgcXA3/+SP68/Ff+9/5nAwIGfwbn/wD2x/Ds6/7lw+PM5CDpOvFy+i7/RAM5BWMCxf3l+WX0K/BI8mT32vuqABcEsQc3CSQIqAMf/9/7pva88ervwvAh8SHx5PJb9WP58/w8AGEFZAobDwATUxi2HAsdmBqZGKQWXxRCE1AU5hXLGOIdDSMzJ28oJCegFVfpH7bknvSlFbYSx9/dKPcUCe4Z7i4LPF42dyEaB1T49ffS+G35TP8IBBYFKwNiBAwF/P0m8Vfoy+fY6g/t5e8F9rf8zv+1//L+B/0T+S70FvPo9Pb2cvkFAO0HggkvBkABOP8R/CP3mPMH8/zzC/VM9Ub2QfaE80nx0PE49MP3G/z+AiMKnRC+FcsZKhtJGCMUnRF/EHIN+go/Do0T/hgnIIMo+S2BLLonqCOXHSb60bo9jBWWDLT7y/rjVAELEfccPSe7LyQxFB8ZADzt0PIQ//kC0AWqCs0L0gDw+CP3ZvOm6jXlH+qR9wkCxwEf/24AbPz+8CnrLuu163zuAPbU/f0EKAlBCTYMPw2zAqf0hfAM8/3ysvKS9ov6uPoE+YP2ZvNK77Drkut28YH6OwFMCNoOUhGjD8wN0QyCCs8HughjDEgQTBJgEw8TCRZsGdMd8CDWIvkhrx9kHtcfehon7lyqy4m8qG/LH+Cx8+0HsRHOHagjiiRyIGAIwu6q7JX6bwgPCVAJyAsFCgL9LvWU8UHt9e0v8077DAXiCSsD8/sE+ZTxmuUl3nnha+mi89P/BAvRDeELBAw/DZwIJvtZ7yHwavXw9zf3N/dV99z4Gfeo8g/tZev76l7vbfnNANsDogUtCnwMDgsaCGEFTwIdAXUFzAxIEWoT9hJIEKQN3w7nEwscyCDfI2UnQSmDKLcjsB2ADx/glJ4NiDuvjNc27yoG/xTcFRIZqBixEcIN3v5X8mj63AsEF88Rgwi4AtD8We4l59PrTfNO/LYHVxDPESwMYf7k8pHs1efJ4D3gp+le+ZIHPw0FCq8Aj/sKAPMEOgTz/P/4ov3WAW0BEP5k9oHuxenL5+jo4uql7a3x7/lEBG4JuQqBDB0M2QfMAgoAGv+2/RD+VwXlDfwQZhDLDvoLsAm9DIIUwBvWIvMkZiVrJc4oHimmKKQiIRm07EuiAYC4sSbmYvxLCrQVOg5XEMsOzgl1Bj7+tPfQBd8aBR4KFPwH6wBZ+VXs7ufH8D/7ywUjFUMaeRPABmT4cu4n7w/tAel/6ETwK/tmBUIIvAV9AI/7uAFdDRsQHwfi/4YCjgU9/+30be/s7OLr9e3h7ofsnvA6+qkCMwhZC28IVwZqCFcGzAKS/wL9d/og/TQF/g12D4cKVgjJCSwLBAuTEdQbFiQ4KAUpASZtIfUfRCLtJZIo1CUjFT7d05ZZkYDSNP5vCJYL6QQ+/rwFywRdBGwD8f+YBrgW0h8XGcgL1vpj+ZD6gveg98wBgQy0FPAWaAwG/pTxAOxP7/r4i/pP+Hn1/PPD9/b/tf8R/ab/MQFgB4QRig5jAdr7hwCuAv38wPRY8QfzAPdk9nbxjOw77yj3MQHKBykH+gH1AVMEcQOD/yr+HgBFAVMDRwdvCE4EswI/BG8H4QuNE/0Z1BwWG+oYexhFFyYZPRyBImgrPDOEMFwm2BOf5dCooJg+00QEow73Bm/1OucG9M33qfmLAS0JfRU/IvclPBX4BNryJPVUAXYDHQLkBfgPNBDCDKf+bPGp7h727f3bAUj9zvWQ7kLqoetH9HL6FvyuAYQFoQhyDe0HlPs2+PL+FgZnA9/8E/gz9WbzKfTQ8XXpP+fh7ln5HQIIBN7+0fo0/UsADwBZARgC4v/j/kUCMwhSBtYBLv9PAh8H/Q6gFVoV4xE4EgoVxhgGHMQeiyLtJcQoaiiZJA8fAhDc4wqu46qj5tIKAw3Y/2Tja9QN5rLwAvy5CswNOhn5Ia0YfAFA+M34vAXsE2YQAQcKAGwDYwLcAGP5UvMo95j9EwGD/871M+ui6EzrtO2q9078cvpK+nH8GQC2BukFSfsJ+N3/RwccBCX+c/eK8bLwZvLH7jzsn+7Q8g/3Mvfi9r74Sfx//jn+8v1N/pz/0//8/dT9ggDd/+3+DwDhAPL+BAHAB5kOPw2WCocJ0wmtDowVAhr9Ghoczh43HlgZERopHDIUt/LEzNvQ/Oje9OsAXfsW6C/ocfAJ7nn0Cva38Q8AAg+sEAwQPAr9+3f6qQJCCLQLHgpQClUJ9AL1+AjxEvD98f75wP4q/Ij0HPC38OrwovSO9Hn0Cfgq/XIBhQOe/O/w0uwX8cT20PsQ/zn+rvq69irz7++u7jrxq/bG+zT+P/uL+cP45vcF9zz24vXr9xf6Yvu8/ET6D/bZ9O3zrPRp+IT+YQXhC+oMOAhiA6kC+AQjCbwPQBbzGloeDiD2HS8bVxumHCIXigTN7KLoo/Dg+dkHhgLS7MLkp+hq6zH4L/2D9KTvGvTp/GYGpQqFBMn/Pf+zARUH1QVl//38xf7O/3X+SP5P+uz2yfYy9rX1mPMa9Rz6mP3p/NL4Q/O38ffzI/cY+BX0CPAS8WbyYPQp9Sn0DPNN8+30KPeg+GT30/XO9nP4+vj0+ir8kPp8+b35Rflp+Db4GPiv+AP6K/po+ib6Svng+gAAZgXyB9QHyQg8CtENzxAUE6AVexnsHV4hNSNPIbUenhksC4b5ZPis/e39bwewCKD4luzp52njGO4a9OzsQe2O8of4EwJuCVgEe/uh9Q/21P2xBbsHogVyAh4A9/4k/3X+if2P/P375Pyt/FP7NfyP/JD56/eD9W/0pfcX+7z7WfjL8artyOwJ7sDzoPeR+MP38vQ49Eb2Bfct95v4Mfnb+Zn8uv9BACD+RPsJ+R351vps/BX+cP2f+nf5Dfpd+578av8OAggEtgV+CPoKggv+DLwPQRVDGjMc+x2bH1kgiyEwIvofIhbWAsf5+gBFAqAKVxAk/9fsBunu5jLt3Pfl8MPssvEz9UP9TQZxBOj92vti/CgAegaIB0gGwQV7Aw4C9QE8AIT+k/6d/bf8Of40/vL9YP9c/sH8RPoF9lb1Rfif+f/3H/TH8BfxifJQ95D65/bL8t/y7fT19wP7SftY+/T6gfrG+3D+W/85/cb8df1h/Yn9p/5I/rz8cvpA+e/6sf1l/+z/+gH9BeIJaAzqDF4LaAydEIIU7xgBHFUeviDMIjAizSCHII0dhQ5c/ocALAGVAt8OtQkZ9g7v0uy/6gv1tfZe74XxhPN9+CUF+wjqAir+9/5pALwDdAdCBykH1QXuBJQDCAMxAZsAhgI3AJ39B/yt/A8AfAFVAAv+ZPiT9AD3Jvvb+ub3fvTt86b19vbR+Q363faS9qD3tPgh+iv7qPs1/Cr8FvwG/ycBaQA9/7b+C/6s/Wb9Uv0+/f381fw9/5YABQCh/20BegUUCQQLoAukDOoNmBFpFe8YnRvnHQQgSSLpI94liSZTI/4Y6wEG9Kj8ev3U/QIFQv+B7vvqD+317bD2S/fX9+z/lgCCAAIFnQZdAzUEuglFC+IJ3QgoCVoJmQT/AK4BewTQBAIF2gT8/tz4APch+hX/C/86+zD6DvjJ9aD35fpf+OPzUfSw9s72bvaf+cL6bfk2+f75zPqF+wf9mP7U/jn9C/6LAXICC/+8/Pj88/sw/MD+aQDs/4r8mftI/h4AJwHWAmUHVQpFC14MPw4cDsEPFBWoGWUdrx/bIRskiiSoJJMmiSbzJB4UmPR87tAD8AEH/Gn2qOfR2qnk7vJE+hj5Muy664j2cfv6AYILFRFTDbUJvwlhBdoEtAt0EzwU3Qhh/mL8kQBsAwsHWAQx+BvycPM2+K38rvr29hr0YPQe9tv6Ovr39FfzYPWg9yP3GPk1+gP7wfuo/KP7SvoD+47+IgG//3b8e/u2/nT/Jf5w/f76+vfI91T61fz9/P761vqo/Ej9k/0YAU4EdQXZBh8IPApFDKMPrxTqGBcYJhl0HVQhiiSZI2wkXSPjJR0hnwI37ET6rg3NAJzq0NyX4AXsE/kS+6LpStlg34D7ow/pBTf2yfVyAooPfBaDEwwFbPwhBGYRSBF1BSD+dP+I/03+0PzL++D5pfco9in1tvPe86r3K/rU9CDy2fPj87vzofbL+/r4DfGK8Oz2IP1+//38WfjQ8ij2qgCxBZEA8PdA+HD9of8ZAIn+/vk99c71d/pI/Yv60vci+Rv8JvtE/K4BwQX4BYQFjgbnCGcO/xUwGQkXUBRZF/Uglyf8JoYhqh8HJK0kZgYx7hYGrhYW8qTa3eHa8db53fX95zTTo9Ip9KcQ1AY/5xniSP5xGOkZAg80/hvzwgGKGWYaJAeh9hL7LwWOBbQA7f0d+RX1l/aC95P0z/QE+EH37/As7xj4Q/6O89Tp7++V+tH6nfLm7sfwRvezAfUBAfUV6xD1PQjnCEn7IfF+9N3/6QR3Adb5YfIq89v5SP6K+0H2g/Wk+RH9K/vH+h4AUwNyAiIB8wSLDOMROBKJEY4RMhW7HOkjhSMLHbsbZyNpKdQlywXC7xcDMBk/+yvbRdlX8i0Ar/du4VTQMdpo+q8LIfo94P/iNQMRG4MTNgLI90n8xwxPF48OOP86+0QEDgtXBXX9hfsD+/T56vkt93DzwPSM+I312vHu8sL5RPoN8BbpwPR1/Ur64e4P7Bby3v2ZAwv+Qe2669H6cwnGBIP1HPAm+2AIFQhT+53yH/U0/iIBXvoz9ITzlvh//Rv85vcP94D8RQI2Auz/hQRzCvoLaA1IEEgRyBU4HM0gUB8BHfQhdSYMJdUkTRue++f2vBm9F1HgWc9u7XgKhgHx4U7RJdTv75YKwgF44pfVfvWEG8YZyv7U9GX/rwvDFKwRmgKB+YsBXQ7mC979cvkf/3r+d/lj+eX56PTf8Zz23PjA9MDzx/lL9mDrS+1X/p39Du7j6I7z7vxh/mf8iPa97pf1BwVbB9j27/AC/MUHGwZJ/JL1zfgg/uABt/vV8dDyP/u2/iH75/Wm9fP7hwBFARv+sf1IBtsNtw5jDIAOTRGyGN0dCSAFHj0dxyF+J2slMSFoFpf/0/8OF9QRyeF/02HyIA92/Kjbws9b33333wVK+CngU9x8+isZUBVK+Z3yPwOJEUISvgvRAff9cQTCDesLKACu+ej9GQBd+//3RfgG9erwM/Qg/Mf5fvS79MrzY++J8pP+xvv76irnb/UdAuj+0/aO80jyrvkHBcsDtfbz8RH9UQfGBCH70/bR+Uj+fv86+hvz7fQ6+xv8oPfU9Ob3f/26/3D9RPxVAFsIdg7rC2UHLAseFVIb8hvQGHEYvx0/I0cnsyGIHc4dqwmK+88QZxkA7fbVp+iHCqgD2+Xj03Hc4O+pAtn+j+dE3L3wMhT4GbH+wPS+AA0OzhIXDtUEf/58AtEN1Q5oAr74Pv1eAjj/Jvpk+CP2IPJb9AH+lPvV8oDxZPdW9JjySvpx/IbvhOmx86b/AABf95PzSPMX+vkDvASp+rLys/lmBuMGy/yI9O/5YwG9ArP6PvOD9Vj8qPwY+TL3X/eo+6L+Zf/2/x0CawXYCesLCQxrEHMVKxnfGqwaoRxVH2giZySVIpwdQh1kCcn/vA7IFars3Nnw7asJAf9B4oPVeeA08pEA0flx5pjf0/UZE+wTU/we9mwDqA/jEXINPwSE/hwESQ9JDvoAVPmn/ccCUACo+3P4jvQg8432Xfz++gLzNPJv9RX1z/Qr+kX41u/i6lb1M/8B/oj2ifPi9eT8vQJ3AkX5ovTB/C4HhAWt/EH3gfoFAFQBqPtb9BD1mfxm/q75UPbJ9v37tADhAGr/0/+ZBCwMnw0ODJ8NDxR7GUwclBmXHE8gyiXeJQMi7B1oIRsPIPwSDWsbUPYJ2Qbp9we8A6fpmtkm3EzqH/8EAtjrSN1G7MsOKxhjAt32of+uDN4RaxDyBgH+WAPVD60PxwJK+S0AdgNkAOn8Rfku9MDzpPnA/Yz4/fKD9ZD5dfPW76/4Bv849CrpLO+n/TsB2/ok9OrwS/ajAy4IsvwH8sP4hAbcCrgBQfc7+EsA+QNw/jP1HvbG/Bv+d/lF+LP62f1R/woAGAGtA0cIFw4mDqQN/BFAF2sb2RvOHSIgGyT0IisjEiL5IeIIbvcWEG4fGvVz2KTlsQXBBbjuwto91qnligPaBRDrbdo87GcOYxYCBVn6Q/1rBsQSeBSNCFz+2wKkDeANDQT2/yn/sf3L/PH/hfwQ9dDyAPcm+pH3KPa09/f0LO6V7iv7ggB28bzmmu4W/eACz/3K9HLu3vQmBEYKAf638v/3XQQyCf4D7/qq+Gf8iwGfAQP63fXH+Un8Nftj+tv6dvx1/icBxwJxBBQJAg+oD7wP2BO3GBUcLR9eIA4hOiNxJOgmsiNGFYX75ASnGn0LkOUB4KjybQJr/QHqtNji1uHuTAja/AnkM+Be+eMQTg57A3X+tv3uBFETmBHzBSMA5AX7CfIGywOYBR4Awvkm+mz83/vh+CP2VvVN8gX2wfvm+FjwZukb8kj96vpn8HTqt/Dq+vUA8/yd8yHwCfnaBPMFQ/2H+IX8IQTjB08BB/zl+tT+bgDZ/WP6zPmz+tb6dvyP/J777f68BJIHOQWxBUkPLBa5FH4ThhZ/G6kizyXjJa8gWh4FKJUhrwCE/fAU/BGT8pDkhu8O+Rj4YPUG6VnZJd5U+U0FbvbR5ZTwcAXTCUsJjAk/BCwCvwk5D08LAgYODI8OdgSe/LgCeQh1BQz9Ivgy9tj2p/0oALr21+5X8kT7lfmp7jrxr/c7+e3zx/Cs8zb5cP44/0D4YfJU+CUGfgc4/6T6Ef3GA3kHJQYAAA37Lv+zAq8A/fy7/e3+Tf2n/br/WgDgAacG8Aq6Cc8HFw5FF+QZcBrvGKIbOyB6JmoolCMeHhkejw7wAYwJrQ4B/mr1evLg8DvvZ/El84PqlOb36fTvsPYU9kX5SwB7A4wA1gIBB8kInAn2CSkISAYqBYgI5gp1BrkA9v9KAbH+K/ts+zX74Pnx9ub3D/e69br2S/f8867vAfRk9/b1NPJN8s71oPf5+SD8DvlG9/76ef8xAW//DwA3ADsBbgAEAccBRgBh/nr9yv2r/7r/SP7j/R//kQDRApMFUgaxB80KTg4uEdMSExa8GPMaBh2XHuIdphySHB0XUw8ZCZIIpwUCBgwGaQDN9272PPe/9WD0TfOU8XbxM/Wp+aT6bfk/++z/WgAL/lf9nf48AF4BbQJl/9/8hP0FAE8B2f1Y+7z7Tf22/Z396fuP+9b6RPpj+fX3bvdu95f1XPJ78Y7yPfRC9Ejz5PLB8t7zsPYx+PD3GPj5+pP+Zv55/ygAfQA8AIsBYwKVAXgAmwC9ArwDngSyBBEFUgYQCPEJiwyoDj4RbxPwFNsXpxpMHZIdiB27HOoYJBG0C3MKVgcuB40IhwAE+Nn0L/Ni8Rby8/Ex717vj/Dn9Sz45veC96D4/vrk+4D8Yf1r/gH/YP+Y/dX7G/yP/OT8Tf1O+6T6Jvtd+3b7dvsD+3L6WfrW+Ur4GPjw91D25PK38XDz/POi83bxNfHf8hD1Qfa79BD0efYN+4795Pzf/Bb9Jf7s//UA1wDt/s7/4AKEBSoFhQQ+BogHbgm5C/kNjw/oEG4UcRjkGU0a/Bs9HS4dERtLFHcN0wh6BsoGFwO4Acf5C/Sy8hvzdvBP7r3wFO3C8Fv0UfXd9dL3cvru+9v6+fkm+xD+Q/7L+/n5Hfkm+nb75PwS+1n5QPn/+Fn4lvjb+Yb6vvhK+RP5kfjN9//3kvYu9DnzrPPt9OjzJfNS82vzTfM99MD0l/ZZ+D/6o/va+1j7DP1+/2r/3v6N//oA6wFTA0MFLwZMCDcKuQttDPMO4hITF7IZUhrZG/sekR8OIFAf+Re2EKALgwjwCvMEhwD++sT2P/GT8orwrOlt7uzscfB875TxEfJQ91T67vuj++X6dvx//vb/dvyV+gT54PpK+jT9WPuu+eH4vvcn+A74BPng+fn6lfpK+VT4Wfgs+An4pvZC9E3zQvR59ff06PR59Ez0fvV995X5Z/vf+zr8if2J/g8AGAEYAW4AdwErA1ME0ATzBDQGDwltC70Nig6PDyQTOhglG/cbCh5eIJ8hgiD4GloU+A+hCVQMKAn+A3r+RfiT8n/y5PGc6/7vyOzX7A7vbPAm8YP1Wfiu+cf55fob/Hv8Uv0h+4H6GPgS+pn7o/w/+9v56vkn+JH4Hfly+rz7Z/vB+5T7K/sX+g75Svi69i322fTo9Kv1FfUf9ab1efV09q/3zPng+sv8mP27/t3/VAFxAyYEEQXBBP0FuweCCU8LEwzbDEkOmBH2E7gWRBnfGrAdyB9UIZEgAhuRFTgSlgqvClQM4APSAEP9EPSa75jzaO6472LxD+0Y70nxPvJv9L73Wfiz+dD76fsm+4r8Dfsw+s336/j++Rz6RPr1+Er4q/Xh90r5mvmV+p77Kvxd+1j8gPza+077Y/lu+If3//el+OH3tfbY9bX2BPj0+Xv70Ptr/Y7+WgAOAmMC+QJdBKIFOQYuCOIJyAoEDOAMow6sEY0SUBVsGdkbQh1fH10iISK1HnYZtBSpDQoKng5vCMICov4Y+APxqPKU8bjugPD/7Yvuqe+E8hD0lvfW+eX6svw5/d/70Py2/Rf6DvmQ+pD5Xvln+yL5PPct97r2GffR+U77OvzV/BX+1P1s/Ir8G/zG+6P7lflU+a75+vhZ+Ln4ePiM+Hf6DPz3/UL/IwDbAcwCSQT4BKcGjQgoCqALDQ1YDiAPCxEFE6UUxxf4Gcob8R2lH0AhlSHFHIsX3BTMDBMMwQ78Bq4BAf++93bxAfQd75vt4O9j70Xv7++y8Rbz5/Y7+Q37P/sR/P37jv5n/Mf6Evte+R35TvuA+wT5Y/m++HP30vg1+nH7L/3e/iT/z/16/bf8df1J/Cv7OvvW+uX6i/py+ln5T/mF++78G/6c/x0CUwMWBbsGWweXCKoKCA17D3UQ7RBbEh4UGRWQF1wamBuIHb4f7yHgIUYfYRutGNgSfAxSEHIM0AQXA6z9TPVw8rvzw+1U7yfvQO4h8ZnxPvLj8wD2q/ZA+HL6/vr4++77svt8+rn4vvj0+aT6RPrB+2j6tPhK+Qj69PrV+7H9V/5D/n/+yv73/bL7Svr5+Yv5qfkh+pD62/lA+WP5RPoI+9D8GQAiAj8DEQVMB0cI0wmkDCUPehCYEQUU9RVZF1MZ+BrZGx8d0h/HIYshGh0YF3wWOQ+lClMPjQj2/2gBbPx68lfzj/F56wXt0u4A7QPwOvA18XrzBvRw8oj0//cd+PX4cftZ+aH2ePg393T2ffgc+0r62/m4+Q757/r++nb8t/yU/LH9EP8V/8b8hfuG+a/4Ivm9+eX56vle+q76pPrC+pT7xvyc/14CBwXtBjIJwwo6DagOlA8pEQAUCRbvGJ0brByIHc4ezR8xIIcfkxr6Fm0W9A0nDHwNFga2/uf/c/jC8O3zbPDd62ntQO666wTvNu8/8LfywfHC8GX0KPZC9Gj5vvga9Pv1WvfP9H71DfrI+ED5Wfq4+dv67/rp+2z8Fv2A/MX9/P5S/Y/8mfvr+Kr3IvhP+HP4LPmQ+eD5gfo6+0n8wP3DAPQCNAW6COYLDgymCC4RYxZeFiYZ8B/LIwwlAiWiJi4nbCPlFj0IDAXtBoYNq/bY9YP2qPEX8KrtTuaF5qHrtunk5pbtxvEs+Df3Z/ue/Eb23fa2/lUA3Pf3/iwBy/uN9jD6IPw2+OT7WQEm+1v0uvav+MD0z/Ou+bP6tPgu9af0wvDz8ZT7NP7W+bf81gFW/+78WgA1BJACNQNcBZ8C9QCnBUEKCQv8EKIaixc0D18VKB72HZUhfigzJmwjKSdyIcwXcP6G5eX5zfja0pTb4ez93KTQoOKT6JjeIviXByz5xvKLAhgMTwKtA7UI4v+y+5f/Nfxy7iXo4fhj+jLsWe7n9ZnwrfHY9Wfwq+vs9Sz5ze1062bzvPwN+mP6l//G/N/7AwR/BS7/hwBkCoUElfrV/G//LPgj9qT6fPnn9Wz8nQXQBeANjB77HWEQ1hc/LfAqOyHdKIotySfBI/cl/Rp8+UDZSuUu6lLUdMuK3I/czddA2XDpZO0FAOMRsQbG/CICyw7/C64BCPuQ+sMAA/of6vDiMe6P+xn3GO6p7wr2Cvd185DvpezB8dTz9uyt5lHqmPRn+/76k/7qAmIE5gCMANUEhAUYAVz+2/rT9e/wIfFo7zHuqPJF+G73ov4UCTMTbh9mJQQWsBMUKfcxqCSdJv0vMC5BH1scDhc772/Axtwq5ybQCcVu11Hgsd7a3QnvMvd8DSsZ2wxQAC7/3Qg8CXb74exM6or8kfe64LHeJfNh/mD1RuyT8sT2YPSZ8RTsceYQ62bzx+7V5oPrwvkAAHr+XAUGEtMIP/wxAcUGswFE/Mv7v/bB8TnyDfA46zXx/vln/NX8wAeNE2AdzieDJ/UVrx/eMWMsLR4yKkk3uCwoH2ggfwXOwGm44OTs4f66T87m7WTt8eB47EP+IBAZHsEZFw3ICjkFEAiC7VTkwu4x+dryfOXY63Hx7vvT/5f/O/lJ/J77pO4y7GjuFOx5667viPV18w37IgJaCl0N2xc4E3ED6P1CB+8CXfCP8Bj5hvoB9J7xiPTr974AFQfMDA8Thx+vKSgpVR8sIAopajFBMy8wvC50MpktaR+a+Zu5Esak2i/TzNDM2mHpXu8l8w4CdQXAERskbh86GdENAgbP/mrraePh7Er50PJQ7YH5yADj/W0C9AMAAAn54vWa7mbpEOlT8I/xdvAH/OwJrAdMB/QNIBpGHvoU5AQl/FoAxP/29qjxB/Of+jn9s/oj98/+uwfpDnoRRRZ8IpsqZSgWJcAmvSxrMHov6DFvMnYu0SvnHfDZx6bVyFLdndPWz2fmZf+o+6v/6QRoC2YbriugH5wTwgKr/9bvr9f33m72rP07+BkA3gcwA5EAegXrAFX2w/eI9OLrzuFe5RHzK/un/iMJzA0+D0wTChXMFpAWYw38/q75U/sh+kPz8/L++k8C4ALzBWsG0gqJEP8WsRqCH4cpCC6VLF8paSmHM4E3pjOMNZU3Py4967Gpnb9w1CTKnsdw6KkC9gjCDDcJVwX9DuAhZiUDGPcGuAE08xzcFdVU5Sb6PgbrC6ET5A4gBaL9+vjj8431ifNh6ATjxd/76m35MANlB2sQuBflGNkRGhKcEikHaPpi/Pf+AvI27sL58/zZ/ZIJ8hArDm8HiwzWF6UfLxptIL0sajLvLNAtbjRENzE2LDYhLp8BwLUnupbDzLtZujrc9AMJFh4U+Q2dBg4MKxjhFa0Y4Qo1/Iftt9y11pjf7/BmBkcSKxgAFCsOJgTu8qzogOaz5LjkbeWk5CDnqPEv/iEN3RIrGKcaYBKqCtEMSgJ+9Lfye/vJ9sbyKPbo/fH/PgatDgYSUw+9DdoPohE0EaMZzSo/LngzCzJpNPg5DTf7M6YnNOhWq363uMSuuru1EuXvDAIarQ5yC7sHBhJHEyoQpAxq9JjpduZ63gvW/N9y+RcNcBr0GFwRrAdD/jHv+eRY21bWx9lF417kdue29EIIrBHUEXkTCRa3DtAFnwIZ91HrsvD0+fH2DPN8+eUDpwcyCUQN6Q9iDxEQUhCpDckTsyFGKQQ1cTg3M8AvPTw4PRYGwrH7rL7CP7yIrDfYIAWhE+8N/AcTAuUDhBGnERUH1/ip77zm09aVz+bYSfEUCYEWfxrMFkUMswFN8mrfm9dd22Df9dme3Vvfae3Q+wQMghU6Gf0PiAhWB0wHlvfw4tvlqvh2+7H0g/bmAAsHAQjtBhUIugk2DJUMRgoXDZIdXCZOLko2SDsYNtE3njjHDNi3a6mkxNO3op/H0DYMxww2C88Q3hAsAiEDAwPt/YbvR+rl5LvUE8/V3Cj3QQp2DisYehtCEkn7xemd38zaZNeT1JzVMNsi48bxjf+UBMoHaxHOEw8JXwA4/4P2hebU6GT25vc99OP99wf2CLUJcgszCGMCZAAzB4wLgxPWIsgqGTOtOZE0BzD1NXko1dJPpUa4L79zpMm3+gEZHpAXDBDnEsX9kPkS+xj5g/Rp7KfoNdw10LzRsegWBs8QxhmhHgIauAEz6nHcyNgP2BjawN/N4w3lh+3v+qQCXQQnDDIVNQ3R+un8ev7t6Cvblu0R/Y/87f36C1MPOwuuDZkOYgPk+1QCkQp2DoUYWiqtOKo/KjmvNZs0pxAsuV2nHsJrv/Slh84zEogcOwxFC90TJgOG+mv9JvpD85jpvuIL1JjT/d3w9/IQxhjZG8saew9G9gXhvtgx2RfcfuBE5pXu7/Dy847+WwfwC8UQiBM7Czn++fqO9GTi4uDg+WEGgANlCFMYyxmOEaoLLAyYBiwCQwaKDkoX7yLgLeM7YUXVQh4+tiXczkqkb7Ulvl+uA9H2E/8pPB+EECQS7P/b+bP65PzW+ZH3g+qW1y7Vo92t8v0O/RqeJNwpFB68/IjhCNFg1k7bntu+4oj2mP6P/N7+Fw34D/wRBRM6DdcA/fyJ/ZvsLt/w7b0BrQRbCOYVbCObH9cUnw3oBpkD7Al1Eb0WPyMuMt46DkDRQV1C4h4Hyeipxr2Yv0+vONa3GT0yRSDaDlIRwgHX92z7Kvxd/Nz44e0C3v/YBNoB9S0U5SKpK5ormRhO+4vkxtIm0E/axOEV65L2JvsC/YADqQyZD6wR6hbDFR0MYwKb9/nkAOJ/8g4BMAP/CmsazSAWGx4U2BJODrkKsg7/FPYe7CguMos3HUGZQ84zo/LttCS2YsePvLu+HvYaJiwsSRmOEE4E0/X++ZEAqvcP96X3tukk3xfbSuQwBDQbuya/J0YfeQf29WDgTtIv1C7gtumT8ub3s/kw+3YD6Q6YERIObhTWFl0NAf4N8XroCe4h+4sBsgQlD60Zlxy8GDcU8hA/DgEShRgGHbkg0SsgOvY8ZD9CPZkEd7vVs/nF/7jttFfyDylZNgYcBBdvCNrykexU+KH2U/FL91v0pezs4AriEP5rGwIkIiHxHV4LFPd44rrV/dKA29jr3Pep+mj5qgDOCEkNggttDIEN9AwoCq0DdPQZ7R72iwHNANP/NQ27GkkZkRTmFa4W3w9TDdwUbh/UJgExWzx6RGNLQTTl8LmtvbG4u9i318IxC5cyZDOfIooZhP185VvrVvT380PyMPru8pzqReRF5D798xlaKuEp8CAKCm72YOBMyn/JJ9oo7Tb4v/+fAY4GFQjnCAUKVAwEC/AKdg9RCJ7xV+hV9uYAyf+yA28TfhyAGDMTrBCEEZQOKw5XEHUbpihUNfI7cEThSvQslNtPsBe8pMXKtB3PwgwrLf4ijhtKF/n6purX94n9nvB97Prul+s15qfeZun4Ba8gwypXJv8V+gHH8EPduM+40JPfo/BA+Mj3cvnd/3QI7QdGCf4MIBBtC9ILFAAO7kfqkPmLAScBNQQkEgcanxZ1EPgOrgzaDksUlhSoGVwmqzJ/OgRBKkT+GFbKC7a3yNzDkqsJ2tcVkSm7GwEchhf98mvpk/Si85Xlienm7qbqp+lG4THvQQkZHq4iciDjEOf/I+2R2MPNB9Lz3KHrMfg1++n7LAELB7EFVwXoBtQHLQptDPP7Pepe7o3/aAEl/fMFXxVAF2oTnRBJD8kI/wpLFIAYoR2BKxg1TTrvQSs3E/mcwLK9WcVUuxi6Du7wFN0n/x8nIXAGTPUj9n72JOpZ5WTsnOo65obksuY1+44RfCFeIFcafQrp+3/pxNUYzgDYhuTs6yXz1P3CAu8D3gbNC7UJ5ARTA/oKZQe88lHqePcFAOT8OP/0DHcWhhZZF20WRA6nB4sM1BHNFSgfbC4HOps+uEGtLbjuFr8dxMTM0bsfwOnyfBeHHjcUDBrYCGz8SfsJ+HnqiOvW8JTmueNa49noHQEXGLUehBqeGNgIEvpp453Ua9NS3eHjoetM9Rv8of9nBG8I5wimCbUJRwigCxwENu+d6CP2vPwD+uj+WA6PGNEXcxQWEIwJGgiKD+sUcRmfIVoqay+RNLc5pih/84nKbMevza7E5cY46tcKsxeZD1cQ9QGa+hD/Uf+p7nrpPO096lrj3t/55O3+5hQBHE8WKRFHB5n7MOfY1YjWg+EM57XqTvBa92P69v/ABroI1AYpCCIMqQwiAbPvsOsu9T/8hfzO/0cInRHbFi4RVAv7CHIL8w8PFJgaGCGxJUMl6S4mN4Mxow6E3s7LrsUXxmnCRuGg92sQ7xiVFrsGaPl4ACr9MveM7GbyGO806QnkjeEx7wEI0hUwGUUW7g75Ai71F9zZ09/cJ+M06dDyefVP+UAB5wnFB8YF4ANtDN4QMwdL9sLu3/KS9gT4Q/3VBakMKBTIFagPIwoyCW4K2g4eFQUf1CZ6JXkoSC9GM3I2VxoL31LIPMx0zDPBbdlj+sARlxLiEzoOrvrq+iAFrP0C8lzzKPdu7b/get197P0FYBP5GHYZ/BD5AvPyjeHp0kXZc+O47v3yG/Ku+k0GagiGAnIC2QffDlMNjgaP/LfwRe7r9/372/ngAXIN3RJsD8wNqQwuCA0DRgqSEjQaMCJvKEsqvC3JMs01MC01+wHLLMW6zOPK98qO6TIA6xSvC8EO6wEz/0kDvANZ+pf1FPf/7hDqtt9f4qr4BQoVEswX0RZkCuj9++o22QrXEd135b3uTPTY9fH/ageABPb/VwaBDF4McwklBtL4OvAn73n0Ivk6+5sAWgqjD3YOEg4tCRIDSQRkCSUQZxnfJKEoDS3fL28y2TDNKp/6xMtazEbYL9RixqDjdPT6AaUAxg9pCp4E0A+zDYEBH+sJ7pzrN+yO6KLoyPiSB70NLAzLDsoHYvw99BHojt0/3AnkxenS7OXwgfovBs0KvAW2B3INBQqDCBAHd/k96uXv4Pkm+wn4rfx+B6gPig43CekFlAM3Cl4MfAzeEbAefig4Mn8vnCeULuU3likD8M7L2MyW1zLN5cU63ETw7gW4DTUY4QqYBfkNLQrv+o7o2+93+SX+/vAB6jTyef9cBbEH7AkACdoF/vq85wnZb9Zr3WHo/u+69koCDgvHDboJdAe8Ax8HDwoaCCz4d+6d8tv5WfiH+BMBsQcUCr8IVgeGAUYA2gRZC6UL/Q+lIA0tMC6mJxQo2i+8OE05kxsJ5IfNecurzHO4BcL24CMAohCJEWMW8wS5C9cKfgeY9OTxkPkQ/0784e0l6V3x9/0RBbEH8wUPCpcHbvYL36DY8NnB3Xfl0e/G+4wJnBKeDlEIxwKzAWsGRgl0/47zTPV0/wMD4fdS8ov5YQVzCugGtf96/aQCjgbQBHcBLgiTG6Iw7DNrL44vBDWdOrQ0ECYC/WzRlMf2zLG/L7Ty0yn1oQkmDv0Z+RdODYYMaQmj/NvvPPcl/VH/Tvwp9FzzjPjF/Z8COAfeBx0Be/wM8ingp9RH1s3iHe9G9lz+HA0cGN0SgwifAav/CAPaBcMAh/fR+hsFrQNf93n1Kvx8Av4Cev2P/JT8u/78/vUAqAO2EaAf9CwqOZIyQzCGNoI03SgBJ38l6wBPzqHB9Mb8wLKzldpr/YYMrxS8I64hpghqB2X/DP3L8Xz6KwOzAi7/jPcY+ZH4+Pvt/ucJ3w/9BSf4zuvp3QLT09WI4Tvu7/lUC+oYBBeMC0wIrAeqAMICOwsTC6QBtABUAlP7SfAc8R35NfwiASoFWASO/Rf7Af6zAqcHbA67GucngjQ5OUwxQjKHNPkt3Sh+KP8gXPNbyhTD5sO7vwK+jeDi/1gY5Br/HzUZzwb3B5ACMANA+UsAFga8BBv8g/Xp/BD/cgGdBgUJZgas/iT1VONa143VwtmL5drxJwE9Ew4XKRLFEeQP2QcwBPcHoAp1BZ783/zZ/Yz3LO5s8Sz4fv+VApQEswGa+Rn3c/ho+aP89wfVGZorqzKEMG01SjWkLBonbCSUI2AnXSN2BMLPMrcHtFe/bsJB2Mj3HRbwKi8lVBcg/l4BZwRxBA8AKACDB7sGhQS095L1/fvaBRoHaQBF+Qb0E+9K5SzZwNQl3cTqn/kDAxYG2w2MFUQNFQffBJMFJwxODtQGEP779tj1+/Zi8ezsUvOa+k8BfQA6+kb2Lfav+PX4RPwhBJ0Qwx87K2QqbyfwKWUnzh0bGiIgYSYoKZQkNx67/jzCkqxltczF98ly5CoGdB37HR4Vng5C/3cCYw2mE1MO+AVkAOH3UvNm6QTuAvzyB2QJJQX++sLuk+kn4z/cIN6t5lfyEf0g/iT/HQKjBMAGsAkjClUKNgwwDUMFbvZe7tHvRPFs8O3zl/U//Ez/vgDK/aD4PfS19gj7xf2zAUwI4hIZHuceeB4TIHEkhSRRHPQXZRz0IcomwSNXG1UJzdkMs3q07LduwnjivAPSH3skNhe9DY4Fafh1BmgLeQjZB43/YPQo7Unn2eh1/twKiRDdEsYDJfII5rfcvtjo3ujpevMw+4z3g/Ux+Qb+RgCdBuoNdw1PC18KNAUr+8zwQ/J59qb1XPJq9Zr6o/xJ+3H7P/r388HywPR+9nv8NAXVDp4ZXRl5EnARnBKJEV8Vbxw2IFEcLxoFHkYe2hliGTsgeAoBysayQLmevM7L5e+PDlofaCD6FVMPMfnE9qkN7g4EC+8Cl/YD8VPxzuoN8QIFiAjQD1cRiwFh88roueIh5kTnF+bc7gb0lPFw88T1nf6RCxkVnhiOECgKLAvy/cnr/Oht7lv0HvdF+Er5SfuE/aL9Nfzi9oj0HPqU/P76DP3T/60EXgxoDMkIIQ45D3AR3BX3G3IheB+fF9MSwQ7FEE8X/SNoLHMqe/zNuDukHKcouGnhjw+6JwMtZxnLBM71kOU6+nEZURw+GjMIm+zJ4P7bYtyy8g4Ljxm4IXcWyv5b9YPqoeDY4JPofe0N8drySfH38wn55//TCCsOfhICELMNbQy1/zbvpeyu74XwdfIz9G741vn3/R0BRgB8+m/1PPfq+VL9mwBKAtQHSgvnCfMEUwOOBSgJ4A1SER8TtRKuF+oYORCMC8oQSBqTJtkw3y5zKtMIG7+vmbOl+rm97/gaLCEBHOQEXfB/88zvAACfK14rPhv4BLjbUMwr2+jpWwhQHmAdtR1oFgf89e528Dvvq/bw97XruOTD45nmSfCC+FkCZw4ZEwgN8gf+A5cIdAe4+Rr1SfEm8SbxYvGi9Cf5QAHnCWUHIPw49XXziPSb+Av/WAMbBYQG+gFJ/HX9kQBmBmcOghSCFTkQLgiOBQgE+QPXC2MWLCE2IFEceR0HGyIXHSEaJrD/08yRrjGvntIB9McB+A78EYgH1AY1/Ar3ig9OGEseXBDK9APmhOnv77D/DA+GDAAT8w5nBNr8pffW+ZL//P5t7n3jPt6547Tt5/VQAKwGgQ0sC1gDMATOCeITjhCyA9XxYOq38Pz0P/pP+KL9kghRB5/6eO2r6tHwlPuLAesA+gC4AokFhQNS/rgBrwtMEuMQhwtwBQ0E2wPHAloALAH/C44boiWAJFUffhxMHJIeLhz8HL4gEP86x5Gk4qwq3Qv/iAcsDPMO+AQMBuj+ngP/FQgZfxrWAyDpCNyK59f4uAx+Ej4PmBEMBkf/hvq9+hsFbgmtBPb2j+ed3kfghuU46gj7+gqdEEALbQFb/8cC0gsvD1YH+vgt9vj7RPr89BfxfvWF+2v9v/aY8iDz+/ba/McBIwBVALcETgMmA1oAV/5EBGsGUwPCAUz/iwHPBhgCT/pt+o7+iQaeDlIQ1BGCFHoQRxJ8FpkYAR0OISUkBSlBHiUQ4vZlynCzBsv9+1cGtf9P73j3x++38Qn45Q1uHj0cJxcx+Xvwqe6L+ugG5QylCyAGHAOU/AME7QdtC5oNYwJb9H/oiOBF5TPrwu4+853zN/aG+lL92wESDiEZhx8MGvgETPUv8gn4rvm88lTvLvWk+Yf3f/JO8BvyqPyzAq4BoACS/6QB0QFO/B72VPqMAD8E5QHNAD8EJAj4BQ8ADPxx/HIB0wnAEOcSbxJcEA0OCQtjDT8YsB4WJBgriyLQGXsPjeuStpukwu+AGUEJmN9d57TsNu8J7k3+5iCCHkEejABN6FrsewN/ES8QxAm1/7r/x/pf900F/Q9eFmMNOPWA5irnn+8j9zX7oPcC8p7x5u4b8if4UgZxD3oRoBRyDW36qPDRASAQUAmX9gv0oPgA9hD0ifKE8pP0Kvwf/8j4xPZJ/LEFdQU5/ef1MPqZBL0B8/uP/GwD1AeCAOX5v/Vf+FL+BwWuAi/9o/vV+9X75viy/F4CQQl4C/AL4Qp9C4YNoRIpHGwjIx/lFssYPR2NHB8SaAz8/SXnGM/Vx6DtAABZ+qrjjugV9DsBcgHlAtYNsRHYEnEEmP4lBrEQsRBwBvP82/qVAQMEof95/8gAeABF+UTwX+2O83/+U/uT9G3uNfCc9Sz4F/tuAM8G8At+CBEFPwMnAfkCogYkCH/+iPTj8yP3uffO9tP1y/I+8y71E/g2+e775gCuAnwCcP4b/QH+/wAa/4n9HgDBBcEDyv3w+JH3NvmN/yAGPgXbAQQBRAPJCKkNkhIUFesV1he4Fn4T2BOiGlgjbSIWG/gFJehAxIjL0Pv4Dqf0gtf12ULqnf0hA8cBxQY6DbQKfQDJ9nr9FRF7GAwPDwC096H/+wmCCaIFAf9Y/Kj8cvq88mjvDPP881v0eO1q6yHwK/pKARMBAf60AMkJQw/IC30AYP8UCRsPIAXN+BX1xvyFBPkCc/jv8Pjxh/jz+0r6r/jb+sb8jv0/+mn4gPxiBAwFRQIUALD/vgBQAAH+Svqa+rkArAaoA4D8ZPhs+/H/9v+i/j7+cP2E/Yn9NfwS+xb91wBiAz8DpQD/AEACdgMCBWEGAgaPA8wCRASoBO0GpglODakNPApBCXcNJQ8rDaoK8Qh+B5QEggCd/Tb4xvI27+DvmPQ2+fv1DPKh9ur6GAGQAcgAjv5g/0ACawasBhEFzAJoAUsAKf9m/uj+k/0C/JD5oPcn+Cv66vlZ+H72yfar9kr4rvkr+2j6HPo7+U77IP4jAPv/zv+I/8/+df0tAOsAFv0I+ln6rfv4+/P76P3j/g36n/q4Aq0DVgf9BQsIfA12DtUP7RFDENwUiBwQHAYc2hlEGRsaBxsVCPriINLH5Z4Exf5f4YfNq+BW9UcHsgPy88zvHPt+B80KcAXvAw4MhwlyAoP/ywPhC98Pjgbk/P769/0XA8MAh/ff8WHyAfX29aPycPJV9hP5Svn1+Fn69QGhCY0HV/4s+M0AURLXFQsHfPmp+TsCuQqhB0P96PNm89f4+Pzz+z/6+PsI+wn5QPiZ+1kCMATF/k78C//+AjUEHQJg/1f+cP70AmoH1QQ4/xv8nf1pAPv/lPxe+nf56vkN+8f5zfgI+/L9W//4/Cr8zv9KAYwA2f7t/Wr/cgH0AqgDTwJyAlIFjgWuAm//tv7n/wH/mP3j/kEAfv/j/TD8jv6GAW0CHQI3AC7/lgATASMA3f9zAOsBswK0ACgA8f9ZAeAChgIOAR4Axf4g/k3+7f5M//38Yvt1/WX/jABuAIP/sf5pANwArgGqAAkBfQBaAC0A8AG9Ab//QQAeAI7+Of6D/wQBmwDNALv+Kf+1/9YDMAP/AOj9qgB7A4sCdP+S/x0C7wOzAsMACQGjBPMFmgJVAF4C0AWOBXYEAwOZAxYGygesB9oFygZCCIcJsAn2CGAIPQhaCY0I1QXBA+4EvAUFAAf9Kf/o/ij3dPQ39pr5HPqH+Kr4MfnW+ZX68/sW/Yj/+gC5AIP/Yf2s/cr+Lv9c/gf96fuF++D6d/r++l37Nfup+R35XvrW+nL6Svpt+Wj6/fyd/VL9ov11/gv/ZAAIAxcE1gKGAjQGyQmlCw4Miw3lDU4P9xCwE0wTXhYCGgYcAhvvGAAKevKX9TD6+gFe+svmPdYJ7osBav9j7uLh0u5c/p0FdQYp/wP7gAMBBwoJjAmSB6cFMANS/jsCLQkUCS8FZ/v79pX5B/16/ar43/Ia9L/2xPV59V/20vcM/Xn/B/xT+xv9WASwCIkGWgCE/XwCaAvmCiYEW/8V/9cAYwKkAfz+cvpo+Xv8C/7F/Yn9TvzL+9X73v3hAL4A5/8+/pP+PAC4AjYCbQKWAC7/+//SAGgCRQKm/5j9mP6w/2QA2f4v/SX8k/33/nn/Uv4M/Un8svzF/SX+cP5S/uP9rP7T/6AApAHrAUABpAE7Ar0CkAF+/7//0QHrAScCHgAKALQAb/85/lz+u/4f/2D/Av28/LH9IwA4/yX+EP7J/6AARgAa/+39NP5GAPkCHQF6/UP9Vv9g/2r/Pf8ZANwAmwBH//z9sf0k/ywBrwCn/i/+HgDcAMr+rP0oADsB0gCT/qL9V/78/n0A9/6E/ff9WgBBANn+V/3K/koBLAHY/5P+C/5c/t3/0gCRALH+L/7Z/h//Qv9X/oT+u/1c/uP+9/5//bH9z/2d/Xr9cP4p/43/tv4q/nX+7f50/7//MgCbAPb/u/5v/68AggBH/37/KAAYAU8BXgFAAVUAGQC0AGgBHQH/AAAAdP+6/7kAxwFKAaUAgQEYAvAB5QLGA7cDKwNJA4UDTgQ/A7gCfAFjAScC5QM/BMcCqgAAAPoBxwLRAVAAAf+Y/VL+f/4l/mH+ov1J/D/8k/1b/x4ATP9m/Wf8Tf1C/979nvz4+0j9u/16/RH81fxw/Qb+G/6i/XH8YvzV/BD+Kv6s/Qf96fw//CD8hP1M/7D/Qv/e/TT+R/8iAZ8B/wBjAYoDpwVXBe4E6QXECFAKbgpLCtcLow7UEE0QthDYE3gVIxXoEBUHrgH/AVj8vgDB+xvzGews+Xr9Evq972juFvJp9yMA4QCU+8L67f7MAhYGTQVEBPkD+gDHAgYHgwd6BmIDyf8G/7kAlANTA03+hftO/CX+3v68/Or6lfnv+vj8/P0C/TT96P7mABMBCgCm/54DcAbpBV4CYwIIBLEFiQWUA/8A+//1AYsC2wE7AS0Atf8oAM7/LQAFANP/BQBH//v/fAGVAbQA4QCvAPoBGAJPAu8C+gAoAE8BIgKuAhgCLAFzAC0APADIANwAjf84/8D+kv8AABgBBAFl/6L+Bv+I/5L/of8UAPAApQCRAL4AswHgAScCxwGaAfABcgL5AqQBMgDO/3MAvgCgANwAZf/P/in/ggA8AIj/a/4q/mX/DwAKAHT/V/56/rD/jf8f/1v/tf+n/vz+Bv90/+P+Zv7U/jP/BQDXAK8A4v/O/93/4QDDAKb/YP9b/0L/kv9v/1H//P44/4P/8v7P/mX/Qv/t/mv+6P1//uj+yv4B/9n+iP95/2D/Uf+1/2kAyAB9AM7/2P/T/w8AXwCgAHwBNgGHADwApQDXACIBDgFjAYEBvgDXAJEAbgBFASwCIgKpAQkB3ADmAFkBwgEOAl4BgQEEAicCbQJ3Av8BWQGaAbMBiwHwALkAcwAoABkAzv+6/1b/R/8B/8r+Tf73/U3+L/5I/on+Q/4+/fP8ev2x/cr9k/1//Zj9Tf1S/YT9wP3o/Wb+p/7t/T79G/1r/fz9Uv4+/nr+IP7j/SD+ev5H/7D/YP+I/wUAHgAeAPH/0/+//68AMQGBAfUBkAIwA+UDIQTQBNAFPQf3B7AIXwmMCckJyQlLCiMKsAnOCQAKjQjVBOYA+//IAH0AXwBg/8H7P/qk+gP79PpO+0n7bPuj+078j/xJ/Mb8Pv3a/DX8Efye/DT+k/6J/jn9Kvza/Ab+C/9m/i/9IP2n/fz9if1X/dr8bPz4+xb8Efwm++X6A/vg+lj7Yvxs/On7DPx7/Pj86P0V/u39p/1m/VL+M/8G/6z+M//T/zwApQB4AJYAyAB3AUoCHAPgA2cEewSjBNUEQwVwBlYHeQdvB/wGLgdbB2AHzwcGB7wF3wRYBLIDqQJjAQb/hP7A/S/9p/3G/I/7TvtY/HH7Z/s1/Jn87vza/Gb9a/1//dn99/1I/u39IP6s/tn+C/89/9j/3f+w/2D/M//3/hD/Kf8p/5P+G/6T/SD98/w5/SD9+Pxx/Az81fu8+zX8U/zf+9r7Yvzf+3H8Av1N/Tn9lPw1/Mv8mP3j/SX+/P0G/oT+ev5w/gb+df7y/jj/fv/O//H/+/+//8n/eAAsAQ4BmwAxAa4BBAKGArgC4ALgAoUDvANYA/QCwgK9AmgC6wHWAeUBcgHcAPv/OP9R/7X/8f+c/6b/zv/n/2r/g/9H/1H/TP8p/xX/sf7P/rv+XP7t/cD9nf3K/YT9Kv0R/Qf9nf1I/dD8qPx2/Jn8Avxs+9b6qfrb+gj77/pj+kr6cvq9+p778/td/En8G/zB/MX98v0+/sX+W/8UACgAcwDrANsBEgMwBMYELwU+Bi4HBgiXCGkJ/wpjDHcNbA4bD6gOiw18DFkLUAkvBiEEOgTqAqkBVAFX/rf7MPvB+w36d/o6+z/7xvvG+6P8o/vQ+wL8Kv3V/Nr76fx1/Z39Tf2s/XX97f0V/0L/iP/e/m//fv9W/5P+df5W/xD/V/4b/gH+Ff7t/e39if1m/Sr9/P0V/vz9nf4p/9P/ef+D/w8AFAAeAOz/BQAUAEsAMgBuAPH/g//s/3MAUAC0AM0AUAAoAH0AtAC+AMgAIgEEAWQAXwB4AIIAQQAFAOf/q/+S/9P/+//E/93/DwAeADcAggBuADwAYP90/43/Uf/Z/sX+6P49/43/iP9R/6H/BQCCAL4AoAD/AMgAjAClAEABzAH1Ab0BgQG4Ab0BLAITAuABRQEJAf8ApQDIAMgAXwCw/87/of/x/1AAZABBAJf/Pf+w/+L/5/+m/z3/Qv/3/kz/nP+h/6b/7P/d/5z/q/8z/6b/5/9QAJYALQBBACgAkQDcACIBuQDcAEoBqgCRAKUApQDmAAkBcwBVAPAAwwDIAFAAaQC5AOYADgFLAEEAHgAZAAAADwDT/6H/fv+I/7X/jf/2/wUAGQAjAPH/+/8AAAAASwBpABkAAAAUAEEAkQAUAH7/tf8KAFAAZAAPAOL/LQD2/0YAPAAPAEEAZABLANj/xP+I/87/+/+X/wUAzv+N/zP/jf+w/7X/of+w/37/Lv+X/+L/8f+m/0f/sP9g/z3/9/4B/xD/8v4G/2v+Yf5X/sD+cP4Q/9n+3v4a/zj/u/7e/rv+1P7o/oT+8v4Q/53+cP5N/lL+jv7A/rb+xf7F/t7+H//A/oT+ov6i/rb+hP4l/kj+XP5N/kP+NP7F/Zj9Af7F/bb9Kv4Q/rb9tv0Q/u39C/4B/sr9V/1c/YT9xf3o/Rv+/P2n/Yn9tv0g/lf+Zv67/u3+jv7Z/oP/iP+h/+z/AAAAALQAmwDhAOsAaAGVAfABwgG9AfUB5QFjAk8CbQJ3AtECMAMXA+UC4ALlArMCfAIsAgkCJwEiAYYBrwB9AP8AeAAf/+3+nf6n/uj9yv3U/Wv9L/0g/Qz9nvx7/K38dvxO/D/8Ovw6/CX8hfvG+9r73/ts/O772vtE/JT8mfzQ/ID8YvxI/Rb9Fv1I/QL96fzu/GH9cP22/RX+Tf5h/vL+iP9LAAQBRQHRATsCpAK3A0QERAQRBacFUgY4B/cHKQhpCW4K3QnYCW4JFAk4CLsHnQbzBO8DaAIiAfH/OP/A/XX9xvzz+4/7lPuo+6j7Ovvp+9r7Avx7/DT9YvwH/ID8j/yK/IX8Tf0R/Rv9L/2s/S/+Af6d/rv+4/6x/s/+Bv+T/lL+XP7F/Sr9yv2E/Vf9SP2d/XX9Uv1X/QH+C/7e/Y7+1P6T/lL+Lv9M/yT/R//j/vf+Tf45/rv9jv3U/cD9Uv7Z/Z39Kv6s/uj96P0q/nr+u/4l/sX+L/5X/rH+Lv/e/qL+jf+N/x4AFADSAG4AfQDXAMgApQDSAMIBnwGVAcMADgG9AU8BkAFZAWMBcgFKArgBqQHrAUUCYwIJAvUBkAEiAsIB4AGBAjEC2wEnAlQCzAHHAf8BBAKLARMBBAGCAF8AKACWAPv/kv/2/93/ef/j/lH/Vv8f/+j+8v7K/qz+Kf/P/on+Uv6T/jj/Uf/8/kf/8f8AADcAUAAAAOL/fQD1AIwAtAAdATEBBAF3AeABhgEEAm0CQAL/AZoCDQOLArMChQPBA60DUwRJBOoDmQTuBC8FJQVXBaIFtgUCBfgEIAXzBEQEDQTlA6MDowMwA5UCIgJAAsIBOwGHAJEAKAAtADcAAAAoAOf/TP+J/on+Q/6D/yT/f/67/pP+C/5w/lL+Q/45/tn9Jf5I/kj+3v3K/e39z/33/Uj+1P5D/nD+G/4g/k3+Yf6i/vL+Bv+Y/uj+W/9M/7X/8f8AAFAA3ADXACIBYwFeAakBBAJtAtsC7wJEA/4D7wM1BNoETQUMBfMEYQVmBaIFiQXQBcEFIAUvBWYG/QVdBN8E6gPMAisEsgTWAiwCMQK0AJEAXgH1AB4AIwDs/7//CgAAACgAq/8f/97+rP62/qz+6P5S/i/+8v51/ir+Yf5I/iD9df1I/hv+G/4+/gv+a/22/cX97f1N/rv97f2n/Wb9u/3y/TT+Q/6Y/lf+XP7y/mr/2P+r/6H/yf88AHgAzQAJAXwBkAHCAZACvQIXA54DrQPbAyEE/gNdBCAFGwUbBZgF8wQRBacFGwV6BQIGPgVSBWYFAgW8BGIEvAMhAwMD6wFAAlkCiwEOASIBoACRABMBSwA3AJYA0/8k/6v/g/9+/37/TP+Y/mb+nf4v/mv+u/56/iD+if73/Uj9Bv4v/vf92f2Y/Yn9z/1//X/9XP0b/e78Q/2n/U39V/11/X/9ov0V/tn9Q/6s/sr+f/67/vf+Lv8FAKv/4v9uAGQAXwD6AA4B/wBAAcwB8AExAvUBWQKVAu8CWANsA4oDXQNiAzoDuAKaAuACpAL/AQkCTwL/AQ4C5QFyAV4BhgHXAKUAhwB4AB4Atf9R/6v/tf89/wb/H/8u/xD/of9v/7H+rP6i/qf+nf7Z/qf+jv7Z/cX96P3y/fL96P2E/SX9Tf05/UP9jv3e/Yn97vzB/D79if1S/jT+z/2O/WH9ov16/Zj9C/4b/nr9/P0Q/n/+k/7e/sr+z/7P/in/yf8yAEYAIwAUACMAeADIADEBEwH1APUAfAFeAYsBhgEdAR0BTwFZATEBRQEnAdwAggAjADwAVQAjAAUAZADT/2//pv+r/yT/Pf9H/3T/7f5I/rb+yv6i/qf+9/5//qz+ev7Z/cD+6P6J/vz+nf5I/hD+SP7e/Xr+8v6O/pP+Pv5D/vL9Ff73/RX+tv27/Qb+Kv7o/Zj9sf2d/cr9G/4b/jn+Of4V/lL+Pv5D/sX+ov5//uj+Kf/t/j3/b/+X/1v/Vv95/+L/BQAAABQA9v+MAL4A0gDhANIAtADNAOEAhwClAK8ApQCqAHgAyADNAJYAaQC+AKUAaQBfAOz/2P8AAPb/fv9W/2r/b/9q/+3+R/95/2X/q//J/1v/ef/O/7r/v//7/zwA4v+w/5f/g/9M/zj/dP9W/wb/R/9+/4j/YP+r/1H/Qv+h/4j/of+h/2r/OP/Z/kf/R/9l/2//dP+h/xr/Kf+m/3T/nP8FAPH/9v8FAPb/IwDx/+f/7P8ZAAUAggCCADwAjABfAHMAkQCqAMMAyAB9AJsArwClANcAvgCRAK8AhwCRAMMAqgCgAL4AZACWALQAggCWAIcArwCWAIwAwwDNAAQBVQBpAJsAqgB9AFoAmwC0AL4ArwBLAEEAtACWABkARgBGAEEAcwCMAH0ApQBBAB4ARgBGADcAlgBLAOL/q/+N/7X/tf/O/37/4v/x/wAAQQB4AFAAQQAFAEYAWgAyAEsAQQDY/wUAHgA3ADcALQAjANP/BQBBAEYAaQB9AJEAhwBVAF8AmwBzAMMAWgAUAJEAoABpACMALQBaAPH/SwAeAEEAggBzAPH/+/83AFUAoACRAOYArwCWAJsAlgCvAPUAJwFKAR0BSgE2Ac0ArwDrAAQBJwHwALQA5gDhANIA/wAxAWgBcgExARMB8v7k/NYChgIG/wkBlQGRAG4A8AFZAXwB+gGCANcAq/+HAEoBaQB3AR0BHQHn/yMAxP8AAOEA3AAdASMAHgAyAHT/q/8ZADsB1wAoAHgAAAAoAPv/VQDcALkA1wAUAEL/zv9kAEsA+/+CAFAA8f9QAFAAHgBGALQAuQCCAC0A9v+1/5z/+/83AB4AlgDY/y7/dP8ZAKv/Kf/T/wAAg/9b/7X/yf/2/+L/MgD2/2//b/+I/6b/zv+///H/of90/43/tf/n/+f/xP8KACgAof+w/+z/xP/s//b/zv/J/9j/3f/x/9P/FADs/2r/Lv8f/1H/YP+c/5z/iP9b/2X/ef+w/7r/zv+c/5z/q/+1/1v/iP/T/2//YP+m/6H/W/+h/8n/tf/J/9P/sP+m/7D/kv+w/1b/of/i/7D/b/9l/0z/YP/E/8n/pv+6/5z/av+1/1b/Qv+X/6b/Pf/3/iT/R/8k/1b/7f7A/hr/kv9R/z3/l/95/5z/xP8AAPv/pv/E/w8Auv+6/7X/xP+w/7//Gv84//f+av9R/yn/g//T/3T/YP9q/7D/7P+h/7//pv9b/3T/yf+S/6H/LQAyANP/5//d/wAAuv+m/8T/AADd/8n/IwAFADwAFAAAAC0APAAeAPv/7P/d/6H/xP90/2r/YP+1/wUADwDi/yMAAAB0/6b/BQDs/8n/tf/x/+L/xP/O/9P/8f/n/6v/zv8PAPH/9v9l/4j/9v8KACMAIwA3AMn/0//J/87/3f/7/9P/sP90/43/tf95//v/FADE/+z/9v+h/6H/zv/i/8T/pv95/1H/g//J/7D/uv/E/woALQAPAOf/8f8FADIAof9g/1b/yf8AAAoAv//d/xQA9v/d/wUALQAoAOf/3f+//5L/7P/7/8n/sP+//xQAPAAyAA8A9v9aAH0AFAAUAPH/sP/O//v/FAAUACgAQQBGACMANwAFAGkAIwAAAPH/4v8AADwAKADd/xQA9v8KAM7/l//n//H/0/+6/87/7P/i/7//0/8UAOL/yf/s/xQALQD2/wAA8f8jAAUAHgBBAA8ACgAeAC0ANwAPAPH/yf+1/5f/0/+m/1H/b/+w/8n/dP+w/wUAAACw/8n/l/9l/yn/Pf9C/2D/Qv9W/5L/Vv9q/4P/dP8p/xr/TP8a/xD/C/8Q/yn/TP/8/vL+JP8f/xX/C//o/iT/Gv/y/vf+JP9C/2//ef9g/0z/OP9M/z3/OP8f/1H/YP84//L+2f73/vL+JP9H/xr/Bv8f//L+Qv9H/5z/nP/d/x//Kf+I/7X/zv+1/4P/dP+I/5f/g/+r/3n/R/9v/2X/kv9q/1H/fv/O/7r/tf/d//b/4v8UADcAVQAAANP/9v/Y/18AoAB9AEsAIwAyAEsAfQB9AG4AkQClAFoAeABBAHMAcwAoADwAVQAtAB4A+//i//b/2P+X/+L/tf+X/43/kv+c/6H/jf+N/3n/q//J/5f/q/+D/3T/dP90/2//W/+X/1b/Qv9C/0L/Lv9v/xD/8v5C/0L/YP8f/yn/b/84/wH/Af/K/vz+R/8z/xD/EP8z/wv/EP9W/2D/Zf+6/2r/g/+r/4P/Qv+c/3T/YP+h/37/pv/n/9P/sP/x/ygAHgAtADcAAABBAAoAv/+m/9P/pv+c/8n/3f+I/43/5//x/5L/of9g/3T/q//E/7X/xP+1/+L/0//2/9j/v/+c/1H/nP/E/93/HgAjAAoAzv/T/7//4v/d/9P/BQDT/87/PAAZAOz/+/8ZALD/7P8jAC0AGQAKAFAAfQBLAFUADwAAADwAPABaAFAAKAAUAEYA7P/E/7//xP8AAAoADwD7//b/KADi//H/7P/2/+f/v//x/yMA5/+6/9P/CgDx/87/zv+w/7r/2P/n/yMAUABBADwAQQBuADIAQQAyAC0AqgDIAM0A0gD1AAkBEwEYAQ4BHQEiAfUA5gD/APAAwwC0AM0A3ADrABMB+gC0AL4A+gCvAL4ArwCWAPoABAH/ABgB9QAdATEBSgEnAdIABAH6AAkB/wD/AF4BcgEEAScBhgEnAUUBYwGuAZoBVAGaAXwBcgGGAXcBRQFZATYBgQE7AUUBGAFKAVQBTwFoAU8BGAFFAQkBMQFeASwBdwGLAVQBfAE2AVkBSgFPAXwBCQEJAUABbQHrAAQB6wDrAP8AzQDXABgBSgFZARMBGAFoAWgB+gBFAQ4B+gAEAR0B+gDcAA4BNgEiAUUBGAH6AOsARQEnAXcBswFUASIBaAGpAYsBmgGaAZABbQGLAZoBgQF3AWgBNgEYAeYAqgDrACwB3AD6AEUBDgH6ACcBLAE2AU8BYwGuAZUBiwEiATEBIgH6APAAIgH/AMMA5gD6ABMBEwE7ATsBiwFPAYsBRQEOAUABMQFtASwBEwEYASIBrwC0ANwAvgCRAHgAqgC+AMMA3ADIAPAAwwD/AMgA1wCbAGkApQCHAEYAlgCRANIAeABQAJsAoACbAL4AvgC5AIwAlgBGAAkBBAEJAa8ArwCgANIAcwBpAFoAcwCCAEEADwAeAEsADwAPAB4AMgA3AFUASwCbAL4AeABQACMAIwBGADcAAAAUAFUAPAAjAFAA7P/T//H/pv9+/2r/yf/i/ygARgAAAA8ACgAKACgA7P/O/87/AAAPAPH/NwAeABQA3f+//3n/l/+h/2X/dP9q/zj/R/9H/43/W/+m/4j/g/+N/7//0/8KAM7/q//i/wUADwDY/8n/3f/Y/+f/zv+w/6b/8f8UAOL/yf+r//v/GQAjAAoAMgAjADwA4v+6/5f/tf+6/8T/of+X/93/b/9+/43/l/8FACMAIwAeAOz/CgAKANj/yf/T/7D/jf+r/woALQBBAPv/jf9+/87/sP+D/87/sP+//5f/0/+w/2//b/+I/87/iP9l/4j/dP8u/wv/OP9H/2D/Qv8u/0z/OP8u/0f/JP/3/uP+Kf9H/x//H//8/gb/2f7j/pj+wP62/rH+/P4L/wv/z/6d/rb+xf7U/mv+nf56/nr+cP7F/rb+wP78/vL+1P7j/hr/4/6x/qz+mP6n/on+a/6x/nr+Yf5X/lf+k/6n/on+Q/4Q/lf+V/5h/p3+cP5r/nr+Tf4+/mb+if6O/rH+rP7o/tT+sf7j/in/OP/Z/rv+xf62/vL+2f6E/on+V/5S/mH+V/5//rH+u/67/pP+Yf56/sr+f/6T/rH+wP7U/sD+u/6d/oT+7f6d/on+wP56/sX+ev5I/oT+ev40/iX+G/5c/nr+yv6s/sX+z/7t/tT+u/7P/t7+6P7o/on+ev5//nr+u/6n/tn+Af8V/0L/6P62/qL+4/7A/sD+2f4a/zj/H/8Q/zP/JP8a/0f/Vv8G/xD/Bv+h/3n/OP8k/0L/M/8L/wb/Af9C//z+Kf9W/y7/JP/8/rb+p/7y/gv/Gv/8/gv/Kf8f/xX/JP9C/wb/TP89//f+Af/o/t7+Ff9M/0f/Gv9C/yn/av8Q//z+Pf9C/y7/M/8u/0f/ef9R/2X/nP/O/8T/fv+6/5z/xP+h/5L/+/+1/7r/0/+h/4j/q//n/7r/pv+X/0f/l/+r/5f/fv+c/5L/dP+I/2r/kv9+/43/uv/J//v/sP+D/2X/l/+r/4P/jf/i/6H/kv9g/4P/b/+c/8n/0/8UALD/0/+6/5z/3f8UAL//l//i/+z/yf8PAAoAHgDs/87/4v+//8n/q/9+/37/l/+N/0f/Vv+w/6H/of/7/+L/pv/J/7X/jf+N/43/ef/n/wAA7P/n/8n/0/8FAC0ACgD7//b/zv/O/7r/2P8FANj/4v8FAOz/4v8AAOf/v//7/wAA8f/s//H/9v8PAOL/yf/s/+z/sP+m/6H/sP/T/93/zv8FAN3/2P8oABQA2P+//wUAPAAUAA8ACgAZACgACgAAAPH/FADT/+L/BQDY/93/LQD2/8n/+/8ZAAAA8f/7/y0AQQBpAFUAMgA3ABQA4v/7/9P/5/8eACgANwDi//H/KADn/+L/CgAPAAAA5//d/+L/BQBBAB4AQQAeAOf/AAAKAC0A+/+N/9j/ZAAPAC0AMgClAL4AbgBVAF8AUABuAAoABQBLAIwANwAUAAAAPAAZAPb/2P/i/+f/8f/i/9P/FAAeABkAKADd/6v/3f/7/zIAWgBBACMA5/+I/9j/+/8FAM7/uv/x/+f/PAAjAPb/+//T/9P/NwBzAJEAjABQAFAANwAFANP/AAAAAEsAxP/d/wUAGQAjAB4ANwBGABkADwAKADwAVQBfAF8AWgBVAC0AXwB9AFAAcwBpABkAPABzAEsAKABVAGQAQQA8AEsAUAA3AC0ADwBGAEsAPAA3AAoASwBfAHMAVQCbAMMA9QCHAIIApQB9ANcAzQBzAGkAmwClAIwAXwCCAPAAyADwAAkB3ADcANcAqgCWAKUAeACHANcA4QDcAM0A3ACWAKoAvgDSAJEAWgBQAIwAkQCgAOYA1wCHAKUAfQBaAHgAhwBzAH0AlgCCAJsAuQD6AOEAtADNAPoA8AAdAR0B3ADhAPAA1wDrAP8AtAB4AFUAKACCAKoAhwCvAH0AkQCWAKoAjACCAK8AlgCMAKAArwClAL4AwwDXANIAggCMAG4AXwBVAEEAIwAZAPb/+/83AEYAIwA3AFUAPABfAAoABQAyACgANwDT/+L/AADx/xkA2P8KAEEAbgA3AAoABQAeAC0AaQBfABQAKAAyAIIAXwBfAIIAPACRAFAAMgAoAFAARgBpAIcAhwCCAIcAhwAeACMAMgBGAF8ARgAFAOf/LQBGAGQAggB4AKUAtABkAG4AhwBBAHgArwBGADIAbgBQABQADwBGAF8A9v8jAPH/QQBGACMAPAD7//v/IwAyADwAbgBkAEEACgAKAOz/LQAyAPv/CgDY/+z/RgBBAFoAMgA3AF8AfQBVAFUANwBaABQA8f/Y/9P/7P/s/9P/LQAeAPH/AAAFAJz/zv/s//b/BQC6/+f/uv/d/8T/zv+//6v/ef+//wAAv/8UAOf/l//n/w8Ayf+I/8T/xP+I/43/q/+h/5z/2P/n/wUAsP9+/5z/dP+S/37/Lv9H/43/JP9g/wb/Ff9W/0z//P4a/x//M/9R/0f/W/8p/+P+Bv9H/xX/4/4V/+P+/P4V/z3/H/8B/+P+Gv8u/1b//P4a/y7/JP8Q//L+1P4G/+j+JP/o/u3+C/8G/wH/z/7y/gb/9/7t/t7+2f4p/9n+wP7K/n/+2f4G/+P+yv6T/mv+mP6J/t7+z/4V/wv/6P7K/vf+Af/K/sr+nf6d/vf+C/8B/x//Lv8k/yn/EP8a//z+6P7y/gH/k/6E/uj+Kf8f/9n+8v4B/xD/3v7Z/sr+u/62/nr+xf7F/vz+/P78/tT+C/8Q//L+6P7t/uj+Lv8p/+3+tv7A/t7+C/8G/9n+/P7F/t7+JP8p/y7/Kf/o/h//H/8u/8/+tv7P/vz+Pf9b/3T/g/+N/1v/Vv9W/0f/kv9l/5L/TP8V/z3/OP8L/yn/9/4f/8D+Ff8G/wH/Uf90/1H/zv+N/zj/YP+1/7//W/9g/7r/sP+1/7//uv+D/+f/8f+r/2X/YP+X/5z/nP+w/3T/iP+c/4j/l/+S/6b/v/9R/0L/jf+r/+f/fv9+/2D/W/+6/4P/0/8UAMn/3f/s/wAA5/+//wAAv/+c/+z/xP+6/93/ef+r/4j/4v+h/6b/7P8eABkANwDs/woA+/8jADwA0/8eACMA7P8yAMn/3f88AA8AAAAyAFAAQQAoAB4ARgAoABkA+/9GAGQAIwAjAC0A4v/7/w8AMgAoAHgASwDx/x4AQQBkAFUAFABGAFoAMgDT/9P/CgAZAEYAWgBuAFAAKAAZAH0AfQBQAFUAGQBkAGQAggCCAGkAfQDDALkA4QDDALkA8AD6ABMB9QDwABgBMQEOAScBIgH1ACcBGAH/AM0AoADNAP8A1wDDAB0BLAH6ANwA5gC5APUADgHXABMB/wAYASIBCQEdAUABhgFZAQ4BCQETASIBMQFAAV4BdwFFATEBSgGGAZ8BQAEsASIBQAEiAf8A6wA7AVkBSgFUAUUB+gAYARMBSgE7ARgBMQEYATYB+gAdAf8ADgFZAXIBRQEEAfAAQAEYARgBMQExAXcBNgE2AW0BQAFoAV4BTwFFATYBCQFoARMBHQFUASIBLAEdAfoA/wBFAZABMQHDAA4BBAEiARMBEwFFAUUBDgEsAfAA8ABFAU8BWQETAdIA+gA7AQkB4QD1ADsBJwEJARMBQAG0AMMA5gDDAMMAmwC+ANIAzQD1ALQArwCMAIIAggB4AIcAjAB4AL4AeAClANwACQE=\" type=\"audio/wav\" />\n",
       "                    Your browser does not support the audio element.\n",
       "                </audio>\n",
       "              "
      ],
      "text/plain": [
       "<IPython.lib.display.Audio object>"
      ]
     },
     "metadata": {},
     "output_type": "display_data"
    },
    {
     "name": "stdout",
     "output_type": "stream",
     "text": [
      "\n",
      "\n",
      "TRANSCRIPTION:\n",
      "\n",
      "twenty nine\n"
     ]
    },
    {
     "name": "stderr",
     "output_type": "stream",
     "text": [
      "/home/aims/anaconda3/envs/LiStra/lib/python3.6/site-packages/torch/nn/modules/module.py:727: UserWarning: stft will require the return_complex parameter be explicitly  specified in a future PyTorch release. Use return_complex=False  to preserve the current behavior or return_complex=True to return  a complex output. (Triggered internally at  /opt/conda/conda-bld/pytorch_1603728993639/work/aten/src/ATen/native/SpectralOps.cpp:653.)\n",
      "  result = self.forward(*input, **kwargs)\n",
      "/home/aims/anaconda3/envs/LiStra/lib/python3.6/site-packages/torch/nn/modules/module.py:727: UserWarning: The function torch.rfft is deprecated and will be removed in a future PyTorch release. Use the new torch.fft module functions, instead, by importing torch.fft and calling torch.fft.fft or torch.fft.rfft. (Triggered internally at  /opt/conda/conda-bld/pytorch_1603728993639/work/aten/src/ATen/native/SpectralOps.cpp:590.)\n",
      "  result = self.forward(*input, **kwargs)\n"
     ]
    }
   ],
   "source": [
    "#@markdown Either record audio from microphone or upload audio from file (.mp3 or .wav) { run: \"auto\" }\n",
    "\n",
    "record_or_upload = \"Upload\" #@param [\"Record\", \"Upload (.mp3 or .wav)\"]\n",
    "record_seconds = 5 #@param {type:\"number\", min:1, max:10, step:1}\n",
    "sample_rate = 16000\n",
    "\n",
    "def _apply_vad(audio, boot_time=0, trigger_level=9, **kwargs):\n",
    "    print('\\nVAD applied\\n')\n",
    "    vad_kwargs = dict(locals().copy(), **kwargs)\n",
    "    vad_kwargs['sample_rate'] = sample_rate\n",
    "    del vad_kwargs['kwargs'], vad_kwargs['audio']\n",
    "    audio = vad(torch.flip(audio, ([0])), **vad_kwargs)\n",
    "    return vad(torch.flip(audio, ([0])), **vad_kwargs)\n",
    "\n",
    "def _recognize(audio):\n",
    "    display(Audio(audio, rate=sample_rate, autoplay=True))\n",
    "    if use_VAD == \"Yes\":\n",
    "        audio = _apply_vad(audio)\n",
    "    wavfile.write('test.wav', sample_rate, (32767*audio).numpy().astype(np.int16))\n",
    "    transcription = wav_to_text()\n",
    "    print('\\n\\nTRANSCRIPTION:\\n')\n",
    "    print(transcription)\n",
    "    return transcription\n",
    "\n",
    "def _record_audio(b):\n",
    "    clear_output()\n",
    "    audio = record_audio(record_seconds)\n",
    "    wavfile.write('recorded.wav', sample_rate, (32767*audio).numpy().astype(np.int16))\n",
    "    _recognize(audio)\n",
    "\n",
    "def _upload_audio(b):\n",
    "    clear_output()\n",
    "    audio = upload_audio()\n",
    "    transc = _recognize(audio)\n",
    "    return audio, transc\n",
    "\n",
    "if record_or_upload == \"Record\":\n",
    "    button = widgets.Button(description=\"Record Speech\")\n",
    "    button.on_click(_record_audio)\n",
    "    display(button)\n",
    "else:\n",
    "    audio, transcription = _upload_audio(\"\")"
   ]
  },
  {
   "cell_type": "code",
   "execution_count": 28,
   "metadata": {},
   "outputs": [
    {
     "data": {
      "text/plain": [
       "'twenty nine'"
      ]
     },
     "execution_count": 28,
     "metadata": {},
     "output_type": "execute_result"
    }
   ],
   "source": [
    "transcription"
   ]
  },
  {
   "cell_type": "code",
   "execution_count": 1,
   "metadata": {
    "cellView": "form",
    "id": "E-bFGpn_TQiW"
   },
   "outputs": [],
   "source": [
    "# #@markdown Check audio after applying VAD { run: \"auto\" }\n",
    "\n",
    "# if record_or_upload == \"Record\":\n",
    "#     audio = read_audio('recorded.wav', sample_rate)\n",
    "    \n",
    "# display(Audio(_apply_vad(audio), rate=sample_rate, autoplay=True))"
   ]
  },
  {
   "cell_type": "markdown",
   "metadata": {
    "ExecuteTime": {
     "end_time": "2020-09-11T13:31:58.954518Z",
     "start_time": "2020-09-11T13:31:58.952259Z"
    },
    "id": "nMkcU8sDXOh8"
   },
   "source": [
    "# PyTorch Example\n"
   ]
  },
  {
   "cell_type": "code",
   "execution_count": null,
   "metadata": {
    "cellView": "both",
    "id": "xj7emOprcPQ6"
   },
   "outputs": [],
   "source": [
    "#@title Install Dependencies\n",
    "\n",
    "# this assumes that you have a relevant version of PyTorch installed\n",
    "# !pip install -q torchaudio\n",
    "# !pip install -q omegaconf\n",
    "# !pip install -q soundfile\n",
    "\n",
    "# import os\n",
    "# from os.path import exists\n",
    "\n",
    "# if not exists('silero-models'):\n",
    "#     !git clone -q --depth 1 https://github.com/snakers4/silero-models\n",
    "\n",
    "# %cd silero-models\n",
    "\n",
    "# import torch\n",
    "# import random\n",
    "# from glob import glob\n",
    "# from omegaconf import OmegaConf\n",
    "# from utils import (init_jit_model, \n",
    "#                    split_into_batches,\n",
    "#                    read_batch,\n",
    "#                    prepare_model_input)\n",
    "# from IPython.display import display, Audio"
   ]
  },
  {
   "cell_type": "code",
   "execution_count": null,
   "metadata": {
    "cellView": "form",
    "id": "PXEfylBwbAYI"
   },
   "outputs": [],
   "source": [
    "#@title Random English Validation Dataset (optional)\n",
    "\n",
    "# if not exists('scottish_english_female'):\n",
    "#   !wget http://www.openslr.org/resources/83/scottish_english_female.zip\n",
    "#   !unzip -qq scottish_english_female.zip -d scottish_english_female"
   ]
  },
  {
   "cell_type": "code",
   "execution_count": null,
   "metadata": {
    "cellView": "form",
    "id": "dwSIJ6bmbAzq"
   },
   "outputs": [],
   "source": [
    "#@title Random Spanish Validation Dataset (optional)\n",
    "\n",
    "# if not exists('es_pr_female'):\n",
    "#   !wget http://www.openslr.org/resources/74/es_pr_female.zip\n",
    "#   !unzip -qq es_pr_female.zip -d es_pr_female"
   ]
  },
  {
   "cell_type": "markdown",
   "metadata": {
    "id": "8r3DW7IgkJil"
   },
   "source": [
    "## Example cells"
   ]
  },
  {
   "cell_type": "code",
   "execution_count": null,
   "metadata": {
    "ExecuteTime": {
     "end_time": "2020-09-11T14:21:25.234818Z",
     "start_time": "2020-09-11T14:21:25.218179Z"
    },
    "id": "GE0S5kmdXOiG"
   },
   "outputs": [],
   "source": [
    "models = OmegaConf.load('models.yml')  # all available models are listed in the yml file\n",
    "print(list(models.stt_models.keys()),\n",
    "      list(models.stt_models.en.keys()),\n",
    "      list(models.stt_models.en.latest.keys()),\n",
    "      models.stt_models.en.latest.jit)\n",
    "device = torch.device('cpu')   # you can use any pytorch device\n",
    "model, decoder = init_jit_model(models.stt_models.en.latest.jit, device=device)"
   ]
  },
  {
   "cell_type": "code",
   "execution_count": null,
   "metadata": {
    "ExecuteTime": {
     "end_time": "2020-09-11T14:21:26.056045Z",
     "start_time": "2020-09-11T14:21:26.040771Z"
    },
    "id": "GSUsZ7cqXOiL"
   },
   "outputs": [],
   "source": [
    "device = torch.device('cpu')   # you can use any pytorch device\n",
    "model, decoder = init_jit_model(models.stt_models.en.latest.jit, device=device)"
   ]
  },
  {
   "cell_type": "code",
   "execution_count": null,
   "metadata": {
    "ExecuteTime": {
     "end_time": "2020-09-11T14:25:14.996913Z",
     "start_time": "2020-09-11T14:21:40.831866Z"
    },
    "id": "paW8mugZXOiP"
   },
   "outputs": [],
   "source": [
    "# test_files = glob('path/to/your/file/*.opus')\n",
    "test_files = glob('scottish_english_female/*.wav')  # replace with your data\n",
    "batches = split_into_batches(test_files, batch_size=10)"
   ]
  },
  {
   "cell_type": "code",
   "execution_count": null,
   "metadata": {
    "ExecuteTime": {
     "end_time": "2020-09-11T13:57:09.061692Z",
     "start_time": "2020-09-11T13:57:08.992493Z"
    },
    "id": "JryVNe5hXOiR"
   },
   "outputs": [],
   "source": [
    "# transcribe a set of files\n",
    "input = prepare_model_input(read_batch(random.sample(batches, k=1)[0]),\n",
    "                            device=device)\n",
    "output = model(input)\n",
    "for example in output:\n",
    "    print(decoder(example.cpu()))"
   ]
  },
  {
   "cell_type": "code",
   "execution_count": null,
   "metadata": {
    "ExecuteTime": {
     "end_time": "2020-09-11T14:38:32.972790Z",
     "start_time": "2020-09-11T14:38:31.605231Z"
    },
    "id": "FgvdCQRSXOiY"
   },
   "outputs": [],
   "source": [
    "# listen to one file\n",
    "batch = read_batch(random.sample(batches, k=1)[0])\n",
    "input = prepare_model_input(batch,\n",
    "                            device=device)\n",
    "output = model(input)\n",
    "\n",
    "for i, example in enumerate(output):\n",
    "    print(decoder(example.cpu()))\n",
    "    display(Audio(batch[i], rate=16000))  # audio was resampled to 16kHz\n",
    "    break"
   ]
  },
  {
   "cell_type": "markdown",
   "metadata": {
    "id": "lfa1Za1JUgUw"
   },
   "source": [
    "# ONNX Example"
   ]
  },
  {
   "cell_type": "code",
   "execution_count": null,
   "metadata": {
    "cellView": "both",
    "id": "ku78lggJUm_3"
   },
   "outputs": [],
   "source": [
    "#@title Install and Import Dependencies\n",
    "\n",
    "# this assumes that you have a relevant version of PyTorch installed\n",
    "!pip install -q torchaudio omegaconf soundfile onnx onnxruntime\n",
    "\n",
    "import onnx\n",
    "import torch\n",
    "import onnxruntime\n",
    "from omegaconf import OmegaConf"
   ]
  },
  {
   "cell_type": "markdown",
   "metadata": {
    "id": "i72mHSBbaG3p"
   },
   "source": [
    "## Example Cells"
   ]
  },
  {
   "cell_type": "code",
   "execution_count": null,
   "metadata": {
    "id": "woxfbclsVl87"
   },
   "outputs": [],
   "source": [
    "language = 'en' # also available 'de', 'es'\n",
    "\n",
    "# load provided utils\n",
    "_, decoder, utils = torch.hub.load(github='snakers4/silero-models', model='silero_stt', language=language)\n",
    "(read_batch, split_into_batches,\n",
    " read_audio, prepare_model_input) = utils"
   ]
  },
  {
   "cell_type": "code",
   "execution_count": null,
   "metadata": {
    "id": "O0ZLsWhpZFW6"
   },
   "outputs": [],
   "source": [
    "# see available models\n",
    "torch.hub.download_url_to_file('https://raw.githubusercontent.com/snakers4/silero-models/master/models.yml', 'models.yml')\n",
    "models = OmegaConf.load('models.yml')\n",
    "available_languages = list(models.stt_models.keys())\n",
    "assert language in available_languages"
   ]
  },
  {
   "cell_type": "code",
   "execution_count": null,
   "metadata": {
    "id": "nNbzvjU0ZHDm"
   },
   "outputs": [],
   "source": [
    "# load the actual ONNX model\n",
    "torch.hub.download_url_to_file(models.stt_models.en.latest.onnx, 'model.onnx', progress=True)\n",
    "onnx_model = onnx.load('model.onnx')\n",
    "onnx.checker.check_model(onnx_model)\n",
    "ort_session = onnxruntime.InferenceSession('model.onnx')"
   ]
  },
  {
   "cell_type": "code",
   "execution_count": null,
   "metadata": {
    "id": "h6sEQpptZJbF"
   },
   "outputs": [],
   "source": [
    "# download a single file, any format compatible with TorchAudio (soundfile backend)\n",
    "torch.hub.download_url_to_file('https://opus-codec.org/static/examples/samples/speech_orig.wav', dst ='speech_orig.wav', progress=True)\n",
    "test_files = ['speech_orig.wav']\n",
    "batches = split_into_batches(test_files, batch_size=10)\n",
    "input = prepare_model_input(read_batch(batches[0]))"
   ]
  },
  {
   "cell_type": "code",
   "execution_count": null,
   "metadata": {
    "id": "7dkTVkkoYLCw"
   },
   "outputs": [],
   "source": [
    "# actual onnx inference and decoding\n",
    "onnx_input = input.detach().cpu().numpy()[0]\n",
    "ort_inputs = {'input': onnx_input}\n",
    "ort_outs = ort_session.run(None, ort_inputs)\n",
    "decoded = decoder(torch.Tensor(ort_outs[0]))\n",
    "print(decoded)"
   ]
  },
  {
   "cell_type": "markdown",
   "metadata": {
    "id": "0omBCDk5ZfBd"
   },
   "source": [
    "# TensorFlow Example"
   ]
  },
  {
   "cell_type": "code",
   "execution_count": null,
   "metadata": {
    "cellView": "form",
    "id": "BmoBJY7QnC6P"
   },
   "outputs": [],
   "source": [
    "#@title Install and Import Dependencies\n",
    "\n",
    "# this assumes that you have a relevant version of PyTorch installed\n",
    "!pip install -q torchaudio omegaconf soundfile\n",
    "\n",
    "import os\n",
    "import torch\n",
    "import tensorflow as tf\n",
    "import tensorflow_hub as tf_hub\n",
    "from omegaconf import OmegaConf"
   ]
  },
  {
   "cell_type": "markdown",
   "metadata": {
    "id": "BzTdtvQ-okUC"
   },
   "source": [
    "## Example cells"
   ]
  },
  {
   "cell_type": "code",
   "execution_count": null,
   "metadata": {
    "id": "4eDUg9T5nX-l"
   },
   "outputs": [],
   "source": [
    "language = 'en' # also available 'de', 'es'\n",
    "\n",
    "# load provided utils using torch.hub for brevity\n",
    "_, decoder, utils = torch.hub.load(github='snakers4/silero-models', model='silero_stt', language=language)\n",
    "(read_batch, split_into_batches,\n",
    " read_audio, prepare_model_input) = utils"
   ]
  },
  {
   "cell_type": "code",
   "execution_count": null,
   "metadata": {
    "id": "fGRwpCjfnroh"
   },
   "outputs": [],
   "source": [
    "# see available models\n",
    "torch.hub.download_url_to_file('https://raw.githubusercontent.com/snakers4/silero-models/master/models.yml', 'models.yml')\n",
    "models = OmegaConf.load('models.yml')\n",
    "available_languages = list(models.stt_models.keys())\n",
    "assert language in available_languages\n",
    "\n",
    "# load the actual tf model\n",
    "tf_model = tf_hub.load(models.stt_models.en.latest.tf)"
   ]
  },
  {
   "cell_type": "code",
   "execution_count": null,
   "metadata": {
    "id": "Nw-7LKEEoEIg"
   },
   "outputs": [],
   "source": [
    "# download a single file, any format compatible with TorchAudio (soundfile backend)\n",
    "torch.hub.download_url_to_file('https://opus-codec.org/static/examples/samples/speech_orig.wav', dst ='speech_orig.wav', progress=True)\n",
    "test_files = ['speech_orig.wav']\n",
    "batches = split_into_batches(test_files, batch_size=10)\n",
    "input = prepare_model_input(read_batch(batches[0]))"
   ]
  },
  {
   "cell_type": "code",
   "execution_count": null,
   "metadata": {
    "id": "b1__XOtFno1O"
   },
   "outputs": [],
   "source": [
    "# tf inference\n",
    "res = tf_model.signatures[\"serving_default\"](tf.constant(input.numpy()[0]))['output_0']\n",
    "print(decoder(torch.Tensor(res.numpy())))"
   ]
  }
 ],
 "metadata": {
  "colab": {
   "collapsed_sections": [],
   "name": "colab_examples.ipynb",
   "provenance": [],
   "toc_visible": true
  },
  "kernelspec": {
   "display_name": "LiStra",
   "language": "python",
   "name": "listra"
  },
  "language_info": {
   "codemirror_mode": {
    "name": "ipython",
    "version": 3
   },
   "file_extension": ".py",
   "mimetype": "text/x-python",
   "name": "python",
   "nbconvert_exporter": "python",
   "pygments_lexer": "ipython3",
   "version": "3.6.12"
  },
  "toc": {
   "base_numbering": 1,
   "nav_menu": {},
   "number_sections": true,
   "sideBar": true,
   "skip_h1_title": false,
   "title_cell": "Table of Contents",
   "title_sidebar": "Contents",
   "toc_cell": false,
   "toc_position": {},
   "toc_section_display": true,
   "toc_window_display": false
  }
 },
 "nbformat": 4,
 "nbformat_minor": 4
}
