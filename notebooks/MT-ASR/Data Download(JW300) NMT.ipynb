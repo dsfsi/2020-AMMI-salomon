{
 "cells": [
  {
   "cell_type": "markdown",
   "metadata": {},
   "source": [
    "# Neural Machine Translation"
   ]
  },
  {
   "cell_type": "markdown",
   "metadata": {},
   "source": [
    "<sup> with inputs from https://pytorch.org/tutorials/intermediate/seq2seq_translation_tutorial.html </sup>\n",
    "\n",
    "General Reference: https://github.com/nyu-dl/NLP_DL_Lecture_Note/blob/master/lecture_note.pdf"
   ]
  },
  {
   "cell_type": "markdown",
   "metadata": {},
   "source": [
    "### Install Google Translate API for Comparision"
   ]
  },
  {
   "cell_type": "markdown",
   "metadata": {},
   "source": [
    "https://github.com/ssut/py-googletrans"
   ]
  },
  {
   "cell_type": "code",
   "execution_count": 1,
   "metadata": {},
   "outputs": [
    {
     "data": {
      "text/plain": [
       "\u001b[0;31mDocstring:\u001b[0m\n",
       "getattr(object, name[, default]) -> value\n",
       "\n",
       "Get a named attribute from an object; getattr(x, 'y') is equivalent to x.y.\n",
       "When a default argument is given, it is returned when the attribute doesn't\n",
       "exist; without it, an exception is raised in that case.\n",
       "\u001b[0;31mType:\u001b[0m      builtin_function_or_method\n"
      ]
     },
     "metadata": {},
     "output_type": "display_data"
    }
   ],
   "source": [
    "getattr?"
   ]
  },
  {
   "cell_type": "code",
   "execution_count": 2,
   "metadata": {},
   "outputs": [
    {
     "name": "stdout",
     "output_type": "stream",
     "text": [
      "1183-124566-0005.wav\t\tlabel_train.json\n",
      "1688-142285-0000.wav\t\tmain.ipynb\n",
      "49 Blue-model.pt\t\tmodel\n",
      "AMMI_SR_lab1+2+3.ipynb\t\tmodels.yml\n",
      "ASR-SILERO.ipynb\t\tMT .ipynb\n",
      "ASR-Working-Copy1.ipynb\t\tMT-model.pt\n",
      "ASR-Working.ipynb\t\tnew\n",
      "assets\t\t\t\tNMT-ASR Transformers.ipynb\n",
      "[Cascade] NMT-ASR.ipynb\t\tNMT Transformer version_1.ipynb\n",
      "data\t\t\t\tNMT Transformer version_2.ipynb\n",
      "Data Download(JW300) NMT.ipynb\tothers\n",
      "DataGenerator[Cascade].ipynb\tpyfiles\n",
      "en2fr\t\t\t\traw.githubusercontent.com\n",
      "en2ln\t\t\t\ttensorflow\n",
      "end2end-asr\t\t\ttest.wav\n",
      "images\t\t\t\ttrain.en\n",
      "iwslt.pt\t\t\ttrain.ln\n",
      "jw300.en\t\t\ttut5-model.pt\n",
      "jw300.ln\t\t\tWebscraping\n"
     ]
    }
   ],
   "source": [
    "!ls"
   ]
  },
  {
   "cell_type": "code",
   "execution_count": 3,
   "metadata": {},
   "outputs": [],
   "source": [
    "# ! pip install googletrans"
   ]
  },
  {
   "cell_type": "code",
   "execution_count": 4,
   "metadata": {},
   "outputs": [],
   "source": [
    "from googletrans import Translator\n",
    "translator = Translator()"
   ]
  },
  {
   "cell_type": "code",
   "execution_count": 5,
   "metadata": {},
   "outputs": [],
   "source": [
    "path_to_utils = 'pyfiles'"
   ]
  },
  {
   "cell_type": "code",
   "execution_count": 6,
   "metadata": {},
   "outputs": [],
   "source": [
    "import os\n",
    "import sys\n",
    "sys.path.append(path_to_utils)"
   ]
  },
  {
   "cell_type": "code",
   "execution_count": 7,
   "metadata": {},
   "outputs": [],
   "source": [
    "import global_variables\n",
    "import nmt_dataset\n",
    "import nnet_models_new"
   ]
  },
  {
   "cell_type": "code",
   "execution_count": 8,
   "metadata": {},
   "outputs": [],
   "source": [
    "import torch\n",
    "import torch.nn as nn\n",
    "from torch import optim\n",
    "import torch.nn.functional as F\n",
    "from torch.utils.data import DataLoader\n",
    "from torch.optim.lr_scheduler import ReduceLROnPlateau\n",
    "\n",
    "from functools import partial\n",
    "import time\n",
    "# from tqdm import tqdm_notebook as tqdm\n",
    "import tqdm"
   ]
  },
  {
   "cell_type": "code",
   "execution_count": 9,
   "metadata": {},
   "outputs": [],
   "source": [
    "base_saved_models_dir = '.'"
   ]
  },
  {
   "cell_type": "markdown",
   "metadata": {},
   "source": [
    "### The Dataset"
   ]
  },
  {
   "cell_type": "markdown",
   "metadata": {},
   "source": [
    "We will work with a English to French Dataset from https://www.manythings.org/anki/"
   ]
  },
  {
   "cell_type": "markdown",
   "metadata": {},
   "source": [
    "### Setting Up the data"
   ]
  },
  {
   "cell_type": "code",
   "execution_count": 10,
   "metadata": {},
   "outputs": [],
   "source": [
    "import os\n",
    "source_language = \"en\"\n",
    "target_language = \"ln\" # ln is the language code of lingala \n",
    "lc = False  # If True, lowercase the data.\n",
    "seed = 42  # Random seed for shuffling.\n",
    "tag = \"baseline\" # Give a unique name to your folder - this is to ensure you don't rewrite any models you've already submitted\n",
    "\n",
    "os.environ[\"src\"] = source_language # Sets them in bash as well, since we often use bash scripts\n",
    "os.environ[\"tgt\"] = target_language\n",
    "os.environ[\"tag\"] = tag\n",
    "\n",
    "# No need to use gdrive since am using a gpu\n",
    "# !mkdir -p \"data/$src-$tgt\"\n",
    "os.environ[\"gdrive_path\"] = \"%s-%s\" % (source_language, target_language) # saving directly on the vm"
   ]
  },
  {
   "cell_type": "code",
   "execution_count": 11,
   "metadata": {},
   "outputs": [
    {
     "name": "stdout",
     "output_type": "stream",
     "text": [
      "en-ln\n"
     ]
    }
   ],
   "source": [
    "!echo $gdrive_path"
   ]
  },
  {
   "cell_type": "code",
   "execution_count": 12,
   "metadata": {
    "colab": {
     "base_uri": "https://localhost:8080/",
     "height": 100
    },
    "colab_type": "code",
    "id": "gA75Fs9ys8Y9",
    "outputId": "f4c18fa7-9452-4fd1-b32c-edd84645ee00"
   },
   "outputs": [],
   "source": [
    "# Install opus-tools\n",
    "# ! pip install opustools-pkg"
   ]
  },
  {
   "cell_type": "code",
   "execution_count": 15,
   "metadata": {
    "colab": {
     "base_uri": "https://localhost:8080/",
     "height": 200
    },
    "colab_type": "code",
    "id": "xq-tDZVks7ZD",
    "outputId": "b2838aa0-05c3-40d5-c26d-190f9366ff43"
   },
   "outputs": [
    {
     "name": "stdout",
     "output_type": "stream",
     "text": [
      "\n",
      "Alignment file /proj/nlpl/data/OPUS/JW300/latest/xml/en-ln.xml.gz not found. The following files are available for downloading:\n",
      "\n",
      "   5 MB https://object.pouta.csc.fi/OPUS-JW300/v1/xml/en-ln.xml.gz\n",
      " 263 MB https://object.pouta.csc.fi/OPUS-JW300/v1/xml/en.zip\n",
      "  60 MB https://object.pouta.csc.fi/OPUS-JW300/v1/xml/ln.zip\n",
      "\n",
      " 328 MB Total size\n",
      "./data/JW300_latest_xml_en-ln.xml.gz ... 100% of 5 MB\n",
      "./data/JW300_latest_xml_en.zip ... 100% of 263 MB\n",
      "./data/JW300_latest_xml_ln.zip ... 100% of 60 MB\n",
      "gzip: JW300_latest_xml_en-ln.xml.gz: No such file or directory\n"
     ]
    }
   ],
   "source": [
    "# Downloading our corpus\n",
    "# ! opus_read -d JW300 -s $src -t $tgt -wm moses -w train.$src train.$tgt -q\n",
    "\n",
    "! opus_read -d JW300 -s $src -t $tgt -wm moses -w train.$src train.$tgt -q -dl ./data/\n",
    "\n",
    "# TODO need to make this download directly in the /data folder \n",
    "# extract the corpus file\n",
    "! gunzip JW300_latest_xml_$src-$tgt.xml.gz"
   ]
  },
  {
   "cell_type": "code",
   "execution_count": 14,
   "metadata": {},
   "outputs": [],
   "source": [
    "# # Downloading our corpus\n",
    "# ! opus_read -d JW300 -s $src -t $tgt -wm moses -w jw300.$src jw300.$tgt -q\n",
    "\n",
    "# # extract the corpus file\n",
    "# ! gunzip JW300_latest_xml_$src-$tgt.xml.gz"
   ]
  },
  {
   "cell_type": "code",
   "execution_count": 20,
   "metadata": {
    "colab": {
     "base_uri": "https://localhost:8080/",
     "height": 566
    },
    "colab_type": "code",
    "id": "n48GDRnP8y2G",
    "outputId": "b7bdafa9-2756-4df4-ad09-bf371126b9af"
   },
   "outputs": [
    {
     "name": "stdout",
     "output_type": "stream",
     "text": [
      "--2020-11-27 22:08:03--  https://raw.githubusercontent.com/juliakreutzer/masakhane/master/jw300_utils/test/test.en-any.en\n",
      "Resolving raw.githubusercontent.com (raw.githubusercontent.com)... 151.101.0.133, 151.101.64.133, 151.101.128.133, ...\n",
      "Connecting to raw.githubusercontent.com (raw.githubusercontent.com)|151.101.0.133|:443... connected.\n",
      "HTTP request sent, awaiting response... 200 OK\n",
      "Length: 277791 (271K) [text/plain]\n",
      "Saving to: ‘test.en-any.en’\n",
      "\n",
      "test.en-any.en      100%[===================>] 271.28K  --.-KB/s    in 0.02s   \n",
      "\n",
      "2020-11-27 22:08:04 (15.8 MB/s) - ‘test.en-any.en’ saved [277791/277791]\n",
      "\n",
      "--2020-11-27 22:08:04--  https://raw.githubusercontent.com/juliakreutzer/masakhane/master/jw300_utils/test/test.en-ln.en\n",
      "Resolving raw.githubusercontent.com (raw.githubusercontent.com)... 151.101.0.133, 151.101.64.133, 151.101.128.133, ...\n",
      "Connecting to raw.githubusercontent.com (raw.githubusercontent.com)|151.101.0.133|:443... connected.\n",
      "HTTP request sent, awaiting response... 200 OK\n",
      "Length: 205304 (200K) [text/plain]\n",
      "Saving to: ‘test.en-ln.en’\n",
      "\n",
      "test.en-ln.en       100%[===================>] 200.49K  --.-KB/s    in 0.01s   \n",
      "\n",
      "2020-11-27 22:08:04 (13.2 MB/s) - ‘test.en-ln.en’ saved [205304/205304]\n",
      "\n",
      "--2020-11-27 22:08:04--  https://raw.githubusercontent.com/juliakreutzer/masakhane/master/jw300_utils/test/test.en-ln.ln\n",
      "Resolving raw.githubusercontent.com (raw.githubusercontent.com)... 151.101.0.133, 151.101.64.133, 151.101.128.133, ...\n",
      "Connecting to raw.githubusercontent.com (raw.githubusercontent.com)|151.101.0.133|:443... connected.\n",
      "HTTP request sent, awaiting response... 200 OK\n",
      "Length: 231696 (226K) [text/plain]\n",
      "Saving to: ‘test.en-ln.ln’\n",
      "\n",
      "test.en-ln.ln       100%[===================>] 226.27K  --.-KB/s    in 0.02s   \n",
      "\n",
      "2020-11-27 22:08:04 (13.2 MB/s) - ‘test.en-ln.ln’ saved [231696/231696]\n",
      "\n"
     ]
    }
   ],
   "source": [
    "# Download the global test set.\n",
    "! wget https://raw.githubusercontent.com/juliakreutzer/masakhane/master/jw300_utils/test/test.en-any.en\n",
    "  \n",
    "# And the specific test set for this language pair.\n",
    "os.environ[\"trg\"] = target_language \n",
    "os.environ[\"src\"] = source_language \n",
    "\n",
    "! wget https://raw.githubusercontent.com/juliakreutzer/masakhane/master/jw300_utils/test/test.en-$trg.en \n",
    "! mv test.en-$trg.en data/test.en\n",
    "! wget https://raw.githubusercontent.com/juliakreutzer/masakhane/master/jw300_utils/test/test.en-$trg.$trg \n",
    "! mv test.en-$trg.$trg data/test.$trg"
   ]
  },
  {
   "cell_type": "code",
   "execution_count": 21,
   "metadata": {},
   "outputs": [],
   "source": [
    "main_data_path = './data/'"
   ]
  },
  {
   "cell_type": "code",
   "execution_count": 22,
   "metadata": {},
   "outputs": [],
   "source": [
    "source_name = 'en'\n",
    "target_name = 'ln'\n",
    "\n",
    "path_to_train_data = {'source':main_data_path+'train.'+source_name, \n",
    "                      'target':main_data_path+'train.'+target_name}\n",
    "path_to_val_data = {'source': main_data_path+'valid.'+source_name, \n",
    "                      'target':main_data_path+'valid.'+target_name}"
   ]
  },
  {
   "cell_type": "code",
   "execution_count": 25,
   "metadata": {},
   "outputs": [],
   "source": [
    "saved_models_dir = os.path.join(base_saved_models_dir, source_name+'2'+target_name)"
   ]
  },
  {
   "cell_type": "code",
   "execution_count": 26,
   "metadata": {},
   "outputs": [
    {
     "name": "stdout",
     "output_type": "stream",
     "text": [
      "Who Wants to Be a Millionaire ?\n",
      "THE answer seems to be : almost everybody .\n",
      "And the easiest way to become one ​ — according to popular opinion — ​ is by striking it rich in a lottery or a soccer pool . *\n",
      "Pandering to prevailing taste ​ — and wanting the extra income that lotteries generate — ​ governments from Moscow to Madrid , from Manila to Mexico City , sponsor State lotteries that offer prizes as high as a hundred million dollars .\n",
      "A few people do become millionaires .\n"
     ]
    }
   ],
   "source": [
    "## See first 5 records\n",
    "! head -5 'data/train.'$source_name"
   ]
  },
  {
   "cell_type": "code",
   "execution_count": 27,
   "metadata": {},
   "outputs": [
    {
     "name": "stdout",
     "output_type": "stream",
     "text": [
      "Nani alingi kozala milionere ?\n",
      "EYANO emonani lokola ete , wana ezali mposa ya moto na moto to pene na bato nyonso .\n",
      "Nzokande , na makanisi ya bato , nzela ya pɛtɛɛ mpo na kozwa yango ezali kolónga na loterie to na momekano ya kosakola liboso équipe ya ndembo oyo ekolónga .\n",
      "Kolamusáká mposa ya bato mingi ​ — mpe koluláká kozwa misolo oyo Leta akozwa likoló ​ — kolongwa Moscou kino Madrid , kolongwa Manille kino Mexico , baguvernema bazali kopesa lisungi na loterie esalemi na Leta , kati na yango balóngi bakoki kozwa nkámá mingi ya bamilió ya badolare .\n",
      "Mwa babɛti na yango bazali mpenza kokóma bamilionere .\n"
     ]
    }
   ],
   "source": [
    "! head -5 'data/train.'$target_name"
   ]
  },
  {
   "cell_type": "markdown",
   "metadata": {},
   "source": [
    "### Processing and making PyTorch Dataset"
   ]
  },
  {
   "cell_type": "markdown",
   "metadata": {},
   "source": [
    "We have to make it a pair - (source, target) sentence pair. For this, we have to read the file and parse it accordingly. We might have to take care of some details there, like making sure that we strip off any non-required special characters or extra space. All those boring details aside (which you can see in dataset_helper.py) what are the other things we have to do?\n",
    "\n",
    "We have to make a vocabulary and tokenize like we have been doing. Here, we are writing a Language Class, to take care of this for you. Once we have done all this and tokenized, we write a pytorch dataset object to help as handle this efficiently during training"
   ]
  },
  {
   "cell_type": "code",
   "execution_count": 16,
   "metadata": {},
   "outputs": [],
   "source": [
    "saved_language_model_dir = os.path.join(saved_models_dir, 'lang_obj')"
   ]
  },
  {
   "cell_type": "code",
   "execution_count": 17,
   "metadata": {},
   "outputs": [],
   "source": [
    "dataset_dict = {'train': nmt_dataset.LanguagePair(source_name = source_name, target_name=target_name, \n",
    "                    filepath = path_to_train_data, \n",
    "                    lang_obj_path = saved_language_model_dir,\n",
    "                     minimum_count = 1), \n",
    "\n",
    "                'val': nmt_dataset.LanguagePair(source_name = source_name, target_name=target_name, \n",
    "                    filepath = path_to_val_data, \n",
    "                    lang_obj_path = saved_language_model_dir,\n",
    "                    minimum_count = 1)}"
   ]
  },
  {
   "cell_type": "markdown",
   "metadata": {},
   "source": [
    "The LanguagePair object we built has a DataFrame underneath. We see the first 5 rows of the dataframe below:"
   ]
  },
  {
   "cell_type": "code",
   "execution_count": 18,
   "metadata": {},
   "outputs": [
    {
     "data": {
      "text/html": [
       "<div>\n",
       "<style scoped>\n",
       "    .dataframe tbody tr th:only-of-type {\n",
       "        vertical-align: middle;\n",
       "    }\n",
       "\n",
       "    .dataframe tbody tr th {\n",
       "        vertical-align: top;\n",
       "    }\n",
       "\n",
       "    .dataframe thead th {\n",
       "        text-align: right;\n",
       "    }\n",
       "</style>\n",
       "<table border=\"1\" class=\"dataframe\">\n",
       "  <thead>\n",
       "    <tr style=\"text-align: right;\">\n",
       "      <th></th>\n",
       "      <th>source_data</th>\n",
       "      <th>target_data</th>\n",
       "      <th>source_tokenized</th>\n",
       "      <th>source_len</th>\n",
       "      <th>target_tokenized</th>\n",
       "      <th>target_len</th>\n",
       "      <th>source_indized</th>\n",
       "      <th>target_indized</th>\n",
       "    </tr>\n",
       "  </thead>\n",
       "  <tbody>\n",
       "    <tr>\n",
       "      <th>0</th>\n",
       "      <td>Who Wants to Be a Millionaire ?</td>\n",
       "      <td>Nani alingi kozala milionere ?</td>\n",
       "      <td>[who, wants, to, be, a, millionaire, ?]</td>\n",
       "      <td>8</td>\n",
       "      <td>[nani, alingi, kozala, milionere, ?]</td>\n",
       "      <td>6</td>\n",
       "      <td>[1, 1, 22, 69, 102, 1, 1, 3]</td>\n",
       "      <td>[1, 1, 116, 1, 1, 3]</td>\n",
       "    </tr>\n",
       "    <tr>\n",
       "      <th>1</th>\n",
       "      <td>THE answer seems to be : almost everybody .</td>\n",
       "      <td>EYANO emonani lokola ete , wana ezali mposa ya...</td>\n",
       "      <td>[the, answer, seems, to, be, :, almost, everyb...</td>\n",
       "      <td>10</td>\n",
       "      <td>[eyano, emonani, lokola, ete, ,, wana, ezali, ...</td>\n",
       "      <td>19</td>\n",
       "      <td>[6, 1, 1, 22, 69, 1, 1, 1, 1, 3]</td>\n",
       "      <td>[1, 1, 1, 106, 1, 1, 1, 1, 5, 1, 14, 1, 1, 1, ...</td>\n",
       "    </tr>\n",
       "    <tr>\n",
       "      <th>2</th>\n",
       "      <td>And the easiest way to become one ​ — accordin...</td>\n",
       "      <td>Nzokande , na makanisi ya bato , nzela ya pɛtɛ...</td>\n",
       "      <td>[and, the, easiest, way, to, become, one, ​, —...</td>\n",
       "      <td>30</td>\n",
       "      <td>[nzokande, ,, na, makanisi, ya, bato, ,, nzela...</td>\n",
       "      <td>31</td>\n",
       "      <td>[53, 6, 1, 1, 22, 1, 12, 1, 1, 1, 22, 1, 1, 1,...</td>\n",
       "      <td>[1, 1, 14, 1, 5, 1, 1, 1, 5, 1, 75, 14, 1, 32,...</td>\n",
       "    </tr>\n",
       "    <tr>\n",
       "      <th>3</th>\n",
       "      <td>Pandering to prevailing taste ​ — and wanting ...</td>\n",
       "      <td>Kolamusáká mposa ya bato mingi ​ — mpe kolulák...</td>\n",
       "      <td>[pandering, to, prevailing, taste, ​, —, and, ...</td>\n",
       "      <td>43</td>\n",
       "      <td>[kolamusáká, mposa, ya, bato, mingi, ​, —, mpe...</td>\n",
       "      <td>51</td>\n",
       "      <td>[1, 22, 1, 1, 1, 1, 53, 1, 6, 1, 1, 1, 1, 1, 1...</td>\n",
       "      <td>[1, 1, 5, 1, 1, 1, 1, 31, 1, 1, 1, 12, 1, 1, 1...</td>\n",
       "    </tr>\n",
       "    <tr>\n",
       "      <th>4</th>\n",
       "      <td>A few people do become millionaires .</td>\n",
       "      <td>Mwa babɛti na yango bazali mpenza kokóma bamil...</td>\n",
       "      <td>[a, few, people, do, become, millionaires, .]</td>\n",
       "      <td>8</td>\n",
       "      <td>[mwa, babɛti, na, yango, bazali, mpenza, kokóm...</td>\n",
       "      <td>10</td>\n",
       "      <td>[102, 1, 1, 82, 1, 1, 1, 3]</td>\n",
       "      <td>[1, 1, 14, 32, 1, 1, 1, 1, 1, 3]</td>\n",
       "    </tr>\n",
       "  </tbody>\n",
       "</table>\n",
       "</div>"
      ],
      "text/plain": [
       "                                         source_data  \\\n",
       "0                    Who Wants to Be a Millionaire ?   \n",
       "1        THE answer seems to be : almost everybody .   \n",
       "2  And the easiest way to become one ​ — accordin...   \n",
       "3  Pandering to prevailing taste ​ — and wanting ...   \n",
       "4              A few people do become millionaires .   \n",
       "\n",
       "                                         target_data  \\\n",
       "0                     Nani alingi kozala milionere ?   \n",
       "1  EYANO emonani lokola ete , wana ezali mposa ya...   \n",
       "2  Nzokande , na makanisi ya bato , nzela ya pɛtɛ...   \n",
       "3  Kolamusáká mposa ya bato mingi ​ — mpe kolulák...   \n",
       "4  Mwa babɛti na yango bazali mpenza kokóma bamil...   \n",
       "\n",
       "                                    source_tokenized  source_len  \\\n",
       "0            [who, wants, to, be, a, millionaire, ?]           8   \n",
       "1  [the, answer, seems, to, be, :, almost, everyb...          10   \n",
       "2  [and, the, easiest, way, to, become, one, ​, —...          30   \n",
       "3  [pandering, to, prevailing, taste, ​, —, and, ...          43   \n",
       "4      [a, few, people, do, become, millionaires, .]           8   \n",
       "\n",
       "                                    target_tokenized  target_len  \\\n",
       "0               [nani, alingi, kozala, milionere, ?]           6   \n",
       "1  [eyano, emonani, lokola, ete, ,, wana, ezali, ...          19   \n",
       "2  [nzokande, ,, na, makanisi, ya, bato, ,, nzela...          31   \n",
       "3  [kolamusáká, mposa, ya, bato, mingi, ​, —, mpe...          51   \n",
       "4  [mwa, babɛti, na, yango, bazali, mpenza, kokóm...          10   \n",
       "\n",
       "                                      source_indized  \\\n",
       "0                       [1, 1, 22, 69, 102, 1, 1, 3]   \n",
       "1                   [6, 1, 1, 22, 69, 1, 1, 1, 1, 3]   \n",
       "2  [53, 6, 1, 1, 22, 1, 12, 1, 1, 1, 22, 1, 1, 1,...   \n",
       "3  [1, 22, 1, 1, 1, 1, 53, 1, 6, 1, 1, 1, 1, 1, 1...   \n",
       "4                        [102, 1, 1, 82, 1, 1, 1, 3]   \n",
       "\n",
       "                                      target_indized  \n",
       "0                               [1, 1, 116, 1, 1, 3]  \n",
       "1  [1, 1, 1, 106, 1, 1, 1, 1, 5, 1, 14, 1, 1, 1, ...  \n",
       "2  [1, 1, 14, 1, 5, 1, 1, 1, 5, 1, 75, 14, 1, 32,...  \n",
       "3  [1, 1, 5, 1, 1, 1, 1, 31, 1, 1, 1, 12, 1, 1, 1...  \n",
       "4                   [1, 1, 14, 32, 1, 1, 1, 1, 1, 3]  "
      ]
     },
     "execution_count": 18,
     "metadata": {},
     "output_type": "execute_result"
    }
   ],
   "source": [
    "dataset_dict['train'].main_df.iloc[:5]"
   ]
  },
  {
   "cell_type": "code",
   "execution_count": 20,
   "metadata": {},
   "outputs": [
    {
     "data": {
      "text/html": [
       "<div>\n",
       "<style scoped>\n",
       "    .dataframe tbody tr th:only-of-type {\n",
       "        vertical-align: middle;\n",
       "    }\n",
       "\n",
       "    .dataframe tbody tr th {\n",
       "        vertical-align: top;\n",
       "    }\n",
       "\n",
       "    .dataframe thead th {\n",
       "        text-align: right;\n",
       "    }\n",
       "</style>\n",
       "<table border=\"1\" class=\"dataframe\">\n",
       "  <thead>\n",
       "    <tr style=\"text-align: right;\">\n",
       "      <th></th>\n",
       "      <th>source_data</th>\n",
       "      <th>target_data</th>\n",
       "      <th>source_tokenized</th>\n",
       "      <th>source_len</th>\n",
       "      <th>target_tokenized</th>\n",
       "      <th>target_len</th>\n",
       "      <th>source_indized</th>\n",
       "      <th>target_indized</th>\n",
       "    </tr>\n",
       "  </thead>\n",
       "  <tbody>\n",
       "    <tr>\n",
       "      <th>601109</th>\n",
       "      <td>Rather , because of our faith in God , we have...</td>\n",
       "      <td>Kasi , lokola tondimelaka Nzambe , tosepelaka ...</td>\n",
       "      <td>[rather, ,, because, of, our, faith, in, god, ...</td>\n",
       "      <td>23</td>\n",
       "      <td>[kasi, ,, lokola, tondimelaka, nzambe, ,, tose...</td>\n",
       "      <td>20</td>\n",
       "      <td>[1, 1, 1, 8, 1, 1, 14, 1, 1, 1, 60, 1, 1, 1, 3...</td>\n",
       "      <td>[65, 1, 1, 1, 1, 1, 1, 1, 14, 1, 14, 1, 14, 35...</td>\n",
       "    </tr>\n",
       "    <tr>\n",
       "      <th>601110</th>\n",
       "      <td>Thousands of people around the world have also...</td>\n",
       "      <td>Ebele ya bato na mokili mobimba babandá mpe ko...</td>\n",
       "      <td>[thousands, of, people, around, the, world, ha...</td>\n",
       "      <td>25</td>\n",
       "      <td>[ebele, ya, bato, na, mokili, mobimba, babandá...</td>\n",
       "      <td>23</td>\n",
       "      <td>[1, 8, 1, 1, 6, 1, 60, 34, 1, 22, 1, 6, 1, 53,...</td>\n",
       "      <td>[1, 5, 1, 14, 16, 1, 1, 31, 1, 1, 31, 1, 1, 12...</td>\n",
       "    </tr>\n",
       "    <tr>\n",
       "      <th>601111</th>\n",
       "      <td>This has motivated many of them to change thei...</td>\n",
       "      <td>Yango esalisaki mingi na bango bábongola bomoi...</td>\n",
       "      <td>[this, has, motivated, many, of, them, to, cha...</td>\n",
       "      <td>23</td>\n",
       "      <td>[yango, esalisaki, mingi, na, bango, bábongola...</td>\n",
       "      <td>18</td>\n",
       "      <td>[67, 1, 1, 1, 8, 1, 22, 1, 1, 1, 8, 1, 1, 22, ...</td>\n",
       "      <td>[32, 1, 1, 14, 96, 1, 1, 14, 96, 1, 1, 1, 1, 3...</td>\n",
       "    </tr>\n",
       "    <tr>\n",
       "      <th>601112</th>\n",
       "      <td>The way they are being affected is clear proof...</td>\n",
       "      <td>Ndenge oyo bazali kobongwana emonisi polele et...</td>\n",
       "      <td>[the, way, they, are, being, affected, is, cle...</td>\n",
       "      <td>23</td>\n",
       "      <td>[ndenge, oyo, bazali, kobongwana, emonisi, pol...</td>\n",
       "      <td>21</td>\n",
       "      <td>[6, 1, 1, 5, 1, 1, 110, 1, 1, 1, 1, 6, 19, 8, ...</td>\n",
       "      <td>[1, 12, 1, 1, 1, 1, 106, 1, 18, 5, 1, 1, 14, 1...</td>\n",
       "    </tr>\n",
       "    <tr>\n",
       "      <th>601113</th>\n",
       "      <td>What God has revealed in the Bible about his p...</td>\n",
       "      <td>Makambo oyo Nzambe amonisá na Biblia mpo na mo...</td>\n",
       "      <td>[what, god, has, revealed, in, the, bible, abo...</td>\n",
       "      <td>28</td>\n",
       "      <td>[makambo, oyo, nzambe, amonisá, na, biblia, mp...</td>\n",
       "      <td>29</td>\n",
       "      <td>[1, 1, 1, 1, 14, 6, 1, 1, 31, 1, 1, 1, 1, 1, 1...</td>\n",
       "      <td>[1, 12, 1, 1, 14, 1, 75, 14, 1, 14, 35, 1, 1, ...</td>\n",
       "    </tr>\n",
       "  </tbody>\n",
       "</table>\n",
       "</div>"
      ],
      "text/plain": [
       "                                              source_data  \\\n",
       "601109  Rather , because of our faith in God , we have...   \n",
       "601110  Thousands of people around the world have also...   \n",
       "601111  This has motivated many of them to change thei...   \n",
       "601112  The way they are being affected is clear proof...   \n",
       "601113  What God has revealed in the Bible about his p...   \n",
       "\n",
       "                                              target_data  \\\n",
       "601109  Kasi , lokola tondimelaka Nzambe , tosepelaka ...   \n",
       "601110  Ebele ya bato na mokili mobimba babandá mpe ko...   \n",
       "601111  Yango esalisaki mingi na bango bábongola bomoi...   \n",
       "601112  Ndenge oyo bazali kobongwana emonisi polele et...   \n",
       "601113  Makambo oyo Nzambe amonisá na Biblia mpo na mo...   \n",
       "\n",
       "                                         source_tokenized  source_len  \\\n",
       "601109  [rather, ,, because, of, our, faith, in, god, ...          23   \n",
       "601110  [thousands, of, people, around, the, world, ha...          25   \n",
       "601111  [this, has, motivated, many, of, them, to, cha...          23   \n",
       "601112  [the, way, they, are, being, affected, is, cle...          23   \n",
       "601113  [what, god, has, revealed, in, the, bible, abo...          28   \n",
       "\n",
       "                                         target_tokenized  target_len  \\\n",
       "601109  [kasi, ,, lokola, tondimelaka, nzambe, ,, tose...          20   \n",
       "601110  [ebele, ya, bato, na, mokili, mobimba, babandá...          23   \n",
       "601111  [yango, esalisaki, mingi, na, bango, bábongola...          18   \n",
       "601112  [ndenge, oyo, bazali, kobongwana, emonisi, pol...          21   \n",
       "601113  [makambo, oyo, nzambe, amonisá, na, biblia, mp...          29   \n",
       "\n",
       "                                           source_indized  \\\n",
       "601109  [1, 1, 1, 8, 1, 1, 14, 1, 1, 1, 60, 1, 1, 1, 3...   \n",
       "601110  [1, 8, 1, 1, 6, 1, 60, 34, 1, 22, 1, 6, 1, 53,...   \n",
       "601111  [67, 1, 1, 1, 8, 1, 22, 1, 1, 1, 8, 1, 1, 22, ...   \n",
       "601112  [6, 1, 1, 5, 1, 1, 110, 1, 1, 1, 1, 6, 19, 8, ...   \n",
       "601113  [1, 1, 1, 1, 14, 6, 1, 1, 31, 1, 1, 1, 1, 1, 1...   \n",
       "\n",
       "                                           target_indized  \n",
       "601109  [65, 1, 1, 1, 1, 1, 1, 1, 14, 1, 14, 1, 14, 35...  \n",
       "601110  [1, 5, 1, 14, 16, 1, 1, 31, 1, 1, 31, 1, 1, 12...  \n",
       "601111  [32, 1, 1, 14, 96, 1, 1, 14, 96, 1, 1, 1, 1, 3...  \n",
       "601112  [1, 12, 1, 1, 1, 1, 106, 1, 18, 5, 1, 1, 14, 1...  \n",
       "601113  [1, 12, 1, 1, 14, 1, 75, 14, 1, 14, 35, 1, 1, ...  "
      ]
     },
     "execution_count": 20,
     "metadata": {},
     "output_type": "execute_result"
    }
   ],
   "source": [
    "dataset_dict['train'].main_df.tail()"
   ]
  },
  {
   "cell_type": "markdown",
   "metadata": {},
   "source": [
    "### vocabulary sizes and sentence lengths"
   ]
  },
  {
   "cell_type": "code",
   "execution_count": 19,
   "metadata": {},
   "outputs": [
    {
     "name": "stdout",
     "output_type": "stream",
     "text": [
      "source vocab:  115 target vocab:  126\n"
     ]
    }
   ],
   "source": [
    "### vocabulary sizes\n",
    "print('source vocab: ', dataset_dict['train'].source_lang_obj.n_words , \n",
    "      'target vocab: ', dataset_dict['train'].target_lang_obj.n_words)"
   ]
  },
  {
   "cell_type": "code",
   "execution_count": 23,
   "metadata": {},
   "outputs": [
    {
     "name": "stdout",
     "output_type": "stream",
     "text": [
      "source vocab:  60342 target vocab:  67974\n"
     ]
    }
   ],
   "source": [
    "### vocabulary sizes\n",
    "print('source vocab: ', dataset_dict['train'].source_lang_obj.n_words , \n",
    "      'target vocab: ', dataset_dict['train'].target_lang_obj.n_words)"
   ]
  },
  {
   "cell_type": "code",
   "execution_count": 24,
   "metadata": {},
   "outputs": [
    {
     "name": "stdout",
     "output_type": "stream",
     "text": [
      "max len:  3780 min len:  2\n"
     ]
    }
   ],
   "source": [
    "### vocabulary sizes\n",
    "print('max len: ', dataset_dict['train'].main_df['source_len'].max(), \n",
    "      'min len: ', dataset_dict['train'].main_df['source_len'].min() )"
   ]
  },
  {
   "cell_type": "code",
   "execution_count": 25,
   "metadata": {},
   "outputs": [
    {
     "data": {
      "text/plain": [
       "0.5000     17.0\n",
       "0.7500     25.0\n",
       "0.9000     33.0\n",
       "0.9500     39.0\n",
       "0.9900     54.0\n",
       "0.9990     77.0\n",
       "0.9999    111.0\n",
       "Name: source_len, dtype: float64"
      ]
     },
     "execution_count": 25,
     "metadata": {},
     "output_type": "execute_result"
    }
   ],
   "source": [
    "dataset_dict['train'].main_df['source_len'].quantile([0.5, 0.75, 0.9, 0.95, 0.99, 0.999, 0.9999])"
   ]
  },
  {
   "cell_type": "markdown",
   "metadata": {},
   "source": [
    "51 looks like a very long sentence and at the $99.99$th percentile is 32. We probably don't want that much. How do we get rid of rest of the words or clip sentence at some MAX LEN? We can use the collate function of pytorch that we had seen earlier to do this. "
   ]
  },
  {
   "cell_type": "code",
   "execution_count": 26,
   "metadata": {},
   "outputs": [],
   "source": [
    "MAX_LEN = int(dataset_dict['train'].main_df['source_len'].quantile(0.9999))\n",
    "batchSize = 64"
   ]
  },
  {
   "cell_type": "code",
   "execution_count": 27,
   "metadata": {},
   "outputs": [],
   "source": [
    "dataloader_dict = {'train': DataLoader(dataset_dict['train'], batch_size = batchSize, \n",
    "                            collate_fn = partial(nmt_dataset.vocab_collate_func, MAX_LEN=MAX_LEN),\n",
    "                            shuffle = True, num_workers=0), \n",
    "                    'val': DataLoader(dataset_dict['val'], batch_size = batchSize, \n",
    "                            collate_fn = partial(nmt_dataset.vocab_collate_func, MAX_LEN=MAX_LEN),\n",
    "                            shuffle = True, num_workers=0) }"
   ]
  },
  {
   "cell_type": "markdown",
   "metadata": {},
   "source": [
    "The Seq2Seq Model\n",
    "=================\n",
    "\n",
    "A Recurrent Neural Network, or RNN, is a network that operates on a\n",
    "sequence and uses its own output as input for subsequent steps.\n",
    "\n",
    "A `Sequence to Sequence network <http://arxiv.org/abs/1409.3215>`__, or\n",
    "seq2seq network, or `Encoder Decoder\n",
    "network <https://arxiv.org/pdf/1406.1078v3.pdf>`__, is a model\n",
    "consisting of usually of two RNNs called the encoder and decoder. The encoder reads\n",
    "an input sequence and outputs a single vector, and the decoder reads\n",
    "that vector to produce an output sequence. Essentially, all we need is some mechanism to read the source sentence and create an encoding and some mechanism to read the encoding and decode it to the target language. \n",
    "\n",
    "Unlike sequence prediction with a single RNN, where every input\n",
    "corresponds to an output, the **seq2seq model frees us from sequence\n",
    "length and order**, which makes it ideal for translation between two\n",
    "languages.\n",
    "\n",
    "Consider the sentence \"I am not the\n",
    "black cat\" → \"Je ne suis pas le chat noir\". Most of the words in the input sentence have a direct\n",
    "translation in the output sentence, but are in slightly different\n",
    "orders, e.g. \"chat noir\" and \"black cat\". Because of the \"ne/pas\"\n",
    "construction there is also one more word in the input sentence. It would\n",
    "be difficult to produce a correct translation directly from the sequence\n",
    "of input words.\n",
    "\n",
    "**With a seq2seq model the encoder creates a single vector which, in the ideal case, encodes the \"meaning\" of the input sequence into a single vector** - a single point in some N dimensional space of sentences.\n",
    "\n",
    "\n"
   ]
  },
  {
   "cell_type": "markdown",
   "metadata": {},
   "source": [
    "### Concepts:\n",
    "1. NMT as a conditional language modelling\n",
    "2. Encoder\n",
    "3. Decoding during evaluation - step by step (see code)\n",
    "4. **Teaching Forcing (see code) and train step**\n",
    "5. How do we evaluate the quality of translation? BLEU Score"
   ]
  },
  {
   "cell_type": "markdown",
   "metadata": {},
   "source": [
    "The Encoder\n",
    "-----------\n",
    "\n",
    "**The encoder is anything which takes in a sentence and gives us a representation for the sentence.** \n",
    "\n",
    "Usually, the encoder of a seq2seq network is a RNN that outputs some value for\n",
    "every word from the input sentence. For every input word the encoder\n",
    "outputs a vector and a hidden state, and uses the hidden state for the\n",
    "next input word.\n",
    "\n",
    "However, we will first start with a BoW encoder and then move on to RNN based encoders"
   ]
  },
  {
   "cell_type": "code",
   "execution_count": 28,
   "metadata": {},
   "outputs": [],
   "source": [
    "### configuration\n",
    "source_lang_obj = dataset_dict['train'].source_lang_obj\n",
    "target_lang_obj = dataset_dict['train'].target_lang_obj\n",
    "\n",
    "source_vocab = dataset_dict['train'].source_lang_obj.n_words;\n",
    "target_vocab = dataset_dict['train'].target_lang_obj.n_words;\n",
    "hidden_size = 512\n",
    "rnn_layers = 1\n",
    "lr = 0.25;\n",
    "longest_label = 32;\n",
    "gradient_clip = 0.3;\n",
    "use_cuda = True\n",
    "\n",
    "num_epochs = 10"
   ]
  },
  {
   "cell_type": "markdown",
   "metadata": {},
   "source": [
    "### BagOfWords Encoder"
   ]
  },
  {
   "cell_type": "code",
   "execution_count": 29,
   "metadata": {},
   "outputs": [],
   "source": [
    "encoder_bow = nnet_models_new.BagOfWords(input_size = source_vocab,\n",
    "                                    hidden_size = hidden_size, \n",
    "                                    nlayers=4, \n",
    "                                    reduce = \"sum\")"
   ]
  },
  {
   "cell_type": "code",
   "execution_count": 30,
   "metadata": {},
   "outputs": [
    {
     "name": "stdout",
     "output_type": "stream",
     "text": [
      "BagOfWords(\n",
      "  (embedding): Embedding(60342, 512, padding_idx=0)\n",
      "  (layers): ModuleList(\n",
      "    (0): Linear(in_features=512, out_features=512, bias=True)\n",
      "    (1): ReLU()\n",
      "    (2): Dropout(p=0.1, inplace=False)\n",
      "    (3): Linear(in_features=512, out_features=512, bias=True)\n",
      "    (4): ReLU()\n",
      "    (5): Dropout(p=0.1, inplace=False)\n",
      "    (6): Linear(in_features=512, out_features=512, bias=True)\n",
      "    (7): ReLU()\n",
      "    (8): Dropout(p=0.1, inplace=False)\n",
      "    (9): Linear(in_features=512, out_features=512, bias=True)\n",
      "  )\n",
      ")\n"
     ]
    }
   ],
   "source": [
    "print(encoder_bow)"
   ]
  },
  {
   "cell_type": "markdown",
   "metadata": {},
   "source": [
    "The Decoder\n",
    "--------------------\n",
    "\n",
    "\n",
    "The decoder is another RNN that takes the encoder output vector(s) and outputs a sequence of words to create the translation.\n",
    "\n",
    "Decoder w/o Attention\n",
    "------------------------\n",
    "In the simplest seq2seq decoder we use only last output of the encoder. This **last output is sometimes called the context vector as it encodes context from the entire sequence**. This context vector is used as the initial hidden state of the decoder.\n",
    "\n",
    "At every step of decoding, the decoder is given an input token and hidden state. The initial input token is the start-of-string <SOS> token, and the first hidden state is the context vector (the encoder's last hidden state)."
   ]
  },
  {
   "cell_type": "code",
   "execution_count": 31,
   "metadata": {},
   "outputs": [],
   "source": [
    "decoder_bow = nnet_models_new.DecoderRNN(target_vocab, hidden_size, rnn_layers)"
   ]
  },
  {
   "cell_type": "code",
   "execution_count": 32,
   "metadata": {},
   "outputs": [
    {
     "name": "stdout",
     "output_type": "stream",
     "text": [
      "DecoderRNN(\n",
      "  (embedding): Embedding(67974, 512)\n",
      "  (gru): GRU(512, 512, batch_first=True)\n",
      "  (out): Linear(in_features=512, out_features=67974, bias=True)\n",
      "  (softmax): LogSoftmax()\n",
      ")\n"
     ]
    }
   ],
   "source": [
    "print(decoder_bow)"
   ]
  },
  {
   "cell_type": "code",
   "execution_count": 33,
   "metadata": {},
   "outputs": [],
   "source": [
    "nmt_bow = nnet_models_new.seq2seq(encoder_bow, decoder_bow,\n",
    "                              lr = 1e-2, \n",
    "                              use_cuda = use_cuda, \n",
    "                              hiddensize = hidden_size, \n",
    "                              numlayers = hidden_size, \n",
    "                              target_lang=dataset_dict['train'].target_lang_obj,\n",
    "                              longest_label = longest_label,\n",
    "                              clip = gradient_clip)"
   ]
  },
  {
   "cell_type": "code",
   "execution_count": 34,
   "metadata": {},
   "outputs": [
    {
     "data": {
      "text/plain": [
       "seq2seq(\n",
       "  (encoder): BagOfWords(\n",
       "    (embedding): Embedding(60342, 512, padding_idx=0)\n",
       "    (layers): ModuleList(\n",
       "      (0): Linear(in_features=512, out_features=512, bias=True)\n",
       "      (1): ReLU()\n",
       "      (2): Dropout(p=0.1, inplace=False)\n",
       "      (3): Linear(in_features=512, out_features=512, bias=True)\n",
       "      (4): ReLU()\n",
       "      (5): Dropout(p=0.1, inplace=False)\n",
       "      (6): Linear(in_features=512, out_features=512, bias=True)\n",
       "      (7): ReLU()\n",
       "      (8): Dropout(p=0.1, inplace=False)\n",
       "      (9): Linear(in_features=512, out_features=512, bias=True)\n",
       "    )\n",
       "  )\n",
       "  (decoder): DecoderRNN(\n",
       "    (embedding): Embedding(67974, 512)\n",
       "    (gru): GRU(512, 512, batch_first=True)\n",
       "    (out): Linear(in_features=512, out_features=67974, bias=True)\n",
       "    (softmax): LogSoftmax()\n",
       "  )\n",
       "  (criterion): NLLLoss()\n",
       ")"
      ]
     },
     "execution_count": 34,
     "metadata": {},
     "output_type": "execute_result"
    }
   ],
   "source": [
    "nmt_bow"
   ]
  },
  {
   "cell_type": "markdown",
   "metadata": {},
   "source": [
    "### Training Loop"
   ]
  },
  {
   "cell_type": "code",
   "execution_count": 35,
   "metadata": {},
   "outputs": [],
   "source": [
    "def get_full_filepath(path, enc_type):\n",
    "    filename = 'nmt_enc_'+enc_type+'_dec_rnn.pth'\n",
    "    return os.path.join(path, filename)"
   ]
  },
  {
   "cell_type": "code",
   "execution_count": 36,
   "metadata": {},
   "outputs": [],
   "source": [
    "def save_models(nmt_model, path, enc_type):\n",
    "    if not os.path.exists(path):\n",
    "            os.makedirs(path)\n",
    "    filename = 'nmt_enc_'+enc_type+'_dec_rnn.pth'\n",
    "    torch.save(nmt_model, os.path.join(path, filename))\n",
    "   "
   ]
  },
  {
   "cell_type": "code",
   "execution_count": 37,
   "metadata": {},
   "outputs": [],
   "source": [
    "def train_model(dataloader, nmt, num_epochs=50, val_every=1, saved_model_path = '.', enc_type ='rnn'):\n",
    "\n",
    "    best_bleu = -1;\n",
    "    for epoch in range(num_epochs):\n",
    "\n",
    "        start = time.time()\n",
    "        running_loss = 0\n",
    "\n",
    "        print('Epoch: [{}/{}]'.format(epoch, num_epochs));\n",
    "        \n",
    "        for i, data in tqdm.tqdm_notebook(enumerate(dataloader['train']), total=len(dataloader['train'])):  \n",
    "            _, curr_loss = nmt.train_step(data);\n",
    "            running_loss += curr_loss\n",
    "\n",
    "        epoch_loss = running_loss / len(dataloader['train']) \n",
    "        \n",
    "        print(\"epoch {} loss = {}, time = {}\".format(epoch, epoch_loss,\n",
    "                                                        time.time() - start))\n",
    "        sys.stdout.flush()\n",
    "   \n",
    "        if epoch%val_every == 0:\n",
    "            val_bleu_score = nmt.get_bleu_score(dataloader['val']);\n",
    "            print('validation bleu: ', val_bleu_score)\n",
    "            sys.stdout.flush()\n",
    "            \n",
    "            nmt.scheduler_step(val_bleu_score);\n",
    "            \n",
    "            if val_bleu_score > best_bleu:\n",
    "                best_bleu = val_bleu_score\n",
    "                \n",
    "                print('Saving Model ...')        \n",
    "                save_models(nmt, saved_model_path, enc_type);\n",
    "                print('*****************************************************')\n",
    "                print('best record: [epoch %d], [val bleu %.5f]' % (epoch, val_bleu_score))\n",
    "                print('*****************************************************')\n",
    "\n",
    "        print('='*50)\n",
    "\n",
    "    print(\"Training completed. Best BLEU is {}\".format(best_bleu))\n",
    "\n",
    "    "
   ]
  },
  {
   "cell_type": "markdown",
   "metadata": {},
   "source": [
    "### Training Bow Encoder GRU Decoder Model"
   ]
  },
  {
   "cell_type": "code",
   "execution_count": 38,
   "metadata": {},
   "outputs": [
    {
     "name": "stdout",
     "output_type": "stream",
     "text": [
      "Epoch: [0/10]\n"
     ]
    },
    {
     "name": "stderr",
     "output_type": "stream",
     "text": [
      "/home/aims/anaconda3/envs/aims/lib/python3.6/site-packages/ipykernel_launcher.py:11: TqdmDeprecationWarning: This function will be removed in tqdm==5.0.0\n",
      "Please use `tqdm.notebook.tqdm` instead of `tqdm.tqdm_notebook`\n",
      "  # This is added back by InteractiveShellApp.init_path()\n"
     ]
    },
    {
     "data": {
      "application/vnd.jupyter.widget-view+json": {
       "model_id": "d5bf28644c6c4b038613f475a13ae7b5",
       "version_major": 2,
       "version_minor": 0
      },
      "text/plain": [
       "HBox(children=(FloatProgress(value=0.0, max=9224.0), HTML(value='')))"
      ]
     },
     "metadata": {},
     "output_type": "display_data"
    },
    {
     "name": "stdout",
     "output_type": "stream",
     "text": [
      "\n",
      "epoch 0 loss = 1.5363090340975358, time = 3682.069237470627\n",
      "validation bleu:  10.074759547933018\n",
      "Saving Model ...\n",
      "*****************************************************\n",
      "best record: [epoch 0], [val bleu 10.07476]\n",
      "*****************************************************\n",
      "==================================================\n",
      "Epoch: [1/10]\n"
     ]
    },
    {
     "data": {
      "application/vnd.jupyter.widget-view+json": {
       "model_id": "897b4724ea194923b565b94f9e20702a",
       "version_major": 2,
       "version_minor": 0
      },
      "text/plain": [
       "HBox(children=(FloatProgress(value=0.0, max=9224.0), HTML(value='')))"
      ]
     },
     "metadata": {},
     "output_type": "display_data"
    },
    {
     "name": "stdout",
     "output_type": "stream",
     "text": [
      "\n",
      "epoch 1 loss = 1.289799224142654, time = 3628.751379966736\n",
      "validation bleu:  13.313869508361837\n",
      "Saving Model ...\n",
      "*****************************************************\n",
      "best record: [epoch 1], [val bleu 13.31387]\n",
      "*****************************************************\n",
      "==================================================\n",
      "Epoch: [2/10]\n"
     ]
    },
    {
     "data": {
      "application/vnd.jupyter.widget-view+json": {
       "model_id": "0cb2b0681c244c81bc2a8f4d9bf3dc51",
       "version_major": 2,
       "version_minor": 0
      },
      "text/plain": [
       "HBox(children=(FloatProgress(value=0.0, max=9224.0), HTML(value='')))"
      ]
     },
     "metadata": {},
     "output_type": "display_data"
    },
    {
     "name": "stdout",
     "output_type": "stream",
     "text": [
      "\n",
      "epoch 2 loss = 1.2222007019679544, time = 3612.731211900711\n",
      "validation bleu:  13.013331536741825\n",
      "Epoch     3: reducing learning rate of group 0 to 1.0000e-03.\n",
      "==================================================\n",
      "Epoch: [3/10]\n"
     ]
    },
    {
     "data": {
      "application/vnd.jupyter.widget-view+json": {
       "model_id": "c1eee3eac0eb47659e4570789e339d89",
       "version_major": 2,
       "version_minor": 0
      },
      "text/plain": [
       "HBox(children=(FloatProgress(value=0.0, max=9224.0), HTML(value='')))"
      ]
     },
     "metadata": {},
     "output_type": "display_data"
    },
    {
     "name": "stdout",
     "output_type": "stream",
     "text": [
      "\n",
      "epoch 3 loss = 1.1603181346708138, time = 3643.5859167575836\n",
      "validation bleu:  15.570808019793745\n",
      "Saving Model ...\n",
      "*****************************************************\n",
      "best record: [epoch 3], [val bleu 15.57081]\n",
      "*****************************************************\n",
      "==================================================\n",
      "Epoch: [4/10]\n"
     ]
    },
    {
     "data": {
      "application/vnd.jupyter.widget-view+json": {
       "model_id": "c3076e6c665942a997a59b2c14efae28",
       "version_major": 2,
       "version_minor": 0
      },
      "text/plain": [
       "HBox(children=(FloatProgress(value=0.0, max=9224.0), HTML(value='')))"
      ]
     },
     "metadata": {},
     "output_type": "display_data"
    },
    {
     "name": "stdout",
     "output_type": "stream",
     "text": [
      "\n",
      "epoch 4 loss = 1.149072199614019, time = 3658.458485841751\n",
      "validation bleu:  16.259630358134924\n",
      "Saving Model ...\n",
      "*****************************************************\n",
      "best record: [epoch 4], [val bleu 16.25963]\n",
      "*****************************************************\n",
      "==================================================\n",
      "Epoch: [5/10]\n"
     ]
    },
    {
     "data": {
      "application/vnd.jupyter.widget-view+json": {
       "model_id": "27fc4e9558a64be198bd6056b0e90d48",
       "version_major": 2,
       "version_minor": 0
      },
      "text/plain": [
       "HBox(children=(FloatProgress(value=0.0, max=9224.0), HTML(value='')))"
      ]
     },
     "metadata": {},
     "output_type": "display_data"
    },
    {
     "name": "stdout",
     "output_type": "stream",
     "text": [
      "\n",
      "epoch 5 loss = 1.144218705284368, time = 3597.6756448745728\n",
      "validation bleu:  16.39346308802514\n",
      "Saving Model ...\n",
      "*****************************************************\n",
      "best record: [epoch 5], [val bleu 16.39346]\n",
      "*****************************************************\n",
      "==================================================\n",
      "Epoch: [6/10]\n"
     ]
    },
    {
     "data": {
      "application/vnd.jupyter.widget-view+json": {
       "model_id": "a629529491cd4d7a9404ab3e8f04dd57",
       "version_major": 2,
       "version_minor": 0
      },
      "text/plain": [
       "HBox(children=(FloatProgress(value=0.0, max=9224.0), HTML(value='')))"
      ]
     },
     "metadata": {},
     "output_type": "display_data"
    },
    {
     "name": "stdout",
     "output_type": "stream",
     "text": [
      "\n",
      "epoch 6 loss = 1.1378907518201256, time = 3578.883498430252\n",
      "validation bleu:  16.281298622369054\n",
      "Epoch     7: reducing learning rate of group 0 to 1.0000e-04.\n",
      "==================================================\n",
      "Epoch: [7/10]\n"
     ]
    },
    {
     "data": {
      "application/vnd.jupyter.widget-view+json": {
       "model_id": "9cfe32ec22a04581bbb52742f8a84b84",
       "version_major": 2,
       "version_minor": 0
      },
      "text/plain": [
       "HBox(children=(FloatProgress(value=0.0, max=9224.0), HTML(value='')))"
      ]
     },
     "metadata": {},
     "output_type": "display_data"
    },
    {
     "name": "stdout",
     "output_type": "stream",
     "text": [
      "\n",
      "epoch 7 loss = 1.1309015829009486, time = 3628.325040578842\n",
      "validation bleu:  16.556682906950545\n",
      "Saving Model ...\n",
      "*****************************************************\n",
      "best record: [epoch 7], [val bleu 16.55668]\n",
      "*****************************************************\n",
      "==================================================\n",
      "Epoch: [8/10]\n"
     ]
    },
    {
     "data": {
      "application/vnd.jupyter.widget-view+json": {
       "model_id": "c2f7fabc9b6d4f1794b84ac5cbfadbbe",
       "version_major": 2,
       "version_minor": 0
      },
      "text/plain": [
       "HBox(children=(FloatProgress(value=0.0, max=9224.0), HTML(value='')))"
      ]
     },
     "metadata": {},
     "output_type": "display_data"
    },
    {
     "name": "stdout",
     "output_type": "stream",
     "text": [
      "\n",
      "epoch 8 loss = 1.1289743109600552, time = 3621.696895122528\n",
      "validation bleu:  16.749525680185755\n",
      "Saving Model ...\n",
      "*****************************************************\n",
      "best record: [epoch 8], [val bleu 16.74953]\n",
      "*****************************************************\n",
      "==================================================\n",
      "Epoch: [9/10]\n"
     ]
    },
    {
     "data": {
      "application/vnd.jupyter.widget-view+json": {
       "model_id": "de6c7d5c6eda4c8cbfb6ddd240651c34",
       "version_major": 2,
       "version_minor": 0
      },
      "text/plain": [
       "HBox(children=(FloatProgress(value=0.0, max=9224.0), HTML(value='')))"
      ]
     },
     "metadata": {},
     "output_type": "display_data"
    },
    {
     "name": "stdout",
     "output_type": "stream",
     "text": [
      "\n",
      "epoch 9 loss = 1.1300182155392424, time = 3585.7700893878937\n",
      "validation bleu:  16.61571392871028\n",
      "==================================================\n",
      "Training completed. Best BLEU is 16.749525680185755\n"
     ]
    }
   ],
   "source": [
    "train_again = False\n",
    "modelname = 'bow_model'\n",
    "\n",
    "device = torch.device('cuda') if use_cuda and torch.cuda.is_available() else torch.device('cpu');\n",
    "if os.path.exists(get_full_filepath(saved_models_dir, modelname)) and (not train_again):\n",
    "# if (not train_again):\n",
    "    nmt_bow = torch.load(get_full_filepath(saved_models_dir, modelname))\n",
    "    print('Model loaded')\n",
    "else:\n",
    "    train_model(dataloader_dict, nmt_bow, \n",
    "                          num_epochs = num_epochs, \n",
    "                          saved_model_path = saved_models_dir, \n",
    "                          enc_type = 'bow_test')"
   ]
  },
  {
   "cell_type": "markdown",
   "metadata": {},
   "source": [
    "### Check Performance"
   ]
  },
  {
   "cell_type": "code",
   "execution_count": 41,
   "metadata": {},
   "outputs": [
    {
     "name": "stdout",
     "output_type": "stream",
     "text": [
      "16.61571392871028\n"
     ]
    }
   ],
   "source": [
    "print(nmt_bow.get_bleu_score(dataloader_dict['val']))"
   ]
  },
  {
   "cell_type": "markdown",
   "metadata": {},
   "source": [
    "## Interacting with the system"
   ]
  },
  {
   "cell_type": "code",
   "execution_count": 43,
   "metadata": {},
   "outputs": [],
   "source": [
    "from collections import namedtuple\n",
    "import numpy as np\n",
    "import matplotlib.pyplot as plt\n",
    "import matplotlib.ticker as ticker\n",
    "import copy\n",
    "%matplotlib inline\n",
    "\n",
    "\n",
    "def get_binned_bl_score(nmt_model, val_dataset):\n",
    "    \n",
    "    len_threshold = np.arange(0, 31, 5)\n",
    "    bin_bl_score = np.zeros(len(len_threshold));\n",
    "    \n",
    "    for i in tqdm.tqdm_notebook( range(1, len(len_threshold)), total = len(len_threshold)-1):\n",
    "        min_len = len_threshold[i-1]\n",
    "        max_len = len_threshold[i]\n",
    "        \n",
    "        temp_dataset = copy.deepcopy(val_dataset);\n",
    "        temp_dataset.main_df = temp_dataset.main_df[(temp_dataset.main_df['source_len'] > min_len) & (temp_dataset.main_df['source_len'] <= max_len)];\n",
    "        temp_loader = DataLoader(temp_dataset, batch_size = batchSize, \n",
    "                            collate_fn = partial(nmt_dataset.vocab_collate_func, MAX_LEN=100),\n",
    "                            shuffle = True, num_workers=0)\n",
    "        \n",
    "        bin_bl_score[i] = nmt_model.get_bleu_score(temp_loader);\n",
    "        \n",
    "    \n",
    "    len_threshold = len_threshold[1:]\n",
    "    bin_bl_score = bin_bl_score[1:]\n",
    "    \n",
    "    plt.plot(len_threshold, bin_bl_score, 'x-')\n",
    "    plt.ylim(0, np.max(bin_bl_score)+1)\n",
    "    plt.xlabel('len')\n",
    "    plt.ylabel('bl score')\n",
    "    \n",
    "    return len_threshold, bin_bl_score\n",
    "    \n",
    "        \n",
    "        \n",
    "    \n",
    "def showAttention(input_sentence, output_words, attentions):\n",
    "    # Set up figure with colorbar\n",
    "    fig = plt.figure()\n",
    "    ax = fig.add_subplot(111)\n",
    "    cax = ax.matshow(attentions, cmap='bone', aspect='auto')\n",
    "    fig.colorbar(cax)\n",
    "\n",
    "    # Set up axes\n",
    "    ax.set_xticklabels([''] + input_sentence.split(' ') +\n",
    "                       [global_variables.EOS_TOKEN], rotation=90)\n",
    "    ax.set_yticklabels([''] + output_words.split(' ')+\n",
    "                       [global_variables.EOS_TOKEN]);\n",
    "\n",
    "    # Show label at every tick\n",
    "    ax.xaxis.set_major_locator(ticker.MultipleLocator(1))\n",
    "    ax.yaxis.set_major_locator(ticker.MultipleLocator(1))\n",
    "\n",
    "    plt.show()\n",
    "\n",
    "def get_encoded_batch(sentence, lang_obj, use_cuda):\n",
    "    \"\"\" accepts only bsz = 1.\n",
    "        input: one sentence as a string\n",
    "        output: named tuple with vector and length\"\"\"\n",
    "    \n",
    "    sentence = sentence + ' ' + global_variables.EOS_TOKEN;\n",
    "    tensor = source_lang_obj.txt2vec(sentence).unsqueeze(0)\n",
    "    \n",
    "    device = torch.device('cuda') if use_cuda and torch.cuda.is_available() else torch.device('cpu');\n",
    "    \n",
    "    named_returntuple = namedtuple('namedtuple', ['text_vecs', 'text_lens', 'label_vecs', 'label_lens', 'use_packed'])\n",
    "    return_tuple = named_returntuple( tensor.to(device), \n",
    "                                     torch.from_numpy(np.array([tensor.shape[-1]])).to(device),\n",
    "                                     None,\n",
    "                                     None,\n",
    "                                     False );\n",
    "\n",
    "    return return_tuple\n",
    "\n",
    "def get_translation(nmt_model, sentence, lang_obj, use_cuda):\n",
    "    print('souce: ', sentence)\n",
    "    batch = get_encoded_batch(sentence, lang_obj, use_cuda);\n",
    "    \n",
    "    prediction, attn_scores_list = nmt_model.eval_step(batch, return_attn = True);\n",
    "    prediction = prediction[0];\n",
    "    print('prediction: ', prediction)\n",
    "#     print('GT on sentence (src->tgt): ', translator.translate(sentence, \n",
    "#                                                      src = source_name,\n",
    "#                                                      dest = target_name).text)\n",
    "#     print('GT on prediction (tgt->src): ', translator.translate(prediction, \n",
    "#                                                      src = target_name,\n",
    "#                                                      dest = source_name).text)\n",
    "\n",
    "    if attn_scores_list[0] is not None:\n",
    "        if attn_scores_list[0][0] is not None:\n",
    "            attn_matrix = [x[0].data.cpu().numpy() for x in attn_scores_list];\n",
    "            attn_matrix = np.stack(attn_matrix)[:,:, 0]\n",
    "            showAttention(sentence, prediction, attn_matrix)"
   ]
  },
  {
   "cell_type": "code",
   "execution_count": 49,
   "metadata": {},
   "outputs": [
    {
     "name": "stdout",
     "output_type": "stream",
     "text": [
      "souce:  How are you ?\n",
      "prediction:  yo mpe ndenge nini ?\n"
     ]
    }
   ],
   "source": [
    "get_translation(nmt_bow, 'How are you ?', source_lang_obj, use_cuda)"
   ]
  },
  {
   "cell_type": "code",
   "execution_count": 50,
   "metadata": {},
   "outputs": [
    {
     "name": "stdout",
     "output_type": "stream",
     "text": [
      "souce:  are hello ? how you\n",
      "prediction:  ozali na yango ?\n"
     ]
    }
   ],
   "source": [
    "get_translation(nmt_bow, 'are hello ? how you', source_lang_obj, use_cuda)"
   ]
  },
  {
   "cell_type": "markdown",
   "metadata": {},
   "source": [
    "## RNN Encoder"
   ]
  },
  {
   "cell_type": "code",
   "execution_count": 51,
   "metadata": {},
   "outputs": [],
   "source": [
    "encoder_rnn = nnet_models_new.EncoderRNN(source_vocab, hidden_size, rnn_layers)"
   ]
  },
  {
   "cell_type": "code",
   "execution_count": 52,
   "metadata": {},
   "outputs": [
    {
     "name": "stdout",
     "output_type": "stream",
     "text": [
      "EncoderRNN(\n",
      "  (embedding): Embedding(60342, 512, padding_idx=0)\n",
      "  (gru): GRU(512, 512, batch_first=True)\n",
      ")\n"
     ]
    }
   ],
   "source": [
    "print(encoder_rnn)"
   ]
  },
  {
   "cell_type": "code",
   "execution_count": 53,
   "metadata": {},
   "outputs": [],
   "source": [
    "decoder_rnn = nnet_models_new.DecoderRNN(target_vocab, hidden_size, rnn_layers)"
   ]
  },
  {
   "cell_type": "code",
   "execution_count": 54,
   "metadata": {},
   "outputs": [
    {
     "name": "stdout",
     "output_type": "stream",
     "text": [
      "DecoderRNN(\n",
      "  (embedding): Embedding(67974, 512)\n",
      "  (gru): GRU(512, 512, batch_first=True)\n",
      "  (out): Linear(in_features=512, out_features=67974, bias=True)\n",
      "  (softmax): LogSoftmax()\n",
      ")\n"
     ]
    }
   ],
   "source": [
    "print(decoder_rnn)"
   ]
  },
  {
   "cell_type": "code",
   "execution_count": 55,
   "metadata": {},
   "outputs": [],
   "source": [
    "nmt_rnn = nnet_models_new.seq2seq(encoder_rnn, decoder_rnn,\n",
    "                              lr = lr, \n",
    "                              use_cuda = use_cuda, \n",
    "                              hiddensize = hidden_size, \n",
    "                              numlayers = hidden_size, \n",
    "                              target_lang=dataset_dict['train'].target_lang_obj,\n",
    "                              longest_label = longest_label,\n",
    "                              clip = gradient_clip)"
   ]
  },
  {
   "cell_type": "code",
   "execution_count": null,
   "metadata": {},
   "outputs": [
    {
     "name": "stdout",
     "output_type": "stream",
     "text": [
      "Epoch: [0/10]\n"
     ]
    },
    {
     "name": "stderr",
     "output_type": "stream",
     "text": [
      "/home/aims/anaconda3/envs/aims/lib/python3.6/site-packages/ipykernel_launcher.py:11: TqdmDeprecationWarning: This function will be removed in tqdm==5.0.0\n",
      "Please use `tqdm.notebook.tqdm` instead of `tqdm.tqdm_notebook`\n",
      "  # This is added back by InteractiveShellApp.init_path()\n"
     ]
    },
    {
     "data": {
      "application/vnd.jupyter.widget-view+json": {
       "model_id": "39b6acd89c4847e2b7628d0172c3100a",
       "version_major": 2,
       "version_minor": 0
      },
      "text/plain": [
       "HBox(children=(FloatProgress(value=0.0, max=9224.0), HTML(value='')))"
      ]
     },
     "metadata": {},
     "output_type": "display_data"
    },
    {
     "name": "stdout",
     "output_type": "stream",
     "text": [
      "\n",
      "epoch 0 loss = 1.2880906560114953, time = 3688.207519054413\n",
      "validation bleu:  18.51976501025157\n",
      "Saving Model ...\n",
      "*****************************************************\n",
      "best record: [epoch 0], [val bleu 18.51977]\n",
      "*****************************************************\n",
      "==================================================\n",
      "Epoch: [1/10]\n"
     ]
    },
    {
     "data": {
      "application/vnd.jupyter.widget-view+json": {
       "model_id": "31a5e67ef1c840809f60f18ad392ab49",
       "version_major": 2,
       "version_minor": 0
      },
      "text/plain": [
       "HBox(children=(FloatProgress(value=0.0, max=9224.0), HTML(value='')))"
      ]
     },
     "metadata": {},
     "output_type": "display_data"
    },
    {
     "name": "stdout",
     "output_type": "stream",
     "text": [
      "\n",
      "epoch 1 loss = 1.0706906775327631, time = 3665.2570157051086\n",
      "validation bleu:  19.45254189488355\n",
      "Saving Model ...\n",
      "*****************************************************\n",
      "best record: [epoch 1], [val bleu 19.45254]\n",
      "*****************************************************\n",
      "==================================================\n",
      "Epoch: [2/10]\n"
     ]
    },
    {
     "data": {
      "application/vnd.jupyter.widget-view+json": {
       "model_id": "a69b1939f44c44278d755e5a67929b90",
       "version_major": 2,
       "version_minor": 0
      },
      "text/plain": [
       "HBox(children=(FloatProgress(value=0.0, max=9224.0), HTML(value='')))"
      ]
     },
     "metadata": {},
     "output_type": "display_data"
    },
    {
     "name": "stdout",
     "output_type": "stream",
     "text": [
      "\n",
      "epoch 2 loss = 1.0029336581909698, time = 3659.775911092758\n",
      "validation bleu:  21.692237481960152\n",
      "Saving Model ...\n",
      "*****************************************************\n",
      "best record: [epoch 2], [val bleu 21.69224]\n",
      "*****************************************************\n",
      "==================================================\n",
      "Epoch: [3/10]\n"
     ]
    },
    {
     "data": {
      "application/vnd.jupyter.widget-view+json": {
       "model_id": "0bd300cb068a494e8a790aafca36272e",
       "version_major": 2,
       "version_minor": 0
      },
      "text/plain": [
       "HBox(children=(FloatProgress(value=0.0, max=9224.0), HTML(value='')))"
      ]
     },
     "metadata": {},
     "output_type": "display_data"
    },
    {
     "name": "stdout",
     "output_type": "stream",
     "text": [
      "\n",
      "epoch 3 loss = 0.9637230311658521, time = 3644.792008161545\n",
      "validation bleu:  22.223842743308218\n",
      "Saving Model ...\n",
      "*****************************************************\n",
      "best record: [epoch 3], [val bleu 22.22384]\n",
      "*****************************************************\n",
      "==================================================\n",
      "Epoch: [4/10]\n"
     ]
    },
    {
     "data": {
      "application/vnd.jupyter.widget-view+json": {
       "model_id": "c673d3a15ef745db9540d454eb02d350",
       "version_major": 2,
       "version_minor": 0
      },
      "text/plain": [
       "HBox(children=(FloatProgress(value=0.0, max=9224.0), HTML(value='')))"
      ]
     },
     "metadata": {},
     "output_type": "display_data"
    },
    {
     "name": "stdout",
     "output_type": "stream",
     "text": [
      "\n",
      "epoch 4 loss = 0.9367893118563158, time = 3637.0132372379303\n",
      "validation bleu:  22.24881398986678\n",
      "Saving Model ...\n",
      "*****************************************************\n",
      "best record: [epoch 4], [val bleu 22.24881]\n",
      "*****************************************************\n",
      "==================================================\n",
      "Epoch: [5/10]\n"
     ]
    },
    {
     "data": {
      "application/vnd.jupyter.widget-view+json": {
       "model_id": "65d066be770449bb99c81da793b81f62",
       "version_major": 2,
       "version_minor": 0
      },
      "text/plain": [
       "HBox(children=(FloatProgress(value=0.0, max=9224.0), HTML(value='')))"
      ]
     },
     "metadata": {},
     "output_type": "display_data"
    }
   ],
   "source": [
    "train_again = False\n",
    "modelname = 'rnn_model'\n",
    "if os.path.exists(get_full_filepath(saved_models_dir, modelname)) and (not train_again):\n",
    "    nmt_rnn = torch.load(get_full_filepath(saved_models_dir, modelname))\n",
    "else:\n",
    "    train_model(dataloader_dict, nmt_rnn, \n",
    "                      num_epochs = num_epochs, \n",
    "                      saved_model_path = saved_models_dir, \n",
    "                      enc_type = 'rnn_test')"
   ]
  },
  {
   "cell_type": "markdown",
   "metadata": {},
   "source": [
    "### Check Performance"
   ]
  },
  {
   "cell_type": "code",
   "execution_count": null,
   "metadata": {},
   "outputs": [],
   "source": [
    "print(nmt_rnn.get_bleu_score(dataloader_dict['val']))"
   ]
  },
  {
   "cell_type": "markdown",
   "metadata": {},
   "source": [
    "### Interacting with system"
   ]
  },
  {
   "cell_type": "code",
   "execution_count": null,
   "metadata": {},
   "outputs": [],
   "source": [
    "get_translation(nmt_rnn, 'how are you ?', source_lang_obj, use_cuda)"
   ]
  },
  {
   "cell_type": "code",
   "execution_count": null,
   "metadata": {},
   "outputs": [],
   "source": [
    "get_translation(nmt_rnn, 'are hello ? how you', source_lang_obj, use_cuda)"
   ]
  },
  {
   "cell_type": "code",
   "execution_count": null,
   "metadata": {},
   "outputs": [],
   "source": [
    "get_translation(nmt_rnn, 'i know that the last thing you want to do is help me .', source_lang_obj, use_cuda)"
   ]
  },
  {
   "cell_type": "code",
   "execution_count": null,
   "metadata": {},
   "outputs": [],
   "source": [
    "rnn_len_threshold, rnn_bin_bl = get_binned_bl_score(nmt_rnn, dataset_dict['val'])"
   ]
  },
  {
   "cell_type": "markdown",
   "metadata": {},
   "source": [
    "We work with a small training data and hence you see this drop in BLEU score for sentences of shorter length. We don't have enough data points with small sentence length"
   ]
  },
  {
   "cell_type": "markdown",
   "metadata": {},
   "source": [
    "## RNN Encoder + Source Side Attention"
   ]
  },
  {
   "cell_type": "markdown",
   "metadata": {},
   "source": [
    "### Concepts:\n",
    "1. Context Vector which gives additional information from source side for decoding the next token. \n",
    "2. Fit context vector into decoding framework: <br>\n",
    "    a) Initiaze with 0 <br>\n",
    "    b) input to RNN is the concatenation of the input token and context vector <br>\n",
    "    c) output token decoded from context vector calculated from the hidden of previous timestep; i.e, context vector for the next timestep is used for decoding the current output\n",
    "3. Calculating the context vector. Explain attention module: <br>\n",
    "    a) hidden transformed to encoder hidden dimension using linear layer. This is your query vector. <br> \n",
    "    b) Value and Key vectors are the encoder outputs. <br>\n",
    "    c) Dot product. Raw Score. Softmax. Linear Combination. <br>\n",
    "    d) contactenated the linear combination vector with the input hidden from decoder. Pass it through a linear layer to project it back to decoder hidden dimension followed by a `tanh`.  \n",
    "\n",
    "    \n",
    "    "
   ]
  },
  {
   "cell_type": "code",
   "execution_count": null,
   "metadata": {},
   "outputs": [],
   "source": [
    "encoder_attention = True\n",
    "self_attention = False"
   ]
  },
  {
   "cell_type": "code",
   "execution_count": null,
   "metadata": {},
   "outputs": [],
   "source": [
    "encoder_encoderattn = nnet_models_new.EncoderRNN(source_vocab, hidden_size, 1)"
   ]
  },
  {
   "cell_type": "code",
   "execution_count": null,
   "metadata": {},
   "outputs": [],
   "source": [
    "decoder_encoderattn = nnet_models_new.Decoder_SelfAttn(output_size=target_vocab,\n",
    "                                 hidden_size=hidden_size, \n",
    "                                 encoder_attention = encoder_attention,\n",
    "                                 self_attention = self_attention)"
   ]
  },
  {
   "cell_type": "code",
   "execution_count": null,
   "metadata": {},
   "outputs": [],
   "source": [
    "nmt_encoderattn = nnet_models_new.seq2seq(encoder_encoderattn, decoder_encoderattn,\n",
    "                              lr = lr, \n",
    "                              use_cuda = use_cuda, \n",
    "                              hiddensize = hidden_size, \n",
    "                              numlayers = hidden_size, \n",
    "                              target_lang=dataset_dict['train'].target_lang_obj,\n",
    "                              longest_label = longest_label,\n",
    "                              clip = gradient_clip)"
   ]
  },
  {
   "cell_type": "code",
   "execution_count": null,
   "metadata": {},
   "outputs": [],
   "source": [
    "train_again = False\n",
    "modelname = 'encoderattn_model'\n",
    "if os.path.exists(get_full_filepath(saved_models_dir, modelname)) and (not train_again):\n",
    "    nmt_encoderattn = torch.load(get_full_filepath(saved_models_dir, modelname))\n",
    "else:\n",
    "    train_model(dataloader_dict, nmt_encoderattn, \n",
    "                      num_epochs = num_epochs, \n",
    "                      saved_model_path = saved_models_dir, \n",
    "                      enc_type = 'encoderattn_test')"
   ]
  },
  {
   "cell_type": "markdown",
   "metadata": {},
   "source": [
    "### Check Performance"
   ]
  },
  {
   "cell_type": "code",
   "execution_count": 60,
   "metadata": {},
   "outputs": [
    {
     "name": "stdout",
     "output_type": "stream",
     "text": [
      "38.68336012941632\n"
     ]
    }
   ],
   "source": [
    "print(nmt_encoderattn.get_bleu_score(dataloader_dict['val']))"
   ]
  },
  {
   "cell_type": "markdown",
   "metadata": {},
   "source": [
    "### BLEU vs Sentence Length"
   ]
  },
  {
   "cell_type": "code",
   "execution_count": 61,
   "metadata": {},
   "outputs": [
    {
     "name": "stderr",
     "output_type": "stream",
     "text": [
      "/home/aims/anaconda3/envs/aims/lib/python3.7/site-packages/ipykernel_launcher.py:14: TqdmDeprecationWarning: This function will be removed in tqdm==5.0.0\n",
      "Please use `tqdm.notebook.tqdm` instead of `tqdm.tqdm_notebook`\n",
      "  \n"
     ]
    },
    {
     "data": {
      "application/vnd.jupyter.widget-view+json": {
       "model_id": "0653232a447b4aaaaa78876c0072de3d",
       "version_major": 2,
       "version_minor": 0
      },
      "text/plain": [
       "HBox(children=(IntProgress(value=0, max=6), HTML(value='')))"
      ]
     },
     "metadata": {},
     "output_type": "display_data"
    },
    {
     "name": "stdout",
     "output_type": "stream",
     "text": [
      "\n"
     ]
    },
    {
     "data": {
      "image/png": "[encoded data removed]",
      "text/plain": [
       "<Figure size 432x288 with 1 Axes>"
      ]
     },
     "metadata": {
      "needs_background": "light"
     },
     "output_type": "display_data"
    }
   ],
   "source": [
    "attn_len_threshold, attn_bin_bl = get_binned_bl_score(nmt_encoderattn, dataset_dict['val'])"
   ]
  },
  {
   "cell_type": "code",
   "execution_count": 62,
   "metadata": {},
   "outputs": [
    {
     "data": {
      "text/plain": [
       "<matplotlib.legend.Legend at 0x7fca868d82d0>"
      ]
     },
     "execution_count": 62,
     "metadata": {},
     "output_type": "execute_result"
    },
    {
     "data": {
      "image/png": "[encoded data removed]",
      "text/plain": [
       "<Figure size 432x288 with 1 Axes>"
      ]
     },
     "metadata": {
      "needs_background": "light"
     },
     "output_type": "display_data"
    }
   ],
   "source": [
    "plt.plot(rnn_len_threshold, rnn_bin_bl, '--x', label = 'w/o attn')\n",
    "plt.plot(attn_len_threshold, attn_bin_bl, '--x', label = 'attn')\n",
    "plt.xlabel('len sentence')\n",
    "plt.ylabel('bl score')\n",
    "plt.legend()"
   ]
  },
  {
   "cell_type": "markdown",
   "metadata": {},
   "source": [
    "### Interacting with system"
   ]
  },
  {
   "cell_type": "code",
   "execution_count": 63,
   "metadata": {},
   "outputs": [
    {
     "name": "stdout",
     "output_type": "stream",
     "text": [
      "souce:  how are you ?\n",
      "prediction:  comment allez vous ?\n",
      "GT on sentence (src->tgt):  Comment allez-vous ?\n",
      "GT on prediction (tgt->src):  how are you ?\n"
     ]
    },
    {
     "data": {
      "image/png": "[encoded data removed]",
      "text/plain": [
       "<Figure size 432x288 with 2 Axes>"
      ]
     },
     "metadata": {
      "needs_background": "light"
     },
     "output_type": "display_data"
    }
   ],
   "source": [
    "get_translation(nmt_encoderattn, 'how are you ?', source_lang_obj, use_cuda)"
   ]
  },
  {
   "cell_type": "code",
   "execution_count": 64,
   "metadata": {},
   "outputs": [
    {
     "name": "stdout",
     "output_type": "stream",
     "text": [
      "souce:  she knows better than to argue with him .\n",
      "prediction:  elle sait mieux que de ne pas le disputer avec lui .\n",
      "GT on sentence (src->tgt):  elle sait mieux que de discuter avec lui.\n",
      "GT on prediction (tgt->src):  she knows better than not to argue with him.\n"
     ]
    },
    {
     "data": {
      "image/png": "[encoded data removed]",
      "text/plain": [
       "<Figure size 432x288 with 2 Axes>"
      ]
     },
     "metadata": {
      "needs_background": "light"
     },
     "output_type": "display_data"
    }
   ],
   "source": [
    "get_translation(nmt_encoderattn, 'she knows better than to argue with him .', source_lang_obj, use_cuda)"
   ]
  },
  {
   "cell_type": "code",
   "execution_count": 65,
   "metadata": {},
   "outputs": [
    {
     "name": "stdout",
     "output_type": "stream",
     "text": [
      "souce:  she s five years younger than me .\n",
      "prediction:  elle a cinq ans de moins que moi .\n",
      "GT on sentence (src->tgt):  elle est cinq ans plus jeune que moi.\n",
      "GT on prediction (tgt->src):  She was five years younger than me.\n"
     ]
    },
    {
     "data": {
      "image/png": "[encoded data removed]",
      "text/plain": [
       "<Figure size 432x288 with 2 Axes>"
      ]
     },
     "metadata": {
      "needs_background": "light"
     },
     "output_type": "display_data"
    }
   ],
   "source": [
    "get_translation(nmt_encoderattn, 'she s five years younger than me .', source_lang_obj, use_cuda)"
   ]
  },
  {
   "cell_type": "code",
   "execution_count": 66,
   "metadata": {},
   "outputs": [
    {
     "name": "stdout",
     "output_type": "stream",
     "text": [
      "souce:  i know that the last thing you want to do is help me .\n",
      "prediction:  je sais que la derniere chose que tu veuilles faire est de m aider .\n",
      "GT on sentence (src->tgt):  Je sais que la dernière chose que vous voulez faire est de me d'aide.\n",
      "GT on prediction (tgt->src):  I know the last thing you want to do is help me.\n"
     ]
    },
    {
     "data": {
      "image/png": "[encoded data removed]",
      "text/plain": [
       "<Figure size 432x288 with 2 Axes>"
      ]
     },
     "metadata": {
      "needs_background": "light"
     },
     "output_type": "display_data"
    }
   ],
   "source": [
    "get_translation(nmt_encoderattn, 'i know that the last thing you want to do is help me .', source_lang_obj, use_cuda)"
   ]
  }
 ],
 "metadata": {
  "kernelspec": {
   "display_name": "aims",
   "language": "python",
   "name": "aims"
  },
  "language_info": {
   "codemirror_mode": {
    "name": "ipython",
    "version": 3
   },
   "file_extension": ".py",
   "mimetype": "text/x-python",
   "name": "python",
   "nbconvert_exporter": "python",
   "pygments_lexer": "ipython3",
   "version": "3.6.10"
  }
 },
 "nbformat": 4,
 "nbformat_minor": 4
}
