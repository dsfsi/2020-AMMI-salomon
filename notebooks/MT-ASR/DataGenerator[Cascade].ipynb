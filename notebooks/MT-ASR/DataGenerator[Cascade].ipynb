{
 "cells": [
  {
   "cell_type": "code",
   "execution_count": 11,
   "metadata": {},
   "outputs": [],
   "source": [
    "# Pythono3 code to rename multiple \n",
    "# files in a directory or folder \n",
    "\n",
    "# importing os module \n",
    "import os \n",
    "import ipdb\n",
    "\n",
    "# Function to rename multiple files \n",
    "def cascadeDataFormat(pah_from, lang_1='en', lang_2='ln', path_to=\"data/\", mode=\"train\"):\n",
    "\n",
    "    # given that the file in the two repository have the same name, \n",
    "    # we can only loop on one of them \n",
    "    \n",
    "        \n",
    "    if os.path.exists(f\"{path_to+mode}.{lang_1}\"):\n",
    "        os.remove(f\"{path_to+mode}.{lang_1}\")\n",
    "        \n",
    "    if os.path.exists(f\"{path_to+mode}.{lang_2}\"):\n",
    "        os.remove(f\"{path_to+mode}.{lang_2}\")\n",
    "    \n",
    "        \n",
    "        \n",
    "    # open the and read file on in the first repository             \n",
    "    with open(pah_from, 'r') as f:  # Open file for read\n",
    "        for textline in f:           # Read line-by-line\n",
    "\n",
    "            lang_1_text = textline.split('\\t')[1]\n",
    "\n",
    "            lang_2_text = textline.split('\\t')[2]\n",
    "\n",
    "#             ipdb.set_trace()\n",
    "\n",
    "            with open(f\"{path_to+mode}.{lang_1}\", \"a+\", encoding=\"utf-8\") as text_file:\n",
    "                text_file.write(lang_1_text)\n",
    "                text_file.write(\"\\n\")\n",
    "\n",
    "            with open(f\"{path_to+mode}.{lang_2}\", \"a+\", encoding=\"utf-8\") as text_file:\n",
    "                text_file.write(lang_2_text) # there is an extra '\\n' after all the lingala txt\n",
    "#                 text_file.write(\"\\n\")\n",
    "  \n",
    "            \n",
    "\n",
    "# Driver Code \n",
    "if __name__ == '__main__': \n",
    "    # Calling main() function \n",
    "    # main() \n",
    "    cascadeDataFormat(\"../../data/external/LiSTra/dataset/train.en-ln.csv\", \n",
    "                      lang_1='en', lang_2='ln', path_to=\"data/\", mode=\"trainAST\")\n",
    "    \n",
    "    cascadeDataFormat(\"../../data/external/LiSTra/dataset/test.en-ln.csv\", \n",
    "                      lang_1='en', lang_2='ln', path_to=\"data/\", mode=\"testAST\")\n",
    "    \n",
    "    cascadeDataFormat(\"../../data/external/LiSTra/dataset/valid.en-ln.csv\", \n",
    "                      lang_1='en', lang_2='ln', path_to=\"data/\", mode=\"validAST\")"
   ]
  }
 ],
 "metadata": {
  "kernelspec": {
   "display_name": "synchronous",
   "language": "python",
   "name": "synchronous"
  },
  "language_info": {
   "codemirror_mode": {
    "name": "ipython",
    "version": 3
   },
   "file_extension": ".py",
   "mimetype": "text/x-python",
   "name": "python",
   "nbconvert_exporter": "python",
   "pygments_lexer": "ipython3",
   "version": "3.7.6"
  }
 },
 "nbformat": 4,
 "nbformat_minor": 4
}
